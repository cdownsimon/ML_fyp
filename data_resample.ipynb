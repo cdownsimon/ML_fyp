{
 "cells": [
  {
   "cell_type": "code",
   "execution_count": 1,
   "metadata": {
    "collapsed": true
   },
   "outputs": [],
   "source": [
    "#Read csv file\n",
    "import pandas as pd\n",
    "\n",
    "df = pd.read_csv('ML_factor_table_file.csv', parse_dates=['date'])"
   ]
  },
  {
   "cell_type": "code",
   "execution_count": 79,
   "metadata": {
    "collapsed": true
   },
   "outputs": [],
   "source": [
    "#Seperate unique tickers and dates\n",
    "tickers = df.ticker.unique()\n",
    "dates = df.date.unique()"
   ]
  },
  {
   "cell_type": "code",
   "execution_count": 80,
   "metadata": {
    "collapsed": true
   },
   "outputs": [],
   "source": [
    "#Seperate the dataset by ticker to a dictionary\n",
    "tic = df.groupby(['ticker'])\n",
    "\n",
    "data_by_ticker = {}\n",
    "\n",
    "for t,d in tic:\n",
    "    data_by_ticker[t] = d"
   ]
  },
  {
   "cell_type": "code",
   "execution_count": 81,
   "metadata": {
    "collapsed": true
   },
   "outputs": [],
   "source": [
    "#Resample the data to monthly and concat to one DataFrame\n",
    "for t in data_by_ticker:\n",
    "    data_by_ticker[t] = data_by_ticker[t].set_index(['date']).resample('M').ffill()\n",
    "\n",
    "whole_df = pd.concat([data_by_ticker[t] for t in data_by_ticker])"
   ]
  },
  {
   "cell_type": "code",
   "execution_count": 82,
   "metadata": {
    "collapsed": true
   },
   "outputs": [],
   "source": [
    "#Save the result df to file\n",
    "whole_df.to_csv(\"./temp.csv\")"
   ]
  },
  {
   "cell_type": "code",
   "execution_count": null,
   "metadata": {
    "collapsed": true
   },
   "outputs": [],
   "source": []
  },
  {
   "cell_type": "code",
   "execution_count": null,
   "metadata": {
    "collapsed": true
   },
   "outputs": [],
   "source": []
  },
  {
   "cell_type": "code",
   "execution_count": null,
   "metadata": {
    "collapsed": true
   },
   "outputs": [],
   "source": []
  },
  {
   "cell_type": "markdown",
   "metadata": {},
   "source": [
    "# TO DO:\n",
    "## Select maket cap\n",
    "## Select factors\n",
    "## Normalization \n",
    "## Target Generation\n",
    "## Seperate Train/Test\n",
    "## Link to current codes"
   ]
  },
  {
   "cell_type": "markdown",
   "metadata": {},
   "source": [
    "# utilities.py"
   ]
  },
  {
   "cell_type": "code",
   "execution_count": 27,
   "metadata": {
    "collapsed": true
   },
   "outputs": [],
   "source": [
    "from datetime import datetime\n",
    "from sklearn import preprocessing\n",
    "import pandas as pd\n",
    "from tqdm import tqdm\n",
    "\n",
    "def MarketCapElimination(df, market_cap = None):\n",
    "    if not market_cap:\n",
    "        raise Exception(\"MarketCapElimination: market_cap must not be None.\")\n",
    "    if not type(market_cap) == int and not type(market_cap) == float:\n",
    "        raise Exception(\"MarketCapElimination: market_cap must be a number.\")\n",
    "    \n",
    "    return df[df.market_cap >= market_cap]\n",
    "\n",
    "def FactorsSelection(df, factors_list = None):\n",
    "    if not factors_list:\n",
    "        print(\"FactorsSelection: factors_list is None, include all the factors by default.\")\n",
    "        \n",
    "    if not factors_list or factors_list == 'all':\n",
    "        return df\n",
    "    \n",
    "    factors_list = ['date','ticker'] + factors_list\n",
    "        \n",
    "    try:\n",
    "        df = df[factors_list]\n",
    "    except KeyError as e:\n",
    "        raise e\n",
    "        \n",
    "    return df\n",
    "\n",
    "def TrainTestSpliting(df, split_year = None):\n",
    "    if not split_year:\n",
    "        raise Exception(\"TrainTestSpliting: split_year must be specified.\")\n",
    "    if not type(split_year) == int:\n",
    "        raise Exception(\"TrainTestSpliting: split_year must be a integer.\")\n",
    "        \n",
    "    split_year = datetime(year=split_year, month=1, day=1)\n",
    "    if split_year < datetime.strptime(df.date.min(), '%Y-%m-%d') or split_year >= datetime.strptime(df.date.max(), '%Y-%m-%d'):\n",
    "        raise Exception(\"TrainTestSpliting: split_year must be greater than {} and less than {}.\".format(df.date.min().year,df.date.max().year))\n",
    "    \n",
    "    df_train, df_test = df[df.date.apply(lambda x: datetime.strptime(x, '%Y-%m-%d') < split_year)], df[df.date.apply(lambda x: datetime.strptime(x, '%Y-%m-%d') >= split_year)]\n",
    "    \n",
    "    return (df_train, df_test)\n",
    "    \n",
    "def TargetLabelCaculation(df, p = None, period = None):\n",
    "    if not p:\n",
    "        print(\"TargetLabelCaculation: p is None, set p = 10% by default.\")\n",
    "        p = 10\n",
    "    if not period:\n",
    "        print(\"TargetLabelCaculation: period is None, set period = 1 month by default.\")\n",
    "        period = 1\n",
    "    \n",
    "    df_by_ticker = {}\n",
    "    for t, d in df.groupby(['ticker']):\n",
    "        df_by_ticker[t] = d.sort_values(['date'])\n",
    "        df_by_ticker[t]['next_return'] = (df_by_ticker[t]['last_price'].shift(-period) - df_by_ticker[t]['last_price']) / df_by_ticker[t]['last_price'] * 100\n",
    "    \n",
    "    df = pd.concat([df_by_ticker[t] for t in df_by_ticker])\n",
    "    df.dropna(axis=0, how='any', inplace=True)\n",
    "    \n",
    "    df_by_date = {}\n",
    "    for date, d in df.groupby(['date']):\n",
    "        size = d.shape[0]\n",
    "        sort_next_return = d.sort_values(['next_return'],ascending = False)\n",
    "        sort_next_return.reset_index(drop=True ,inplace = True)\n",
    "        \"\"\"\n",
    "        top = sort_next_return.head(size*p//100)\n",
    "        top.loc[:,'target'] = 1\n",
    "        bottom = sort_next_return.tail(size*p//100)\n",
    "        bottom.loc[:,'target'] = 0\n",
    "        df_by_date[date] = pd.concat([top,bottom])\n",
    "        \"\"\"\n",
    "        top = int(size*p/100.)\n",
    "        tail = size - int(size*p/100.)\n",
    "        \n",
    "        sort_next_return.loc[:,'target'] = float('nan')\n",
    "        sort_next_return.loc[:top,'target'] = 1\n",
    "        sort_next_return.loc[tail:,'target'] = 0\n",
    "        \n",
    "        df_by_date[date] = sort_next_return\n",
    "        \n",
    "    df = pd.concat([df_by_date[d] for d in df_by_date])\n",
    "    \n",
    "    return df\n",
    "    \n",
    "def MinMaxNormalization(df_train, df_test, min_max = None):\n",
    "    if not min_max:\n",
    "        print(\"MinMaxNormalization: min_max is None, set min = 0 and max = 1 by default.\")\n",
    "        min_max = (0,1) \n",
    "        \n",
    "    df_train_key, df_test_key = df_train['ticker'].unique(), df_test['ticker'].unique()\n",
    "    df_train_by_ticker, df_test_by_ticker = {}, {}\n",
    "    for t, d in df_train.groupby(['ticker']):\n",
    "        df_train_by_ticker[t] = d\n",
    "    for t, d in df_test.groupby(['ticker']):\n",
    "        df_test_by_ticker[t] = d        \n",
    "    \n",
    "    cnt = 0\n",
    "    for t in df_test_key:\n",
    "        if t not in df_train_key:\n",
    "            print('MinMaxNormalization: ticker {} only appear in test set,eliminated.'.format(t))\n",
    "            df_test_by_ticker.pop(t, None)\n",
    "            cnt += 1\n",
    "    print('MinMaxNoramlization: {} tickers are elimnated.'.format(cnt))\n",
    "\n",
    "\n",
    "    print(len(df_train_by_ticker),len(df_test_by_ticker))\n",
    "\n",
    "    df_train_normalized_list, df_test_normalized_list = [], []\n",
    "    for t in tqdm(df_train_by_ticker):\n",
    "        try:\n",
    "            df_train_tmp_dict, df_test_tmp_dict = {}, {}\n",
    "            df_train_tmp_dict['date'] = df_train_by_ticker[t]['date'].tolist(),\n",
    "            df_train_tmp_dict['ticker'] = df_train_by_ticker[t]['ticker'].tolist()\n",
    "            df_train_tmp_dict['last_price'] = df_train_by_ticker[t]['last_price'].tolist()\n",
    "            df_train_tmp_dict['next_return'] = df_train_by_ticker[t]['next_return'].tolist()    \n",
    "            df_train_tmp_dict['target'] = df_train_by_ticker[t]['target'].tolist()    \n",
    "        except KeyError as KE:\n",
    "            raise KE\n",
    "            \n",
    "        df_train_by_ticker[t].drop(['date','ticker','last_price','next_return','target'],axis = 1, inplace = True)    \n",
    "            \n",
    "        min_max_scaler = preprocessing.MinMaxScaler()\n",
    "        np_train_scaled = min_max_scaler.fit_transform(df_train_by_ticker[t])\n",
    "        df_train_normalized = pd.DataFrame(np_train_scaled,columns = df_train_by_ticker[t].columns)\n",
    "        \n",
    "        for i in df_train_tmp_dict:\n",
    "            #To prevent TypeError\n",
    "            if i == 'date':\n",
    "                if len(df_train_tmp_dict[i]) == 1:\n",
    "                    df_train_normalized.loc[:,i] = df_train_tmp_dict[i][0]\n",
    "                else:\n",
    "                    df_train_normalized.loc[:,i] = df_train_tmp_dict[i]\n",
    "            else:\n",
    "                df_train_normalized.loc[:,i] = df_train_tmp_dict[i]\n",
    "        \n",
    "        df_train_normalized_list.append(df_train_normalized)        \n",
    "        \n",
    "        try:\n",
    "            df_test_tmp_dict['date'] = df_test_by_ticker[t]['date'].tolist()\n",
    "            df_test_tmp_dict['ticker'] = df_test_by_ticker[t]['ticker'].tolist()\n",
    "            df_test_tmp_dict['last_price'] = df_test_by_ticker[t]['last_price'].tolist()\n",
    "            df_test_tmp_dict['next_return'] = df_test_by_ticker[t]['next_return'].tolist()\n",
    "            df_test_tmp_dict['target'] = df_test_by_ticker[t]['target'].tolist()\n",
    "        except KeyError as KE:\n",
    "            if t in df_test_by_ticker:\n",
    "                raise KE\n",
    "        if t not in df_test_by_ticker:\n",
    "            continue\n",
    "\n",
    "        df_test_by_ticker[t].drop(['date','ticker','last_price','next_return','target'],axis = 1, inplace = True)\n",
    "        \n",
    "        np_test_scaled = min_max_scaler.transform(df_test_by_ticker[t])\n",
    "        df_test_normalized = pd.DataFrame(np_test_scaled,columns = df_test_by_ticker[t].columns)\n",
    "        \n",
    "        for i in df_test_tmp_dict:\n",
    "            #To prevent TypeError\n",
    "            if i == 'date':\n",
    "                if len(df_test_tmp_dict[i]) == 1:\n",
    "                    df_test_normalized.loc[:,i] = df_test_tmp_dict[i][0]\n",
    "                else:\n",
    "                    df_test_normalized.loc[:,i] = df_test_tmp_dict[i]\n",
    "            else:\n",
    "                df_test_normalized.loc[:,i] = df_test_tmp_dict[i]\n",
    "        \n",
    "        df_test_normalized_list.append(df_test_normalized)\n",
    "        \n",
    "    df_train_min_max_normalized, df_test_min_max_normalized = pd.concat(df_train_normalized_list), pd.concat(df_test_normalized_list)\n",
    "        \n",
    "    df_train_min_max_normalized.sort_values(['date'],inplace=True)\n",
    "    df_test_min_max_normalized.sort_values(['date'],inplace=True)\n",
    "\n",
    "    return (df_train_min_max_normalized, df_test_min_max_normalized)\n",
    "    \n",
    "def EliminateToSeasonal(df, months = None):\n",
    "    if not months:\n",
    "        print('EliminateToSeasonal: months is None, choose 1,4,7,10 by default.')\n",
    "        months = [1,4,7,10]\n",
    "        \n",
    "    return df[df.date.apply(lambda x:x.month in months)]\n",
    "\n",
    "def WriteResultFile(df,predicted_value,f):\n",
    "    result = pd.DataFrame(df[['date','ticker','next_return']].as_matrix(), columns=['Date','Ticker','Next Return'], copy=True)\n",
    "    result.loc[:,'Predicted'] = predicted_value\n",
    "    print('Writing Result to file {}...'.format(f))\n",
    "    result.to_csv(f, index=False)\n",
    "    print('Done.')\n"
   ]
  },
  {
   "cell_type": "markdown",
   "metadata": {},
   "source": [
    "# MLP.py"
   ]
  },
  {
   "cell_type": "code",
   "execution_count": 1,
   "metadata": {
    "scrolled": true
   },
   "outputs": [
    {
     "name": "stderr",
     "output_type": "stream",
     "text": [
      "Using Theano backend.\n"
     ]
    },
    {
     "name": "stdout",
     "output_type": "stream",
     "text": [
      "FactorsSelection: factors_list is None, include all the factors by default.\n",
      "TargetLabelCaculation: p is None, set p = 10% by default.\n",
      "TargetLabelCaculation: period is None, set period = 1 month by default.\n",
      "MinMaxNormalization: min_max is None, set min = 0 and max = 1 by default.\n",
      "MinMaxNormalization: ticker NMKEF US Equity only appear in test set,eliminated.\n",
      "MinMaxNormalization: ticker GLDLF US Equity only appear in test set,eliminated.\n",
      "MinMaxNormalization: ticker OBNNF US Equity only appear in test set,eliminated.\n",
      "MinMaxNormalization: ticker WLDVF US Equity only appear in test set,eliminated.\n",
      "MinMaxNormalization: ticker CDEV US Equity only appear in test set,eliminated.\n",
      "MinMaxNormalization: ticker TWIRF US Equity only appear in test set,eliminated.\n",
      "MinMaxNormalization: ticker TKKIF US Equity only appear in test set,eliminated.\n",
      "MinMaxNormalization: ticker GSS US Equity only appear in test set,eliminated.\n",
      "MinMaxNormalization: ticker MDRPF US Equity only appear in test set,eliminated.\n",
      "MinMaxNormalization: ticker BKHRF US Equity only appear in test set,eliminated.\n",
      "MinMaxNormalization: ticker TMMFF US Equity only appear in test set,eliminated.\n",
      "MinMaxNormalization: ticker SBOW US Equity only appear in test set,eliminated.\n",
      "MinMaxNormalization: ticker VITFF US Equity only appear in test set,eliminated.\n",
      "MinMaxNormalization: ticker BGMZF US Equity only appear in test set,eliminated.\n",
      "MinMaxNormalization: ticker BRSLF US Equity only appear in test set,eliminated.\n",
      "MinMaxNormalization: ticker CTMQF US Equity only appear in test set,eliminated.\n",
      "MinMaxNormalization: ticker ARCTF US Equity only appear in test set,eliminated.\n",
      "MinMaxNormalization: ticker USAS US Equity only appear in test set,eliminated.\n",
      "MinMaxNormalization: ticker XRA US Equity only appear in test set,eliminated.\n",
      "MinMaxNormalization: ticker EDEYF US Equity only appear in test set,eliminated.\n",
      "MinMaxNormalization: ticker VNNHF US Equity only appear in test set,eliminated.\n",
      "MinMaxNormalization: ticker SPVEF US Equity only appear in test set,eliminated.\n",
      "MinMaxNormalization: ticker ICGQF US Equity only appear in test set,eliminated.\n",
      "MinMaxNormalization: ticker AAU US Equity only appear in test set,eliminated.\n",
      "MinMaxNormalization: ticker AXU US Equity only appear in test set,eliminated.\n",
      "MinMaxNormalization: ticker RDEMF US Equity only appear in test set,eliminated.\n",
      "MinMaxNormalization: ticker BKLRF US Equity only appear in test set,eliminated.\n",
      "MinMaxNormalization: ticker EANRF US Equity only appear in test set,eliminated.\n",
      "MinMaxNormalization: ticker NGVT US Equity only appear in test set,eliminated.\n",
      "MinMaxNormalization: ticker FPRGF US Equity only appear in test set,eliminated.\n",
      "MinMaxNormalization: ticker HUMRF US Equity only appear in test set,eliminated.\n",
      "MinMaxNormalization: ticker NAK US Equity only appear in test set,eliminated.\n",
      "MinMaxNormalization: ticker RPMGF US Equity only appear in test set,eliminated.\n",
      "MinMaxNormalization: ticker LACDF US Equity only appear in test set,eliminated.\n",
      "MinMaxNormalization: ticker ORMNF US Equity only appear in test set,eliminated.\n",
      "MinMaxNormalization: ticker LQMT US Equity only appear in test set,eliminated.\n",
      "MinMaxNormalization: ticker MRZLF US Equity only appear in test set,eliminated.\n",
      "MinMaxNormalization: ticker ASM US Equity only appear in test set,eliminated.\n",
      "MinMaxNormalization: ticker ESGFF US Equity only appear in test set,eliminated.\n",
      "MinMaxNormalization: ticker SNPKF US Equity only appear in test set,eliminated.\n",
      "MinMaxNormalization: ticker MURXF US Equity only appear in test set,eliminated.\n",
      "MinMaxNormalization: ticker MMMDF US Equity only appear in test set,eliminated.\n",
      "MinMaxNormalization: ticker GNMNF US Equity only appear in test set,eliminated.\n",
      "MinMaxNormalization: ticker DMCOF US Equity only appear in test set,eliminated.\n",
      "MinMaxNormalization: ticker HFSRF US Equity only appear in test set,eliminated.\n",
      "MinMaxNormalization: ticker ORXGF US Equity only appear in test set,eliminated.\n",
      "MinMaxNormalization: ticker MCEM US Equity only appear in test set,eliminated.\n",
      "MinMaxNormalization: ticker THM US Equity only appear in test set,eliminated.\n",
      "MinMaxNormalization: ticker BAA US Equity only appear in test set,eliminated.\n",
      "MinMaxNormalization: ticker ANCKF US Equity only appear in test set,eliminated.\n",
      "MinMaxNormalization: ticker FFMGF US Equity only appear in test set,eliminated.\n",
      "MinMaxNormalization: ticker GCP US Equity only appear in test set,eliminated.\n",
      "MinMaxNormalization: ticker LYDIF US Equity only appear in test set,eliminated.\n",
      "MinMaxNormalization: ticker RMLRF US Equity only appear in test set,eliminated.\n",
      "MinMaxNormalization: ticker ELVAF US Equity only appear in test set,eliminated.\n",
      "MinMaxNormalization: ticker ALTAF US Equity only appear in test set,eliminated.\n",
      "MinMaxNormalization: ticker LIXXF US Equity only appear in test set,eliminated.\n",
      "MinMaxNormalization: ticker BKBEF US Equity only appear in test set,eliminated.\n",
      "MinMaxNormalization: ticker CHPGF US Equity only appear in test set,eliminated.\n",
      "MinMaxNormalization: ticker RMLFF US Equity only appear in test set,eliminated.\n",
      "MinMaxNormalization: ticker WFRSF US Equity only appear in test set,eliminated.\n",
      "MinMaxNormalization: ticker EXLLF US Equity only appear in test set,eliminated.\n",
      "MinMaxNormalization: ticker VGZ US Equity only appear in test set,eliminated.\n",
      "MinMaxNormalization: ticker CRPOF US Equity only appear in test set,eliminated.\n",
      "MinMaxNormalization: ticker PILBF US Equity only appear in test set,eliminated.\n",
      "MinMaxNormalization: ticker RRSSF US Equity only appear in test set,eliminated.\n",
      "MinMaxNormalization: ticker CRDNF US Equity only appear in test set,eliminated.\n",
      "MinMaxNormalization: ticker NULGF US Equity only appear in test set,eliminated.\n",
      "MinMaxNormalization: ticker ECSNF US Equity only appear in test set,eliminated.\n",
      "MinMaxNormalization: ticker PTKHF US Equity only appear in test set,eliminated.\n",
      "MinMaxNormalization: ticker ZNRGF US Equity only appear in test set,eliminated.\n",
      "MinMaxNormalization: ticker AMNTF US Equity only appear in test set,eliminated.\n",
      "MinMaxNormalization: ticker TTNMF US Equity only appear in test set,eliminated.\n",
      "MinMaxNormalization: ticker HK US Equity only appear in test set,eliminated.\n",
      "MinMaxNormalization: ticker VRS US Equity only appear in test set,eliminated.\n",
      "MinMaxNormalization: ticker PROBF US Equity only appear in test set,eliminated.\n",
      "MinMaxNormalization: ticker SLGYF US Equity only appear in test set,eliminated.\n",
      "MinMaxNormalization: ticker VVV US Equity only appear in test set,eliminated.\n",
      "MinMaxNormalization: ticker NSRPF US Equity only appear in test set,eliminated.\n",
      "MinMaxNormalization: ticker MGPHF US Equity only appear in test set,eliminated.\n",
      "MinMaxNormalization: ticker SLGGF US Equity only appear in test set,eliminated.\n",
      "MinMaxNormalization: ticker MRLDF US Equity only appear in test set,eliminated.\n",
      "MinMaxNormalization: ticker ODMEF US Equity only appear in test set,eliminated.\n",
      "MinMaxNormalization: ticker QGEPF US Equity only appear in test set,eliminated.\n",
      "MinMaxNormalization: ticker DRYYF US Equity only appear in test set,eliminated.\n",
      "MinMaxNormalization: ticker LCPDF US Equity only appear in test set,eliminated.\n",
      "MinMaxNormalization: ticker SGURF US Equity only appear in test set,eliminated.\n",
      "MinMaxNormalization: ticker PRSRF US Equity only appear in test set,eliminated.\n",
      "MinMaxNormalization: ticker ORZCF US Equity only appear in test set,eliminated.\n",
      "MinMaxNormalization: ticker GDQMF US Equity only appear in test set,eliminated.\n",
      "MinMaxNormalization: ticker SNEGF US Equity only appear in test set,eliminated.\n",
      "MinMaxNormalization: ticker CHPRF US Equity only appear in test set,eliminated.\n",
      "MinMaxNoramlization: 92 tickers are elimnated.\n",
      "(1072, 990)\n"
     ]
    },
    {
     "name": "stderr",
     "output_type": "stream",
     "text": [
      "\r",
      "  0%|                                                 | 0/1072 [00:00<?, ?it/s]"
     ]
    },
    {
     "name": "stdout",
     "output_type": "stream",
     "text": [
      "test date: 11\n"
     ]
    },
    {
     "name": "stderr",
     "output_type": "stream",
     "text": [
      "\r",
      "  0%|                                         | 1/1072 [00:00<02:23,  7.46it/s]"
     ]
    },
    {
     "name": "stdout",
     "output_type": "stream",
     "text": [
      "test date: 11\n"
     ]
    },
    {
     "name": "stderr",
     "output_type": "stream",
     "text": [
      "\r",
      "  0%|                                         | 2/1072 [00:00<02:21,  7.56it/s]"
     ]
    },
    {
     "name": "stdout",
     "output_type": "stream",
     "text": [
      "test date: 11\n"
     ]
    },
    {
     "name": "stderr",
     "output_type": "stream",
     "text": [
      "\r",
      "  0%|                                         | 3/1072 [00:00<02:19,  7.65it/s]"
     ]
    },
    {
     "name": "stdout",
     "output_type": "stream",
     "text": [
      "test date: 11\n"
     ]
    },
    {
     "name": "stderr",
     "output_type": "stream",
     "text": [
      "\r",
      "  0%|▏                                        | 4/1072 [00:00<02:17,  7.76it/s]"
     ]
    },
    {
     "name": "stdout",
     "output_type": "stream",
     "text": [
      "test date: 10\n"
     ]
    },
    {
     "name": "stderr",
     "output_type": "stream",
     "text": [
      "\r",
      "  0%|▏                                        | 5/1072 [00:00<02:17,  7.77it/s]"
     ]
    },
    {
     "name": "stdout",
     "output_type": "stream",
     "text": [
      "test date: 11\n"
     ]
    },
    {
     "name": "stderr",
     "output_type": "stream",
     "text": [
      "\r",
      "  1%|▏                                        | 6/1072 [00:00<02:15,  7.84it/s]"
     ]
    },
    {
     "name": "stdout",
     "output_type": "stream",
     "text": [
      "test date: 11\n"
     ]
    },
    {
     "name": "stderr",
     "output_type": "stream",
     "text": [
      "\r",
      "  1%|▎                                        | 7/1072 [00:00<02:15,  7.85it/s]"
     ]
    },
    {
     "name": "stdout",
     "output_type": "stream",
     "text": [
      "test date: 11\n"
     ]
    },
    {
     "name": "stderr",
     "output_type": "stream",
     "text": [
      "\r",
      "  1%|▎                                        | 8/1072 [00:01<02:15,  7.84it/s]"
     ]
    },
    {
     "name": "stdout",
     "output_type": "stream",
     "text": [
      "test date: 11\n"
     ]
    },
    {
     "name": "stderr",
     "output_type": "stream",
     "text": [
      "\r",
      "  1%|▎                                        | 9/1072 [00:01<02:15,  7.83it/s]"
     ]
    },
    {
     "name": "stdout",
     "output_type": "stream",
     "text": [
      "test date: 11\n"
     ]
    },
    {
     "name": "stderr",
     "output_type": "stream",
     "text": [
      "\r",
      "  1%|▎                                       | 10/1072 [00:01<02:15,  7.83it/s]"
     ]
    },
    {
     "name": "stdout",
     "output_type": "stream",
     "text": [
      "test date: 11\n"
     ]
    },
    {
     "name": "stderr",
     "output_type": "stream",
     "text": [
      "\r",
      "  1%|▍                                       | 11/1072 [00:01<02:15,  7.84it/s]"
     ]
    },
    {
     "name": "stdout",
     "output_type": "stream",
     "text": [
      "test date: 11\n"
     ]
    },
    {
     "name": "stderr",
     "output_type": "stream",
     "text": [
      "\r",
      "  1%|▍                                       | 12/1072 [00:01<02:15,  7.85it/s]"
     ]
    },
    {
     "name": "stdout",
     "output_type": "stream",
     "text": [
      "test date: 5\n"
     ]
    },
    {
     "name": "stderr",
     "output_type": "stream",
     "text": [
      "\r",
      "  1%|▍                                       | 13/1072 [00:01<02:22,  7.45it/s]"
     ]
    },
    {
     "name": "stdout",
     "output_type": "stream",
     "text": [
      "test date: 11\n"
     ]
    },
    {
     "name": "stderr",
     "output_type": "stream",
     "text": [
      "\r",
      "  1%|▌                                       | 14/1072 [00:01<02:11,  8.05it/s]"
     ]
    },
    {
     "name": "stdout",
     "output_type": "stream",
     "text": [
      "test date: 11\n"
     ]
    },
    {
     "name": "stderr",
     "output_type": "stream",
     "text": [
      "\r",
      "  1%|▌                                       | 15/1072 [00:01<02:11,  8.05it/s]"
     ]
    },
    {
     "name": "stdout",
     "output_type": "stream",
     "text": [
      "test date: 11\n"
     ]
    },
    {
     "name": "stderr",
     "output_type": "stream",
     "text": [
      "\r",
      "  1%|▌                                       | 16/1072 [00:02<02:12,  7.98it/s]"
     ]
    },
    {
     "name": "stdout",
     "output_type": "stream",
     "text": [
      "test date: 11\n"
     ]
    },
    {
     "name": "stderr",
     "output_type": "stream",
     "text": [
      "\r",
      "  2%|▋                                       | 17/1072 [00:02<02:12,  7.99it/s]"
     ]
    },
    {
     "name": "stdout",
     "output_type": "stream",
     "text": [
      "test date: 11\n"
     ]
    },
    {
     "name": "stderr",
     "output_type": "stream",
     "text": [
      "\r",
      "  2%|▋                                       | 19/1072 [00:02<02:01,  8.69it/s]"
     ]
    },
    {
     "name": "stdout",
     "output_type": "stream",
     "text": [
      "test date: 7\n"
     ]
    },
    {
     "name": "stderr",
     "output_type": "stream",
     "text": [
      "\r",
      "  2%|▋                                       | 20/1072 [00:02<02:04,  8.47it/s]"
     ]
    },
    {
     "name": "stdout",
     "output_type": "stream",
     "text": [
      "test date: 11\n"
     ]
    },
    {
     "name": "stderr",
     "output_type": "stream",
     "text": [
      "\r",
      "  2%|▊                                       | 21/1072 [00:02<02:06,  8.30it/s]"
     ]
    },
    {
     "name": "stdout",
     "output_type": "stream",
     "text": [
      "test date: 11\n"
     ]
    },
    {
     "name": "stderr",
     "output_type": "stream",
     "text": [
      "\r",
      "  2%|▊                                       | 23/1072 [00:02<01:58,  8.86it/s]"
     ]
    },
    {
     "name": "stdout",
     "output_type": "stream",
     "text": [
      "test date: 11\n"
     ]
    },
    {
     "name": "stderr",
     "output_type": "stream",
     "text": [
      "\r",
      "  2%|▉                                       | 24/1072 [00:02<02:02,  8.54it/s]"
     ]
    },
    {
     "name": "stdout",
     "output_type": "stream",
     "text": [
      "test date: 11\n"
     ]
    },
    {
     "name": "stderr",
     "output_type": "stream",
     "text": [
      "\r",
      "  2%|▉                                       | 25/1072 [00:03<02:06,  8.27it/s]"
     ]
    },
    {
     "name": "stdout",
     "output_type": "stream",
     "text": [
      "test date: 11\n"
     ]
    },
    {
     "name": "stderr",
     "output_type": "stream",
     "text": [
      "\r",
      "  2%|▉                                       | 26/1072 [00:03<02:18,  7.57it/s]"
     ]
    },
    {
     "name": "stdout",
     "output_type": "stream",
     "text": [
      "test date: 11\n",
      "test date: 11\n"
     ]
    },
    {
     "name": "stderr",
     "output_type": "stream",
     "text": [
      "\r",
      "  3%|█                                       | 28/1072 [00:03<02:11,  7.93it/s]"
     ]
    },
    {
     "name": "stdout",
     "output_type": "stream",
     "text": [
      "test date: 11\n"
     ]
    },
    {
     "name": "stderr",
     "output_type": "stream",
     "text": [
      "\r",
      "  3%|█                                       | 29/1072 [00:03<02:21,  7.36it/s]"
     ]
    },
    {
     "name": "stdout",
     "output_type": "stream",
     "text": [
      "test date: 11\n"
     ]
    },
    {
     "name": "stderr",
     "output_type": "stream",
     "text": [
      "\r",
      "  3%|█▏                                      | 31/1072 [00:03<02:03,  8.40it/s]"
     ]
    },
    {
     "name": "stdout",
     "output_type": "stream",
     "text": [
      "test date: 11\n"
     ]
    },
    {
     "name": "stderr",
     "output_type": "stream",
     "text": [
      "  3%|█▎                                      | 34/1072 [00:04<01:52,  9.22it/s]"
     ]
    },
    {
     "name": "stdout",
     "output_type": "stream",
     "text": [
      "test date: 11\n",
      "test date: 11\n"
     ]
    },
    {
     "name": "stderr",
     "output_type": "stream",
     "text": [
      "\r",
      "  3%|█▎                                      | 36/1072 [00:04<01:55,  9.01it/s]"
     ]
    },
    {
     "name": "stdout",
     "output_type": "stream",
     "text": [
      "test date: 11\n",
      "test date: 11\n"
     ]
    },
    {
     "name": "stderr",
     "output_type": "stream",
     "text": [
      "\r",
      "  4%|█▍                                      | 38/1072 [00:04<01:59,  8.65it/s]"
     ]
    },
    {
     "name": "stdout",
     "output_type": "stream",
     "text": [
      "test date: 11\n"
     ]
    },
    {
     "name": "stderr",
     "output_type": "stream",
     "text": [
      "\r",
      "  4%|█▍                                      | 39/1072 [00:04<02:03,  8.36it/s]"
     ]
    },
    {
     "name": "stdout",
     "output_type": "stream",
     "text": [
      "test date: 11\n"
     ]
    },
    {
     "name": "stderr",
     "output_type": "stream",
     "text": [
      "\r",
      "  4%|█▍                                      | 40/1072 [00:04<02:06,  8.15it/s]"
     ]
    },
    {
     "name": "stdout",
     "output_type": "stream",
     "text": [
      "test date: 11\n"
     ]
    },
    {
     "name": "stderr",
     "output_type": "stream",
     "text": [
      "\r",
      "  4%|█▌                                      | 41/1072 [00:04<02:17,  7.52it/s]"
     ]
    },
    {
     "name": "stdout",
     "output_type": "stream",
     "text": [
      "test date: 11\n",
      "test date: 11\n"
     ]
    },
    {
     "name": "stderr",
     "output_type": "stream",
     "text": [
      "\r",
      "  4%|█▌                                      | 43/1072 [00:05<02:10,  7.88it/s]"
     ]
    },
    {
     "name": "stdout",
     "output_type": "stream",
     "text": [
      "test date: 11\n"
     ]
    },
    {
     "name": "stderr",
     "output_type": "stream",
     "text": [
      "\r",
      "  4%|█▋                                      | 44/1072 [00:05<02:15,  7.59it/s]"
     ]
    },
    {
     "name": "stdout",
     "output_type": "stream",
     "text": [
      "test date: 11\n"
     ]
    },
    {
     "name": "stderr",
     "output_type": "stream",
     "text": [
      "\r",
      "  4%|█▋                                      | 45/1072 [00:05<02:10,  7.87it/s]"
     ]
    },
    {
     "name": "stdout",
     "output_type": "stream",
     "text": [
      "test date: 11\n"
     ]
    },
    {
     "name": "stderr",
     "output_type": "stream",
     "text": [
      "\r",
      "  4%|█▋                                      | 46/1072 [00:05<02:11,  7.80it/s]"
     ]
    },
    {
     "name": "stdout",
     "output_type": "stream",
     "text": [
      "test date: 11\n"
     ]
    },
    {
     "name": "stderr",
     "output_type": "stream",
     "text": [
      "\r",
      "  4%|█▊                                      | 47/1072 [00:05<02:11,  7.79it/s]"
     ]
    },
    {
     "name": "stdout",
     "output_type": "stream",
     "text": [
      "test date: 11\n"
     ]
    },
    {
     "name": "stderr",
     "output_type": "stream",
     "text": [
      "\r",
      "  4%|█▊                                      | 48/1072 [00:05<02:11,  7.78it/s]"
     ]
    },
    {
     "name": "stdout",
     "output_type": "stream",
     "text": [
      "test date: 11\n"
     ]
    },
    {
     "name": "stderr",
     "output_type": "stream",
     "text": [
      "\r",
      "  5%|█▊                                      | 49/1072 [00:05<02:11,  7.77it/s]"
     ]
    },
    {
     "name": "stdout",
     "output_type": "stream",
     "text": [
      "test date: 11\n"
     ]
    },
    {
     "name": "stderr",
     "output_type": "stream",
     "text": [
      "\r",
      "  5%|█▊                                      | 50/1072 [00:06<02:11,  7.76it/s]"
     ]
    },
    {
     "name": "stdout",
     "output_type": "stream",
     "text": [
      "test date: 11\n"
     ]
    },
    {
     "name": "stderr",
     "output_type": "stream",
     "text": [
      "\r",
      "  5%|█▉                                      | 51/1072 [00:06<02:12,  7.72it/s]"
     ]
    },
    {
     "name": "stdout",
     "output_type": "stream",
     "text": [
      "test date: 11\n"
     ]
    },
    {
     "name": "stderr",
     "output_type": "stream",
     "text": [
      "\r",
      "  5%|█▉                                      | 52/1072 [00:06<02:12,  7.71it/s]"
     ]
    },
    {
     "name": "stdout",
     "output_type": "stream",
     "text": [
      "test date: 11\n"
     ]
    },
    {
     "name": "stderr",
     "output_type": "stream",
     "text": [
      "\r",
      "  5%|█▉                                      | 53/1072 [00:06<02:20,  7.24it/s]"
     ]
    },
    {
     "name": "stdout",
     "output_type": "stream",
     "text": [
      "test date: 11\n"
     ]
    },
    {
     "name": "stderr",
     "output_type": "stream",
     "text": [
      "\r",
      "  5%|██                                      | 55/1072 [00:06<02:02,  8.27it/s]"
     ]
    },
    {
     "name": "stdout",
     "output_type": "stream",
     "text": [
      "test date: 11\n"
     ]
    },
    {
     "name": "stderr",
     "output_type": "stream",
     "text": [
      "\r",
      "  5%|██▏                                     | 57/1072 [00:06<01:54,  8.87it/s]"
     ]
    },
    {
     "name": "stdout",
     "output_type": "stream",
     "text": [
      "test date: 11\n"
     ]
    },
    {
     "name": "stderr",
     "output_type": "stream",
     "text": [
      "\r",
      "  5%|██▏                                     | 58/1072 [00:06<01:59,  8.46it/s]"
     ]
    },
    {
     "name": "stdout",
     "output_type": "stream",
     "text": [
      "test date: 11\n"
     ]
    },
    {
     "name": "stderr",
     "output_type": "stream",
     "text": [
      "\r",
      "  6%|██▏                                     | 60/1072 [00:07<01:52,  9.00it/s]"
     ]
    },
    {
     "name": "stdout",
     "output_type": "stream",
     "text": [
      "test date: 11\n"
     ]
    },
    {
     "name": "stderr",
     "output_type": "stream",
     "text": [
      "\r",
      "  6%|██▎                                     | 61/1072 [00:07<01:58,  8.54it/s]"
     ]
    },
    {
     "name": "stdout",
     "output_type": "stream",
     "text": [
      "test date: 11\n"
     ]
    },
    {
     "name": "stderr",
     "output_type": "stream",
     "text": [
      "\r",
      "  6%|██▎                                     | 62/1072 [00:07<02:01,  8.29it/s]"
     ]
    },
    {
     "name": "stdout",
     "output_type": "stream",
     "text": [
      "test date: 11\n"
     ]
    },
    {
     "name": "stderr",
     "output_type": "stream",
     "text": [
      "\r",
      "  6%|██▎                                     | 63/1072 [00:07<02:04,  8.08it/s]"
     ]
    },
    {
     "name": "stdout",
     "output_type": "stream",
     "text": [
      "test date: 11\n"
     ]
    },
    {
     "name": "stderr",
     "output_type": "stream",
     "text": [
      "\r",
      "  6%|██▍                                     | 64/1072 [00:07<02:07,  7.92it/s]"
     ]
    },
    {
     "name": "stdout",
     "output_type": "stream",
     "text": [
      "test date: 11\n"
     ]
    },
    {
     "name": "stderr",
     "output_type": "stream",
     "text": [
      "\r",
      "  6%|██▍                                     | 66/1072 [00:07<01:57,  8.56it/s]"
     ]
    },
    {
     "name": "stdout",
     "output_type": "stream",
     "text": [
      "test date: 11\n"
     ]
    },
    {
     "name": "stderr",
     "output_type": "stream",
     "text": [
      "\r",
      "  6%|██▌                                     | 67/1072 [00:07<02:01,  8.26it/s]"
     ]
    },
    {
     "name": "stdout",
     "output_type": "stream",
     "text": [
      "test date: 11\n"
     ]
    },
    {
     "name": "stderr",
     "output_type": "stream",
     "text": [
      "\r",
      "  6%|██▌                                     | 68/1072 [00:08<02:04,  8.04it/s]"
     ]
    },
    {
     "name": "stdout",
     "output_type": "stream",
     "text": [
      "test date: 11\n"
     ]
    },
    {
     "name": "stderr",
     "output_type": "stream",
     "text": [
      "\r",
      "  6%|██▌                                     | 69/1072 [00:08<02:06,  7.93it/s]"
     ]
    },
    {
     "name": "stdout",
     "output_type": "stream",
     "text": [
      "test date: 11\n"
     ]
    },
    {
     "name": "stderr",
     "output_type": "stream",
     "text": [
      "\r",
      "  7%|██▌                                     | 70/1072 [00:08<02:16,  7.36it/s]"
     ]
    },
    {
     "name": "stdout",
     "output_type": "stream",
     "text": [
      "test date: 11\n"
     ]
    },
    {
     "name": "stderr",
     "output_type": "stream",
     "text": [
      "\r",
      "  7%|██▋                                     | 71/1072 [00:08<02:05,  7.97it/s]"
     ]
    },
    {
     "name": "stdout",
     "output_type": "stream",
     "text": [
      "test date: 11\n"
     ]
    },
    {
     "name": "stderr",
     "output_type": "stream",
     "text": [
      "\r",
      "  7%|██▋                                     | 72/1072 [00:08<02:07,  7.87it/s]"
     ]
    },
    {
     "name": "stdout",
     "output_type": "stream",
     "text": [
      "test date: 11\n"
     ]
    },
    {
     "name": "stderr",
     "output_type": "stream",
     "text": [
      "\r",
      "  7%|██▋                                     | 73/1072 [00:08<02:07,  7.81it/s]"
     ]
    },
    {
     "name": "stdout",
     "output_type": "stream",
     "text": [
      "test date: 11\n"
     ]
    },
    {
     "name": "stderr",
     "output_type": "stream",
     "text": [
      "\r",
      "  7%|██▊                                     | 74/1072 [00:08<02:09,  7.72it/s]"
     ]
    },
    {
     "name": "stdout",
     "output_type": "stream",
     "text": [
      "test date: 11\n"
     ]
    },
    {
     "name": "stderr",
     "output_type": "stream",
     "text": [
      "\r",
      "  7%|██▊                                     | 75/1072 [00:09<02:09,  7.71it/s]"
     ]
    },
    {
     "name": "stdout",
     "output_type": "stream",
     "text": [
      "test date: 11\n"
     ]
    },
    {
     "name": "stderr",
     "output_type": "stream",
     "text": [
      "\r",
      "  7%|██▊                                     | 76/1072 [00:09<02:17,  7.24it/s]"
     ]
    },
    {
     "name": "stdout",
     "output_type": "stream",
     "text": [
      "test date: 11\n"
     ]
    },
    {
     "name": "stderr",
     "output_type": "stream",
     "text": [
      "\r",
      "  7%|██▊                                     | 77/1072 [00:09<02:06,  7.86it/s]"
     ]
    },
    {
     "name": "stdout",
     "output_type": "stream",
     "text": [
      "test date: 11\n"
     ]
    },
    {
     "name": "stderr",
     "output_type": "stream",
     "text": [
      "\r",
      "  7%|██▉                                     | 78/1072 [00:09<02:07,  7.81it/s]"
     ]
    },
    {
     "name": "stdout",
     "output_type": "stream",
     "text": [
      "test date: 11\n"
     ]
    },
    {
     "name": "stderr",
     "output_type": "stream",
     "text": [
      "\r",
      "  7%|██▉                                     | 79/1072 [00:09<02:08,  7.74it/s]"
     ]
    },
    {
     "name": "stdout",
     "output_type": "stream",
     "text": [
      "test date: 11\n"
     ]
    },
    {
     "name": "stderr",
     "output_type": "stream",
     "text": [
      "\r",
      "  7%|██▉                                     | 80/1072 [00:09<02:09,  7.69it/s]"
     ]
    },
    {
     "name": "stdout",
     "output_type": "stream",
     "text": [
      "test date: 11\n"
     ]
    },
    {
     "name": "stderr",
     "output_type": "stream",
     "text": [
      "\r",
      "  8%|███                                     | 81/1072 [00:09<02:10,  7.62it/s]"
     ]
    },
    {
     "name": "stdout",
     "output_type": "stream",
     "text": [
      "test date: 11\n"
     ]
    },
    {
     "name": "stderr",
     "output_type": "stream",
     "text": [
      "\r",
      "  8%|███                                     | 82/1072 [00:09<02:10,  7.57it/s]"
     ]
    },
    {
     "name": "stdout",
     "output_type": "stream",
     "text": [
      "test date: 11\n"
     ]
    },
    {
     "name": "stderr",
     "output_type": "stream",
     "text": [
      "\r",
      "  8%|███                                     | 83/1072 [00:10<02:10,  7.56it/s]"
     ]
    },
    {
     "name": "stdout",
     "output_type": "stream",
     "text": [
      "test date: 11\n"
     ]
    },
    {
     "name": "stderr",
     "output_type": "stream",
     "text": [
      "\r",
      "  8%|███▏                                    | 84/1072 [00:10<02:10,  7.56it/s]"
     ]
    },
    {
     "name": "stdout",
     "output_type": "stream",
     "text": [
      "test date: 11\n"
     ]
    },
    {
     "name": "stderr",
     "output_type": "stream",
     "text": [
      "\r",
      "  8%|███▏                                    | 85/1072 [00:10<02:11,  7.51it/s]"
     ]
    },
    {
     "name": "stdout",
     "output_type": "stream",
     "text": [
      "test date: 11\n"
     ]
    },
    {
     "name": "stderr",
     "output_type": "stream",
     "text": [
      "\r",
      "  8%|███▏                                    | 86/1072 [00:10<02:10,  7.53it/s]"
     ]
    },
    {
     "name": "stdout",
     "output_type": "stream",
     "text": [
      "test date: 11\n"
     ]
    },
    {
     "name": "stderr",
     "output_type": "stream",
     "text": [
      "\r",
      "  8%|███▏                                    | 87/1072 [00:10<02:10,  7.56it/s]"
     ]
    },
    {
     "name": "stdout",
     "output_type": "stream",
     "text": [
      "test date: 11\n"
     ]
    },
    {
     "name": "stderr",
     "output_type": "stream",
     "text": [
      "\r",
      "  8%|███▎                                    | 88/1072 [00:10<02:10,  7.55it/s]"
     ]
    },
    {
     "name": "stdout",
     "output_type": "stream",
     "text": [
      "test date: 11\n"
     ]
    },
    {
     "name": "stderr",
     "output_type": "stream",
     "text": [
      "\r",
      "  8%|███▎                                    | 89/1072 [00:10<02:10,  7.56it/s]"
     ]
    },
    {
     "name": "stdout",
     "output_type": "stream",
     "text": [
      "test date: 11\n"
     ]
    },
    {
     "name": "stderr",
     "output_type": "stream",
     "text": [
      "\r",
      "  8%|███▎                                    | 90/1072 [00:11<02:17,  7.13it/s]"
     ]
    },
    {
     "name": "stdout",
     "output_type": "stream",
     "text": [
      "test date: 11\n"
     ]
    },
    {
     "name": "stderr",
     "output_type": "stream",
     "text": [
      "\r",
      "  9%|███▍                                    | 92/1072 [00:11<02:03,  7.97it/s]"
     ]
    },
    {
     "name": "stdout",
     "output_type": "stream",
     "text": [
      "test date: 11\n"
     ]
    },
    {
     "name": "stderr",
     "output_type": "stream",
     "text": [
      "\r",
      "  9%|███▍                                    | 93/1072 [00:11<01:58,  8.23it/s]"
     ]
    },
    {
     "name": "stdout",
     "output_type": "stream",
     "text": [
      "test date: 11\n"
     ]
    },
    {
     "name": "stderr",
     "output_type": "stream",
     "text": [
      "\r",
      "  9%|███▌                                    | 95/1072 [00:11<01:50,  8.81it/s]"
     ]
    },
    {
     "name": "stdout",
     "output_type": "stream",
     "text": [
      "test date: 11\n"
     ]
    },
    {
     "name": "stderr",
     "output_type": "stream",
     "text": [
      "\r",
      "  9%|███▌                                    | 96/1072 [00:11<01:56,  8.40it/s]"
     ]
    },
    {
     "name": "stdout",
     "output_type": "stream",
     "text": [
      "test date: 11\n"
     ]
    },
    {
     "name": "stderr",
     "output_type": "stream",
     "text": [
      "\r",
      "  9%|███▌                                    | 97/1072 [00:11<01:59,  8.13it/s]"
     ]
    },
    {
     "name": "stdout",
     "output_type": "stream",
     "text": [
      "test date: 11\n"
     ]
    },
    {
     "name": "stderr",
     "output_type": "stream",
     "text": [
      "\r",
      "  9%|███▋                                    | 98/1072 [00:11<02:02,  7.94it/s]"
     ]
    },
    {
     "name": "stdout",
     "output_type": "stream",
     "text": [
      "test date: 11\n"
     ]
    },
    {
     "name": "stderr",
     "output_type": "stream",
     "text": [
      "\r",
      "  9%|███▋                                    | 99/1072 [00:12<02:04,  7.79it/s]"
     ]
    },
    {
     "name": "stdout",
     "output_type": "stream",
     "text": [
      "test date: 11\n"
     ]
    },
    {
     "name": "stderr",
     "output_type": "stream",
     "text": [
      "\r",
      "  9%|███▋                                   | 100/1072 [00:12<02:05,  7.72it/s]"
     ]
    },
    {
     "name": "stdout",
     "output_type": "stream",
     "text": [
      "test date: 11\n"
     ]
    },
    {
     "name": "stderr",
     "output_type": "stream",
     "text": [
      "\r",
      "  9%|███▋                                   | 101/1072 [00:12<02:06,  7.68it/s]"
     ]
    },
    {
     "name": "stdout",
     "output_type": "stream",
     "text": [
      "test date: 11\n"
     ]
    },
    {
     "name": "stderr",
     "output_type": "stream",
     "text": [
      "\r",
      " 10%|███▋                                   | 102/1072 [00:12<02:06,  7.65it/s]"
     ]
    },
    {
     "name": "stdout",
     "output_type": "stream",
     "text": [
      "test date: 11\n"
     ]
    },
    {
     "name": "stderr",
     "output_type": "stream",
     "text": [
      "\r",
      " 10%|███▋                                   | 103/1072 [00:12<02:07,  7.63it/s]"
     ]
    },
    {
     "name": "stdout",
     "output_type": "stream",
     "text": [
      "test date: 11\n"
     ]
    },
    {
     "name": "stderr",
     "output_type": "stream",
     "text": [
      "\r",
      " 10%|███▊                                   | 104/1072 [00:12<02:07,  7.59it/s]"
     ]
    },
    {
     "name": "stdout",
     "output_type": "stream",
     "text": [
      "test date: 11\n"
     ]
    },
    {
     "name": "stderr",
     "output_type": "stream",
     "text": [
      "\r",
      " 10%|███▊                                   | 105/1072 [00:12<02:07,  7.57it/s]"
     ]
    },
    {
     "name": "stdout",
     "output_type": "stream",
     "text": [
      "test date: 11\n"
     ]
    },
    {
     "name": "stderr",
     "output_type": "stream",
     "text": [
      "\r",
      " 10%|███▊                                   | 106/1072 [00:12<02:07,  7.56it/s]"
     ]
    },
    {
     "name": "stdout",
     "output_type": "stream",
     "text": [
      "test date: 11\n"
     ]
    },
    {
     "name": "stderr",
     "output_type": "stream",
     "text": [
      "\r",
      " 10%|███▉                                   | 107/1072 [00:13<02:07,  7.54it/s]"
     ]
    },
    {
     "name": "stdout",
     "output_type": "stream",
     "text": [
      "test date: 11\n"
     ]
    },
    {
     "name": "stderr",
     "output_type": "stream",
     "text": [
      "\r",
      " 10%|███▉                                   | 108/1072 [00:13<02:15,  7.13it/s]"
     ]
    },
    {
     "name": "stdout",
     "output_type": "stream",
     "text": [
      "test date: 11\n"
     ]
    },
    {
     "name": "stderr",
     "output_type": "stream",
     "text": [
      "\r",
      " 10%|███▉                                   | 109/1072 [00:13<02:13,  7.23it/s]"
     ]
    },
    {
     "name": "stdout",
     "output_type": "stream",
     "text": [
      "test date: 11\n"
     ]
    },
    {
     "name": "stderr",
     "output_type": "stream",
     "text": [
      "\r",
      " 10%|████                                   | 111/1072 [00:13<01:56,  8.22it/s]"
     ]
    },
    {
     "name": "stdout",
     "output_type": "stream",
     "text": [
      "test date: 11\n"
     ]
    },
    {
     "name": "stderr",
     "output_type": "stream",
     "text": [
      "\r",
      " 10%|████                                   | 112/1072 [00:13<02:00,  8.00it/s]"
     ]
    },
    {
     "name": "stdout",
     "output_type": "stream",
     "text": [
      "test date: 11\n"
     ]
    },
    {
     "name": "stderr",
     "output_type": "stream",
     "text": [
      "\r",
      " 11%|████                                   | 113/1072 [00:13<02:01,  7.87it/s]"
     ]
    },
    {
     "name": "stdout",
     "output_type": "stream",
     "text": [
      "test date: 11\n"
     ]
    },
    {
     "name": "stderr",
     "output_type": "stream",
     "text": [
      "\r",
      " 11%|████▏                                  | 114/1072 [00:13<02:04,  7.72it/s]"
     ]
    },
    {
     "name": "stdout",
     "output_type": "stream",
     "text": [
      "test date: 11\n"
     ]
    },
    {
     "name": "stderr",
     "output_type": "stream",
     "text": [
      "\r",
      " 11%|████▏                                  | 115/1072 [00:14<02:04,  7.70it/s]"
     ]
    },
    {
     "name": "stdout",
     "output_type": "stream",
     "text": [
      "test date: 11\n"
     ]
    },
    {
     "name": "stderr",
     "output_type": "stream",
     "text": [
      "\r",
      " 11%|████▎                                  | 117/1072 [00:14<01:58,  8.07it/s]"
     ]
    },
    {
     "name": "stdout",
     "output_type": "stream",
     "text": [
      "test date: 11\n"
     ]
    },
    {
     "name": "stderr",
     "output_type": "stream",
     "text": [
      " 11%|████▎                                  | 120/1072 [00:14<01:40,  9.47it/s]"
     ]
    },
    {
     "name": "stdout",
     "output_type": "stream",
     "text": [
      "test date: 11\n"
     ]
    },
    {
     "name": "stderr",
     "output_type": "stream",
     "text": [
      "\r",
      " 11%|████▍                                  | 122/1072 [00:14<01:38,  9.61it/s]"
     ]
    },
    {
     "name": "stdout",
     "output_type": "stream",
     "text": [
      "test date: 11\n",
      "test date: 11\n"
     ]
    },
    {
     "name": "stderr",
     "output_type": "stream",
     "text": [
      "\r",
      " 12%|████▌                                  | 124/1072 [00:14<01:42,  9.25it/s]"
     ]
    },
    {
     "name": "stdout",
     "output_type": "stream",
     "text": [
      "test date: 11\n"
     ]
    },
    {
     "name": "stderr",
     "output_type": "stream",
     "text": [
      "\r",
      " 12%|████▌                                  | 125/1072 [00:15<01:49,  8.63it/s]"
     ]
    },
    {
     "name": "stdout",
     "output_type": "stream",
     "text": [
      "test date: 11\n"
     ]
    },
    {
     "name": "stderr",
     "output_type": "stream",
     "text": [
      "\r",
      " 12%|████▌                                  | 126/1072 [00:15<01:54,  8.26it/s]"
     ]
    },
    {
     "name": "stdout",
     "output_type": "stream",
     "text": [
      "test date: 11\n"
     ]
    },
    {
     "name": "stderr",
     "output_type": "stream",
     "text": [
      "\r",
      " 12%|████▌                                  | 127/1072 [00:15<01:57,  8.03it/s]"
     ]
    },
    {
     "name": "stdout",
     "output_type": "stream",
     "text": [
      "test date: 11\n"
     ]
    },
    {
     "name": "stderr",
     "output_type": "stream",
     "text": [
      "\r",
      " 12%|████▋                                  | 128/1072 [00:15<02:00,  7.87it/s]"
     ]
    },
    {
     "name": "stdout",
     "output_type": "stream",
     "text": [
      "test date: 11\n"
     ]
    },
    {
     "name": "stderr",
     "output_type": "stream",
     "text": [
      "\r",
      " 12%|████▋                                  | 129/1072 [00:15<02:01,  7.76it/s]"
     ]
    },
    {
     "name": "stdout",
     "output_type": "stream",
     "text": [
      "test date: 11\n"
     ]
    },
    {
     "name": "stderr",
     "output_type": "stream",
     "text": [
      "\r",
      " 12%|████▋                                  | 130/1072 [00:15<02:03,  7.65it/s]"
     ]
    },
    {
     "name": "stdout",
     "output_type": "stream",
     "text": [
      "test date: 11\n"
     ]
    },
    {
     "name": "stderr",
     "output_type": "stream",
     "text": [
      "\r",
      " 12%|████▊                                  | 131/1072 [00:15<02:04,  7.58it/s]"
     ]
    },
    {
     "name": "stdout",
     "output_type": "stream",
     "text": [
      "test date: 11\n"
     ]
    },
    {
     "name": "stderr",
     "output_type": "stream",
     "text": [
      "\r",
      " 12%|████▊                                  | 132/1072 [00:16<02:04,  7.56it/s]"
     ]
    },
    {
     "name": "stdout",
     "output_type": "stream",
     "text": [
      "test date: 11\n"
     ]
    },
    {
     "name": "stderr",
     "output_type": "stream",
     "text": [
      "\r",
      " 12%|████▊                                  | 133/1072 [00:16<02:04,  7.53it/s]"
     ]
    },
    {
     "name": "stdout",
     "output_type": "stream",
     "text": [
      "test date: 11\n"
     ]
    },
    {
     "name": "stderr",
     "output_type": "stream",
     "text": [
      "\r",
      " 12%|████▉                                  | 134/1072 [00:16<02:04,  7.54it/s]"
     ]
    },
    {
     "name": "stdout",
     "output_type": "stream",
     "text": [
      "test date: 11\n"
     ]
    },
    {
     "name": "stderr",
     "output_type": "stream",
     "text": [
      "\r",
      " 13%|████▉                                  | 135/1072 [00:16<02:04,  7.52it/s]"
     ]
    },
    {
     "name": "stdout",
     "output_type": "stream",
     "text": [
      "test date: 11\n"
     ]
    },
    {
     "name": "stderr",
     "output_type": "stream",
     "text": [
      "\r",
      " 13%|████▉                                  | 136/1072 [00:16<02:04,  7.52it/s]"
     ]
    },
    {
     "name": "stdout",
     "output_type": "stream",
     "text": [
      "test date: 11\n"
     ]
    },
    {
     "name": "stderr",
     "output_type": "stream",
     "text": [
      "\r",
      " 13%|████▉                                  | 137/1072 [00:16<02:04,  7.50it/s]"
     ]
    },
    {
     "name": "stdout",
     "output_type": "stream",
     "text": [
      "test date: 11\n"
     ]
    },
    {
     "name": "stderr",
     "output_type": "stream",
     "text": [
      "\r",
      " 13%|█████                                  | 138/1072 [00:16<02:04,  7.51it/s]"
     ]
    },
    {
     "name": "stdout",
     "output_type": "stream",
     "text": [
      "test date: 11\n"
     ]
    },
    {
     "name": "stderr",
     "output_type": "stream",
     "text": [
      "\r",
      " 13%|█████                                  | 139/1072 [00:17<02:04,  7.49it/s]"
     ]
    },
    {
     "name": "stdout",
     "output_type": "stream",
     "text": [
      "test date: 11\n"
     ]
    },
    {
     "name": "stderr",
     "output_type": "stream",
     "text": [
      "\r",
      " 13%|█████                                  | 140/1072 [00:17<02:04,  7.48it/s]"
     ]
    },
    {
     "name": "stdout",
     "output_type": "stream",
     "text": [
      "test date: 11\n"
     ]
    },
    {
     "name": "stderr",
     "output_type": "stream",
     "text": [
      "\r",
      " 13%|█████▏                                 | 141/1072 [00:17<02:04,  7.49it/s]"
     ]
    },
    {
     "name": "stdout",
     "output_type": "stream",
     "text": [
      "test date: 11\n"
     ]
    },
    {
     "name": "stderr",
     "output_type": "stream",
     "text": [
      "\r",
      " 13%|█████▏                                 | 142/1072 [00:17<02:03,  7.50it/s]"
     ]
    },
    {
     "name": "stdout",
     "output_type": "stream",
     "text": [
      "test date: 11\n"
     ]
    },
    {
     "name": "stderr",
     "output_type": "stream",
     "text": [
      "\r",
      " 13%|█████▏                                 | 143/1072 [00:17<02:03,  7.51it/s]"
     ]
    },
    {
     "name": "stdout",
     "output_type": "stream",
     "text": [
      "test date: 11\n"
     ]
    },
    {
     "name": "stderr",
     "output_type": "stream",
     "text": [
      "\r",
      " 13%|█████▏                                 | 144/1072 [00:17<02:03,  7.49it/s]"
     ]
    },
    {
     "name": "stdout",
     "output_type": "stream",
     "text": [
      "test date: 11\n"
     ]
    },
    {
     "name": "stderr",
     "output_type": "stream",
     "text": [
      "\r",
      " 14%|█████▎                                 | 145/1072 [00:17<02:03,  7.48it/s]"
     ]
    },
    {
     "name": "stdout",
     "output_type": "stream",
     "text": [
      "test date: 11\n"
     ]
    },
    {
     "name": "stderr",
     "output_type": "stream",
     "text": [
      "\r",
      " 14%|█████▎                                 | 146/1072 [00:17<02:03,  7.49it/s]"
     ]
    },
    {
     "name": "stdout",
     "output_type": "stream",
     "text": [
      "test date: 11\n"
     ]
    },
    {
     "name": "stderr",
     "output_type": "stream",
     "text": [
      "\r",
      " 14%|█████▎                                 | 147/1072 [00:18<02:03,  7.50it/s]"
     ]
    },
    {
     "name": "stdout",
     "output_type": "stream",
     "text": [
      "test date: 11\n"
     ]
    },
    {
     "name": "stderr",
     "output_type": "stream",
     "text": [
      "\r",
      " 14%|█████▍                                 | 148/1072 [00:18<02:03,  7.49it/s]"
     ]
    },
    {
     "name": "stdout",
     "output_type": "stream",
     "text": [
      "test date: 11\n"
     ]
    },
    {
     "name": "stderr",
     "output_type": "stream",
     "text": [
      "\r",
      " 14%|█████▍                                 | 149/1072 [00:18<02:03,  7.48it/s]"
     ]
    },
    {
     "name": "stdout",
     "output_type": "stream",
     "text": [
      "test date: 11\n"
     ]
    },
    {
     "name": "stderr",
     "output_type": "stream",
     "text": [
      "\r",
      " 14%|█████▍                                 | 150/1072 [00:18<02:11,  7.02it/s]"
     ]
    },
    {
     "name": "stdout",
     "output_type": "stream",
     "text": [
      "test date: 11\n"
     ]
    },
    {
     "name": "stderr",
     "output_type": "stream",
     "text": [
      "\r",
      " 14%|█████▍                                 | 151/1072 [00:18<02:04,  7.40it/s]"
     ]
    },
    {
     "name": "stdout",
     "output_type": "stream",
     "text": [
      "test date: 11\n"
     ]
    },
    {
     "name": "stderr",
     "output_type": "stream",
     "text": [
      "\r",
      " 14%|█████▌                                 | 152/1072 [00:18<02:08,  7.18it/s]"
     ]
    },
    {
     "name": "stdout",
     "output_type": "stream",
     "text": [
      "test date: 11\n"
     ]
    },
    {
     "name": "stderr",
     "output_type": "stream",
     "text": [
      "\r",
      " 14%|█████▌                                 | 153/1072 [00:18<02:06,  7.28it/s]"
     ]
    },
    {
     "name": "stdout",
     "output_type": "stream",
     "text": [
      "test date: 11\n"
     ]
    },
    {
     "name": "stderr",
     "output_type": "stream",
     "text": [
      "\r",
      " 14%|█████▌                                 | 154/1072 [00:19<02:05,  7.33it/s]"
     ]
    },
    {
     "name": "stdout",
     "output_type": "stream",
     "text": [
      "test date: 11\n"
     ]
    },
    {
     "name": "stderr",
     "output_type": "stream",
     "text": [
      "\r",
      " 14%|█████▋                                 | 155/1072 [00:19<02:04,  7.39it/s]"
     ]
    },
    {
     "name": "stdout",
     "output_type": "stream",
     "text": [
      "test date: 11\n"
     ]
    },
    {
     "name": "stderr",
     "output_type": "stream",
     "text": [
      "\r",
      " 15%|█████▋                                 | 156/1072 [00:19<02:03,  7.43it/s]"
     ]
    },
    {
     "name": "stdout",
     "output_type": "stream",
     "text": [
      "test date: 11\n"
     ]
    },
    {
     "name": "stderr",
     "output_type": "stream",
     "text": [
      "\r",
      " 15%|█████▋                                 | 157/1072 [00:19<02:03,  7.44it/s]"
     ]
    },
    {
     "name": "stdout",
     "output_type": "stream",
     "text": [
      "test date: 11\n"
     ]
    },
    {
     "name": "stderr",
     "output_type": "stream",
     "text": [
      "\r",
      " 15%|█████▋                                 | 158/1072 [00:19<01:55,  7.90it/s]"
     ]
    },
    {
     "name": "stdout",
     "output_type": "stream",
     "text": [
      "test date: 11\n"
     ]
    },
    {
     "name": "stderr",
     "output_type": "stream",
     "text": [
      "\r",
      " 15%|█████▊                                 | 159/1072 [00:19<01:58,  7.73it/s]"
     ]
    },
    {
     "name": "stdout",
     "output_type": "stream",
     "text": [
      "test date: 11\n"
     ]
    },
    {
     "name": "stderr",
     "output_type": "stream",
     "text": [
      "\r",
      " 15%|█████▊                                 | 160/1072 [00:19<01:59,  7.65it/s]"
     ]
    },
    {
     "name": "stdout",
     "output_type": "stream",
     "text": [
      "test date: 11\n"
     ]
    },
    {
     "name": "stderr",
     "output_type": "stream",
     "text": [
      "\r",
      " 15%|█████▊                                 | 161/1072 [00:19<02:00,  7.56it/s]"
     ]
    },
    {
     "name": "stdout",
     "output_type": "stream",
     "text": [
      "test date: 6\n"
     ]
    },
    {
     "name": "stderr",
     "output_type": "stream",
     "text": [
      "\r",
      " 15%|█████▉                                 | 162/1072 [00:20<02:01,  7.49it/s]"
     ]
    },
    {
     "name": "stdout",
     "output_type": "stream",
     "text": [
      "test date: 11\n"
     ]
    },
    {
     "name": "stderr",
     "output_type": "stream",
     "text": [
      "\r",
      " 15%|█████▉                                 | 163/1072 [00:20<02:06,  7.21it/s]"
     ]
    },
    {
     "name": "stdout",
     "output_type": "stream",
     "text": [
      "test date: 11\n"
     ]
    },
    {
     "name": "stderr",
     "output_type": "stream",
     "text": [
      "\r",
      " 15%|█████▉                                 | 164/1072 [00:20<02:04,  7.28it/s]"
     ]
    },
    {
     "name": "stdout",
     "output_type": "stream",
     "text": [
      "test date: 11\n"
     ]
    },
    {
     "name": "stderr",
     "output_type": "stream",
     "text": [
      "\r",
      " 15%|██████                                 | 165/1072 [00:20<02:07,  7.12it/s]"
     ]
    },
    {
     "name": "stdout",
     "output_type": "stream",
     "text": [
      "test date: 11\n"
     ]
    },
    {
     "name": "stderr",
     "output_type": "stream",
     "text": [
      "\r",
      " 15%|██████                                 | 166/1072 [00:20<02:05,  7.22it/s]"
     ]
    },
    {
     "name": "stdout",
     "output_type": "stream",
     "text": [
      "test date: 11\n"
     ]
    },
    {
     "name": "stderr",
     "output_type": "stream",
     "text": [
      "\r",
      " 16%|██████                                 | 167/1072 [00:20<01:57,  7.73it/s]"
     ]
    },
    {
     "name": "stdout",
     "output_type": "stream",
     "text": [
      "test date: 11\n"
     ]
    },
    {
     "name": "stderr",
     "output_type": "stream",
     "text": [
      "\r",
      " 16%|██████▏                                | 169/1072 [00:20<01:48,  8.32it/s]"
     ]
    },
    {
     "name": "stdout",
     "output_type": "stream",
     "text": [
      "test date: 11\n"
     ]
    },
    {
     "name": "stderr",
     "output_type": "stream",
     "text": [
      "\r",
      " 16%|██████▏                                | 170/1072 [00:21<01:59,  7.55it/s]"
     ]
    },
    {
     "name": "stdout",
     "output_type": "stream",
     "text": [
      "test date: 11\n"
     ]
    },
    {
     "name": "stderr",
     "output_type": "stream",
     "text": [
      "\r",
      " 16%|██████▏                                | 171/1072 [00:21<01:59,  7.53it/s]"
     ]
    },
    {
     "name": "stdout",
     "output_type": "stream",
     "text": [
      "test date: 11\n"
     ]
    },
    {
     "name": "stderr",
     "output_type": "stream",
     "text": [
      "\r",
      " 16%|██████▎                                | 172/1072 [00:21<01:53,  7.94it/s]"
     ]
    },
    {
     "name": "stdout",
     "output_type": "stream",
     "text": [
      "test date: 11\n"
     ]
    },
    {
     "name": "stderr",
     "output_type": "stream",
     "text": [
      "\r",
      " 16%|██████▎                                | 173/1072 [00:21<01:56,  7.72it/s]"
     ]
    },
    {
     "name": "stdout",
     "output_type": "stream",
     "text": [
      "test date: 11\n"
     ]
    },
    {
     "name": "stderr",
     "output_type": "stream",
     "text": [
      "\r",
      " 16%|██████▎                                | 174/1072 [00:21<01:58,  7.60it/s]"
     ]
    },
    {
     "name": "stdout",
     "output_type": "stream",
     "text": [
      "test date: 11\n"
     ]
    },
    {
     "name": "stderr",
     "output_type": "stream",
     "text": [
      "\r",
      " 16%|██████▎                                | 175/1072 [00:21<01:58,  7.56it/s]"
     ]
    },
    {
     "name": "stdout",
     "output_type": "stream",
     "text": [
      "test date: 11\n"
     ]
    },
    {
     "name": "stderr",
     "output_type": "stream",
     "text": [
      "\r",
      " 16%|██████▍                                | 176/1072 [00:21<01:59,  7.51it/s]"
     ]
    },
    {
     "name": "stdout",
     "output_type": "stream",
     "text": [
      "test date: 11\n"
     ]
    },
    {
     "name": "stderr",
     "output_type": "stream",
     "text": [
      "\r",
      " 17%|██████▍                                | 177/1072 [00:22<02:07,  7.04it/s]"
     ]
    },
    {
     "name": "stdout",
     "output_type": "stream",
     "text": [
      "test date: 11\n"
     ]
    },
    {
     "name": "stderr",
     "output_type": "stream",
     "text": [
      "\r",
      " 17%|██████▍                                | 178/1072 [00:22<02:04,  7.16it/s]"
     ]
    },
    {
     "name": "stdout",
     "output_type": "stream",
     "text": [
      "test date: 11\n"
     ]
    },
    {
     "name": "stderr",
     "output_type": "stream",
     "text": [
      "\r",
      " 17%|██████▌                                | 179/1072 [00:22<01:56,  7.67it/s]"
     ]
    },
    {
     "name": "stdout",
     "output_type": "stream",
     "text": [
      "test date: 11\n"
     ]
    },
    {
     "name": "stderr",
     "output_type": "stream",
     "text": [
      "\r",
      " 17%|██████▌                                | 180/1072 [00:22<01:58,  7.53it/s]"
     ]
    },
    {
     "name": "stdout",
     "output_type": "stream",
     "text": [
      "test date: 11\n"
     ]
    },
    {
     "name": "stderr",
     "output_type": "stream",
     "text": [
      "\r",
      " 17%|██████▌                                | 181/1072 [00:22<01:59,  7.46it/s]"
     ]
    },
    {
     "name": "stdout",
     "output_type": "stream",
     "text": [
      "test date: 11\n"
     ]
    },
    {
     "name": "stderr",
     "output_type": "stream",
     "text": [
      "\r",
      " 17%|██████▌                                | 182/1072 [00:22<01:59,  7.45it/s]"
     ]
    },
    {
     "name": "stdout",
     "output_type": "stream",
     "text": [
      "test date: 11\n"
     ]
    },
    {
     "name": "stderr",
     "output_type": "stream",
     "text": [
      "\r",
      " 17%|██████▋                                | 183/1072 [00:22<02:07,  6.98it/s]"
     ]
    },
    {
     "name": "stdout",
     "output_type": "stream",
     "text": [
      "test date: 11\n"
     ]
    },
    {
     "name": "stderr",
     "output_type": "stream",
     "text": [
      "\r",
      " 17%|██████▋                                | 184/1072 [00:23<02:04,  7.14it/s]"
     ]
    },
    {
     "name": "stdout",
     "output_type": "stream",
     "text": [
      "test date: 11\n"
     ]
    },
    {
     "name": "stderr",
     "output_type": "stream",
     "text": [
      "\r",
      " 17%|██████▋                                | 185/1072 [00:23<01:56,  7.59it/s]"
     ]
    },
    {
     "name": "stdout",
     "output_type": "stream",
     "text": [
      "test date: 11\n"
     ]
    },
    {
     "name": "stderr",
     "output_type": "stream",
     "text": [
      "\r",
      " 17%|██████▊                                | 186/1072 [00:23<01:58,  7.50it/s]"
     ]
    },
    {
     "name": "stdout",
     "output_type": "stream",
     "text": [
      "test date: 11\n"
     ]
    },
    {
     "name": "stderr",
     "output_type": "stream",
     "text": [
      "\r",
      " 17%|██████▊                                | 187/1072 [00:23<01:58,  7.47it/s]"
     ]
    },
    {
     "name": "stdout",
     "output_type": "stream",
     "text": [
      "test date: 11\n"
     ]
    },
    {
     "name": "stderr",
     "output_type": "stream",
     "text": [
      "\r",
      " 18%|██████▊                                | 188/1072 [00:23<02:06,  6.97it/s]"
     ]
    },
    {
     "name": "stdout",
     "output_type": "stream",
     "text": [
      "test date: 11\n"
     ]
    },
    {
     "name": "stderr",
     "output_type": "stream",
     "text": [
      "\r",
      " 18%|██████▉                                | 189/1072 [00:23<02:04,  7.11it/s]"
     ]
    },
    {
     "name": "stdout",
     "output_type": "stream",
     "text": [
      "test date: 11\n"
     ]
    },
    {
     "name": "stderr",
     "output_type": "stream",
     "text": [
      "\r",
      " 18%|██████▉                                | 190/1072 [00:23<02:02,  7.23it/s]"
     ]
    },
    {
     "name": "stdout",
     "output_type": "stream",
     "text": [
      "test date: 11\n"
     ]
    },
    {
     "name": "stderr",
     "output_type": "stream",
     "text": [
      "\r",
      " 18%|██████▉                                | 191/1072 [00:23<01:54,  7.67it/s]"
     ]
    },
    {
     "name": "stdout",
     "output_type": "stream",
     "text": [
      "test date: 11\n"
     ]
    },
    {
     "name": "stderr",
     "output_type": "stream",
     "text": [
      "\r",
      " 18%|██████▉                                | 192/1072 [00:24<01:56,  7.57it/s]"
     ]
    },
    {
     "name": "stdout",
     "output_type": "stream",
     "text": [
      "test date: 11\n"
     ]
    },
    {
     "name": "stderr",
     "output_type": "stream",
     "text": [
      "\r",
      " 18%|███████                                | 193/1072 [00:24<01:57,  7.50it/s]"
     ]
    },
    {
     "name": "stdout",
     "output_type": "stream",
     "text": [
      "test date: 11\n"
     ]
    },
    {
     "name": "stderr",
     "output_type": "stream",
     "text": [
      "\r",
      " 18%|███████                                | 194/1072 [00:24<02:05,  6.99it/s]"
     ]
    },
    {
     "name": "stdout",
     "output_type": "stream",
     "text": [
      "test date: 11\n"
     ]
    },
    {
     "name": "stderr",
     "output_type": "stream",
     "text": [
      "\r",
      " 18%|███████                                | 195/1072 [00:24<02:02,  7.14it/s]"
     ]
    },
    {
     "name": "stdout",
     "output_type": "stream",
     "text": [
      "test date: 11\n"
     ]
    },
    {
     "name": "stderr",
     "output_type": "stream",
     "text": [
      "\r",
      " 18%|███████▏                               | 196/1072 [00:24<01:54,  7.65it/s]"
     ]
    },
    {
     "name": "stdout",
     "output_type": "stream",
     "text": [
      "test date: 11\n"
     ]
    },
    {
     "name": "stderr",
     "output_type": "stream",
     "text": [
      "\r",
      " 18%|███████▏                               | 197/1072 [00:24<01:56,  7.52it/s]"
     ]
    },
    {
     "name": "stdout",
     "output_type": "stream",
     "text": [
      "test date: 11\n"
     ]
    },
    {
     "name": "stderr",
     "output_type": "stream",
     "text": [
      "\r",
      " 18%|███████▏                               | 198/1072 [00:24<01:56,  7.47it/s]"
     ]
    },
    {
     "name": "stdout",
     "output_type": "stream",
     "text": [
      "test date: 8\n"
     ]
    },
    {
     "name": "stderr",
     "output_type": "stream",
     "text": [
      "\r",
      " 19%|███████▏                               | 199/1072 [00:25<01:57,  7.44it/s]"
     ]
    },
    {
     "name": "stdout",
     "output_type": "stream",
     "text": [
      "test date: 11\n"
     ]
    },
    {
     "name": "stderr",
     "output_type": "stream",
     "text": [
      "\r",
      " 19%|███████▎                               | 200/1072 [00:25<02:05,  6.96it/s]"
     ]
    },
    {
     "name": "stdout",
     "output_type": "stream",
     "text": [
      "test date: 11\n"
     ]
    },
    {
     "name": "stderr",
     "output_type": "stream",
     "text": [
      "\r",
      " 19%|███████▎                               | 201/1072 [00:25<02:02,  7.12it/s]"
     ]
    },
    {
     "name": "stdout",
     "output_type": "stream",
     "text": [
      "test date: 11\n"
     ]
    },
    {
     "name": "stderr",
     "output_type": "stream",
     "text": [
      "\r",
      " 19%|███████▎                               | 202/1072 [00:25<02:00,  7.24it/s]"
     ]
    },
    {
     "name": "stdout",
     "output_type": "stream",
     "text": [
      "test date: 11\n"
     ]
    },
    {
     "name": "stderr",
     "output_type": "stream",
     "text": [
      "\r",
      " 19%|███████▍                               | 203/1072 [00:25<01:53,  7.67it/s]"
     ]
    },
    {
     "name": "stdout",
     "output_type": "stream",
     "text": [
      "test date: 11\n"
     ]
    },
    {
     "name": "stderr",
     "output_type": "stream",
     "text": [
      "\r",
      " 19%|███████▍                               | 204/1072 [00:25<01:54,  7.57it/s]"
     ]
    },
    {
     "name": "stdout",
     "output_type": "stream",
     "text": [
      "test date: 11\n"
     ]
    },
    {
     "name": "stderr",
     "output_type": "stream",
     "text": [
      "\r",
      " 19%|███████▍                               | 205/1072 [00:25<01:55,  7.49it/s]"
     ]
    },
    {
     "name": "stdout",
     "output_type": "stream",
     "text": [
      "test date: 11\n"
     ]
    },
    {
     "name": "stderr",
     "output_type": "stream",
     "text": [
      "\r",
      " 19%|███████▍                               | 206/1072 [00:26<02:03,  6.99it/s]"
     ]
    },
    {
     "name": "stdout",
     "output_type": "stream",
     "text": [
      "test date: 11\n"
     ]
    },
    {
     "name": "stderr",
     "output_type": "stream",
     "text": [
      "\r",
      " 19%|███████▌                               | 207/1072 [00:26<02:01,  7.13it/s]"
     ]
    },
    {
     "name": "stdout",
     "output_type": "stream",
     "text": [
      "test date: 11\n"
     ]
    },
    {
     "name": "stderr",
     "output_type": "stream",
     "text": [
      "\r",
      " 19%|███████▌                               | 208/1072 [00:26<01:59,  7.24it/s]"
     ]
    },
    {
     "name": "stdout",
     "output_type": "stream",
     "text": [
      "test date: 11\n"
     ]
    },
    {
     "name": "stderr",
     "output_type": "stream",
     "text": [
      "\r",
      " 19%|███████▌                               | 209/1072 [00:26<01:52,  7.69it/s]"
     ]
    },
    {
     "name": "stdout",
     "output_type": "stream",
     "text": [
      "test date: 11\n"
     ]
    },
    {
     "name": "stderr",
     "output_type": "stream",
     "text": [
      "\r",
      " 20%|███████▋                               | 210/1072 [00:26<01:54,  7.54it/s]"
     ]
    },
    {
     "name": "stdout",
     "output_type": "stream",
     "text": [
      "test date: 11\n"
     ]
    },
    {
     "name": "stderr",
     "output_type": "stream",
     "text": [
      "\r",
      " 20%|███████▋                               | 211/1072 [00:26<02:03,  6.99it/s]"
     ]
    },
    {
     "name": "stdout",
     "output_type": "stream",
     "text": [
      "test date: 11\n"
     ]
    },
    {
     "name": "stderr",
     "output_type": "stream",
     "text": [
      "\r",
      " 20%|███████▋                               | 212/1072 [00:26<02:00,  7.13it/s]"
     ]
    },
    {
     "name": "stdout",
     "output_type": "stream",
     "text": [
      "test date: 11\n"
     ]
    },
    {
     "name": "stderr",
     "output_type": "stream",
     "text": [
      "\r",
      " 20%|███████▋                               | 213/1072 [00:26<01:52,  7.62it/s]"
     ]
    },
    {
     "name": "stdout",
     "output_type": "stream",
     "text": [
      "test date: 11\n"
     ]
    },
    {
     "name": "stderr",
     "output_type": "stream",
     "text": [
      "\r",
      " 20%|███████▊                               | 214/1072 [00:27<01:54,  7.51it/s]"
     ]
    },
    {
     "name": "stdout",
     "output_type": "stream",
     "text": [
      "test date: 11\n"
     ]
    },
    {
     "name": "stderr",
     "output_type": "stream",
     "text": [
      "\r",
      " 20%|███████▊                               | 215/1072 [00:27<01:55,  7.44it/s]"
     ]
    },
    {
     "name": "stdout",
     "output_type": "stream",
     "text": [
      "test date: 11\n"
     ]
    },
    {
     "name": "stderr",
     "output_type": "stream",
     "text": [
      "\r",
      " 20%|███████▊                               | 216/1072 [00:27<02:02,  6.98it/s]"
     ]
    },
    {
     "name": "stdout",
     "output_type": "stream",
     "text": [
      "test date: 11\n"
     ]
    },
    {
     "name": "stderr",
     "output_type": "stream",
     "text": [
      "\r",
      " 20%|███████▉                               | 217/1072 [00:27<02:00,  7.12it/s]"
     ]
    },
    {
     "name": "stdout",
     "output_type": "stream",
     "text": [
      "test date: 11\n"
     ]
    },
    {
     "name": "stderr",
     "output_type": "stream",
     "text": [
      "\r",
      " 20%|███████▉                               | 218/1072 [00:27<01:51,  7.63it/s]"
     ]
    },
    {
     "name": "stdout",
     "output_type": "stream",
     "text": [
      "test date: 11\n"
     ]
    },
    {
     "name": "stderr",
     "output_type": "stream",
     "text": [
      "\r",
      " 20%|███████▉                               | 219/1072 [00:27<01:53,  7.53it/s]"
     ]
    },
    {
     "name": "stdout",
     "output_type": "stream",
     "text": [
      "test date: 11\n"
     ]
    },
    {
     "name": "stderr",
     "output_type": "stream",
     "text": [
      "\r",
      " 21%|████████                               | 220/1072 [00:27<01:54,  7.44it/s]"
     ]
    },
    {
     "name": "stdout",
     "output_type": "stream",
     "text": [
      "test date: 11\n"
     ]
    },
    {
     "name": "stderr",
     "output_type": "stream",
     "text": [
      "\r",
      " 21%|████████                               | 221/1072 [00:28<02:02,  6.97it/s]"
     ]
    },
    {
     "name": "stdout",
     "output_type": "stream",
     "text": [
      "test date: 11\n"
     ]
    },
    {
     "name": "stderr",
     "output_type": "stream",
     "text": [
      "\r",
      " 21%|████████                               | 222/1072 [00:28<01:59,  7.11it/s]"
     ]
    },
    {
     "name": "stdout",
     "output_type": "stream",
     "text": [
      "test date: 11\n"
     ]
    },
    {
     "name": "stderr",
     "output_type": "stream",
     "text": [
      "\r",
      " 21%|████████                               | 223/1072 [00:28<01:51,  7.61it/s]"
     ]
    },
    {
     "name": "stdout",
     "output_type": "stream",
     "text": [
      "test date: 11\n"
     ]
    },
    {
     "name": "stderr",
     "output_type": "stream",
     "text": [
      "\r",
      " 21%|████████▏                              | 224/1072 [00:28<01:53,  7.49it/s]"
     ]
    },
    {
     "name": "stdout",
     "output_type": "stream",
     "text": [
      "test date: 11\n"
     ]
    },
    {
     "name": "stderr",
     "output_type": "stream",
     "text": [
      "\r",
      " 21%|████████▏                              | 225/1072 [00:28<01:54,  7.42it/s]"
     ]
    },
    {
     "name": "stdout",
     "output_type": "stream",
     "text": [
      "test date: 11\n"
     ]
    },
    {
     "name": "stderr",
     "output_type": "stream",
     "text": [
      "\r",
      " 21%|████████▏                              | 226/1072 [00:28<02:01,  6.98it/s]"
     ]
    },
    {
     "name": "stdout",
     "output_type": "stream",
     "text": [
      "test date: 11\n"
     ]
    },
    {
     "name": "stderr",
     "output_type": "stream",
     "text": [
      "\r",
      " 21%|████████▎                              | 227/1072 [00:28<01:53,  7.47it/s]"
     ]
    },
    {
     "name": "stdout",
     "output_type": "stream",
     "text": [
      "test date: 11\n"
     ]
    },
    {
     "name": "stderr",
     "output_type": "stream",
     "text": [
      "\r",
      " 21%|████████▎                              | 228/1072 [00:29<01:54,  7.35it/s]"
     ]
    },
    {
     "name": "stdout",
     "output_type": "stream",
     "text": [
      "test date: 11\n"
     ]
    },
    {
     "name": "stderr",
     "output_type": "stream",
     "text": [
      "\r",
      " 21%|████████▎                              | 230/1072 [00:29<01:45,  7.99it/s]"
     ]
    },
    {
     "name": "stdout",
     "output_type": "stream",
     "text": [
      "test date: 11\n"
     ]
    },
    {
     "name": "stderr",
     "output_type": "stream",
     "text": [
      "\r",
      " 22%|████████▍                              | 231/1072 [00:29<01:55,  7.29it/s]"
     ]
    },
    {
     "name": "stdout",
     "output_type": "stream",
     "text": [
      "test date: 11\n"
     ]
    },
    {
     "name": "stderr",
     "output_type": "stream",
     "text": [
      "\r",
      " 22%|████████▍                              | 232/1072 [00:29<01:47,  7.79it/s]"
     ]
    },
    {
     "name": "stdout",
     "output_type": "stream",
     "text": [
      "test date: 5\n"
     ]
    },
    {
     "name": "stderr",
     "output_type": "stream",
     "text": [
      "\r",
      " 22%|████████▍                              | 233/1072 [00:29<01:50,  7.62it/s]"
     ]
    },
    {
     "name": "stdout",
     "output_type": "stream",
     "text": [
      "test date: 11\n"
     ]
    },
    {
     "name": "stderr",
     "output_type": "stream",
     "text": [
      "\r",
      " 22%|████████▌                              | 234/1072 [00:29<01:51,  7.50it/s]"
     ]
    },
    {
     "name": "stdout",
     "output_type": "stream",
     "text": [
      "test date: 11\n"
     ]
    },
    {
     "name": "stderr",
     "output_type": "stream",
     "text": [
      "\r",
      " 22%|████████▌                              | 235/1072 [00:29<01:59,  6.99it/s]"
     ]
    },
    {
     "name": "stdout",
     "output_type": "stream",
     "text": [
      "test date: 11\n"
     ]
    },
    {
     "name": "stderr",
     "output_type": "stream",
     "text": [
      "\r",
      " 22%|████████▌                              | 236/1072 [00:30<01:51,  7.51it/s]"
     ]
    },
    {
     "name": "stdout",
     "output_type": "stream",
     "text": [
      "test date: 11\n"
     ]
    },
    {
     "name": "stderr",
     "output_type": "stream",
     "text": [
      "\r",
      " 22%|████████▌                              | 237/1072 [00:30<01:52,  7.40it/s]"
     ]
    },
    {
     "name": "stdout",
     "output_type": "stream",
     "text": [
      "test date: 11\n"
     ]
    },
    {
     "name": "stderr",
     "output_type": "stream",
     "text": [
      "\r",
      " 22%|████████▋                              | 238/1072 [00:30<02:00,  6.91it/s]"
     ]
    },
    {
     "name": "stdout",
     "output_type": "stream",
     "text": [
      "test date: 11\n"
     ]
    },
    {
     "name": "stderr",
     "output_type": "stream",
     "text": [
      "\r",
      " 22%|████████▋                              | 239/1072 [00:30<01:51,  7.44it/s]"
     ]
    },
    {
     "name": "stdout",
     "output_type": "stream",
     "text": [
      "test date: 11\n"
     ]
    },
    {
     "name": "stderr",
     "output_type": "stream",
     "text": [
      "\r",
      " 22%|████████▋                              | 240/1072 [00:30<01:57,  7.10it/s]"
     ]
    },
    {
     "name": "stdout",
     "output_type": "stream",
     "text": [
      "test date: 11\n"
     ]
    },
    {
     "name": "stderr",
     "output_type": "stream",
     "text": [
      "\r",
      " 22%|████████▊                              | 241/1072 [00:30<01:55,  7.19it/s]"
     ]
    },
    {
     "name": "stdout",
     "output_type": "stream",
     "text": [
      "test date: 11\n"
     ]
    },
    {
     "name": "stderr",
     "output_type": "stream",
     "text": [
      "\r",
      " 23%|████████▊                              | 242/1072 [00:30<01:57,  7.05it/s]"
     ]
    },
    {
     "name": "stdout",
     "output_type": "stream",
     "text": [
      "test date: 11\n"
     ]
    },
    {
     "name": "stderr",
     "output_type": "stream",
     "text": [
      "\r",
      " 23%|████████▊                              | 243/1072 [00:30<01:50,  7.48it/s]"
     ]
    },
    {
     "name": "stdout",
     "output_type": "stream",
     "text": [
      "test date: 11\n"
     ]
    },
    {
     "name": "stderr",
     "output_type": "stream",
     "text": [
      "\r",
      " 23%|████████▉                              | 244/1072 [00:31<01:59,  6.93it/s]"
     ]
    },
    {
     "name": "stdout",
     "output_type": "stream",
     "text": [
      "test date: 11\n"
     ]
    },
    {
     "name": "stderr",
     "output_type": "stream",
     "text": [
      "\r",
      " 23%|████████▉                              | 245/1072 [00:31<01:50,  7.48it/s]"
     ]
    },
    {
     "name": "stdout",
     "output_type": "stream",
     "text": [
      "test date: 11\n"
     ]
    },
    {
     "name": "stderr",
     "output_type": "stream",
     "text": [
      "\r",
      " 23%|████████▉                              | 246/1072 [00:31<01:52,  7.36it/s]"
     ]
    },
    {
     "name": "stdout",
     "output_type": "stream",
     "text": [
      "test date: 11\n"
     ]
    },
    {
     "name": "stderr",
     "output_type": "stream",
     "text": [
      "\r",
      " 23%|████████▉                              | 247/1072 [00:31<01:59,  6.89it/s]"
     ]
    },
    {
     "name": "stdout",
     "output_type": "stream",
     "text": [
      "test date: 11\n"
     ]
    },
    {
     "name": "stderr",
     "output_type": "stream",
     "text": [
      "\r",
      " 23%|█████████                              | 248/1072 [00:31<01:50,  7.43it/s]"
     ]
    },
    {
     "name": "stdout",
     "output_type": "stream",
     "text": [
      "test date: 11\n"
     ]
    },
    {
     "name": "stderr",
     "output_type": "stream",
     "text": [
      "\r",
      " 23%|█████████                              | 249/1072 [00:31<01:56,  7.07it/s]"
     ]
    },
    {
     "name": "stdout",
     "output_type": "stream",
     "text": [
      "test date: 11\n"
     ]
    },
    {
     "name": "stderr",
     "output_type": "stream",
     "text": [
      "\r",
      " 23%|█████████                              | 250/1072 [00:32<01:58,  6.96it/s]"
     ]
    },
    {
     "name": "stdout",
     "output_type": "stream",
     "text": [
      "test date: 11\n"
     ]
    },
    {
     "name": "stderr",
     "output_type": "stream",
     "text": [
      "\r",
      " 23%|█████████▏                             | 251/1072 [00:32<01:49,  7.47it/s]"
     ]
    },
    {
     "name": "stdout",
     "output_type": "stream",
     "text": [
      "test date: 11\n"
     ]
    },
    {
     "name": "stderr",
     "output_type": "stream",
     "text": [
      "\r",
      " 24%|█████████▏                             | 252/1072 [00:32<01:51,  7.35it/s]"
     ]
    },
    {
     "name": "stdout",
     "output_type": "stream",
     "text": [
      "test date: 11\n"
     ]
    },
    {
     "name": "stderr",
     "output_type": "stream",
     "text": [
      "\r",
      " 24%|█████████▏                             | 253/1072 [00:32<01:52,  7.29it/s]"
     ]
    },
    {
     "name": "stdout",
     "output_type": "stream",
     "text": [
      "test date: 11\n"
     ]
    },
    {
     "name": "stderr",
     "output_type": "stream",
     "text": [
      "\r",
      " 24%|█████████▎                             | 255/1072 [00:32<01:43,  7.92it/s]"
     ]
    },
    {
     "name": "stdout",
     "output_type": "stream",
     "text": [
      "test date: 11\n"
     ]
    },
    {
     "name": "stderr",
     "output_type": "stream",
     "text": [
      "\r",
      " 24%|█████████▎                             | 256/1072 [00:32<01:46,  7.68it/s]"
     ]
    },
    {
     "name": "stdout",
     "output_type": "stream",
     "text": [
      "test date: 11\n"
     ]
    },
    {
     "name": "stderr",
     "output_type": "stream",
     "text": [
      "\r",
      " 24%|█████████▎                             | 257/1072 [00:32<01:55,  7.08it/s]"
     ]
    },
    {
     "name": "stdout",
     "output_type": "stream",
     "text": [
      "test date: 11\n"
     ]
    },
    {
     "name": "stderr",
     "output_type": "stream",
     "text": [
      "\r",
      " 24%|█████████▍                             | 258/1072 [00:33<01:47,  7.55it/s]"
     ]
    },
    {
     "name": "stdout",
     "output_type": "stream",
     "text": [
      "test date: 11\n"
     ]
    },
    {
     "name": "stderr",
     "output_type": "stream",
     "text": [
      "\r",
      " 24%|█████████▍                             | 259/1072 [00:33<01:53,  7.17it/s]"
     ]
    },
    {
     "name": "stdout",
     "output_type": "stream",
     "text": [
      "test date: 11\n"
     ]
    },
    {
     "name": "stderr",
     "output_type": "stream",
     "text": [
      "\r",
      " 24%|█████████▍                             | 260/1072 [00:33<01:49,  7.43it/s]"
     ]
    },
    {
     "name": "stdout",
     "output_type": "stream",
     "text": [
      "test date: 11\n"
     ]
    },
    {
     "name": "stderr",
     "output_type": "stream",
     "text": [
      "\r",
      " 24%|█████████▍                             | 261/1072 [00:33<01:50,  7.36it/s]"
     ]
    },
    {
     "name": "stdout",
     "output_type": "stream",
     "text": [
      "test date: 11\n"
     ]
    },
    {
     "name": "stderr",
     "output_type": "stream",
     "text": [
      "\r",
      " 24%|█████████▌                             | 262/1072 [00:33<01:58,  6.84it/s]"
     ]
    },
    {
     "name": "stdout",
     "output_type": "stream",
     "text": [
      "test date: 11\n"
     ]
    },
    {
     "name": "stderr",
     "output_type": "stream",
     "text": [
      "\r",
      " 25%|█████████▌                             | 263/1072 [00:33<01:55,  7.03it/s]"
     ]
    },
    {
     "name": "stdout",
     "output_type": "stream",
     "text": [
      "test date: 11\n"
     ]
    },
    {
     "name": "stderr",
     "output_type": "stream",
     "text": [
      "\r",
      " 25%|█████████▌                             | 264/1072 [00:33<01:48,  7.46it/s]"
     ]
    },
    {
     "name": "stdout",
     "output_type": "stream",
     "text": [
      "test date: 11\n"
     ]
    },
    {
     "name": "stderr",
     "output_type": "stream",
     "text": [
      "\r",
      " 25%|█████████▋                             | 265/1072 [00:34<01:56,  6.93it/s]"
     ]
    },
    {
     "name": "stdout",
     "output_type": "stream",
     "text": [
      "test date: 11\n"
     ]
    },
    {
     "name": "stderr",
     "output_type": "stream",
     "text": [
      "\r",
      " 25%|█████████▋                             | 267/1072 [00:34<01:45,  7.63it/s]"
     ]
    },
    {
     "name": "stdout",
     "output_type": "stream",
     "text": [
      "test date: 11\n"
     ]
    },
    {
     "name": "stderr",
     "output_type": "stream",
     "text": [
      "\r",
      " 25%|█████████▊                             | 268/1072 [00:34<01:41,  7.96it/s]"
     ]
    },
    {
     "name": "stdout",
     "output_type": "stream",
     "text": [
      "test date: 11\n"
     ]
    },
    {
     "name": "stderr",
     "output_type": "stream",
     "text": [
      "\r",
      " 25%|█████████▊                             | 269/1072 [00:34<01:44,  7.71it/s]"
     ]
    },
    {
     "name": "stdout",
     "output_type": "stream",
     "text": [
      "test date: 11\n"
     ]
    },
    {
     "name": "stderr",
     "output_type": "stream",
     "text": [
      "\r",
      " 25%|█████████▊                             | 270/1072 [00:34<01:52,  7.14it/s]"
     ]
    },
    {
     "name": "stdout",
     "output_type": "stream",
     "text": [
      "test date: 10\n"
     ]
    },
    {
     "name": "stderr",
     "output_type": "stream",
     "text": [
      "\r",
      " 25%|█████████▊                             | 271/1072 [00:34<01:45,  7.57it/s]"
     ]
    },
    {
     "name": "stdout",
     "output_type": "stream",
     "text": [
      "test date: 11\n"
     ]
    },
    {
     "name": "stderr",
     "output_type": "stream",
     "text": [
      "\r",
      " 25%|█████████▉                             | 272/1072 [00:34<01:54,  6.97it/s]"
     ]
    },
    {
     "name": "stdout",
     "output_type": "stream",
     "text": [
      "test date: 11\n"
     ]
    },
    {
     "name": "stderr",
     "output_type": "stream",
     "text": [
      "\r",
      " 25%|█████████▉                             | 273/1072 [00:35<01:46,  7.49it/s]"
     ]
    },
    {
     "name": "stdout",
     "output_type": "stream",
     "text": [
      "test date: 11\n"
     ]
    },
    {
     "name": "stderr",
     "output_type": "stream",
     "text": [
      "\r",
      " 26%|█████████▉                             | 274/1072 [00:35<01:48,  7.38it/s]"
     ]
    },
    {
     "name": "stdout",
     "output_type": "stream",
     "text": [
      "test date: 11\n"
     ]
    },
    {
     "name": "stderr",
     "output_type": "stream",
     "text": [
      "\r",
      " 26%|██████████                             | 275/1072 [00:35<01:55,  6.92it/s]"
     ]
    },
    {
     "name": "stdout",
     "output_type": "stream",
     "text": [
      "test date: 11\n"
     ]
    },
    {
     "name": "stderr",
     "output_type": "stream",
     "text": [
      "\r",
      " 26%|██████████                             | 276/1072 [00:35<01:47,  7.38it/s]"
     ]
    },
    {
     "name": "stdout",
     "output_type": "stream",
     "text": [
      "test date: 11\n"
     ]
    },
    {
     "name": "stderr",
     "output_type": "stream",
     "text": [
      "\r",
      " 26%|██████████                             | 277/1072 [00:35<01:55,  6.86it/s]"
     ]
    },
    {
     "name": "stdout",
     "output_type": "stream",
     "text": [
      "test date: 11\n"
     ]
    },
    {
     "name": "stderr",
     "output_type": "stream",
     "text": [
      "\r",
      " 26%|██████████                             | 278/1072 [00:35<01:52,  7.04it/s]"
     ]
    },
    {
     "name": "stdout",
     "output_type": "stream",
     "text": [
      "test date: 11\n"
     ]
    },
    {
     "name": "stderr",
     "output_type": "stream",
     "text": [
      "\r",
      " 26%|██████████▏                            | 279/1072 [00:35<01:45,  7.50it/s]"
     ]
    },
    {
     "name": "stdout",
     "output_type": "stream",
     "text": [
      "test date: 11\n"
     ]
    },
    {
     "name": "stderr",
     "output_type": "stream",
     "text": [
      "\r",
      " 26%|██████████▏                            | 280/1072 [00:36<01:54,  6.93it/s]"
     ]
    },
    {
     "name": "stdout",
     "output_type": "stream",
     "text": [
      "test date: 11\n"
     ]
    },
    {
     "name": "stderr",
     "output_type": "stream",
     "text": [
      "\r",
      " 26%|██████████▎                            | 282/1072 [00:36<01:40,  7.84it/s]"
     ]
    },
    {
     "name": "stdout",
     "output_type": "stream",
     "text": [
      "test date: 11\n"
     ]
    },
    {
     "name": "stderr",
     "output_type": "stream",
     "text": [
      "\r",
      " 26%|██████████▎                            | 283/1072 [00:36<01:43,  7.62it/s]"
     ]
    },
    {
     "name": "stdout",
     "output_type": "stream",
     "text": [
      "test date: 11\n"
     ]
    },
    {
     "name": "stderr",
     "output_type": "stream",
     "text": [
      "\r",
      " 26%|██████████▎                            | 284/1072 [00:36<01:51,  7.04it/s]"
     ]
    },
    {
     "name": "stdout",
     "output_type": "stream",
     "text": [
      "test date: 11\n"
     ]
    },
    {
     "name": "stderr",
     "output_type": "stream",
     "text": [
      "\r",
      " 27%|██████████▎                            | 285/1072 [00:36<01:45,  7.49it/s]"
     ]
    },
    {
     "name": "stdout",
     "output_type": "stream",
     "text": [
      "test date: 11\n"
     ]
    },
    {
     "name": "stderr",
     "output_type": "stream",
     "text": [
      "\r",
      " 27%|██████████▍                            | 286/1072 [00:36<01:53,  6.93it/s]"
     ]
    },
    {
     "name": "stdout",
     "output_type": "stream",
     "text": [
      "test date: 11\n"
     ]
    },
    {
     "name": "stderr",
     "output_type": "stream",
     "text": [
      "\r",
      " 27%|██████████▍                            | 287/1072 [00:36<01:45,  7.43it/s]"
     ]
    },
    {
     "name": "stdout",
     "output_type": "stream",
     "text": [
      "test date: 11\n"
     ]
    },
    {
     "name": "stderr",
     "output_type": "stream",
     "text": [
      "\r",
      " 27%|██████████▍                            | 288/1072 [00:37<01:47,  7.29it/s]"
     ]
    },
    {
     "name": "stdout",
     "output_type": "stream",
     "text": [
      "test date: 11\n"
     ]
    },
    {
     "name": "stderr",
     "output_type": "stream",
     "text": [
      "\r",
      " 27%|██████████▌                            | 289/1072 [00:37<01:48,  7.22it/s]"
     ]
    },
    {
     "name": "stdout",
     "output_type": "stream",
     "text": [
      "test date: 11\n"
     ]
    },
    {
     "name": "stderr",
     "output_type": "stream",
     "text": [
      "\r",
      " 27%|██████████▌                            | 290/1072 [00:37<01:55,  6.76it/s]"
     ]
    },
    {
     "name": "stdout",
     "output_type": "stream",
     "text": [
      "test date: 11\n"
     ]
    },
    {
     "name": "stderr",
     "output_type": "stream",
     "text": [
      "\r",
      " 27%|██████████▌                            | 291/1072 [00:37<01:48,  7.21it/s]"
     ]
    },
    {
     "name": "stdout",
     "output_type": "stream",
     "text": [
      "test date: 11\n"
     ]
    },
    {
     "name": "stderr",
     "output_type": "stream",
     "text": [
      "\r",
      " 27%|██████████▌                            | 292/1072 [00:37<01:54,  6.79it/s]"
     ]
    },
    {
     "name": "stdout",
     "output_type": "stream",
     "text": [
      "test date: 11\n"
     ]
    },
    {
     "name": "stderr",
     "output_type": "stream",
     "text": [
      "\r",
      " 27%|██████████▋                            | 293/1072 [00:37<01:46,  7.30it/s]"
     ]
    },
    {
     "name": "stdout",
     "output_type": "stream",
     "text": [
      "test date: 11\n"
     ]
    },
    {
     "name": "stderr",
     "output_type": "stream",
     "text": [
      "\r",
      " 27%|██████████▋                            | 294/1072 [00:37<01:47,  7.21it/s]"
     ]
    },
    {
     "name": "stdout",
     "output_type": "stream",
     "text": [
      "test date: 11\n"
     ]
    },
    {
     "name": "stderr",
     "output_type": "stream",
     "text": [
      "\r",
      " 28%|██████████▋                            | 295/1072 [00:38<01:48,  7.17it/s]"
     ]
    },
    {
     "name": "stdout",
     "output_type": "stream",
     "text": [
      "test date: 11\n"
     ]
    },
    {
     "name": "stderr",
     "output_type": "stream",
     "text": [
      "\r",
      " 28%|██████████▊                            | 296/1072 [00:38<01:55,  6.74it/s]"
     ]
    },
    {
     "name": "stdout",
     "output_type": "stream",
     "text": [
      "test date: 11\n"
     ]
    },
    {
     "name": "stderr",
     "output_type": "stream",
     "text": [
      "\r",
      " 28%|██████████▊                            | 297/1072 [00:38<01:46,  7.28it/s]"
     ]
    },
    {
     "name": "stdout",
     "output_type": "stream",
     "text": [
      "test date: 11\n"
     ]
    },
    {
     "name": "stderr",
     "output_type": "stream",
     "text": [
      "\r",
      " 28%|██████████▊                            | 298/1072 [00:38<01:54,  6.78it/s]"
     ]
    },
    {
     "name": "stdout",
     "output_type": "stream",
     "text": [
      "test date: 11\n"
     ]
    },
    {
     "name": "stderr",
     "output_type": "stream",
     "text": [
      "\r",
      " 28%|██████████▉                            | 299/1072 [00:38<01:45,  7.31it/s]"
     ]
    },
    {
     "name": "stdout",
     "output_type": "stream",
     "text": [
      "test date: 11\n"
     ]
    },
    {
     "name": "stderr",
     "output_type": "stream",
     "text": [
      "\r",
      " 28%|██████████▉                            | 300/1072 [00:38<01:53,  6.78it/s]"
     ]
    },
    {
     "name": "stdout",
     "output_type": "stream",
     "text": [
      "test date: 11\n"
     ]
    },
    {
     "name": "stderr",
     "output_type": "stream",
     "text": [
      "\r",
      " 28%|██████████▉                            | 301/1072 [00:38<01:45,  7.30it/s]"
     ]
    },
    {
     "name": "stdout",
     "output_type": "stream",
     "text": [
      "test date: 11\n"
     ]
    },
    {
     "name": "stderr",
     "output_type": "stream",
     "text": [
      "\r",
      " 28%|██████████▉                            | 302/1072 [00:39<01:53,  6.81it/s]"
     ]
    },
    {
     "name": "stdout",
     "output_type": "stream",
     "text": [
      "test date: 11\n"
     ]
    },
    {
     "name": "stderr",
     "output_type": "stream",
     "text": [
      "\r",
      " 28%|███████████                            | 303/1072 [00:39<01:45,  7.31it/s]"
     ]
    },
    {
     "name": "stdout",
     "output_type": "stream",
     "text": [
      "test date: 11\n"
     ]
    },
    {
     "name": "stderr",
     "output_type": "stream",
     "text": [
      "\r",
      " 28%|███████████                            | 304/1072 [00:39<01:52,  6.80it/s]"
     ]
    },
    {
     "name": "stdout",
     "output_type": "stream",
     "text": [
      "test date: 11\n"
     ]
    },
    {
     "name": "stderr",
     "output_type": "stream",
     "text": [
      "\r",
      " 28%|███████████                            | 305/1072 [00:39<01:44,  7.32it/s]"
     ]
    },
    {
     "name": "stdout",
     "output_type": "stream",
     "text": [
      "test date: 11\n"
     ]
    },
    {
     "name": "stderr",
     "output_type": "stream",
     "text": [
      "\r",
      " 29%|███████████▏                           | 306/1072 [00:39<01:52,  6.81it/s]"
     ]
    },
    {
     "name": "stdout",
     "output_type": "stream",
     "text": [
      "test date: 11\n"
     ]
    },
    {
     "name": "stderr",
     "output_type": "stream",
     "text": [
      "\r",
      " 29%|███████████▏                           | 307/1072 [00:39<01:44,  7.33it/s]"
     ]
    },
    {
     "name": "stdout",
     "output_type": "stream",
     "text": [
      "test date: 11\n"
     ]
    },
    {
     "name": "stderr",
     "output_type": "stream",
     "text": [
      "\r",
      " 29%|███████████▏                           | 308/1072 [00:39<01:52,  6.81it/s]"
     ]
    },
    {
     "name": "stdout",
     "output_type": "stream",
     "text": [
      "test date: 11\n"
     ]
    },
    {
     "name": "stderr",
     "output_type": "stream",
     "text": [
      "\r",
      " 29%|███████████▏                           | 309/1072 [00:40<01:45,  7.25it/s]"
     ]
    },
    {
     "name": "stdout",
     "output_type": "stream",
     "text": [
      "test date: 11\n"
     ]
    },
    {
     "name": "stderr",
     "output_type": "stream",
     "text": [
      "\r",
      " 29%|███████████▎                           | 310/1072 [00:40<01:51,  6.82it/s]"
     ]
    },
    {
     "name": "stdout",
     "output_type": "stream",
     "text": [
      "test date: 11\n"
     ]
    },
    {
     "name": "stderr",
     "output_type": "stream",
     "text": [
      "\r",
      " 29%|███████████▎                           | 311/1072 [00:40<01:44,  7.26it/s]"
     ]
    },
    {
     "name": "stdout",
     "output_type": "stream",
     "text": [
      "test date: 5\n"
     ]
    },
    {
     "name": "stderr",
     "output_type": "stream",
     "text": [
      "\r",
      " 29%|███████████▎                           | 312/1072 [00:40<01:45,  7.21it/s]"
     ]
    },
    {
     "name": "stdout",
     "output_type": "stream",
     "text": [
      "test date: 11\n"
     ]
    },
    {
     "name": "stderr",
     "output_type": "stream",
     "text": [
      "\r",
      " 29%|███████████▍                           | 313/1072 [00:40<01:45,  7.17it/s]"
     ]
    },
    {
     "name": "stdout",
     "output_type": "stream",
     "text": [
      "test date: 11\n"
     ]
    },
    {
     "name": "stderr",
     "output_type": "stream",
     "text": [
      "\r",
      " 29%|███████████▍                           | 314/1072 [00:40<01:46,  7.10it/s]"
     ]
    },
    {
     "name": "stdout",
     "output_type": "stream",
     "text": [
      "test date: 11\n"
     ]
    },
    {
     "name": "stderr",
     "output_type": "stream",
     "text": [
      "\r",
      " 29%|███████████▍                           | 315/1072 [00:40<01:50,  6.85it/s]"
     ]
    },
    {
     "name": "stdout",
     "output_type": "stream",
     "text": [
      "test date: 11\n"
     ]
    },
    {
     "name": "stderr",
     "output_type": "stream",
     "text": [
      "\r",
      " 30%|███████████▌                           | 317/1072 [00:41<01:41,  7.44it/s]"
     ]
    },
    {
     "name": "stdout",
     "output_type": "stream",
     "text": [
      "test date: 11\n"
     ]
    },
    {
     "name": "stderr",
     "output_type": "stream",
     "text": [
      "\r",
      " 30%|███████████▌                           | 318/1072 [00:41<01:37,  7.72it/s]"
     ]
    },
    {
     "name": "stdout",
     "output_type": "stream",
     "text": [
      "test date: 11\n"
     ]
    },
    {
     "name": "stderr",
     "output_type": "stream",
     "text": [
      "\r",
      " 30%|███████████▌                           | 319/1072 [00:41<01:45,  7.14it/s]"
     ]
    },
    {
     "name": "stdout",
     "output_type": "stream",
     "text": [
      "test date: 11\n"
     ]
    },
    {
     "name": "stderr",
     "output_type": "stream",
     "text": [
      "\r",
      " 30%|███████████▋                           | 320/1072 [00:41<01:40,  7.49it/s]"
     ]
    },
    {
     "name": "stdout",
     "output_type": "stream",
     "text": [
      "test date: 11\n"
     ]
    },
    {
     "name": "stderr",
     "output_type": "stream",
     "text": [
      "\r",
      " 30%|███████████▋                           | 321/1072 [00:41<01:42,  7.33it/s]"
     ]
    },
    {
     "name": "stdout",
     "output_type": "stream",
     "text": [
      "test date: 11\n"
     ]
    },
    {
     "name": "stderr",
     "output_type": "stream",
     "text": [
      "\r",
      " 30%|███████████▋                           | 322/1072 [00:41<01:50,  6.79it/s]"
     ]
    },
    {
     "name": "stdout",
     "output_type": "stream",
     "text": [
      "test date: 11\n"
     ]
    },
    {
     "name": "stderr",
     "output_type": "stream",
     "text": [
      "\r",
      " 30%|███████████▊                           | 323/1072 [00:41<01:42,  7.33it/s]"
     ]
    },
    {
     "name": "stdout",
     "output_type": "stream",
     "text": [
      "test date: 11\n"
     ]
    },
    {
     "name": "stderr",
     "output_type": "stream",
     "text": [
      "\r",
      " 30%|███████████▊                           | 324/1072 [00:42<01:50,  6.80it/s]"
     ]
    },
    {
     "name": "stdout",
     "output_type": "stream",
     "text": [
      "test date: 11\n"
     ]
    },
    {
     "name": "stderr",
     "output_type": "stream",
     "text": [
      "\r",
      " 30%|███████████▊                           | 325/1072 [00:42<01:42,  7.27it/s]"
     ]
    },
    {
     "name": "stdout",
     "output_type": "stream",
     "text": [
      "test date: 11\n"
     ]
    },
    {
     "name": "stderr",
     "output_type": "stream",
     "text": [
      "\r",
      " 30%|███████████▊                           | 326/1072 [00:42<01:49,  6.81it/s]"
     ]
    },
    {
     "name": "stdout",
     "output_type": "stream",
     "text": [
      "test date: 11\n"
     ]
    },
    {
     "name": "stderr",
     "output_type": "stream",
     "text": [
      "\r",
      " 31%|███████████▉                           | 327/1072 [00:42<01:46,  7.01it/s]"
     ]
    },
    {
     "name": "stdout",
     "output_type": "stream",
     "text": [
      "test date: 11\n"
     ]
    },
    {
     "name": "stderr",
     "output_type": "stream",
     "text": [
      "\r",
      " 31%|███████████▉                           | 328/1072 [00:42<01:47,  6.90it/s]"
     ]
    },
    {
     "name": "stdout",
     "output_type": "stream",
     "text": [
      "test date: 11\n"
     ]
    },
    {
     "name": "stderr",
     "output_type": "stream",
     "text": [
      "\r",
      " 31%|████████████                           | 330/1072 [00:42<01:35,  7.75it/s]"
     ]
    },
    {
     "name": "stdout",
     "output_type": "stream",
     "text": [
      "test date: 9\n"
     ]
    },
    {
     "name": "stderr",
     "output_type": "stream",
     "text": [
      "\r",
      " 31%|████████████                           | 331/1072 [00:43<01:40,  7.41it/s]"
     ]
    },
    {
     "name": "stdout",
     "output_type": "stream",
     "text": [
      "test date: 4\n"
     ]
    },
    {
     "name": "stderr",
     "output_type": "stream",
     "text": [
      "\r",
      " 31%|████████████                           | 333/1072 [00:43<01:35,  7.71it/s]"
     ]
    },
    {
     "name": "stdout",
     "output_type": "stream",
     "text": [
      "test date: 11\n"
     ]
    },
    {
     "name": "stderr",
     "output_type": "stream",
     "text": [
      "\r",
      " 31%|████████████▏                          | 334/1072 [00:43<01:31,  8.02it/s]"
     ]
    },
    {
     "name": "stdout",
     "output_type": "stream",
     "text": [
      "test date: 11\n"
     ]
    },
    {
     "name": "stderr",
     "output_type": "stream",
     "text": [
      "\r",
      " 31%|████████████▏                          | 335/1072 [00:43<01:41,  7.23it/s]"
     ]
    },
    {
     "name": "stdout",
     "output_type": "stream",
     "text": [
      "test date: 11\n"
     ]
    },
    {
     "name": "stderr",
     "output_type": "stream",
     "text": [
      "\r",
      " 31%|████████████▏                          | 336/1072 [00:43<01:36,  7.60it/s]"
     ]
    },
    {
     "name": "stdout",
     "output_type": "stream",
     "text": [
      "test date: 11\n"
     ]
    },
    {
     "name": "stderr",
     "output_type": "stream",
     "text": [
      "\r",
      " 31%|████████████▎                          | 337/1072 [00:43<01:44,  7.03it/s]"
     ]
    },
    {
     "name": "stdout",
     "output_type": "stream",
     "text": [
      "test date: 11\n"
     ]
    },
    {
     "name": "stderr",
     "output_type": "stream",
     "text": [
      "\r",
      " 32%|████████████▎                          | 338/1072 [00:43<01:39,  7.39it/s]"
     ]
    },
    {
     "name": "stdout",
     "output_type": "stream",
     "text": [
      "test date: 11\n"
     ]
    },
    {
     "name": "stderr",
     "output_type": "stream",
     "text": [
      "\r",
      " 32%|████████████▎                          | 339/1072 [00:44<01:40,  7.29it/s]"
     ]
    },
    {
     "name": "stdout",
     "output_type": "stream",
     "text": [
      "test date: 11\n"
     ]
    },
    {
     "name": "stderr",
     "output_type": "stream",
     "text": [
      "\r",
      " 32%|████████████▎                          | 340/1072 [00:44<01:48,  6.76it/s]"
     ]
    },
    {
     "name": "stdout",
     "output_type": "stream",
     "text": [
      "test date: 11\n"
     ]
    },
    {
     "name": "stderr",
     "output_type": "stream",
     "text": [
      "\r",
      " 32%|████████████▍                          | 342/1072 [00:44<01:35,  7.67it/s]"
     ]
    },
    {
     "name": "stdout",
     "output_type": "stream",
     "text": [
      "test date: 11\n"
     ]
    },
    {
     "name": "stderr",
     "output_type": "stream",
     "text": [
      "\r",
      " 32%|████████████▍                          | 343/1072 [00:44<01:43,  7.01it/s]"
     ]
    },
    {
     "name": "stdout",
     "output_type": "stream",
     "text": [
      "test date: 11\n"
     ]
    },
    {
     "name": "stderr",
     "output_type": "stream",
     "text": [
      "\r",
      " 32%|████████████▌                          | 344/1072 [00:44<01:37,  7.44it/s]"
     ]
    },
    {
     "name": "stdout",
     "output_type": "stream",
     "text": [
      "test date: 10\n"
     ]
    },
    {
     "name": "stderr",
     "output_type": "stream",
     "text": [
      "\r",
      " 32%|████████████▌                          | 345/1072 [00:44<01:45,  6.90it/s]"
     ]
    },
    {
     "name": "stdout",
     "output_type": "stream",
     "text": [
      "test date: 11\n"
     ]
    },
    {
     "name": "stderr",
     "output_type": "stream",
     "text": [
      "\r",
      " 32%|████████████▌                          | 346/1072 [00:45<01:39,  7.32it/s]"
     ]
    },
    {
     "name": "stdout",
     "output_type": "stream",
     "text": [
      "test date: 11\n"
     ]
    },
    {
     "name": "stderr",
     "output_type": "stream",
     "text": [
      "\r",
      " 32%|████████████▌                          | 347/1072 [00:45<01:40,  7.23it/s]"
     ]
    },
    {
     "name": "stdout",
     "output_type": "stream",
     "text": [
      "test date: 11\n"
     ]
    },
    {
     "name": "stderr",
     "output_type": "stream",
     "text": [
      "\r",
      " 32%|████████████▋                          | 348/1072 [00:45<01:47,  6.74it/s]"
     ]
    },
    {
     "name": "stdout",
     "output_type": "stream",
     "text": [
      "test date: 11\n"
     ]
    },
    {
     "name": "stderr",
     "output_type": "stream",
     "text": [
      "\r",
      " 33%|████████████▋                          | 349/1072 [00:45<01:39,  7.26it/s]"
     ]
    },
    {
     "name": "stdout",
     "output_type": "stream",
     "text": [
      "test date: 11\n"
     ]
    },
    {
     "name": "stderr",
     "output_type": "stream",
     "text": [
      "\r",
      " 33%|████████████▋                          | 350/1072 [00:45<01:46,  6.78it/s]"
     ]
    },
    {
     "name": "stdout",
     "output_type": "stream",
     "text": [
      "test date: 11\n"
     ]
    },
    {
     "name": "stderr",
     "output_type": "stream",
     "text": [
      "\r",
      " 33%|████████████▊                          | 351/1072 [00:45<01:39,  7.25it/s]"
     ]
    },
    {
     "name": "stdout",
     "output_type": "stream",
     "text": [
      "test date: 11\n"
     ]
    },
    {
     "name": "stderr",
     "output_type": "stream",
     "text": [
      "\r",
      " 33%|████████████▊                          | 352/1072 [00:45<01:41,  7.12it/s]"
     ]
    },
    {
     "name": "stdout",
     "output_type": "stream",
     "text": [
      "test date: 11\n"
     ]
    },
    {
     "name": "stderr",
     "output_type": "stream",
     "text": [
      "\r",
      " 33%|████████████▊                          | 353/1072 [00:46<01:47,  6.66it/s]"
     ]
    },
    {
     "name": "stdout",
     "output_type": "stream",
     "text": [
      "test date: 11\n"
     ]
    },
    {
     "name": "stderr",
     "output_type": "stream",
     "text": [
      "\r",
      " 33%|████████████▉                          | 354/1072 [00:46<01:40,  7.15it/s]"
     ]
    },
    {
     "name": "stdout",
     "output_type": "stream",
     "text": [
      "test date: 11\n"
     ]
    },
    {
     "name": "stderr",
     "output_type": "stream",
     "text": [
      "\r",
      " 33%|████████████▉                          | 355/1072 [00:46<01:46,  6.75it/s]"
     ]
    },
    {
     "name": "stdout",
     "output_type": "stream",
     "text": [
      "test date: 11\n"
     ]
    },
    {
     "name": "stderr",
     "output_type": "stream",
     "text": [
      "\r",
      " 33%|████████████▉                          | 357/1072 [00:46<01:33,  7.62it/s]"
     ]
    },
    {
     "name": "stdout",
     "output_type": "stream",
     "text": [
      "test date: 11\n"
     ]
    },
    {
     "name": "stderr",
     "output_type": "stream",
     "text": [
      "\r",
      " 33%|█████████████                          | 359/1072 [00:46<01:30,  7.89it/s]"
     ]
    },
    {
     "name": "stdout",
     "output_type": "stream",
     "text": [
      "test date: 11\n"
     ]
    },
    {
     "name": "stderr",
     "output_type": "stream",
     "text": [
      "\r",
      " 34%|█████████████                          | 360/1072 [00:46<01:28,  8.04it/s]"
     ]
    },
    {
     "name": "stdout",
     "output_type": "stream",
     "text": [
      "test date: 11\n"
     ]
    },
    {
     "name": "stderr",
     "output_type": "stream",
     "text": [
      "\r",
      " 34%|█████████████▏                         | 361/1072 [00:46<01:32,  7.68it/s]"
     ]
    },
    {
     "name": "stdout",
     "output_type": "stream",
     "text": [
      "test date: 11\n"
     ]
    },
    {
     "name": "stderr",
     "output_type": "stream",
     "text": [
      "\r",
      " 34%|█████████████▏                         | 363/1072 [00:47<01:29,  7.89it/s]"
     ]
    },
    {
     "name": "stdout",
     "output_type": "stream",
     "text": [
      "test date: 11\n"
     ]
    },
    {
     "name": "stderr",
     "output_type": "stream",
     "text": [
      "\r",
      " 34%|█████████████▏                         | 364/1072 [00:47<01:27,  8.10it/s]"
     ]
    },
    {
     "name": "stdout",
     "output_type": "stream",
     "text": [
      "test date: 11\n"
     ]
    },
    {
     "name": "stderr",
     "output_type": "stream",
     "text": [
      "\r",
      " 34%|█████████████▎                         | 365/1072 [00:47<01:31,  7.69it/s]"
     ]
    },
    {
     "name": "stdout",
     "output_type": "stream",
     "text": [
      "test date: 11\n"
     ]
    },
    {
     "name": "stderr",
     "output_type": "stream",
     "text": [
      "\r",
      " 34%|█████████████▎                         | 366/1072 [00:47<01:40,  7.01it/s]"
     ]
    },
    {
     "name": "stdout",
     "output_type": "stream",
     "text": [
      "test date: 11\n"
     ]
    },
    {
     "name": "stderr",
     "output_type": "stream",
     "text": [
      "\r",
      " 34%|█████████████▎                         | 367/1072 [00:47<01:35,  7.40it/s]"
     ]
    },
    {
     "name": "stdout",
     "output_type": "stream",
     "text": [
      "test date: 11\n"
     ]
    },
    {
     "name": "stderr",
     "output_type": "stream",
     "text": [
      "\r",
      " 34%|█████████████▍                         | 368/1072 [00:47<01:37,  7.22it/s]"
     ]
    },
    {
     "name": "stdout",
     "output_type": "stream",
     "text": [
      "test date: 11\n"
     ]
    },
    {
     "name": "stderr",
     "output_type": "stream",
     "text": [
      "\r",
      " 34%|█████████████▍                         | 369/1072 [00:48<01:43,  6.76it/s]"
     ]
    },
    {
     "name": "stdout",
     "output_type": "stream",
     "text": [
      "test date: 11\n"
     ]
    },
    {
     "name": "stderr",
     "output_type": "stream",
     "text": [
      "\r",
      " 35%|█████████████▍                         | 370/1072 [00:48<01:37,  7.23it/s]"
     ]
    },
    {
     "name": "stdout",
     "output_type": "stream",
     "text": [
      "test date: 11\n"
     ]
    },
    {
     "name": "stderr",
     "output_type": "stream",
     "text": [
      "\r",
      " 35%|█████████████▍                         | 371/1072 [00:48<01:38,  7.11it/s]"
     ]
    },
    {
     "name": "stdout",
     "output_type": "stream",
     "text": [
      "test date: 11\n"
     ]
    },
    {
     "name": "stderr",
     "output_type": "stream",
     "text": [
      "\r",
      " 35%|█████████████▌                         | 372/1072 [00:48<01:44,  6.68it/s]"
     ]
    },
    {
     "name": "stdout",
     "output_type": "stream",
     "text": [
      "test date: 6\n"
     ]
    },
    {
     "name": "stderr",
     "output_type": "stream",
     "text": [
      "\r",
      " 35%|█████████████▌                         | 373/1072 [00:48<01:44,  6.67it/s]"
     ]
    },
    {
     "name": "stdout",
     "output_type": "stream",
     "text": [
      "test date: 11\n"
     ]
    },
    {
     "name": "stderr",
     "output_type": "stream",
     "text": [
      "\r",
      " 35%|█████████████▌                         | 374/1072 [00:48<01:37,  7.19it/s]"
     ]
    },
    {
     "name": "stdout",
     "output_type": "stream",
     "text": [
      "test date: 11\n"
     ]
    },
    {
     "name": "stderr",
     "output_type": "stream",
     "text": [
      "\r",
      " 35%|█████████████▋                         | 375/1072 [00:48<01:43,  6.75it/s]"
     ]
    },
    {
     "name": "stdout",
     "output_type": "stream",
     "text": [
      "test date: 11\n"
     ]
    },
    {
     "name": "stderr",
     "output_type": "stream",
     "text": [
      "\r",
      " 35%|█████████████▋                         | 376/1072 [00:49<01:43,  6.71it/s]"
     ]
    },
    {
     "name": "stdout",
     "output_type": "stream",
     "text": [
      "test date: 11\n"
     ]
    },
    {
     "name": "stderr",
     "output_type": "stream",
     "text": [
      "\r",
      " 35%|█████████████▊                         | 378/1072 [00:49<01:31,  7.60it/s]"
     ]
    },
    {
     "name": "stdout",
     "output_type": "stream",
     "text": [
      "test date: 11\n"
     ]
    },
    {
     "name": "stderr",
     "output_type": "stream",
     "text": [
      "\r",
      " 35%|█████████████▊                         | 379/1072 [00:49<01:33,  7.38it/s]"
     ]
    },
    {
     "name": "stdout",
     "output_type": "stream",
     "text": [
      "test date: 11\n"
     ]
    },
    {
     "name": "stderr",
     "output_type": "stream",
     "text": [
      "\r",
      " 35%|█████████████▊                         | 380/1072 [00:49<01:41,  6.81it/s]"
     ]
    },
    {
     "name": "stdout",
     "output_type": "stream",
     "text": [
      "test date: 11\n"
     ]
    },
    {
     "name": "stderr",
     "output_type": "stream",
     "text": [
      "\r",
      " 36%|█████████████▊                         | 381/1072 [00:49<01:35,  7.24it/s]"
     ]
    },
    {
     "name": "stdout",
     "output_type": "stream",
     "text": [
      "test date: 11\n"
     ]
    },
    {
     "name": "stderr",
     "output_type": "stream",
     "text": [
      " 36%|█████████████▉                         | 383/1072 [00:49<01:28,  7.77it/s]"
     ]
    },
    {
     "name": "stdout",
     "output_type": "stream",
     "text": [
      "test date: 11\n"
     ]
    },
    {
     "name": "stderr",
     "output_type": "stream",
     "text": [
      "\r",
      " 36%|█████████████▉                         | 384/1072 [00:50<01:25,  8.02it/s]"
     ]
    },
    {
     "name": "stdout",
     "output_type": "stream",
     "text": [
      "test date: 11\n"
     ]
    },
    {
     "name": "stderr",
     "output_type": "stream",
     "text": [
      "\r",
      " 36%|██████████████                         | 385/1072 [00:50<01:30,  7.56it/s]"
     ]
    },
    {
     "name": "stdout",
     "output_type": "stream",
     "text": [
      "test date: 11\n"
     ]
    },
    {
     "name": "stderr",
     "output_type": "stream",
     "text": [
      "\r",
      " 36%|██████████████                         | 386/1072 [00:50<01:38,  6.98it/s]"
     ]
    },
    {
     "name": "stdout",
     "output_type": "stream",
     "text": [
      "test date: 11\n"
     ]
    },
    {
     "name": "stderr",
     "output_type": "stream",
     "text": [
      "\r",
      " 36%|██████████████                         | 387/1072 [00:50<01:34,  7.27it/s]"
     ]
    },
    {
     "name": "stdout",
     "output_type": "stream",
     "text": [
      "test date: 11\n"
     ]
    },
    {
     "name": "stderr",
     "output_type": "stream",
     "text": [
      "\r",
      " 36%|██████████████                         | 388/1072 [00:50<01:36,  7.07it/s]"
     ]
    },
    {
     "name": "stdout",
     "output_type": "stream",
     "text": [
      "test date: 11\n"
     ]
    },
    {
     "name": "stderr",
     "output_type": "stream",
     "text": [
      "\r",
      " 36%|██████████████▏                        | 389/1072 [00:50<01:40,  6.81it/s]"
     ]
    },
    {
     "name": "stdout",
     "output_type": "stream",
     "text": [
      "test date: 11\n"
     ]
    },
    {
     "name": "stderr",
     "output_type": "stream",
     "text": [
      "\r",
      " 36%|██████████████▏                        | 390/1072 [00:51<01:42,  6.67it/s]"
     ]
    },
    {
     "name": "stdout",
     "output_type": "stream",
     "text": [
      "test date: 11\n"
     ]
    },
    {
     "name": "stderr",
     "output_type": "stream",
     "text": [
      "\r",
      " 36%|██████████████▏                        | 391/1072 [00:51<01:43,  6.59it/s]"
     ]
    },
    {
     "name": "stdout",
     "output_type": "stream",
     "text": [
      "test date: 11\n"
     ]
    },
    {
     "name": "stderr",
     "output_type": "stream",
     "text": [
      "\r",
      " 37%|██████████████▎                        | 392/1072 [00:51<01:45,  6.47it/s]"
     ]
    },
    {
     "name": "stdout",
     "output_type": "stream",
     "text": [
      "test date: 11\n"
     ]
    },
    {
     "name": "stderr",
     "output_type": "stream",
     "text": [
      "\r",
      " 37%|██████████████▎                        | 393/1072 [00:51<01:46,  6.38it/s]"
     ]
    },
    {
     "name": "stdout",
     "output_type": "stream",
     "text": [
      "test date: 11\n"
     ]
    },
    {
     "name": "stderr",
     "output_type": "stream",
     "text": [
      "\r",
      " 37%|██████████████▎                        | 394/1072 [00:51<01:47,  6.30it/s]"
     ]
    },
    {
     "name": "stdout",
     "output_type": "stream",
     "text": [
      "test date: 11\n"
     ]
    },
    {
     "name": "stderr",
     "output_type": "stream",
     "text": [
      "\r",
      " 37%|██████████████▎                        | 395/1072 [00:51<01:46,  6.38it/s]"
     ]
    },
    {
     "name": "stdout",
     "output_type": "stream",
     "text": [
      "test date: 11\n"
     ]
    },
    {
     "name": "stderr",
     "output_type": "stream",
     "text": [
      "\r",
      " 37%|██████████████▍                        | 396/1072 [00:51<01:44,  6.45it/s]"
     ]
    },
    {
     "name": "stdout",
     "output_type": "stream",
     "text": [
      "test date: 11\n"
     ]
    },
    {
     "name": "stderr",
     "output_type": "stream",
     "text": [
      "\r",
      " 37%|██████████████▍                        | 398/1072 [00:52<01:36,  6.98it/s]"
     ]
    },
    {
     "name": "stdout",
     "output_type": "stream",
     "text": [
      "test date: 11\n"
     ]
    },
    {
     "name": "stderr",
     "output_type": "stream",
     "text": [
      "\r",
      " 37%|██████████████▌                        | 399/1072 [00:52<01:37,  6.88it/s]"
     ]
    },
    {
     "name": "stdout",
     "output_type": "stream",
     "text": [
      "test date: 11\n"
     ]
    },
    {
     "name": "stderr",
     "output_type": "stream",
     "text": [
      "\r",
      " 37%|██████████████▌                        | 400/1072 [00:52<01:41,  6.63it/s]"
     ]
    },
    {
     "name": "stdout",
     "output_type": "stream",
     "text": [
      "test date: 11\n"
     ]
    },
    {
     "name": "stderr",
     "output_type": "stream",
     "text": [
      "\r",
      " 37%|██████████████▌                        | 401/1072 [00:52<01:40,  6.67it/s]"
     ]
    },
    {
     "name": "stdout",
     "output_type": "stream",
     "text": [
      "test date: 11\n"
     ]
    },
    {
     "name": "stderr",
     "output_type": "stream",
     "text": [
      "\r",
      " 38%|██████████████▋                        | 402/1072 [00:52<01:40,  6.68it/s]"
     ]
    },
    {
     "name": "stdout",
     "output_type": "stream",
     "text": [
      "test date: 11\n"
     ]
    },
    {
     "name": "stderr",
     "output_type": "stream",
     "text": [
      "\r",
      " 38%|██████████████▋                        | 403/1072 [00:52<01:44,  6.41it/s]"
     ]
    },
    {
     "name": "stdout",
     "output_type": "stream",
     "text": [
      "test date: 11\n"
     ]
    },
    {
     "name": "stderr",
     "output_type": "stream",
     "text": [
      "\r",
      " 38%|██████████████▋                        | 404/1072 [00:53<01:38,  6.77it/s]"
     ]
    },
    {
     "name": "stdout",
     "output_type": "stream",
     "text": [
      "test date: 11\n"
     ]
    },
    {
     "name": "stderr",
     "output_type": "stream",
     "text": [
      "\r",
      " 38%|██████████████▋                        | 405/1072 [00:53<01:43,  6.44it/s]"
     ]
    },
    {
     "name": "stdout",
     "output_type": "stream",
     "text": [
      "test date: 11\n"
     ]
    },
    {
     "name": "stderr",
     "output_type": "stream",
     "text": [
      "\r",
      " 38%|██████████████▊                        | 406/1072 [00:53<01:42,  6.51it/s]"
     ]
    },
    {
     "name": "stdout",
     "output_type": "stream",
     "text": [
      "test date: 11\n"
     ]
    },
    {
     "name": "stderr",
     "output_type": "stream",
     "text": [
      "\r",
      " 38%|██████████████▊                        | 407/1072 [00:53<01:41,  6.57it/s]"
     ]
    },
    {
     "name": "stdout",
     "output_type": "stream",
     "text": [
      "test date: 11\n"
     ]
    },
    {
     "name": "stderr",
     "output_type": "stream",
     "text": [
      "\r",
      " 38%|██████████████▊                        | 408/1072 [00:53<01:40,  6.60it/s]"
     ]
    },
    {
     "name": "stdout",
     "output_type": "stream",
     "text": [
      "test date: 9\n"
     ]
    },
    {
     "name": "stderr",
     "output_type": "stream",
     "text": [
      "\r",
      " 38%|██████████████▉                        | 409/1072 [00:53<01:37,  6.82it/s]"
     ]
    },
    {
     "name": "stdout",
     "output_type": "stream",
     "text": [
      "test date: 11\n"
     ]
    },
    {
     "name": "stderr",
     "output_type": "stream",
     "text": [
      "\r",
      " 38%|██████████████▉                        | 411/1072 [00:54<01:27,  7.55it/s]"
     ]
    },
    {
     "name": "stdout",
     "output_type": "stream",
     "text": [
      "test date: 11\n"
     ]
    },
    {
     "name": "stderr",
     "output_type": "stream",
     "text": [
      "\r",
      " 38%|██████████████▉                        | 412/1072 [00:54<01:31,  7.24it/s]"
     ]
    },
    {
     "name": "stdout",
     "output_type": "stream",
     "text": [
      "test date: 11\n"
     ]
    },
    {
     "name": "stderr",
     "output_type": "stream",
     "text": [
      "\r",
      " 39%|███████████████                        | 413/1072 [00:54<01:32,  7.09it/s]"
     ]
    },
    {
     "name": "stdout",
     "output_type": "stream",
     "text": [
      "test date: 11\n"
     ]
    },
    {
     "name": "stderr",
     "output_type": "stream",
     "text": [
      "\r",
      " 39%|███████████████                        | 414/1072 [00:54<01:34,  6.97it/s]"
     ]
    },
    {
     "name": "stdout",
     "output_type": "stream",
     "text": [
      "test date: 11\n"
     ]
    },
    {
     "name": "stderr",
     "output_type": "stream",
     "text": [
      "\r",
      " 39%|███████████████                        | 415/1072 [00:54<01:35,  6.91it/s]"
     ]
    },
    {
     "name": "stdout",
     "output_type": "stream",
     "text": [
      "test date: 11\n"
     ]
    },
    {
     "name": "stderr",
     "output_type": "stream",
     "text": [
      "\r",
      " 39%|███████████████▏                       | 416/1072 [00:54<01:40,  6.55it/s]"
     ]
    },
    {
     "name": "stdout",
     "output_type": "stream",
     "text": [
      "test date: 11\n"
     ]
    },
    {
     "name": "stderr",
     "output_type": "stream",
     "text": [
      "\r",
      " 39%|███████████████▏                       | 417/1072 [00:54<01:34,  6.93it/s]"
     ]
    },
    {
     "name": "stdout",
     "output_type": "stream",
     "text": [
      "test date: 11\n"
     ]
    },
    {
     "name": "stderr",
     "output_type": "stream",
     "text": [
      "\r",
      " 39%|███████████████▏                       | 418/1072 [00:55<01:37,  6.68it/s]"
     ]
    },
    {
     "name": "stdout",
     "output_type": "stream",
     "text": [
      "test date: 11\n"
     ]
    },
    {
     "name": "stderr",
     "output_type": "stream",
     "text": [
      "\r",
      " 39%|███████████████▏                       | 419/1072 [00:55<01:41,  6.43it/s]"
     ]
    },
    {
     "name": "stdout",
     "output_type": "stream",
     "text": [
      "test date: 11\n"
     ]
    },
    {
     "name": "stderr",
     "output_type": "stream",
     "text": [
      "\r",
      " 39%|███████████████▎                       | 420/1072 [00:55<01:41,  6.43it/s]"
     ]
    },
    {
     "name": "stdout",
     "output_type": "stream",
     "text": [
      "test date: 11\n"
     ]
    },
    {
     "name": "stderr",
     "output_type": "stream",
     "text": [
      "\r",
      " 39%|███████████████▎                       | 422/1072 [00:55<01:37,  6.69it/s]"
     ]
    },
    {
     "name": "stdout",
     "output_type": "stream",
     "text": [
      "test date: 11\n"
     ]
    },
    {
     "name": "stderr",
     "output_type": "stream",
     "text": [
      "\r",
      " 39%|███████████████▍                       | 423/1072 [00:55<01:32,  7.02it/s]"
     ]
    },
    {
     "name": "stdout",
     "output_type": "stream",
     "text": [
      "test date: 11\n"
     ]
    },
    {
     "name": "stderr",
     "output_type": "stream",
     "text": [
      "\r",
      " 40%|███████████████▍                       | 424/1072 [00:55<01:35,  6.75it/s]"
     ]
    },
    {
     "name": "stdout",
     "output_type": "stream",
     "text": [
      "test date: 11\n"
     ]
    },
    {
     "name": "stderr",
     "output_type": "stream",
     "text": [
      "\r",
      " 40%|███████████████▍                       | 426/1072 [00:56<01:32,  6.99it/s]"
     ]
    },
    {
     "name": "stdout",
     "output_type": "stream",
     "text": [
      "test date: 11\n"
     ]
    },
    {
     "name": "stderr",
     "output_type": "stream",
     "text": [
      "\r",
      " 40%|███████████████▌                       | 428/1072 [00:56<01:25,  7.54it/s]"
     ]
    },
    {
     "name": "stdout",
     "output_type": "stream",
     "text": [
      "test date: 11\n"
     ]
    },
    {
     "name": "stderr",
     "output_type": "stream",
     "text": [
      "\r",
      " 40%|███████████████▌                       | 429/1072 [00:56<01:28,  7.25it/s]"
     ]
    },
    {
     "name": "stdout",
     "output_type": "stream",
     "text": [
      "test date: 11\n"
     ]
    },
    {
     "name": "stderr",
     "output_type": "stream",
     "text": [
      "\r",
      " 40%|███████████████▋                       | 430/1072 [00:56<01:30,  7.08it/s]"
     ]
    },
    {
     "name": "stdout",
     "output_type": "stream",
     "text": [
      "test date: 11\n"
     ]
    },
    {
     "name": "stderr",
     "output_type": "stream",
     "text": [
      "\r",
      " 40%|███████████████▋                       | 431/1072 [00:56<01:32,  6.94it/s]"
     ]
    },
    {
     "name": "stdout",
     "output_type": "stream",
     "text": [
      "test date: 11\n"
     ]
    },
    {
     "name": "stderr",
     "output_type": "stream",
     "text": [
      "\r",
      " 40%|███████████████▋                       | 432/1072 [00:57<01:33,  6.85it/s]"
     ]
    },
    {
     "name": "stdout",
     "output_type": "stream",
     "text": [
      "test date: 11\n"
     ]
    },
    {
     "name": "stderr",
     "output_type": "stream",
     "text": [
      "\r",
      " 40%|███████████████▊                       | 433/1072 [00:57<01:34,  6.80it/s]"
     ]
    },
    {
     "name": "stdout",
     "output_type": "stream",
     "text": [
      "test date: 11\n"
     ]
    },
    {
     "name": "stderr",
     "output_type": "stream",
     "text": [
      "\r",
      " 40%|███████████████▊                       | 434/1072 [00:57<01:34,  6.76it/s]"
     ]
    },
    {
     "name": "stdout",
     "output_type": "stream",
     "text": [
      "test date: 2\n"
     ]
    },
    {
     "name": "stderr",
     "output_type": "stream",
     "text": [
      "\r",
      " 41%|███████████████▊                       | 435/1072 [00:57<01:32,  6.88it/s]"
     ]
    },
    {
     "name": "stdout",
     "output_type": "stream",
     "text": [
      "test date: 11\n"
     ]
    },
    {
     "name": "stderr",
     "output_type": "stream",
     "text": [
      "\r",
      " 41%|███████████████▊                       | 436/1072 [00:57<01:37,  6.51it/s]"
     ]
    },
    {
     "name": "stdout",
     "output_type": "stream",
     "text": [
      "test date: 10\n"
     ]
    },
    {
     "name": "stderr",
     "output_type": "stream",
     "text": [
      "\r",
      " 41%|███████████████▉                       | 438/1072 [00:57<01:29,  7.07it/s]"
     ]
    },
    {
     "name": "stdout",
     "output_type": "stream",
     "text": [
      "test date: 11\n"
     ]
    },
    {
     "name": "stderr",
     "output_type": "stream",
     "text": [
      "\r",
      " 41%|███████████████▉                       | 439/1072 [00:58<01:39,  6.35it/s]"
     ]
    },
    {
     "name": "stdout",
     "output_type": "stream",
     "text": [
      "test date: 11\n"
     ]
    },
    {
     "name": "stderr",
     "output_type": "stream",
     "text": [
      "\r",
      " 41%|████████████████                       | 440/1072 [00:58<01:35,  6.62it/s]"
     ]
    },
    {
     "name": "stdout",
     "output_type": "stream",
     "text": [
      "test date: 11\n"
     ]
    },
    {
     "name": "stderr",
     "output_type": "stream",
     "text": [
      "\r",
      " 41%|████████████████                       | 441/1072 [00:58<01:36,  6.56it/s]"
     ]
    },
    {
     "name": "stdout",
     "output_type": "stream",
     "text": [
      "test date: 11\n"
     ]
    },
    {
     "name": "stderr",
     "output_type": "stream",
     "text": [
      "\r",
      " 41%|████████████████                       | 442/1072 [00:58<01:43,  6.08it/s]"
     ]
    },
    {
     "name": "stdout",
     "output_type": "stream",
     "text": [
      "test date: 11\n"
     ]
    },
    {
     "name": "stderr",
     "output_type": "stream",
     "text": [
      "\r",
      " 41%|████████████████▏                      | 444/1072 [00:58<01:32,  6.78it/s]"
     ]
    },
    {
     "name": "stdout",
     "output_type": "stream",
     "text": [
      "test date: 11\n"
     ]
    },
    {
     "name": "stderr",
     "output_type": "stream",
     "text": [
      "\r",
      " 42%|████████████████▏                      | 445/1072 [00:58<01:28,  7.05it/s]"
     ]
    },
    {
     "name": "stdout",
     "output_type": "stream",
     "text": [
      "test date: 11\n"
     ]
    },
    {
     "name": "stderr",
     "output_type": "stream",
     "text": [
      " 42%|████████████████▎                      | 448/1072 [00:59<01:20,  7.76it/s]"
     ]
    },
    {
     "name": "stdout",
     "output_type": "stream",
     "text": [
      "test date: 11\n"
     ]
    },
    {
     "name": "stderr",
     "output_type": "stream",
     "text": [
      " 42%|████████████████▎                      | 450/1072 [00:59<01:19,  7.84it/s]"
     ]
    },
    {
     "name": "stdout",
     "output_type": "stream",
     "text": [
      "test date: 11\n"
     ]
    },
    {
     "name": "stderr",
     "output_type": "stream",
     "text": [
      "\r",
      " 42%|████████████████▍                      | 451/1072 [00:59<01:17,  8.02it/s]"
     ]
    },
    {
     "name": "stdout",
     "output_type": "stream",
     "text": [
      "test date: 11\n"
     ]
    },
    {
     "name": "stderr",
     "output_type": "stream",
     "text": [
      "\r",
      " 42%|████████████████▍                      | 452/1072 [00:59<01:21,  7.56it/s]"
     ]
    },
    {
     "name": "stdout",
     "output_type": "stream",
     "text": [
      "test date: 11\n"
     ]
    },
    {
     "name": "stderr",
     "output_type": "stream",
     "text": [
      "\r",
      " 42%|████████████████▍                      | 453/1072 [00:59<01:25,  7.27it/s]"
     ]
    },
    {
     "name": "stdout",
     "output_type": "stream",
     "text": [
      "test date: 11\n"
     ]
    },
    {
     "name": "stderr",
     "output_type": "stream",
     "text": [
      "\r",
      " 42%|████████████████▌                      | 454/1072 [01:00<01:28,  7.02it/s]"
     ]
    },
    {
     "name": "stdout",
     "output_type": "stream",
     "text": [
      "test date: 11\n"
     ]
    },
    {
     "name": "stderr",
     "output_type": "stream",
     "text": [
      "\r",
      " 42%|████████████████▌                      | 455/1072 [01:00<01:30,  6.81it/s]"
     ]
    },
    {
     "name": "stdout",
     "output_type": "stream",
     "text": [
      "test date: 11\n"
     ]
    },
    {
     "name": "stderr",
     "output_type": "stream",
     "text": [
      "\r",
      " 43%|████████████████▌                      | 456/1072 [01:00<01:31,  6.71it/s]"
     ]
    },
    {
     "name": "stdout",
     "output_type": "stream",
     "text": [
      "test date: 11\n"
     ]
    },
    {
     "name": "stderr",
     "output_type": "stream",
     "text": [
      "\r",
      " 43%|████████████████▋                      | 457/1072 [01:00<01:35,  6.46it/s]"
     ]
    },
    {
     "name": "stdout",
     "output_type": "stream",
     "text": [
      "test date: 11\n"
     ]
    },
    {
     "name": "stderr",
     "output_type": "stream",
     "text": [
      "\r",
      " 43%|████████████████▋                      | 458/1072 [01:00<01:37,  6.31it/s]"
     ]
    },
    {
     "name": "stdout",
     "output_type": "stream",
     "text": [
      "test date: 11\n"
     ]
    },
    {
     "name": "stderr",
     "output_type": "stream",
     "text": [
      "\r",
      " 43%|████████████████▋                      | 459/1072 [01:00<01:35,  6.42it/s]"
     ]
    },
    {
     "name": "stdout",
     "output_type": "stream",
     "text": [
      "test date: 11\n"
     ]
    },
    {
     "name": "stderr",
     "output_type": "stream",
     "text": [
      "\r",
      " 43%|████████████████▋                      | 460/1072 [01:01<01:34,  6.49it/s]"
     ]
    },
    {
     "name": "stdout",
     "output_type": "stream",
     "text": [
      "test date: 11\n"
     ]
    },
    {
     "name": "stderr",
     "output_type": "stream",
     "text": [
      "\r",
      " 43%|████████████████▊                      | 461/1072 [01:01<01:30,  6.74it/s]"
     ]
    },
    {
     "name": "stdout",
     "output_type": "stream",
     "text": [
      "test date: 11\n"
     ]
    },
    {
     "name": "stderr",
     "output_type": "stream",
     "text": [
      "\r",
      " 43%|████████████████▊                      | 462/1072 [01:01<01:36,  6.31it/s]"
     ]
    },
    {
     "name": "stdout",
     "output_type": "stream",
     "text": [
      "test date: 11\n"
     ]
    },
    {
     "name": "stderr",
     "output_type": "stream",
     "text": [
      "\r",
      " 43%|████████████████▊                      | 463/1072 [01:01<01:34,  6.43it/s]"
     ]
    },
    {
     "name": "stdout",
     "output_type": "stream",
     "text": [
      "test date: 11\n"
     ]
    },
    {
     "name": "stderr",
     "output_type": "stream",
     "text": [
      "\r",
      " 43%|████████████████▉                      | 464/1072 [01:01<01:34,  6.42it/s]"
     ]
    },
    {
     "name": "stdout",
     "output_type": "stream",
     "text": [
      "test date: 11\n"
     ]
    },
    {
     "name": "stderr",
     "output_type": "stream",
     "text": [
      "\r",
      " 43%|████████████████▉                      | 465/1072 [01:01<01:28,  6.85it/s]"
     ]
    },
    {
     "name": "stdout",
     "output_type": "stream",
     "text": [
      "test date: 11\n"
     ]
    },
    {
     "name": "stderr",
     "output_type": "stream",
     "text": [
      " 44%|████████████████▉                      | 467/1072 [01:02<01:21,  7.44it/s]"
     ]
    },
    {
     "name": "stdout",
     "output_type": "stream",
     "text": [
      "test date: 11\n"
     ]
    },
    {
     "name": "stderr",
     "output_type": "stream",
     "text": [
      "\r",
      " 44%|█████████████████                      | 468/1072 [01:02<01:23,  7.19it/s]"
     ]
    },
    {
     "name": "stdout",
     "output_type": "stream",
     "text": [
      "test date: 11\n"
     ]
    },
    {
     "name": "stderr",
     "output_type": "stream",
     "text": [
      "\r",
      " 44%|█████████████████                      | 469/1072 [01:02<01:25,  7.03it/s]"
     ]
    },
    {
     "name": "stdout",
     "output_type": "stream",
     "text": [
      "test date: 11\n"
     ]
    },
    {
     "name": "stderr",
     "output_type": "stream",
     "text": [
      "\r",
      " 44%|█████████████████                      | 470/1072 [01:02<01:27,  6.91it/s]"
     ]
    },
    {
     "name": "stdout",
     "output_type": "stream",
     "text": [
      "test date: 11\n"
     ]
    },
    {
     "name": "stderr",
     "output_type": "stream",
     "text": [
      "\r",
      " 44%|█████████████████▏                     | 471/1072 [01:02<01:27,  6.84it/s]"
     ]
    },
    {
     "name": "stdout",
     "output_type": "stream",
     "text": [
      "test date: 8\n"
     ]
    },
    {
     "name": "stderr",
     "output_type": "stream",
     "text": [
      "\r",
      " 44%|█████████████████▏                     | 472/1072 [01:02<01:28,  6.79it/s]"
     ]
    },
    {
     "name": "stdout",
     "output_type": "stream",
     "text": [
      "test date: 11\n"
     ]
    },
    {
     "name": "stderr",
     "output_type": "stream",
     "text": [
      "\r",
      " 44%|█████████████████▏                     | 473/1072 [01:02<01:28,  6.75it/s]"
     ]
    },
    {
     "name": "stdout",
     "output_type": "stream",
     "text": [
      "test date: 11\n"
     ]
    },
    {
     "name": "stderr",
     "output_type": "stream",
     "text": [
      "\r",
      " 44%|█████████████████▏                     | 474/1072 [01:03<01:28,  6.72it/s]"
     ]
    },
    {
     "name": "stdout",
     "output_type": "stream",
     "text": [
      "test date: 11\n"
     ]
    },
    {
     "name": "stderr",
     "output_type": "stream",
     "text": [
      "\r",
      " 44%|█████████████████▎                     | 475/1072 [01:03<01:29,  6.71it/s]"
     ]
    },
    {
     "name": "stdout",
     "output_type": "stream",
     "text": [
      "test date: 11\n"
     ]
    },
    {
     "name": "stderr",
     "output_type": "stream",
     "text": [
      "\r",
      " 44%|█████████████████▎                     | 476/1072 [01:03<01:29,  6.69it/s]"
     ]
    },
    {
     "name": "stdout",
     "output_type": "stream",
     "text": [
      "test date: 11\n"
     ]
    },
    {
     "name": "stderr",
     "output_type": "stream",
     "text": [
      "\r",
      " 44%|█████████████████▎                     | 477/1072 [01:03<01:28,  6.69it/s]"
     ]
    },
    {
     "name": "stdout",
     "output_type": "stream",
     "text": [
      "test date: 11\n"
     ]
    },
    {
     "name": "stderr",
     "output_type": "stream",
     "text": [
      "\r",
      " 45%|█████████████████▍                     | 478/1072 [01:03<01:25,  6.94it/s]"
     ]
    },
    {
     "name": "stdout",
     "output_type": "stream",
     "text": [
      "test date: 11\n"
     ]
    },
    {
     "name": "stderr",
     "output_type": "stream",
     "text": [
      "\r",
      " 45%|█████████████████▍                     | 479/1072 [01:03<01:26,  6.87it/s]"
     ]
    },
    {
     "name": "stdout",
     "output_type": "stream",
     "text": [
      "test date: 11\n"
     ]
    },
    {
     "name": "stderr",
     "output_type": "stream",
     "text": [
      "\r",
      " 45%|█████████████████▍                     | 480/1072 [01:03<01:27,  6.80it/s]"
     ]
    },
    {
     "name": "stdout",
     "output_type": "stream",
     "text": [
      "test date: 11\n"
     ]
    },
    {
     "name": "stderr",
     "output_type": "stream",
     "text": [
      "\r",
      " 45%|█████████████████▍                     | 481/1072 [01:04<01:27,  6.73it/s]"
     ]
    },
    {
     "name": "stdout",
     "output_type": "stream",
     "text": [
      "test date: 11\n"
     ]
    },
    {
     "name": "stderr",
     "output_type": "stream",
     "text": [
      "\r",
      " 45%|█████████████████▌                     | 482/1072 [01:04<01:28,  6.70it/s]"
     ]
    },
    {
     "name": "stdout",
     "output_type": "stream",
     "text": [
      "test date: 11\n"
     ]
    },
    {
     "name": "stderr",
     "output_type": "stream",
     "text": [
      "\r",
      " 45%|█████████████████▌                     | 483/1072 [01:04<01:28,  6.67it/s]"
     ]
    },
    {
     "name": "stdout",
     "output_type": "stream",
     "text": [
      "test date: 11\n"
     ]
    },
    {
     "name": "stderr",
     "output_type": "stream",
     "text": [
      "\r",
      " 45%|█████████████████▌                     | 484/1072 [01:04<01:29,  6.61it/s]"
     ]
    },
    {
     "name": "stdout",
     "output_type": "stream",
     "text": [
      "test date: 11\n"
     ]
    },
    {
     "name": "stderr",
     "output_type": "stream",
     "text": [
      "\r",
      " 45%|█████████████████▋                     | 485/1072 [01:04<01:33,  6.30it/s]"
     ]
    },
    {
     "name": "stdout",
     "output_type": "stream",
     "text": [
      "test date: 11\n"
     ]
    },
    {
     "name": "stderr",
     "output_type": "stream",
     "text": [
      "\r",
      " 45%|█████████████████▋                     | 486/1072 [01:04<01:28,  6.61it/s]"
     ]
    },
    {
     "name": "stdout",
     "output_type": "stream",
     "text": [
      "test date: 11\n"
     ]
    },
    {
     "name": "stderr",
     "output_type": "stream",
     "text": [
      "\r",
      " 45%|█████████████████▋                     | 487/1072 [01:05<01:31,  6.41it/s]"
     ]
    },
    {
     "name": "stdout",
     "output_type": "stream",
     "text": [
      "test date: 11\n"
     ]
    },
    {
     "name": "stderr",
     "output_type": "stream",
     "text": [
      "\r",
      " 46%|█████████████████▊                     | 488/1072 [01:05<01:32,  6.29it/s]"
     ]
    },
    {
     "name": "stdout",
     "output_type": "stream",
     "text": [
      "test date: 11\n"
     ]
    },
    {
     "name": "stderr",
     "output_type": "stream",
     "text": [
      "\r",
      " 46%|█████████████████▊                     | 490/1072 [01:05<01:23,  6.95it/s]"
     ]
    },
    {
     "name": "stdout",
     "output_type": "stream",
     "text": [
      "test date: 11\n"
     ]
    },
    {
     "name": "stderr",
     "output_type": "stream",
     "text": [
      "\r",
      " 46%|█████████████████▊                     | 491/1072 [01:05<01:21,  7.10it/s]"
     ]
    },
    {
     "name": "stdout",
     "output_type": "stream",
     "text": [
      "test date: 11\n"
     ]
    },
    {
     "name": "stderr",
     "output_type": "stream",
     "text": [
      "\r",
      " 46%|█████████████████▉                     | 492/1072 [01:05<01:23,  6.93it/s]"
     ]
    },
    {
     "name": "stdout",
     "output_type": "stream",
     "text": [
      "test date: 2\n"
     ]
    },
    {
     "name": "stderr",
     "output_type": "stream",
     "text": [
      "\r",
      " 46%|█████████████████▉                     | 493/1072 [01:05<01:29,  6.45it/s]"
     ]
    },
    {
     "name": "stdout",
     "output_type": "stream",
     "text": [
      "test date: 11\n"
     ]
    },
    {
     "name": "stderr",
     "output_type": "stream",
     "text": [
      "\r",
      " 46%|█████████████████▉                     | 494/1072 [01:06<01:24,  6.84it/s]"
     ]
    },
    {
     "name": "stdout",
     "output_type": "stream",
     "text": [
      "test date: 11\n"
     ]
    },
    {
     "name": "stderr",
     "output_type": "stream",
     "text": [
      "\r",
      " 46%|██████████████████                     | 495/1072 [01:06<01:26,  6.69it/s]"
     ]
    },
    {
     "name": "stdout",
     "output_type": "stream",
     "text": [
      "test date: 11\n"
     ]
    },
    {
     "name": "stderr",
     "output_type": "stream",
     "text": [
      "\r",
      " 46%|██████████████████                     | 496/1072 [01:06<01:26,  6.64it/s]"
     ]
    },
    {
     "name": "stdout",
     "output_type": "stream",
     "text": [
      "test date: 11\n"
     ]
    },
    {
     "name": "stderr",
     "output_type": "stream",
     "text": [
      "\r",
      " 46%|██████████████████                     | 497/1072 [01:06<01:31,  6.26it/s]"
     ]
    },
    {
     "name": "stdout",
     "output_type": "stream",
     "text": [
      "test date: 11\n"
     ]
    },
    {
     "name": "stderr",
     "output_type": "stream",
     "text": [
      "\r",
      " 46%|██████████████████                     | 498/1072 [01:06<01:29,  6.38it/s]"
     ]
    },
    {
     "name": "stdout",
     "output_type": "stream",
     "text": [
      "test date: 11\n"
     ]
    },
    {
     "name": "stderr",
     "output_type": "stream",
     "text": [
      "\r",
      " 47%|██████████████████▏                    | 499/1072 [01:06<01:31,  6.26it/s]"
     ]
    },
    {
     "name": "stdout",
     "output_type": "stream",
     "text": [
      "test date: 11\n"
     ]
    },
    {
     "name": "stderr",
     "output_type": "stream",
     "text": [
      "\r",
      " 47%|██████████████████▏                    | 500/1072 [01:06<01:29,  6.37it/s]"
     ]
    },
    {
     "name": "stdout",
     "output_type": "stream",
     "text": [
      "test date: 11\n"
     ]
    },
    {
     "name": "stderr",
     "output_type": "stream",
     "text": [
      "\r",
      " 47%|██████████████████▏                    | 501/1072 [01:07<01:24,  6.72it/s]"
     ]
    },
    {
     "name": "stdout",
     "output_type": "stream",
     "text": [
      "test date: 11\n"
     ]
    },
    {
     "name": "stderr",
     "output_type": "stream",
     "text": [
      "\r",
      " 47%|██████████████████▎                    | 502/1072 [01:07<01:25,  6.65it/s]"
     ]
    },
    {
     "name": "stdout",
     "output_type": "stream",
     "text": [
      "test date: 11\n"
     ]
    },
    {
     "name": "stderr",
     "output_type": "stream",
     "text": [
      "\r",
      " 47%|██████████████████▎                    | 503/1072 [01:07<01:31,  6.24it/s]"
     ]
    },
    {
     "name": "stdout",
     "output_type": "stream",
     "text": [
      "test date: 11\n"
     ]
    },
    {
     "name": "stderr",
     "output_type": "stream",
     "text": [
      "\r",
      " 47%|██████████████████▎                    | 504/1072 [01:07<01:29,  6.36it/s]"
     ]
    },
    {
     "name": "stdout",
     "output_type": "stream",
     "text": [
      "test date: 11\n"
     ]
    },
    {
     "name": "stderr",
     "output_type": "stream",
     "text": [
      "\r",
      " 47%|██████████████████▎                    | 505/1072 [01:07<01:27,  6.46it/s]"
     ]
    },
    {
     "name": "stdout",
     "output_type": "stream",
     "text": [
      "test date: 11\n"
     ]
    },
    {
     "name": "stderr",
     "output_type": "stream",
     "text": [
      "\r",
      " 47%|██████████████████▍                    | 506/1072 [01:07<01:24,  6.71it/s]"
     ]
    },
    {
     "name": "stdout",
     "output_type": "stream",
     "text": [
      "test date: 11\n"
     ]
    },
    {
     "name": "stderr",
     "output_type": "stream",
     "text": [
      "\r",
      " 47%|██████████████████▍                    | 507/1072 [01:08<01:29,  6.30it/s]"
     ]
    },
    {
     "name": "stdout",
     "output_type": "stream",
     "text": [
      "test date: 11\n"
     ]
    },
    {
     "name": "stderr",
     "output_type": "stream",
     "text": [
      "\r",
      " 47%|██████████████████▍                    | 508/1072 [01:08<01:28,  6.40it/s]"
     ]
    },
    {
     "name": "stdout",
     "output_type": "stream",
     "text": [
      "test date: 11\n"
     ]
    },
    {
     "name": "stderr",
     "output_type": "stream",
     "text": [
      "\r",
      " 47%|██████████████████▌                    | 509/1072 [01:08<01:26,  6.47it/s]"
     ]
    },
    {
     "name": "stdout",
     "output_type": "stream",
     "text": [
      "test date: 11\n"
     ]
    },
    {
     "name": "stderr",
     "output_type": "stream",
     "text": [
      "\r",
      " 48%|██████████████████▌                    | 511/1072 [01:08<01:20,  6.99it/s]"
     ]
    },
    {
     "name": "stdout",
     "output_type": "stream",
     "text": [
      "test date: 11\n"
     ]
    },
    {
     "name": "stderr",
     "output_type": "stream",
     "text": [
      "\r",
      " 48%|██████████████████▋                    | 512/1072 [01:08<01:21,  6.89it/s]"
     ]
    },
    {
     "name": "stdout",
     "output_type": "stream",
     "text": [
      "test date: 11\n"
     ]
    },
    {
     "name": "stderr",
     "output_type": "stream",
     "text": [
      "\r",
      " 48%|██████████████████▋                    | 513/1072 [01:08<01:24,  6.59it/s]"
     ]
    },
    {
     "name": "stdout",
     "output_type": "stream",
     "text": [
      "test date: 11\n"
     ]
    },
    {
     "name": "stderr",
     "output_type": "stream",
     "text": [
      "\r",
      " 48%|██████████████████▋                    | 514/1072 [01:09<01:21,  6.86it/s]"
     ]
    },
    {
     "name": "stdout",
     "output_type": "stream",
     "text": [
      "test date: 11\n"
     ]
    },
    {
     "name": "stderr",
     "output_type": "stream",
     "text": [
      "\r",
      " 48%|██████████████████▋                    | 515/1072 [01:09<01:22,  6.77it/s]"
     ]
    },
    {
     "name": "stdout",
     "output_type": "stream",
     "text": [
      "test date: 11\n"
     ]
    },
    {
     "name": "stderr",
     "output_type": "stream",
     "text": [
      "\r",
      " 48%|██████████████████▊                    | 516/1072 [01:09<01:27,  6.33it/s]"
     ]
    },
    {
     "name": "stdout",
     "output_type": "stream",
     "text": [
      "test date: 11\n"
     ]
    },
    {
     "name": "stderr",
     "output_type": "stream",
     "text": [
      "\r",
      " 48%|██████████████████▊                    | 517/1072 [01:09<01:22,  6.70it/s]"
     ]
    },
    {
     "name": "stdout",
     "output_type": "stream",
     "text": [
      "test date: 11\n"
     ]
    },
    {
     "name": "stderr",
     "output_type": "stream",
     "text": [
      "\r",
      " 48%|██████████████████▊                    | 518/1072 [01:09<01:29,  6.22it/s]"
     ]
    },
    {
     "name": "stdout",
     "output_type": "stream",
     "text": [
      "test date: 11\n"
     ]
    },
    {
     "name": "stderr",
     "output_type": "stream",
     "text": [
      "\r",
      " 48%|██████████████████▉                    | 519/1072 [01:09<01:29,  6.15it/s]"
     ]
    },
    {
     "name": "stdout",
     "output_type": "stream",
     "text": [
      "test date: 11\n"
     ]
    },
    {
     "name": "stderr",
     "output_type": "stream",
     "text": [
      "\r",
      " 49%|██████████████████▉                    | 520/1072 [01:09<01:24,  6.57it/s]"
     ]
    },
    {
     "name": "stdout",
     "output_type": "stream",
     "text": [
      "test date: 11\n"
     ]
    },
    {
     "name": "stderr",
     "output_type": "stream",
     "text": [
      "\r",
      " 49%|██████████████████▉                    | 521/1072 [01:10<01:24,  6.54it/s]"
     ]
    },
    {
     "name": "stdout",
     "output_type": "stream",
     "text": [
      "test date: 2\n"
     ]
    },
    {
     "name": "stderr",
     "output_type": "stream",
     "text": [
      "\r",
      " 49%|██████████████████▉                    | 522/1072 [01:10<01:26,  6.34it/s]"
     ]
    },
    {
     "name": "stdout",
     "output_type": "stream",
     "text": [
      "test date: 11\n"
     ]
    },
    {
     "name": "stderr",
     "output_type": "stream",
     "text": [
      "\r",
      " 49%|███████████████████                    | 523/1072 [01:10<01:27,  6.26it/s]"
     ]
    },
    {
     "name": "stdout",
     "output_type": "stream",
     "text": [
      "test date: 11\n"
     ]
    },
    {
     "name": "stderr",
     "output_type": "stream",
     "text": [
      "\r",
      " 49%|███████████████████                    | 524/1072 [01:10<01:22,  6.61it/s]"
     ]
    },
    {
     "name": "stdout",
     "output_type": "stream",
     "text": [
      "test date: 11\n"
     ]
    },
    {
     "name": "stderr",
     "output_type": "stream",
     "text": [
      "\r",
      " 49%|███████████████████                    | 525/1072 [01:10<01:23,  6.59it/s]"
     ]
    },
    {
     "name": "stdout",
     "output_type": "stream",
     "text": [
      "test date: 11\n"
     ]
    },
    {
     "name": "stderr",
     "output_type": "stream",
     "text": [
      "\r",
      " 49%|███████████████████▏                   | 526/1072 [01:10<01:22,  6.61it/s]"
     ]
    },
    {
     "name": "stdout",
     "output_type": "stream",
     "text": [
      "test date: 11\n"
     ]
    },
    {
     "name": "stderr",
     "output_type": "stream",
     "text": [
      "\r",
      " 49%|███████████████████▏                   | 527/1072 [01:11<01:25,  6.38it/s]"
     ]
    },
    {
     "name": "stdout",
     "output_type": "stream",
     "text": [
      "test date: 11\n"
     ]
    },
    {
     "name": "stderr",
     "output_type": "stream",
     "text": [
      "\r",
      " 49%|███████████████████▏                   | 528/1072 [01:11<01:26,  6.27it/s]"
     ]
    },
    {
     "name": "stdout",
     "output_type": "stream",
     "text": [
      "test date: 11\n"
     ]
    },
    {
     "name": "stderr",
     "output_type": "stream",
     "text": [
      "\r",
      " 49%|███████████████████▏                   | 529/1072 [01:11<01:27,  6.23it/s]"
     ]
    },
    {
     "name": "stdout",
     "output_type": "stream",
     "text": [
      "test date: 11\n"
     ]
    },
    {
     "name": "stderr",
     "output_type": "stream",
     "text": [
      "\r",
      " 49%|███████████████████▎                   | 530/1072 [01:11<01:27,  6.18it/s]"
     ]
    },
    {
     "name": "stdout",
     "output_type": "stream",
     "text": [
      "test date: 11\n"
     ]
    },
    {
     "name": "stderr",
     "output_type": "stream",
     "text": [
      "\r",
      " 50%|███████████████████▎                   | 531/1072 [01:11<01:29,  6.05it/s]"
     ]
    },
    {
     "name": "stdout",
     "output_type": "stream",
     "text": [
      "test date: 11\n"
     ]
    },
    {
     "name": "stderr",
     "output_type": "stream",
     "text": [
      "\r",
      " 50%|███████████████████▎                   | 532/1072 [01:11<01:30,  5.98it/s]"
     ]
    },
    {
     "name": "stdout",
     "output_type": "stream",
     "text": [
      "test date: 11\n"
     ]
    },
    {
     "name": "stderr",
     "output_type": "stream",
     "text": [
      "\r",
      " 50%|███████████████████▍                   | 533/1072 [01:12<01:30,  5.96it/s]"
     ]
    },
    {
     "name": "stdout",
     "output_type": "stream",
     "text": [
      "test date: 11\n"
     ]
    },
    {
     "name": "stderr",
     "output_type": "stream",
     "text": [
      "\r",
      " 50%|███████████████████▍                   | 534/1072 [01:12<01:28,  6.08it/s]"
     ]
    },
    {
     "name": "stdout",
     "output_type": "stream",
     "text": [
      "test date: 11\n"
     ]
    },
    {
     "name": "stderr",
     "output_type": "stream",
     "text": [
      "\r",
      " 50%|███████████████████▍                   | 535/1072 [01:12<01:27,  6.14it/s]"
     ]
    },
    {
     "name": "stdout",
     "output_type": "stream",
     "text": [
      "test date: 11\n"
     ]
    },
    {
     "name": "stderr",
     "output_type": "stream",
     "text": [
      "\r",
      " 50%|███████████████████▌                   | 536/1072 [01:12<01:26,  6.18it/s]"
     ]
    },
    {
     "name": "stdout",
     "output_type": "stream",
     "text": [
      "test date: 11\n"
     ]
    },
    {
     "name": "stderr",
     "output_type": "stream",
     "text": [
      "\r",
      " 50%|███████████████████▌                   | 537/1072 [01:12<01:28,  6.05it/s]"
     ]
    },
    {
     "name": "stdout",
     "output_type": "stream",
     "text": [
      "test date: 11\n"
     ]
    },
    {
     "name": "stderr",
     "output_type": "stream",
     "text": [
      "\r",
      " 50%|███████████████████▌                   | 538/1072 [01:12<01:27,  6.09it/s]"
     ]
    },
    {
     "name": "stdout",
     "output_type": "stream",
     "text": [
      "test date: 11\n"
     ]
    },
    {
     "name": "stderr",
     "output_type": "stream",
     "text": [
      "\r",
      " 50%|███████████████████▌                   | 539/1072 [01:13<01:28,  6.05it/s]"
     ]
    },
    {
     "name": "stdout",
     "output_type": "stream",
     "text": [
      "test date: 11\n"
     ]
    },
    {
     "name": "stderr",
     "output_type": "stream",
     "text": [
      "\r",
      " 50%|███████████████████▋                   | 540/1072 [01:13<01:28,  6.01it/s]"
     ]
    },
    {
     "name": "stdout",
     "output_type": "stream",
     "text": [
      "test date: 11\n"
     ]
    },
    {
     "name": "stderr",
     "output_type": "stream",
     "text": [
      "\r",
      " 50%|███████████████████▋                   | 541/1072 [01:13<01:29,  5.96it/s]"
     ]
    },
    {
     "name": "stdout",
     "output_type": "stream",
     "text": [
      "test date: 11\n"
     ]
    },
    {
     "name": "stderr",
     "output_type": "stream",
     "text": [
      "\r",
      " 51%|███████████████████▋                   | 542/1072 [01:13<01:30,  5.88it/s]"
     ]
    },
    {
     "name": "stdout",
     "output_type": "stream",
     "text": [
      "test date: 11\n"
     ]
    },
    {
     "name": "stderr",
     "output_type": "stream",
     "text": [
      "\r",
      " 51%|███████████████████▊                   | 543/1072 [01:13<01:31,  5.79it/s]"
     ]
    },
    {
     "name": "stdout",
     "output_type": "stream",
     "text": [
      "test date: 11\n"
     ]
    },
    {
     "name": "stderr",
     "output_type": "stream",
     "text": [
      "\r",
      " 51%|███████████████████▊                   | 545/1072 [01:13<01:20,  6.54it/s]"
     ]
    },
    {
     "name": "stdout",
     "output_type": "stream",
     "text": [
      "test date: 11\n"
     ]
    },
    {
     "name": "stderr",
     "output_type": "stream",
     "text": [
      "\r",
      " 51%|███████████████████▊                   | 546/1072 [01:14<01:21,  6.47it/s]"
     ]
    },
    {
     "name": "stdout",
     "output_type": "stream",
     "text": [
      "test date: 11\n"
     ]
    },
    {
     "name": "stderr",
     "output_type": "stream",
     "text": [
      "\r",
      " 51%|███████████████████▉                   | 548/1072 [01:14<01:16,  6.85it/s]"
     ]
    },
    {
     "name": "stdout",
     "output_type": "stream",
     "text": [
      "test date: 11\n"
     ]
    },
    {
     "name": "stderr",
     "output_type": "stream",
     "text": [
      "\r",
      " 51%|███████████████████▉                   | 549/1072 [01:14<01:19,  6.58it/s]"
     ]
    },
    {
     "name": "stdout",
     "output_type": "stream",
     "text": [
      "test date: 11\n"
     ]
    },
    {
     "name": "stderr",
     "output_type": "stream",
     "text": [
      "\r",
      " 51%|████████████████████                   | 550/1072 [01:14<01:20,  6.49it/s]"
     ]
    },
    {
     "name": "stdout",
     "output_type": "stream",
     "text": [
      "test date: 11\n"
     ]
    },
    {
     "name": "stderr",
     "output_type": "stream",
     "text": [
      "\r",
      " 51%|████████████████████                   | 551/1072 [01:14<01:22,  6.30it/s]"
     ]
    },
    {
     "name": "stdout",
     "output_type": "stream",
     "text": [
      "test date: 11\n"
     ]
    },
    {
     "name": "stderr",
     "output_type": "stream",
     "text": [
      "\r",
      " 51%|████████████████████                   | 552/1072 [01:15<01:22,  6.31it/s]"
     ]
    },
    {
     "name": "stdout",
     "output_type": "stream",
     "text": [
      "test date: 11\n"
     ]
    },
    {
     "name": "stderr",
     "output_type": "stream",
     "text": [
      "\r",
      " 52%|████████████████████                   | 553/1072 [01:15<01:25,  6.09it/s]"
     ]
    },
    {
     "name": "stdout",
     "output_type": "stream",
     "text": [
      "test date: 11\n"
     ]
    },
    {
     "name": "stderr",
     "output_type": "stream",
     "text": [
      "\r",
      " 52%|████████████████████▏                  | 554/1072 [01:15<01:30,  5.75it/s]"
     ]
    },
    {
     "name": "stdout",
     "output_type": "stream",
     "text": [
      "test date: 11\n"
     ]
    },
    {
     "name": "stderr",
     "output_type": "stream",
     "text": [
      "\r",
      " 52%|████████████████████▏                  | 555/1072 [01:15<01:23,  6.21it/s]"
     ]
    },
    {
     "name": "stdout",
     "output_type": "stream",
     "text": [
      "test date: 11\n"
     ]
    },
    {
     "name": "stderr",
     "output_type": "stream",
     "text": [
      "\r",
      " 52%|████████████████████▏                  | 556/1072 [01:15<01:22,  6.28it/s]"
     ]
    },
    {
     "name": "stdout",
     "output_type": "stream",
     "text": [
      "test date: 11\n"
     ]
    },
    {
     "name": "stderr",
     "output_type": "stream",
     "text": [
      "\r",
      " 52%|████████████████████▎                  | 557/1072 [01:15<01:25,  6.04it/s]"
     ]
    },
    {
     "name": "stdout",
     "output_type": "stream",
     "text": [
      "test date: 11\n"
     ]
    },
    {
     "name": "stderr",
     "output_type": "stream",
     "text": [
      "\r",
      " 52%|████████████████████▎                  | 558/1072 [01:16<01:20,  6.37it/s]"
     ]
    },
    {
     "name": "stdout",
     "output_type": "stream",
     "text": [
      "test date: 11\n"
     ]
    },
    {
     "name": "stderr",
     "output_type": "stream",
     "text": [
      "\r",
      " 52%|████████████████████▎                  | 559/1072 [01:16<01:23,  6.16it/s]"
     ]
    },
    {
     "name": "stdout",
     "output_type": "stream",
     "text": [
      "test date: 11\n"
     ]
    },
    {
     "name": "stderr",
     "output_type": "stream",
     "text": [
      "\r",
      " 52%|████████████████████▎                  | 560/1072 [01:16<01:21,  6.24it/s]"
     ]
    },
    {
     "name": "stdout",
     "output_type": "stream",
     "text": [
      "test date: 11\n"
     ]
    },
    {
     "name": "stderr",
     "output_type": "stream",
     "text": [
      "\r",
      " 52%|████████████████████▍                  | 561/1072 [01:16<01:22,  6.17it/s]"
     ]
    },
    {
     "name": "stdout",
     "output_type": "stream",
     "text": [
      "test date: 11\n"
     ]
    },
    {
     "name": "stderr",
     "output_type": "stream",
     "text": [
      "\r",
      " 52%|████████████████████▍                  | 562/1072 [01:16<01:23,  6.10it/s]"
     ]
    },
    {
     "name": "stdout",
     "output_type": "stream",
     "text": [
      "test date: 11\n"
     ]
    },
    {
     "name": "stderr",
     "output_type": "stream",
     "text": [
      "\r",
      " 53%|████████████████████▍                  | 563/1072 [01:16<01:22,  6.17it/s]"
     ]
    },
    {
     "name": "stdout",
     "output_type": "stream",
     "text": [
      "test date: 11\n"
     ]
    },
    {
     "name": "stderr",
     "output_type": "stream",
     "text": [
      "\r",
      " 53%|████████████████████▌                  | 564/1072 [01:17<01:22,  6.15it/s]"
     ]
    },
    {
     "name": "stdout",
     "output_type": "stream",
     "text": [
      "test date: 11\n"
     ]
    },
    {
     "name": "stderr",
     "output_type": "stream",
     "text": [
      "\r",
      " 53%|████████████████████▌                  | 565/1072 [01:17<01:23,  6.08it/s]"
     ]
    },
    {
     "name": "stdout",
     "output_type": "stream",
     "text": [
      "test date: 11\n"
     ]
    },
    {
     "name": "stderr",
     "output_type": "stream",
     "text": [
      "\r",
      " 53%|████████████████████▌                  | 566/1072 [01:17<01:23,  6.03it/s]"
     ]
    },
    {
     "name": "stdout",
     "output_type": "stream",
     "text": [
      "test date: 11\n"
     ]
    },
    {
     "name": "stderr",
     "output_type": "stream",
     "text": [
      "\r",
      " 53%|████████████████████▋                  | 567/1072 [01:17<01:27,  5.79it/s]"
     ]
    },
    {
     "name": "stdout",
     "output_type": "stream",
     "text": [
      "test date: 3\n"
     ]
    },
    {
     "name": "stderr",
     "output_type": "stream",
     "text": [
      "\r",
      " 53%|████████████████████▋                  | 569/1072 [01:17<01:15,  6.62it/s]"
     ]
    },
    {
     "name": "stdout",
     "output_type": "stream",
     "text": [
      "test date: 11\n"
     ]
    },
    {
     "name": "stderr",
     "output_type": "stream",
     "text": [
      "\r",
      " 53%|████████████████████▋                  | 570/1072 [01:17<01:20,  6.24it/s]"
     ]
    },
    {
     "name": "stdout",
     "output_type": "stream",
     "text": [
      "test date: 11\n"
     ]
    },
    {
     "name": "stderr",
     "output_type": "stream",
     "text": [
      "\r",
      " 53%|████████████████████▊                  | 571/1072 [01:18<01:18,  6.36it/s]"
     ]
    },
    {
     "name": "stdout",
     "output_type": "stream",
     "text": [
      "test date: 11\n"
     ]
    },
    {
     "name": "stderr",
     "output_type": "stream",
     "text": [
      "\r",
      " 53%|████████████████████▊                  | 572/1072 [01:18<01:15,  6.64it/s]"
     ]
    },
    {
     "name": "stdout",
     "output_type": "stream",
     "text": [
      "test date: 11\n"
     ]
    },
    {
     "name": "stderr",
     "output_type": "stream",
     "text": [
      "\r",
      " 54%|████████████████████▉                  | 574/1072 [01:18<01:09,  7.14it/s]"
     ]
    },
    {
     "name": "stdout",
     "output_type": "stream",
     "text": [
      "test date: 11\n"
     ]
    },
    {
     "name": "stderr",
     "output_type": "stream",
     "text": [
      "\r",
      " 54%|████████████████████▉                  | 575/1072 [01:18<01:12,  6.88it/s]"
     ]
    },
    {
     "name": "stdout",
     "output_type": "stream",
     "text": [
      "test date: 11\n"
     ]
    },
    {
     "name": "stderr",
     "output_type": "stream",
     "text": [
      "\r",
      " 54%|████████████████████▉                  | 576/1072 [01:18<01:14,  6.70it/s]"
     ]
    },
    {
     "name": "stdout",
     "output_type": "stream",
     "text": [
      "test date: 11\n"
     ]
    },
    {
     "name": "stderr",
     "output_type": "stream",
     "text": [
      "\r",
      " 54%|████████████████████▉                  | 577/1072 [01:18<01:15,  6.57it/s]"
     ]
    },
    {
     "name": "stdout",
     "output_type": "stream",
     "text": [
      "test date: 11\n"
     ]
    },
    {
     "name": "stderr",
     "output_type": "stream",
     "text": [
      "\r",
      " 54%|█████████████████████                  | 578/1072 [01:19<01:16,  6.50it/s]"
     ]
    },
    {
     "name": "stdout",
     "output_type": "stream",
     "text": [
      "test date: 11\n"
     ]
    },
    {
     "name": "stderr",
     "output_type": "stream",
     "text": [
      "\r",
      " 54%|█████████████████████                  | 579/1072 [01:19<01:20,  6.12it/s]"
     ]
    },
    {
     "name": "stdout",
     "output_type": "stream",
     "text": [
      "test date: 11\n"
     ]
    },
    {
     "name": "stderr",
     "output_type": "stream",
     "text": [
      "\r",
      " 54%|█████████████████████                  | 580/1072 [01:19<01:18,  6.25it/s]"
     ]
    },
    {
     "name": "stdout",
     "output_type": "stream",
     "text": [
      "test date: 11\n"
     ]
    },
    {
     "name": "stderr",
     "output_type": "stream",
     "text": [
      "\r",
      " 54%|█████████████████████▏                 | 581/1072 [01:19<01:16,  6.40it/s]"
     ]
    },
    {
     "name": "stdout",
     "output_type": "stream",
     "text": [
      "test date: 11\n"
     ]
    },
    {
     "name": "stderr",
     "output_type": "stream",
     "text": [
      "\r",
      " 54%|█████████████████████▏                 | 582/1072 [01:19<01:13,  6.68it/s]"
     ]
    },
    {
     "name": "stdout",
     "output_type": "stream",
     "text": [
      "test date: 11\n"
     ]
    },
    {
     "name": "stderr",
     "output_type": "stream",
     "text": [
      "\r",
      " 54%|█████████████████████▏                 | 583/1072 [01:19<01:17,  6.27it/s]"
     ]
    },
    {
     "name": "stdout",
     "output_type": "stream",
     "text": [
      "test date: 11\n"
     ]
    },
    {
     "name": "stderr",
     "output_type": "stream",
     "text": [
      "\r",
      " 54%|█████████████████████▏                 | 584/1072 [01:20<01:13,  6.60it/s]"
     ]
    },
    {
     "name": "stdout",
     "output_type": "stream",
     "text": [
      "test date: 11\n"
     ]
    },
    {
     "name": "stderr",
     "output_type": "stream",
     "text": [
      "\r",
      " 55%|█████████████████████▎                 | 585/1072 [01:20<01:18,  6.20it/s]"
     ]
    },
    {
     "name": "stdout",
     "output_type": "stream",
     "text": [
      "test date: 11\n"
     ]
    },
    {
     "name": "stderr",
     "output_type": "stream",
     "text": [
      "\r",
      " 55%|█████████████████████▎                 | 586/1072 [01:20<01:16,  6.35it/s]"
     ]
    },
    {
     "name": "stdout",
     "output_type": "stream",
     "text": [
      "test date: 11\n"
     ]
    },
    {
     "name": "stderr",
     "output_type": "stream",
     "text": [
      "\r",
      " 55%|█████████████████████▎                 | 587/1072 [01:20<01:12,  6.64it/s]"
     ]
    },
    {
     "name": "stdout",
     "output_type": "stream",
     "text": [
      "test date: 11\n"
     ]
    },
    {
     "name": "stderr",
     "output_type": "stream",
     "text": [
      "\r",
      " 55%|█████████████████████▍                 | 588/1072 [01:20<01:17,  6.23it/s]"
     ]
    },
    {
     "name": "stdout",
     "output_type": "stream",
     "text": [
      "test date: 11\n"
     ]
    },
    {
     "name": "stderr",
     "output_type": "stream",
     "text": [
      "\r",
      " 55%|█████████████████████▍                 | 589/1072 [01:20<01:16,  6.35it/s]"
     ]
    },
    {
     "name": "stdout",
     "output_type": "stream",
     "text": [
      "test date: 11\n"
     ]
    },
    {
     "name": "stderr",
     "output_type": "stream",
     "text": [
      "\r",
      " 55%|█████████████████████▍                 | 590/1072 [01:20<01:14,  6.44it/s]"
     ]
    },
    {
     "name": "stdout",
     "output_type": "stream",
     "text": [
      "test date: 11\n"
     ]
    },
    {
     "name": "stderr",
     "output_type": "stream",
     "text": [
      "\r",
      " 55%|█████████████████████▌                 | 591/1072 [01:21<01:16,  6.28it/s]"
     ]
    },
    {
     "name": "stdout",
     "output_type": "stream",
     "text": [
      "test date: 11\n"
     ]
    },
    {
     "name": "stderr",
     "output_type": "stream",
     "text": [
      "\r",
      " 55%|█████████████████████▌                 | 592/1072 [01:21<01:12,  6.66it/s]"
     ]
    },
    {
     "name": "stdout",
     "output_type": "stream",
     "text": [
      "test date: 11\n"
     ]
    },
    {
     "name": "stderr",
     "output_type": "stream",
     "text": [
      "\r",
      " 55%|█████████████████████▌                 | 593/1072 [01:21<01:16,  6.24it/s]"
     ]
    },
    {
     "name": "stdout",
     "output_type": "stream",
     "text": [
      "test date: 11\n"
     ]
    },
    {
     "name": "stderr",
     "output_type": "stream",
     "text": [
      "\r",
      " 55%|█████████████████████▌                 | 594/1072 [01:21<01:15,  6.35it/s]"
     ]
    },
    {
     "name": "stdout",
     "output_type": "stream",
     "text": [
      "test date: 11\n"
     ]
    },
    {
     "name": "stderr",
     "output_type": "stream",
     "text": [
      "\r",
      " 56%|█████████████████████▋                 | 595/1072 [01:21<01:16,  6.25it/s]"
     ]
    },
    {
     "name": "stdout",
     "output_type": "stream",
     "text": [
      "test date: 11\n"
     ]
    },
    {
     "name": "stderr",
     "output_type": "stream",
     "text": [
      "\r",
      " 56%|█████████████████████▋                 | 597/1072 [01:21<01:07,  7.04it/s]"
     ]
    },
    {
     "name": "stdout",
     "output_type": "stream",
     "text": [
      "test date: 11\n"
     ]
    },
    {
     "name": "stderr",
     "output_type": "stream",
     "text": [
      "\r",
      " 56%|█████████████████████▊                 | 598/1072 [01:22<01:09,  6.80it/s]"
     ]
    },
    {
     "name": "stdout",
     "output_type": "stream",
     "text": [
      "test date: 11\n"
     ]
    },
    {
     "name": "stderr",
     "output_type": "stream",
     "text": [
      "\r",
      " 56%|█████████████████████▊                 | 599/1072 [01:22<01:11,  6.61it/s]"
     ]
    },
    {
     "name": "stdout",
     "output_type": "stream",
     "text": [
      "test date: 11\n"
     ]
    },
    {
     "name": "stderr",
     "output_type": "stream",
     "text": [
      "\r",
      " 56%|█████████████████████▊                 | 600/1072 [01:22<01:12,  6.47it/s]"
     ]
    },
    {
     "name": "stdout",
     "output_type": "stream",
     "text": [
      "test date: 11\n"
     ]
    },
    {
     "name": "stderr",
     "output_type": "stream",
     "text": [
      "\r",
      " 56%|█████████████████████▊                 | 601/1072 [01:22<01:13,  6.38it/s]"
     ]
    },
    {
     "name": "stdout",
     "output_type": "stream",
     "text": [
      "test date: 11\n"
     ]
    },
    {
     "name": "stderr",
     "output_type": "stream",
     "text": [
      "\r",
      " 56%|█████████████████████▉                 | 603/1072 [01:22<01:09,  6.74it/s]"
     ]
    },
    {
     "name": "stdout",
     "output_type": "stream",
     "text": [
      "test date: 11\n"
     ]
    },
    {
     "name": "stderr",
     "output_type": "stream",
     "text": [
      "\r",
      " 56%|█████████████████████▉                 | 604/1072 [01:23<01:11,  6.56it/s]"
     ]
    },
    {
     "name": "stdout",
     "output_type": "stream",
     "text": [
      "test date: 11\n"
     ]
    },
    {
     "name": "stderr",
     "output_type": "stream",
     "text": [
      "\r",
      " 56%|██████████████████████                 | 605/1072 [01:23<01:11,  6.50it/s]"
     ]
    },
    {
     "name": "stdout",
     "output_type": "stream",
     "text": [
      "test date: 11\n"
     ]
    },
    {
     "name": "stderr",
     "output_type": "stream",
     "text": [
      "\r",
      " 57%|██████████████████████                 | 606/1072 [01:23<01:15,  6.19it/s]"
     ]
    },
    {
     "name": "stdout",
     "output_type": "stream",
     "text": [
      "test date: 11\n"
     ]
    },
    {
     "name": "stderr",
     "output_type": "stream",
     "text": [
      "\r",
      " 57%|██████████████████████                 | 607/1072 [01:23<01:11,  6.51it/s]"
     ]
    },
    {
     "name": "stdout",
     "output_type": "stream",
     "text": [
      "test date: 11\n"
     ]
    },
    {
     "name": "stderr",
     "output_type": "stream",
     "text": [
      "\r",
      " 57%|██████████████████████                 | 608/1072 [01:23<01:11,  6.47it/s]"
     ]
    },
    {
     "name": "stdout",
     "output_type": "stream",
     "text": [
      "test date: 11\n"
     ]
    },
    {
     "name": "stderr",
     "output_type": "stream",
     "text": [
      "\r",
      " 57%|██████████████████████▏                | 609/1072 [01:23<01:11,  6.44it/s]"
     ]
    },
    {
     "name": "stdout",
     "output_type": "stream",
     "text": [
      "test date: 11\n"
     ]
    },
    {
     "name": "stderr",
     "output_type": "stream",
     "text": [
      "\r",
      " 57%|██████████████████████▏                | 610/1072 [01:23<01:15,  6.09it/s]"
     ]
    },
    {
     "name": "stdout",
     "output_type": "stream",
     "text": [
      "test date: 1\n"
     ]
    },
    {
     "name": "stderr",
     "output_type": "stream",
     "text": [
      "\r",
      " 57%|██████████████████████▏                | 611/1072 [01:24<01:13,  6.25it/s]"
     ]
    },
    {
     "name": "stdout",
     "output_type": "stream",
     "text": [
      "test date: 11\n"
     ]
    },
    {
     "name": "stderr",
     "output_type": "stream",
     "text": [
      "\r",
      " 57%|██████████████████████▎                | 612/1072 [01:24<01:12,  6.36it/s]"
     ]
    },
    {
     "name": "stdout",
     "output_type": "stream",
     "text": [
      "test date: 11\n"
     ]
    },
    {
     "name": "stderr",
     "output_type": "stream",
     "text": [
      "\r",
      " 57%|██████████████████████▎                | 613/1072 [01:24<01:13,  6.25it/s]"
     ]
    },
    {
     "name": "stdout",
     "output_type": "stream",
     "text": [
      "test date: 11\n"
     ]
    },
    {
     "name": "stderr",
     "output_type": "stream",
     "text": [
      "\r",
      " 57%|██████████████████████▎                | 614/1072 [01:24<01:09,  6.59it/s]"
     ]
    },
    {
     "name": "stdout",
     "output_type": "stream",
     "text": [
      "test date: 11\n"
     ]
    },
    {
     "name": "stderr",
     "output_type": "stream",
     "text": [
      "\r",
      " 57%|██████████████████████▎                | 615/1072 [01:24<01:13,  6.19it/s]"
     ]
    },
    {
     "name": "stdout",
     "output_type": "stream",
     "text": [
      "test date: 11\n"
     ]
    },
    {
     "name": "stderr",
     "output_type": "stream",
     "text": [
      "\r",
      " 57%|██████████████████████▍                | 616/1072 [01:24<01:12,  6.33it/s]"
     ]
    },
    {
     "name": "stdout",
     "output_type": "stream",
     "text": [
      "test date: 11\n"
     ]
    },
    {
     "name": "stderr",
     "output_type": "stream",
     "text": [
      "\r",
      " 58%|██████████████████████▍                | 617/1072 [01:25<01:10,  6.41it/s]"
     ]
    },
    {
     "name": "stdout",
     "output_type": "stream",
     "text": [
      "test date: 11\n"
     ]
    },
    {
     "name": "stderr",
     "output_type": "stream",
     "text": [
      "\r",
      " 58%|██████████████████████▍                | 618/1072 [01:25<01:12,  6.30it/s]"
     ]
    },
    {
     "name": "stdout",
     "output_type": "stream",
     "text": [
      "test date: 6\n"
     ]
    },
    {
     "name": "stderr",
     "output_type": "stream",
     "text": [
      "\r",
      " 58%|██████████████████████▌                | 619/1072 [01:25<01:12,  6.22it/s]"
     ]
    },
    {
     "name": "stdout",
     "output_type": "stream",
     "text": [
      "test date: 11\n"
     ]
    },
    {
     "name": "stderr",
     "output_type": "stream",
     "text": [
      "\r",
      " 58%|██████████████████████▌                | 620/1072 [01:25<01:11,  6.35it/s]"
     ]
    },
    {
     "name": "stdout",
     "output_type": "stream",
     "text": [
      "test date: 11\n"
     ]
    },
    {
     "name": "stderr",
     "output_type": "stream",
     "text": [
      "\r",
      " 58%|██████████████████████▌                | 621/1072 [01:25<01:08,  6.63it/s]"
     ]
    },
    {
     "name": "stdout",
     "output_type": "stream",
     "text": [
      "test date: 11\n"
     ]
    },
    {
     "name": "stderr",
     "output_type": "stream",
     "text": [
      "\r",
      " 58%|██████████████████████▋                | 623/1072 [01:25<01:02,  7.14it/s]"
     ]
    },
    {
     "name": "stdout",
     "output_type": "stream",
     "text": [
      "test date: 11\n"
     ]
    },
    {
     "name": "stderr",
     "output_type": "stream",
     "text": [
      "\r",
      " 58%|██████████████████████▋                | 624/1072 [01:26<01:06,  6.72it/s]"
     ]
    },
    {
     "name": "stdout",
     "output_type": "stream",
     "text": [
      "test date: 11\n"
     ]
    },
    {
     "name": "stderr",
     "output_type": "stream",
     "text": [
      "\r",
      " 58%|██████████████████████▊                | 626/1072 [01:26<01:03,  7.01it/s]"
     ]
    },
    {
     "name": "stdout",
     "output_type": "stream",
     "text": [
      "test date: 11\n"
     ]
    },
    {
     "name": "stderr",
     "output_type": "stream",
     "text": [
      "\r",
      " 58%|██████████████████████▊                | 627/1072 [01:26<01:06,  6.74it/s]"
     ]
    },
    {
     "name": "stdout",
     "output_type": "stream",
     "text": [
      "test date: 11\n"
     ]
    },
    {
     "name": "stderr",
     "output_type": "stream",
     "text": [
      "\r",
      " 59%|██████████████████████▊                | 628/1072 [01:26<01:08,  6.50it/s]"
     ]
    },
    {
     "name": "stdout",
     "output_type": "stream",
     "text": [
      "test date: 11\n"
     ]
    },
    {
     "name": "stderr",
     "output_type": "stream",
     "text": [
      "\r",
      " 59%|██████████████████████▉                | 629/1072 [01:26<01:10,  6.26it/s]"
     ]
    },
    {
     "name": "stdout",
     "output_type": "stream",
     "text": [
      "test date: 11\n"
     ]
    },
    {
     "name": "stderr",
     "output_type": "stream",
     "text": [
      "\r",
      " 59%|██████████████████████▉                | 630/1072 [01:27<01:12,  6.13it/s]"
     ]
    },
    {
     "name": "stdout",
     "output_type": "stream",
     "text": [
      "test date: 11\n"
     ]
    },
    {
     "name": "stderr",
     "output_type": "stream",
     "text": [
      "\r",
      " 59%|██████████████████████▉                | 631/1072 [01:27<01:12,  6.11it/s]"
     ]
    },
    {
     "name": "stdout",
     "output_type": "stream",
     "text": [
      "test date: 3\n"
     ]
    },
    {
     "name": "stderr",
     "output_type": "stream",
     "text": [
      "\r",
      " 59%|██████████████████████▉                | 632/1072 [01:27<01:12,  6.06it/s]"
     ]
    },
    {
     "name": "stdout",
     "output_type": "stream",
     "text": [
      "test date: 11\n"
     ]
    },
    {
     "name": "stderr",
     "output_type": "stream",
     "text": [
      "\r",
      " 59%|███████████████████████                | 633/1072 [01:27<01:13,  5.94it/s]"
     ]
    },
    {
     "name": "stdout",
     "output_type": "stream",
     "text": [
      "test date: 11\n"
     ]
    },
    {
     "name": "stderr",
     "output_type": "stream",
     "text": [
      "\r",
      " 59%|███████████████████████                | 634/1072 [01:27<01:14,  5.85it/s]"
     ]
    },
    {
     "name": "stdout",
     "output_type": "stream",
     "text": [
      "test date: 11\n"
     ]
    },
    {
     "name": "stderr",
     "output_type": "stream",
     "text": [
      "\r",
      " 59%|███████████████████████                | 635/1072 [01:27<01:15,  5.76it/s]"
     ]
    },
    {
     "name": "stdout",
     "output_type": "stream",
     "text": [
      "test date: 11\n"
     ]
    },
    {
     "name": "stderr",
     "output_type": "stream",
     "text": [
      "\r",
      " 59%|███████████████████████▏               | 637/1072 [01:28<01:10,  6.21it/s]"
     ]
    },
    {
     "name": "stdout",
     "output_type": "stream",
     "text": [
      "test date: 11\n"
     ]
    },
    {
     "name": "stderr",
     "output_type": "stream",
     "text": [
      "\r",
      " 60%|███████████████████████▏               | 639/1072 [01:28<01:06,  6.50it/s]"
     ]
    },
    {
     "name": "stdout",
     "output_type": "stream",
     "text": [
      "test date: 11\n"
     ]
    },
    {
     "name": "stderr",
     "output_type": "stream",
     "text": [
      "\r",
      " 60%|███████████████████████▎               | 641/1072 [01:28<01:01,  7.01it/s]"
     ]
    },
    {
     "name": "stdout",
     "output_type": "stream",
     "text": [
      "test date: 11\n"
     ]
    },
    {
     "name": "stderr",
     "output_type": "stream",
     "text": [
      "\r",
      " 60%|███████████████████████▍               | 643/1072 [01:28<00:57,  7.44it/s]"
     ]
    },
    {
     "name": "stdout",
     "output_type": "stream",
     "text": [
      "test date: 11\n"
     ]
    },
    {
     "name": "stderr",
     "output_type": "stream",
     "text": [
      " 60%|███████████████████████▍               | 645/1072 [01:29<00:58,  7.35it/s]"
     ]
    },
    {
     "name": "stdout",
     "output_type": "stream",
     "text": [
      "test date: 11\n"
     ]
    },
    {
     "name": "stderr",
     "output_type": "stream",
     "text": [
      "\r",
      " 60%|███████████████████████▌               | 646/1072 [01:29<00:59,  7.17it/s]"
     ]
    },
    {
     "name": "stdout",
     "output_type": "stream",
     "text": [
      "test date: 11\n"
     ]
    },
    {
     "name": "stderr",
     "output_type": "stream",
     "text": [
      "\r",
      " 60%|███████████████████████▌               | 647/1072 [01:29<01:02,  6.79it/s]"
     ]
    },
    {
     "name": "stdout",
     "output_type": "stream",
     "text": [
      "test date: 11\n"
     ]
    },
    {
     "name": "stderr",
     "output_type": "stream",
     "text": [
      "\r",
      " 60%|███████████████████████▌               | 648/1072 [01:29<01:06,  6.34it/s]"
     ]
    },
    {
     "name": "stdout",
     "output_type": "stream",
     "text": [
      "test date: 11\n"
     ]
    },
    {
     "name": "stderr",
     "output_type": "stream",
     "text": [
      "\r",
      " 61%|███████████████████████▌               | 649/1072 [01:29<01:09,  6.10it/s]"
     ]
    },
    {
     "name": "stdout",
     "output_type": "stream",
     "text": [
      "test date: 11\n"
     ]
    },
    {
     "name": "stderr",
     "output_type": "stream",
     "text": [
      "\r",
      " 61%|███████████████████████▋               | 650/1072 [01:30<01:09,  6.09it/s]"
     ]
    },
    {
     "name": "stdout",
     "output_type": "stream",
     "text": [
      "test date: 11\n"
     ]
    },
    {
     "name": "stderr",
     "output_type": "stream",
     "text": [
      "\r",
      " 61%|███████████████████████▋               | 651/1072 [01:30<01:10,  5.93it/s]"
     ]
    },
    {
     "name": "stdout",
     "output_type": "stream",
     "text": [
      "test date: 11\n"
     ]
    },
    {
     "name": "stderr",
     "output_type": "stream",
     "text": [
      "\r",
      " 61%|███████████████████████▊               | 653/1072 [01:30<01:05,  6.35it/s]"
     ]
    },
    {
     "name": "stdout",
     "output_type": "stream",
     "text": [
      "test date: 11\n"
     ]
    },
    {
     "name": "stderr",
     "output_type": "stream",
     "text": [
      "\r",
      " 61%|███████████████████████▊               | 654/1072 [01:30<01:08,  6.11it/s]"
     ]
    },
    {
     "name": "stdout",
     "output_type": "stream",
     "text": [
      "test date: 11\n"
     ]
    },
    {
     "name": "stderr",
     "output_type": "stream",
     "text": [
      "\r",
      " 61%|███████████████████████▊               | 655/1072 [01:30<01:10,  5.95it/s]"
     ]
    },
    {
     "name": "stdout",
     "output_type": "stream",
     "text": [
      "test date: 11\n"
     ]
    },
    {
     "name": "stderr",
     "output_type": "stream",
     "text": [
      "\r",
      " 61%|███████████████████████▊               | 656/1072 [01:30<01:11,  5.82it/s]"
     ]
    },
    {
     "name": "stdout",
     "output_type": "stream",
     "text": [
      "test date: 11\n"
     ]
    },
    {
     "name": "stderr",
     "output_type": "stream",
     "text": [
      "\r",
      " 61%|███████████████████████▉               | 657/1072 [01:31<01:11,  5.77it/s]"
     ]
    },
    {
     "name": "stdout",
     "output_type": "stream",
     "text": [
      "test date: 11\n"
     ]
    },
    {
     "name": "stderr",
     "output_type": "stream",
     "text": [
      "\r",
      " 61%|███████████████████████▉               | 658/1072 [01:31<01:11,  5.75it/s]"
     ]
    },
    {
     "name": "stdout",
     "output_type": "stream",
     "text": [
      "test date: 11\n"
     ]
    },
    {
     "name": "stderr",
     "output_type": "stream",
     "text": [
      "\r",
      " 61%|███████████████████████▉               | 659/1072 [01:31<01:12,  5.73it/s]"
     ]
    },
    {
     "name": "stdout",
     "output_type": "stream",
     "text": [
      "test date: 11\n"
     ]
    },
    {
     "name": "stderr",
     "output_type": "stream",
     "text": [
      "\r",
      " 62%|████████████████████████               | 660/1072 [01:31<01:12,  5.67it/s]"
     ]
    },
    {
     "name": "stdout",
     "output_type": "stream",
     "text": [
      "test date: 11\n"
     ]
    },
    {
     "name": "stderr",
     "output_type": "stream",
     "text": [
      "\r",
      " 62%|████████████████████████               | 661/1072 [01:31<01:12,  5.64it/s]"
     ]
    },
    {
     "name": "stdout",
     "output_type": "stream",
     "text": [
      "test date: 11\n"
     ]
    },
    {
     "name": "stderr",
     "output_type": "stream",
     "text": [
      "\r",
      " 62%|████████████████████████               | 662/1072 [01:32<01:14,  5.49it/s]"
     ]
    },
    {
     "name": "stdout",
     "output_type": "stream",
     "text": [
      "test date: 11\n"
     ]
    },
    {
     "name": "stderr",
     "output_type": "stream",
     "text": [
      "\r",
      " 62%|████████████████████████               | 663/1072 [01:32<01:10,  5.79it/s]"
     ]
    },
    {
     "name": "stdout",
     "output_type": "stream",
     "text": [
      "test date: 11\n"
     ]
    },
    {
     "name": "stderr",
     "output_type": "stream",
     "text": [
      "\r",
      " 62%|████████████████████████▏              | 665/1072 [01:32<01:05,  6.24it/s]"
     ]
    },
    {
     "name": "stdout",
     "output_type": "stream",
     "text": [
      "test date: 11\n"
     ]
    },
    {
     "name": "stderr",
     "output_type": "stream",
     "text": [
      "\r",
      " 62%|████████████████████████▏              | 666/1072 [01:32<01:07,  6.00it/s]"
     ]
    },
    {
     "name": "stdout",
     "output_type": "stream",
     "text": [
      "test date: 11\n"
     ]
    },
    {
     "name": "stderr",
     "output_type": "stream",
     "text": [
      " 62%|████████████████████████▎              | 668/1072 [01:32<01:01,  6.55it/s]"
     ]
    },
    {
     "name": "stdout",
     "output_type": "stream",
     "text": [
      "test date: 11\n"
     ]
    },
    {
     "name": "stderr",
     "output_type": "stream",
     "text": [
      "\r",
      " 62%|████████████████████████▎              | 669/1072 [01:33<01:00,  6.68it/s]"
     ]
    },
    {
     "name": "stdout",
     "output_type": "stream",
     "text": [
      "test date: 11\n"
     ]
    },
    {
     "name": "stderr",
     "output_type": "stream",
     "text": [
      "\r",
      " 62%|████████████████████████▍              | 670/1072 [01:33<01:03,  6.30it/s]"
     ]
    },
    {
     "name": "stdout",
     "output_type": "stream",
     "text": [
      "test date: 11\n"
     ]
    },
    {
     "name": "stderr",
     "output_type": "stream",
     "text": [
      "\r",
      " 63%|████████████████████████▍              | 671/1072 [01:33<01:06,  6.07it/s]"
     ]
    },
    {
     "name": "stdout",
     "output_type": "stream",
     "text": [
      "test date: 11\n"
     ]
    },
    {
     "name": "stderr",
     "output_type": "stream",
     "text": [
      "\r",
      " 63%|████████████████████████▍              | 672/1072 [01:33<01:07,  5.95it/s]"
     ]
    },
    {
     "name": "stdout",
     "output_type": "stream",
     "text": [
      "test date: 11\n"
     ]
    },
    {
     "name": "stderr",
     "output_type": "stream",
     "text": [
      "\r",
      " 63%|████████████████████████▍              | 673/1072 [01:33<01:08,  5.84it/s]"
     ]
    },
    {
     "name": "stdout",
     "output_type": "stream",
     "text": [
      "test date: 11\n"
     ]
    },
    {
     "name": "stderr",
     "output_type": "stream",
     "text": [
      "\r",
      " 63%|████████████████████████▌              | 674/1072 [01:33<01:09,  5.75it/s]"
     ]
    },
    {
     "name": "stdout",
     "output_type": "stream",
     "text": [
      "test date: 2\n"
     ]
    },
    {
     "name": "stderr",
     "output_type": "stream",
     "text": [
      "\r",
      " 63%|████████████████████████▌              | 675/1072 [01:34<01:09,  5.71it/s]"
     ]
    },
    {
     "name": "stdout",
     "output_type": "stream",
     "text": [
      "test date: 11\n"
     ]
    },
    {
     "name": "stderr",
     "output_type": "stream",
     "text": [
      "\r",
      " 63%|████████████████████████▌              | 676/1072 [01:34<01:09,  5.67it/s]"
     ]
    },
    {
     "name": "stdout",
     "output_type": "stream",
     "text": [
      "test date: 11\n"
     ]
    },
    {
     "name": "stderr",
     "output_type": "stream",
     "text": [
      "\r",
      " 63%|████████████████████████▋              | 677/1072 [01:34<01:10,  5.64it/s]"
     ]
    },
    {
     "name": "stdout",
     "output_type": "stream",
     "text": [
      "test date: 11\n"
     ]
    },
    {
     "name": "stderr",
     "output_type": "stream",
     "text": [
      "\r",
      " 63%|████████████████████████▋              | 678/1072 [01:34<01:09,  5.63it/s]"
     ]
    },
    {
     "name": "stdout",
     "output_type": "stream",
     "text": [
      "test date: 11\n"
     ]
    },
    {
     "name": "stderr",
     "output_type": "stream",
     "text": [
      "\r",
      " 63%|████████████████████████▋              | 679/1072 [01:34<01:10,  5.59it/s]"
     ]
    },
    {
     "name": "stdout",
     "output_type": "stream",
     "text": [
      "test date: 11\n"
     ]
    },
    {
     "name": "stderr",
     "output_type": "stream",
     "text": [
      "\r",
      " 63%|████████████████████████▋              | 680/1072 [01:35<01:10,  5.60it/s]"
     ]
    },
    {
     "name": "stdout",
     "output_type": "stream",
     "text": [
      "test date: 11\n"
     ]
    },
    {
     "name": "stderr",
     "output_type": "stream",
     "text": [
      "\r",
      " 64%|████████████████████████▊              | 681/1072 [01:35<01:09,  5.60it/s]"
     ]
    },
    {
     "name": "stdout",
     "output_type": "stream",
     "text": [
      "test date: 11\n"
     ]
    },
    {
     "name": "stderr",
     "output_type": "stream",
     "text": [
      "\r",
      " 64%|████████████████████████▊              | 682/1072 [01:35<01:10,  5.51it/s]"
     ]
    },
    {
     "name": "stdout",
     "output_type": "stream",
     "text": [
      "test date: 11\n"
     ]
    },
    {
     "name": "stderr",
     "output_type": "stream",
     "text": [
      "\r",
      " 64%|████████████████████████▊              | 683/1072 [01:35<01:11,  5.47it/s]"
     ]
    },
    {
     "name": "stdout",
     "output_type": "stream",
     "text": [
      "test date: 11\n"
     ]
    },
    {
     "name": "stderr",
     "output_type": "stream",
     "text": [
      "\r",
      " 64%|████████████████████████▉              | 684/1072 [01:35<01:10,  5.48it/s]"
     ]
    },
    {
     "name": "stdout",
     "output_type": "stream",
     "text": [
      "test date: 11\n"
     ]
    },
    {
     "name": "stderr",
     "output_type": "stream",
     "text": [
      "\r",
      " 64%|████████████████████████▉              | 685/1072 [01:35<01:10,  5.45it/s]"
     ]
    },
    {
     "name": "stdout",
     "output_type": "stream",
     "text": [
      "test date: 11\n"
     ]
    },
    {
     "name": "stderr",
     "output_type": "stream",
     "text": [
      "\r",
      " 64%|████████████████████████▉              | 686/1072 [01:36<01:10,  5.45it/s]"
     ]
    },
    {
     "name": "stdout",
     "output_type": "stream",
     "text": [
      "test date: 11\n"
     ]
    },
    {
     "name": "stderr",
     "output_type": "stream",
     "text": [
      "\r",
      " 64%|████████████████████████▉              | 687/1072 [01:36<01:10,  5.45it/s]"
     ]
    },
    {
     "name": "stdout",
     "output_type": "stream",
     "text": [
      "test date: 11\n"
     ]
    },
    {
     "name": "stderr",
     "output_type": "stream",
     "text": [
      "\r",
      " 64%|█████████████████████████              | 688/1072 [01:36<01:10,  5.46it/s]"
     ]
    },
    {
     "name": "stdout",
     "output_type": "stream",
     "text": [
      "test date: 11\n"
     ]
    },
    {
     "name": "stderr",
     "output_type": "stream",
     "text": [
      "\r",
      " 64%|█████████████████████████              | 689/1072 [01:36<01:10,  5.41it/s]"
     ]
    },
    {
     "name": "stdout",
     "output_type": "stream",
     "text": [
      "test date: 11\n"
     ]
    },
    {
     "name": "stderr",
     "output_type": "stream",
     "text": [
      "\r",
      " 64%|█████████████████████████▏             | 691/1072 [01:36<01:04,  5.90it/s]"
     ]
    },
    {
     "name": "stdout",
     "output_type": "stream",
     "text": [
      "test date: 11\n"
     ]
    },
    {
     "name": "stderr",
     "output_type": "stream",
     "text": [
      "\r",
      " 65%|█████████████████████████▏             | 692/1072 [01:37<01:05,  5.77it/s]"
     ]
    },
    {
     "name": "stdout",
     "output_type": "stream",
     "text": [
      "test date: 11\n"
     ]
    },
    {
     "name": "stderr",
     "output_type": "stream",
     "text": [
      "\r",
      " 65%|█████████████████████████▏             | 693/1072 [01:37<01:06,  5.73it/s]"
     ]
    },
    {
     "name": "stdout",
     "output_type": "stream",
     "text": [
      "test date: 11\n"
     ]
    },
    {
     "name": "stderr",
     "output_type": "stream",
     "text": [
      "\r",
      " 65%|█████████████████████████▏             | 694/1072 [01:37<01:07,  5.62it/s]"
     ]
    },
    {
     "name": "stdout",
     "output_type": "stream",
     "text": [
      "test date: 11\n"
     ]
    },
    {
     "name": "stderr",
     "output_type": "stream",
     "text": [
      "\r",
      " 65%|█████████████████████████▎             | 695/1072 [01:37<01:03,  5.98it/s]"
     ]
    },
    {
     "name": "stdout",
     "output_type": "stream",
     "text": [
      "test date: 11\n"
     ]
    },
    {
     "name": "stderr",
     "output_type": "stream",
     "text": [
      "\r",
      " 65%|█████████████████████████▎             | 696/1072 [01:37<01:04,  5.86it/s]"
     ]
    },
    {
     "name": "stdout",
     "output_type": "stream",
     "text": [
      "test date: 11\n"
     ]
    },
    {
     "name": "stderr",
     "output_type": "stream",
     "text": [
      "\r",
      " 65%|█████████████████████████▎             | 697/1072 [01:38<01:05,  5.72it/s]"
     ]
    },
    {
     "name": "stdout",
     "output_type": "stream",
     "text": [
      "test date: 11\n"
     ]
    },
    {
     "name": "stderr",
     "output_type": "stream",
     "text": [
      "\r",
      " 65%|█████████████████████████▍             | 698/1072 [01:38<01:06,  5.63it/s]"
     ]
    },
    {
     "name": "stdout",
     "output_type": "stream",
     "text": [
      "test date: 11\n"
     ]
    },
    {
     "name": "stderr",
     "output_type": "stream",
     "text": [
      "\r",
      " 65%|█████████████████████████▍             | 699/1072 [01:38<01:04,  5.76it/s]"
     ]
    },
    {
     "name": "stdout",
     "output_type": "stream",
     "text": [
      "test date: 11\n"
     ]
    },
    {
     "name": "stderr",
     "output_type": "stream",
     "text": [
      "\r",
      " 65%|█████████████████████████▌             | 701/1072 [01:38<00:58,  6.32it/s]"
     ]
    },
    {
     "name": "stdout",
     "output_type": "stream",
     "text": [
      "test date: 11\n"
     ]
    },
    {
     "name": "stderr",
     "output_type": "stream",
     "text": [
      "\r",
      " 65%|█████████████████████████▌             | 702/1072 [01:38<00:59,  6.17it/s]"
     ]
    },
    {
     "name": "stdout",
     "output_type": "stream",
     "text": [
      "test date: 11\n"
     ]
    },
    {
     "name": "stderr",
     "output_type": "stream",
     "text": [
      "\r",
      " 66%|█████████████████████████▌             | 703/1072 [01:38<01:00,  6.14it/s]"
     ]
    },
    {
     "name": "stdout",
     "output_type": "stream",
     "text": [
      "test date: 11\n"
     ]
    },
    {
     "name": "stderr",
     "output_type": "stream",
     "text": [
      "\r",
      " 66%|█████████████████████████▌             | 704/1072 [01:39<01:02,  5.91it/s]"
     ]
    },
    {
     "name": "stdout",
     "output_type": "stream",
     "text": [
      "test date: 11\n"
     ]
    },
    {
     "name": "stderr",
     "output_type": "stream",
     "text": [
      "\r",
      " 66%|█████████████████████████▋             | 705/1072 [01:39<00:59,  6.21it/s]"
     ]
    },
    {
     "name": "stdout",
     "output_type": "stream",
     "text": [
      "test date: 11\n"
     ]
    },
    {
     "name": "stderr",
     "output_type": "stream",
     "text": [
      "\r",
      " 66%|█████████████████████████▋             | 706/1072 [01:39<01:02,  5.88it/s]"
     ]
    },
    {
     "name": "stdout",
     "output_type": "stream",
     "text": [
      "test date: 11\n"
     ]
    },
    {
     "name": "stderr",
     "output_type": "stream",
     "text": [
      "\r",
      " 66%|█████████████████████████▋             | 707/1072 [01:39<01:01,  5.91it/s]"
     ]
    },
    {
     "name": "stdout",
     "output_type": "stream",
     "text": [
      "test date: 11\n"
     ]
    },
    {
     "name": "stderr",
     "output_type": "stream",
     "text": [
      "\r",
      " 66%|█████████████████████████▊             | 709/1072 [01:39<00:54,  6.64it/s]"
     ]
    },
    {
     "name": "stdout",
     "output_type": "stream",
     "text": [
      "test date: 11\n"
     ]
    },
    {
     "name": "stderr",
     "output_type": "stream",
     "text": [
      "\r",
      " 66%|█████████████████████████▊             | 710/1072 [01:40<00:56,  6.42it/s]"
     ]
    },
    {
     "name": "stdout",
     "output_type": "stream",
     "text": [
      "test date: 11\n"
     ]
    },
    {
     "name": "stderr",
     "output_type": "stream",
     "text": [
      "\r",
      " 66%|█████████████████████████▊             | 711/1072 [01:40<00:59,  6.09it/s]"
     ]
    },
    {
     "name": "stdout",
     "output_type": "stream",
     "text": [
      "test date: 11\n"
     ]
    },
    {
     "name": "stderr",
     "output_type": "stream",
     "text": [
      "\r",
      " 66%|█████████████████████████▉             | 712/1072 [01:40<00:59,  6.06it/s]"
     ]
    },
    {
     "name": "stdout",
     "output_type": "stream",
     "text": [
      "test date: 11\n"
     ]
    },
    {
     "name": "stderr",
     "output_type": "stream",
     "text": [
      "\r",
      " 67%|█████████████████████████▉             | 713/1072 [01:40<00:56,  6.41it/s]"
     ]
    },
    {
     "name": "stdout",
     "output_type": "stream",
     "text": [
      "test date: 11\n"
     ]
    },
    {
     "name": "stderr",
     "output_type": "stream",
     "text": [
      "\r",
      " 67%|█████████████████████████▉             | 714/1072 [01:40<00:58,  6.12it/s]"
     ]
    },
    {
     "name": "stdout",
     "output_type": "stream",
     "text": [
      "test date: 11\n"
     ]
    },
    {
     "name": "stderr",
     "output_type": "stream",
     "text": [
      "\r",
      " 67%|██████████████████████████             | 715/1072 [01:40<00:58,  6.08it/s]"
     ]
    },
    {
     "name": "stdout",
     "output_type": "stream",
     "text": [
      "test date: 11\n"
     ]
    },
    {
     "name": "stderr",
     "output_type": "stream",
     "text": [
      "\r",
      " 67%|██████████████████████████             | 716/1072 [01:41<00:57,  6.23it/s]"
     ]
    },
    {
     "name": "stdout",
     "output_type": "stream",
     "text": [
      "test date: 11\n"
     ]
    },
    {
     "name": "stderr",
     "output_type": "stream",
     "text": [
      "\r",
      " 67%|██████████████████████████             | 718/1072 [01:41<00:52,  6.68it/s]"
     ]
    },
    {
     "name": "stdout",
     "output_type": "stream",
     "text": [
      "test date: 11\n"
     ]
    },
    {
     "name": "stderr",
     "output_type": "stream",
     "text": [
      "\r",
      " 67%|██████████████████████████▏            | 719/1072 [01:41<00:52,  6.73it/s]"
     ]
    },
    {
     "name": "stdout",
     "output_type": "stream",
     "text": [
      "test date: 11\n"
     ]
    },
    {
     "name": "stderr",
     "output_type": "stream",
     "text": [
      "\r",
      " 67%|██████████████████████████▏            | 720/1072 [01:41<00:56,  6.26it/s]"
     ]
    },
    {
     "name": "stdout",
     "output_type": "stream",
     "text": [
      "test date: 11\n"
     ]
    },
    {
     "name": "stderr",
     "output_type": "stream",
     "text": [
      "\r",
      " 67%|██████████████████████████▏            | 721/1072 [01:41<00:54,  6.49it/s]"
     ]
    },
    {
     "name": "stdout",
     "output_type": "stream",
     "text": [
      "test date: 11\n"
     ]
    },
    {
     "name": "stderr",
     "output_type": "stream",
     "text": [
      "\r",
      " 67%|██████████████████████████▎            | 722/1072 [01:41<00:56,  6.21it/s]"
     ]
    },
    {
     "name": "stdout",
     "output_type": "stream",
     "text": [
      "test date: 11\n"
     ]
    },
    {
     "name": "stderr",
     "output_type": "stream",
     "text": [
      "\r",
      " 67%|██████████████████████████▎            | 723/1072 [01:42<00:57,  6.12it/s]"
     ]
    },
    {
     "name": "stdout",
     "output_type": "stream",
     "text": [
      "test date: 11\n"
     ]
    },
    {
     "name": "stderr",
     "output_type": "stream",
     "text": [
      "\r",
      " 68%|██████████████████████████▎            | 724/1072 [01:42<00:58,  5.93it/s]"
     ]
    },
    {
     "name": "stdout",
     "output_type": "stream",
     "text": [
      "test date: 11\n"
     ]
    },
    {
     "name": "stderr",
     "output_type": "stream",
     "text": [
      "\r",
      " 68%|██████████████████████████▍            | 725/1072 [01:42<00:56,  6.14it/s]"
     ]
    },
    {
     "name": "stdout",
     "output_type": "stream",
     "text": [
      "test date: 11\n"
     ]
    },
    {
     "name": "stderr",
     "output_type": "stream",
     "text": [
      "\r",
      " 68%|██████████████████████████▍            | 726/1072 [01:42<00:56,  6.08it/s]"
     ]
    },
    {
     "name": "stdout",
     "output_type": "stream",
     "text": [
      "test date: 11\n"
     ]
    },
    {
     "name": "stderr",
     "output_type": "stream",
     "text": [
      "\r",
      " 68%|██████████████████████████▍            | 727/1072 [01:42<00:56,  6.07it/s]"
     ]
    },
    {
     "name": "stdout",
     "output_type": "stream",
     "text": [
      "test date: 11\n"
     ]
    },
    {
     "name": "stderr",
     "output_type": "stream",
     "text": [
      "\r",
      " 68%|██████████████████████████▍            | 728/1072 [01:42<00:56,  6.05it/s]"
     ]
    },
    {
     "name": "stdout",
     "output_type": "stream",
     "text": [
      "test date: 11\n"
     ]
    },
    {
     "name": "stderr",
     "output_type": "stream",
     "text": [
      "\r",
      " 68%|██████████████████████████▌            | 729/1072 [01:43<00:58,  5.84it/s]"
     ]
    },
    {
     "name": "stdout",
     "output_type": "stream",
     "text": [
      "test date: 11\n"
     ]
    },
    {
     "name": "stderr",
     "output_type": "stream",
     "text": [
      "\r",
      " 68%|██████████████████████████▌            | 730/1072 [01:43<00:55,  6.15it/s]"
     ]
    },
    {
     "name": "stdout",
     "output_type": "stream",
     "text": [
      "test date: 11\n"
     ]
    },
    {
     "name": "stderr",
     "output_type": "stream",
     "text": [
      "\r",
      " 68%|██████████████████████████▌            | 731/1072 [01:43<00:55,  6.10it/s]"
     ]
    },
    {
     "name": "stdout",
     "output_type": "stream",
     "text": [
      "test date: 11\n"
     ]
    },
    {
     "name": "stderr",
     "output_type": "stream",
     "text": [
      "\r",
      " 68%|██████████████████████████▋            | 732/1072 [01:43<00:56,  6.06it/s]"
     ]
    },
    {
     "name": "stdout",
     "output_type": "stream",
     "text": [
      "test date: 11\n"
     ]
    },
    {
     "name": "stderr",
     "output_type": "stream",
     "text": [
      "\r",
      " 68%|██████████████████████████▋            | 733/1072 [01:43<00:56,  5.96it/s]"
     ]
    },
    {
     "name": "stdout",
     "output_type": "stream",
     "text": [
      "test date: 11\n"
     ]
    },
    {
     "name": "stderr",
     "output_type": "stream",
     "text": [
      "\r",
      " 68%|██████████████████████████▋            | 734/1072 [01:43<00:58,  5.82it/s]"
     ]
    },
    {
     "name": "stdout",
     "output_type": "stream",
     "text": [
      "test date: 11\n"
     ]
    },
    {
     "name": "stderr",
     "output_type": "stream",
     "text": [
      "\r",
      " 69%|██████████████████████████▋            | 735/1072 [01:44<00:53,  6.25it/s]"
     ]
    },
    {
     "name": "stdout",
     "output_type": "stream",
     "text": [
      "test date: 11\n"
     ]
    },
    {
     "name": "stderr",
     "output_type": "stream",
     "text": [
      "\r",
      " 69%|██████████████████████████▊            | 736/1072 [01:44<00:53,  6.30it/s]"
     ]
    },
    {
     "name": "stdout",
     "output_type": "stream",
     "text": [
      "test date: 11\n"
     ]
    },
    {
     "name": "stderr",
     "output_type": "stream",
     "text": [
      "\r",
      " 69%|██████████████████████████▊            | 737/1072 [01:44<00:55,  5.99it/s]"
     ]
    },
    {
     "name": "stdout",
     "output_type": "stream",
     "text": [
      "test date: 11\n"
     ]
    },
    {
     "name": "stderr",
     "output_type": "stream",
     "text": [
      "\r",
      " 69%|██████████████████████████▊            | 738/1072 [01:44<00:56,  5.90it/s]"
     ]
    },
    {
     "name": "stdout",
     "output_type": "stream",
     "text": [
      "test date: 11\n"
     ]
    },
    {
     "name": "stderr",
     "output_type": "stream",
     "text": [
      "\r",
      " 69%|██████████████████████████▉            | 739/1072 [01:44<00:53,  6.23it/s]"
     ]
    },
    {
     "name": "stdout",
     "output_type": "stream",
     "text": [
      "test date: 11\n"
     ]
    },
    {
     "name": "stderr",
     "output_type": "stream",
     "text": [
      "\r",
      " 69%|██████████████████████████▉            | 740/1072 [01:44<00:56,  5.86it/s]"
     ]
    },
    {
     "name": "stdout",
     "output_type": "stream",
     "text": [
      "test date: 11\n"
     ]
    },
    {
     "name": "stderr",
     "output_type": "stream",
     "text": [
      "\r",
      " 69%|██████████████████████████▉            | 741/1072 [01:45<00:56,  5.90it/s]"
     ]
    },
    {
     "name": "stdout",
     "output_type": "stream",
     "text": [
      "test date: 11\n"
     ]
    },
    {
     "name": "stderr",
     "output_type": "stream",
     "text": [
      "\r",
      " 69%|██████████████████████████▉            | 742/1072 [01:45<00:55,  5.95it/s]"
     ]
    },
    {
     "name": "stdout",
     "output_type": "stream",
     "text": [
      "test date: 11\n"
     ]
    },
    {
     "name": "stderr",
     "output_type": "stream",
     "text": [
      "\r",
      " 69%|███████████████████████████            | 743/1072 [01:45<00:55,  5.95it/s]"
     ]
    },
    {
     "name": "stdout",
     "output_type": "stream",
     "text": [
      "test date: 11\n"
     ]
    },
    {
     "name": "stderr",
     "output_type": "stream",
     "text": [
      "\r",
      " 69%|███████████████████████████            | 744/1072 [01:45<00:51,  6.33it/s]"
     ]
    },
    {
     "name": "stdout",
     "output_type": "stream",
     "text": [
      "test date: 11\n"
     ]
    },
    {
     "name": "stderr",
     "output_type": "stream",
     "text": [
      "\r",
      " 69%|███████████████████████████            | 745/1072 [01:45<00:52,  6.19it/s]"
     ]
    },
    {
     "name": "stdout",
     "output_type": "stream",
     "text": [
      "test date: 11\n"
     ]
    },
    {
     "name": "stderr",
     "output_type": "stream",
     "text": [
      "\r",
      " 70%|███████████████████████████▏           | 746/1072 [01:45<00:54,  6.01it/s]"
     ]
    },
    {
     "name": "stdout",
     "output_type": "stream",
     "text": [
      "test date: 11\n"
     ]
    },
    {
     "name": "stderr",
     "output_type": "stream",
     "text": [
      "\r",
      " 70%|███████████████████████████▏           | 747/1072 [01:46<00:56,  5.78it/s]"
     ]
    },
    {
     "name": "stdout",
     "output_type": "stream",
     "text": [
      "test date: 11\n"
     ]
    },
    {
     "name": "stderr",
     "output_type": "stream",
     "text": [
      "\r",
      " 70%|███████████████████████████▏           | 748/1072 [01:46<00:56,  5.78it/s]"
     ]
    },
    {
     "name": "stdout",
     "output_type": "stream",
     "text": [
      "test date: 11\n"
     ]
    },
    {
     "name": "stderr",
     "output_type": "stream",
     "text": [
      "\r",
      " 70%|███████████████████████████▏           | 749/1072 [01:46<00:56,  5.68it/s]"
     ]
    },
    {
     "name": "stdout",
     "output_type": "stream",
     "text": [
      "test date: 11\n"
     ]
    },
    {
     "name": "stderr",
     "output_type": "stream",
     "text": [
      "\r",
      " 70%|███████████████████████████▎           | 750/1072 [01:46<00:57,  5.61it/s]"
     ]
    },
    {
     "name": "stdout",
     "output_type": "stream",
     "text": [
      "test date: 11\n"
     ]
    },
    {
     "name": "stderr",
     "output_type": "stream",
     "text": [
      "\r",
      " 70%|███████████████████████████▎           | 751/1072 [01:46<00:57,  5.54it/s]"
     ]
    },
    {
     "name": "stdout",
     "output_type": "stream",
     "text": [
      "test date: 11\n"
     ]
    },
    {
     "name": "stderr",
     "output_type": "stream",
     "text": [
      "\r",
      " 70%|███████████████████████████▍           | 753/1072 [01:47<00:53,  5.97it/s]"
     ]
    },
    {
     "name": "stdout",
     "output_type": "stream",
     "text": [
      "test date: 11\n"
     ]
    },
    {
     "name": "stderr",
     "output_type": "stream",
     "text": [
      "\r",
      " 70%|███████████████████████████▍           | 754/1072 [01:47<00:54,  5.83it/s]"
     ]
    },
    {
     "name": "stdout",
     "output_type": "stream",
     "text": [
      "test date: 11\n"
     ]
    },
    {
     "name": "stderr",
     "output_type": "stream",
     "text": [
      "\r",
      " 70%|███████████████████████████▍           | 755/1072 [01:47<00:55,  5.71it/s]"
     ]
    },
    {
     "name": "stdout",
     "output_type": "stream",
     "text": [
      "test date: 11\n"
     ]
    },
    {
     "name": "stderr",
     "output_type": "stream",
     "text": [
      "\r",
      " 71%|███████████████████████████▌           | 756/1072 [01:47<00:56,  5.62it/s]"
     ]
    },
    {
     "name": "stdout",
     "output_type": "stream",
     "text": [
      "test date: 1\n"
     ]
    },
    {
     "name": "stderr",
     "output_type": "stream",
     "text": [
      "\r",
      " 71%|███████████████████████████▌           | 757/1072 [01:47<00:56,  5.56it/s]"
     ]
    },
    {
     "name": "stdout",
     "output_type": "stream",
     "text": [
      "test date: 11\n"
     ]
    },
    {
     "name": "stderr",
     "output_type": "stream",
     "text": [
      "\r",
      " 71%|███████████████████████████▌           | 758/1072 [01:48<00:56,  5.53it/s]"
     ]
    },
    {
     "name": "stdout",
     "output_type": "stream",
     "text": [
      "test date: 11\n"
     ]
    },
    {
     "name": "stderr",
     "output_type": "stream",
     "text": [
      "\r",
      " 71%|███████████████████████████▌           | 759/1072 [01:48<00:56,  5.51it/s]"
     ]
    },
    {
     "name": "stdout",
     "output_type": "stream",
     "text": [
      "test date: 11\n"
     ]
    },
    {
     "name": "stderr",
     "output_type": "stream",
     "text": [
      "\r",
      " 71%|███████████████████████████▋           | 760/1072 [01:48<00:56,  5.48it/s]"
     ]
    },
    {
     "name": "stdout",
     "output_type": "stream",
     "text": [
      "test date: 11\n"
     ]
    },
    {
     "name": "stderr",
     "output_type": "stream",
     "text": [
      "\r",
      " 71%|███████████████████████████▋           | 761/1072 [01:48<00:56,  5.46it/s]"
     ]
    },
    {
     "name": "stdout",
     "output_type": "stream",
     "text": [
      "test date: 11\n"
     ]
    },
    {
     "name": "stderr",
     "output_type": "stream",
     "text": [
      "\r",
      " 71%|███████████████████████████▋           | 762/1072 [01:48<00:56,  5.46it/s]"
     ]
    },
    {
     "name": "stdout",
     "output_type": "stream",
     "text": [
      "test date: 11\n"
     ]
    },
    {
     "name": "stderr",
     "output_type": "stream",
     "text": [
      "\r",
      " 71%|███████████████████████████▊           | 763/1072 [01:48<00:56,  5.47it/s]"
     ]
    },
    {
     "name": "stdout",
     "output_type": "stream",
     "text": [
      "test date: 11\n"
     ]
    },
    {
     "name": "stderr",
     "output_type": "stream",
     "text": [
      "\r",
      " 71%|███████████████████████████▊           | 764/1072 [01:49<00:56,  5.47it/s]"
     ]
    },
    {
     "name": "stdout",
     "output_type": "stream",
     "text": [
      "test date: 11\n"
     ]
    },
    {
     "name": "stderr",
     "output_type": "stream",
     "text": [
      "\r",
      " 71%|███████████████████████████▊           | 765/1072 [01:49<00:56,  5.46it/s]"
     ]
    },
    {
     "name": "stdout",
     "output_type": "stream",
     "text": [
      "test date: 11\n"
     ]
    },
    {
     "name": "stderr",
     "output_type": "stream",
     "text": [
      "\r",
      " 71%|███████████████████████████▊           | 766/1072 [01:49<00:56,  5.44it/s]"
     ]
    },
    {
     "name": "stdout",
     "output_type": "stream",
     "text": [
      "test date: 11\n"
     ]
    },
    {
     "name": "stderr",
     "output_type": "stream",
     "text": [
      "\r",
      " 72%|███████████████████████████▉           | 767/1072 [01:49<00:56,  5.44it/s]"
     ]
    },
    {
     "name": "stdout",
     "output_type": "stream",
     "text": [
      "test date: 11\n"
     ]
    },
    {
     "name": "stderr",
     "output_type": "stream",
     "text": [
      "\r",
      " 72%|███████████████████████████▉           | 768/1072 [01:49<00:55,  5.44it/s]"
     ]
    },
    {
     "name": "stdout",
     "output_type": "stream",
     "text": [
      "test date: 11\n"
     ]
    },
    {
     "name": "stderr",
     "output_type": "stream",
     "text": [
      "\r",
      " 72%|███████████████████████████▉           | 769/1072 [01:50<00:55,  5.44it/s]"
     ]
    },
    {
     "name": "stdout",
     "output_type": "stream",
     "text": [
      "test date: 11\n"
     ]
    },
    {
     "name": "stderr",
     "output_type": "stream",
     "text": [
      "\r",
      " 72%|████████████████████████████           | 770/1072 [01:50<00:55,  5.44it/s]"
     ]
    },
    {
     "name": "stdout",
     "output_type": "stream",
     "text": [
      "test date: 8\n"
     ]
    },
    {
     "name": "stderr",
     "output_type": "stream",
     "text": [
      "\r",
      " 72%|████████████████████████████           | 771/1072 [01:50<00:55,  5.42it/s]"
     ]
    },
    {
     "name": "stdout",
     "output_type": "stream",
     "text": [
      "test date: 11\n"
     ]
    },
    {
     "name": "stderr",
     "output_type": "stream",
     "text": [
      "\r",
      " 72%|████████████████████████████           | 772/1072 [01:50<00:55,  5.43it/s]"
     ]
    },
    {
     "name": "stdout",
     "output_type": "stream",
     "text": [
      "test date: 11\n"
     ]
    },
    {
     "name": "stderr",
     "output_type": "stream",
     "text": [
      "\r",
      " 72%|████████████████████████████           | 773/1072 [01:50<00:55,  5.42it/s]"
     ]
    },
    {
     "name": "stdout",
     "output_type": "stream",
     "text": [
      "test date: 11\n"
     ]
    },
    {
     "name": "stderr",
     "output_type": "stream",
     "text": [
      "\r",
      " 72%|████████████████████████████▏          | 774/1072 [01:50<00:55,  5.40it/s]"
     ]
    },
    {
     "name": "stdout",
     "output_type": "stream",
     "text": [
      "test date: 11\n"
     ]
    },
    {
     "name": "stderr",
     "output_type": "stream",
     "text": [
      "\r",
      " 72%|████████████████████████████▏          | 775/1072 [01:51<00:54,  5.41it/s]"
     ]
    },
    {
     "name": "stdout",
     "output_type": "stream",
     "text": [
      "test date: 11\n"
     ]
    },
    {
     "name": "stderr",
     "output_type": "stream",
     "text": [
      "\r",
      " 72%|████████████████████████████▏          | 776/1072 [01:51<00:54,  5.42it/s]"
     ]
    },
    {
     "name": "stdout",
     "output_type": "stream",
     "text": [
      "test date: 11\n"
     ]
    },
    {
     "name": "stderr",
     "output_type": "stream",
     "text": [
      "\r",
      " 72%|████████████████████████████▎          | 777/1072 [01:51<00:54,  5.42it/s]"
     ]
    },
    {
     "name": "stdout",
     "output_type": "stream",
     "text": [
      "test date: 11\n"
     ]
    },
    {
     "name": "stderr",
     "output_type": "stream",
     "text": [
      "\r",
      " 73%|████████████████████████████▎          | 778/1072 [01:51<00:54,  5.39it/s]"
     ]
    },
    {
     "name": "stdout",
     "output_type": "stream",
     "text": [
      "test date: 11\n"
     ]
    },
    {
     "name": "stderr",
     "output_type": "stream",
     "text": [
      "\r",
      " 73%|████████████████████████████▎          | 779/1072 [01:51<00:54,  5.41it/s]"
     ]
    },
    {
     "name": "stdout",
     "output_type": "stream",
     "text": [
      "test date: 11\n"
     ]
    },
    {
     "name": "stderr",
     "output_type": "stream",
     "text": [
      "\r",
      " 73%|████████████████████████████▍          | 780/1072 [01:52<00:54,  5.41it/s]"
     ]
    },
    {
     "name": "stdout",
     "output_type": "stream",
     "text": [
      "test date: 11\n"
     ]
    },
    {
     "name": "stderr",
     "output_type": "stream",
     "text": [
      "\r",
      " 73%|████████████████████████████▍          | 781/1072 [01:52<00:53,  5.41it/s]"
     ]
    },
    {
     "name": "stdout",
     "output_type": "stream",
     "text": [
      "test date: 11\n"
     ]
    },
    {
     "name": "stderr",
     "output_type": "stream",
     "text": [
      "\r",
      " 73%|████████████████████████████▍          | 783/1072 [01:52<00:49,  5.86it/s]"
     ]
    },
    {
     "name": "stdout",
     "output_type": "stream",
     "text": [
      "test date: 9\n"
     ]
    },
    {
     "name": "stderr",
     "output_type": "stream",
     "text": [
      "\r",
      " 73%|████████████████████████████▌          | 784/1072 [01:52<00:49,  5.77it/s]"
     ]
    },
    {
     "name": "stdout",
     "output_type": "stream",
     "text": [
      "test date: 11\n"
     ]
    },
    {
     "name": "stderr",
     "output_type": "stream",
     "text": [
      "\r",
      " 73%|████████████████████████████▌          | 785/1072 [01:52<00:50,  5.67it/s]"
     ]
    },
    {
     "name": "stdout",
     "output_type": "stream",
     "text": [
      "test date: 11\n"
     ]
    },
    {
     "name": "stderr",
     "output_type": "stream",
     "text": [
      "\r",
      " 73%|████████████████████████████▌          | 786/1072 [01:53<00:51,  5.57it/s]"
     ]
    },
    {
     "name": "stdout",
     "output_type": "stream",
     "text": [
      "test date: 11\n"
     ]
    },
    {
     "name": "stderr",
     "output_type": "stream",
     "text": [
      "\r",
      " 73%|████████████████████████████▋          | 787/1072 [01:53<00:51,  5.54it/s]"
     ]
    },
    {
     "name": "stdout",
     "output_type": "stream",
     "text": [
      "test date: 11\n"
     ]
    },
    {
     "name": "stderr",
     "output_type": "stream",
     "text": [
      "\r",
      " 74%|████████████████████████████▋          | 788/1072 [01:53<00:51,  5.49it/s]"
     ]
    },
    {
     "name": "stdout",
     "output_type": "stream",
     "text": [
      "test date: 11\n"
     ]
    },
    {
     "name": "stderr",
     "output_type": "stream",
     "text": [
      "\r",
      " 74%|████████████████████████████▋          | 789/1072 [01:53<00:51,  5.47it/s]"
     ]
    },
    {
     "name": "stdout",
     "output_type": "stream",
     "text": [
      "test date: 11\n"
     ]
    },
    {
     "name": "stderr",
     "output_type": "stream",
     "text": [
      "\r",
      " 74%|████████████████████████████▋          | 790/1072 [01:53<00:51,  5.43it/s]"
     ]
    },
    {
     "name": "stdout",
     "output_type": "stream",
     "text": [
      "test date: 11\n"
     ]
    },
    {
     "name": "stderr",
     "output_type": "stream",
     "text": [
      "\r",
      " 74%|████████████████████████████▊          | 791/1072 [01:53<00:51,  5.43it/s]"
     ]
    },
    {
     "name": "stdout",
     "output_type": "stream",
     "text": [
      "test date: 11\n"
     ]
    },
    {
     "name": "stderr",
     "output_type": "stream",
     "text": [
      "\r",
      " 74%|████████████████████████████▊          | 792/1072 [01:54<00:51,  5.41it/s]"
     ]
    },
    {
     "name": "stdout",
     "output_type": "stream",
     "text": [
      "test date: 11\n"
     ]
    },
    {
     "name": "stderr",
     "output_type": "stream",
     "text": [
      "\r",
      " 74%|████████████████████████████▊          | 793/1072 [01:54<00:51,  5.42it/s]"
     ]
    },
    {
     "name": "stdout",
     "output_type": "stream",
     "text": [
      "test date: 11\n"
     ]
    },
    {
     "name": "stderr",
     "output_type": "stream",
     "text": [
      "\r",
      " 74%|████████████████████████████▉          | 794/1072 [01:54<00:51,  5.43it/s]"
     ]
    },
    {
     "name": "stdout",
     "output_type": "stream",
     "text": [
      "test date: 11\n"
     ]
    },
    {
     "name": "stderr",
     "output_type": "stream",
     "text": [
      "\r",
      " 74%|████████████████████████████▉          | 795/1072 [01:54<00:51,  5.41it/s]"
     ]
    },
    {
     "name": "stdout",
     "output_type": "stream",
     "text": [
      "test date: 11\n"
     ]
    },
    {
     "name": "stderr",
     "output_type": "stream",
     "text": [
      "\r",
      " 74%|████████████████████████████▉          | 796/1072 [01:54<00:50,  5.42it/s]"
     ]
    },
    {
     "name": "stdout",
     "output_type": "stream",
     "text": [
      "test date: 4\n"
     ]
    },
    {
     "name": "stderr",
     "output_type": "stream",
     "text": [
      "\r",
      " 74%|████████████████████████████▉          | 797/1072 [01:55<00:50,  5.42it/s]"
     ]
    },
    {
     "name": "stdout",
     "output_type": "stream",
     "text": [
      "test date: 11\n"
     ]
    },
    {
     "name": "stderr",
     "output_type": "stream",
     "text": [
      "\r",
      " 74%|█████████████████████████████          | 798/1072 [01:55<00:50,  5.42it/s]"
     ]
    },
    {
     "name": "stdout",
     "output_type": "stream",
     "text": [
      "test date: 11\n"
     ]
    },
    {
     "name": "stderr",
     "output_type": "stream",
     "text": [
      "\r",
      " 75%|█████████████████████████████          | 799/1072 [01:55<00:50,  5.42it/s]"
     ]
    },
    {
     "name": "stdout",
     "output_type": "stream",
     "text": [
      "test date: 2\n"
     ]
    },
    {
     "name": "stderr",
     "output_type": "stream",
     "text": [
      "\r",
      " 75%|█████████████████████████████          | 800/1072 [01:55<00:50,  5.44it/s]"
     ]
    },
    {
     "name": "stdout",
     "output_type": "stream",
     "text": [
      "test date: 11\n"
     ]
    },
    {
     "name": "stderr",
     "output_type": "stream",
     "text": [
      "\r",
      " 75%|█████████████████████████████▏         | 801/1072 [01:55<00:50,  5.42it/s]"
     ]
    },
    {
     "name": "stdout",
     "output_type": "stream",
     "text": [
      "test date: 11\n"
     ]
    },
    {
     "name": "stderr",
     "output_type": "stream",
     "text": [
      "\r",
      " 75%|█████████████████████████████▏         | 802/1072 [01:56<00:50,  5.40it/s]"
     ]
    },
    {
     "name": "stdout",
     "output_type": "stream",
     "text": [
      "test date: 11\n"
     ]
    },
    {
     "name": "stderr",
     "output_type": "stream",
     "text": [
      "\r",
      " 75%|█████████████████████████████▏         | 803/1072 [01:56<00:49,  5.42it/s]"
     ]
    },
    {
     "name": "stdout",
     "output_type": "stream",
     "text": [
      "test date: 11\n"
     ]
    },
    {
     "name": "stderr",
     "output_type": "stream",
     "text": [
      "\r",
      " 75%|█████████████████████████████▎         | 804/1072 [01:56<00:49,  5.41it/s]"
     ]
    },
    {
     "name": "stdout",
     "output_type": "stream",
     "text": [
      "test date: 11\n"
     ]
    },
    {
     "name": "stderr",
     "output_type": "stream",
     "text": [
      "\r",
      " 75%|█████████████████████████████▎         | 805/1072 [01:56<00:49,  5.42it/s]"
     ]
    },
    {
     "name": "stdout",
     "output_type": "stream",
     "text": [
      "test date: 11\n"
     ]
    },
    {
     "name": "stderr",
     "output_type": "stream",
     "text": [
      "\r",
      " 75%|█████████████████████████████▎         | 806/1072 [01:56<00:49,  5.41it/s]"
     ]
    },
    {
     "name": "stdout",
     "output_type": "stream",
     "text": [
      "test date: 11\n"
     ]
    },
    {
     "name": "stderr",
     "output_type": "stream",
     "text": [
      "\r",
      " 75%|█████████████████████████████▎         | 807/1072 [01:56<00:49,  5.41it/s]"
     ]
    },
    {
     "name": "stdout",
     "output_type": "stream",
     "text": [
      "test date: 11\n"
     ]
    },
    {
     "name": "stderr",
     "output_type": "stream",
     "text": [
      "\r",
      " 75%|█████████████████████████████▍         | 808/1072 [01:57<00:48,  5.41it/s]"
     ]
    },
    {
     "name": "stdout",
     "output_type": "stream",
     "text": [
      "test date: 11\n"
     ]
    },
    {
     "name": "stderr",
     "output_type": "stream",
     "text": [
      "\r",
      " 75%|█████████████████████████████▍         | 809/1072 [01:57<00:48,  5.41it/s]"
     ]
    },
    {
     "name": "stdout",
     "output_type": "stream",
     "text": [
      "test date: 11\n"
     ]
    },
    {
     "name": "stderr",
     "output_type": "stream",
     "text": [
      "\r",
      " 76%|█████████████████████████████▍         | 810/1072 [01:57<00:48,  5.44it/s]"
     ]
    },
    {
     "name": "stdout",
     "output_type": "stream",
     "text": [
      "test date: 11\n"
     ]
    },
    {
     "name": "stderr",
     "output_type": "stream",
     "text": [
      "\r",
      " 76%|█████████████████████████████▌         | 811/1072 [01:57<00:48,  5.40it/s]"
     ]
    },
    {
     "name": "stdout",
     "output_type": "stream",
     "text": [
      "test date: 11\n"
     ]
    },
    {
     "name": "stderr",
     "output_type": "stream",
     "text": [
      "\r",
      " 76%|█████████████████████████████▌         | 812/1072 [01:57<00:48,  5.38it/s]"
     ]
    },
    {
     "name": "stdout",
     "output_type": "stream",
     "text": [
      "test date: 4\n"
     ]
    },
    {
     "name": "stderr",
     "output_type": "stream",
     "text": [
      "\r",
      " 76%|█████████████████████████████▌         | 814/1072 [01:58<00:44,  5.84it/s]"
     ]
    },
    {
     "name": "stdout",
     "output_type": "stream",
     "text": [
      "test date: 11\n"
     ]
    },
    {
     "name": "stderr",
     "output_type": "stream",
     "text": [
      "\r",
      " 76%|█████████████████████████████▋         | 815/1072 [01:58<00:44,  5.71it/s]"
     ]
    },
    {
     "name": "stdout",
     "output_type": "stream",
     "text": [
      "test date: 11\n"
     ]
    },
    {
     "name": "stderr",
     "output_type": "stream",
     "text": [
      "\r",
      " 76%|█████████████████████████████▋         | 816/1072 [01:58<00:45,  5.58it/s]"
     ]
    },
    {
     "name": "stdout",
     "output_type": "stream",
     "text": [
      "test date: 11\n"
     ]
    },
    {
     "name": "stderr",
     "output_type": "stream",
     "text": [
      "\r",
      " 76%|█████████████████████████████▊         | 818/1072 [01:58<00:42,  6.00it/s]"
     ]
    },
    {
     "name": "stdout",
     "output_type": "stream",
     "text": [
      "test date: 11\n"
     ]
    },
    {
     "name": "stderr",
     "output_type": "stream",
     "text": [
      "\r",
      " 76%|█████████████████████████████▊         | 819/1072 [01:58<00:43,  5.81it/s]"
     ]
    },
    {
     "name": "stdout",
     "output_type": "stream",
     "text": [
      "test date: 11\n"
     ]
    },
    {
     "name": "stderr",
     "output_type": "stream",
     "text": [
      "\r",
      " 76%|█████████████████████████████▊         | 820/1072 [01:59<00:44,  5.67it/s]"
     ]
    },
    {
     "name": "stdout",
     "output_type": "stream",
     "text": [
      "test date: 11\n"
     ]
    },
    {
     "name": "stderr",
     "output_type": "stream",
     "text": [
      "\r",
      " 77%|█████████████████████████████▊         | 821/1072 [01:59<00:45,  5.57it/s]"
     ]
    },
    {
     "name": "stdout",
     "output_type": "stream",
     "text": [
      "test date: 11\n"
     ]
    },
    {
     "name": "stderr",
     "output_type": "stream",
     "text": [
      "\r",
      " 77%|█████████████████████████████▉         | 822/1072 [01:59<00:45,  5.51it/s]"
     ]
    },
    {
     "name": "stdout",
     "output_type": "stream",
     "text": [
      "test date: 11\n"
     ]
    },
    {
     "name": "stderr",
     "output_type": "stream",
     "text": [
      "\r",
      " 77%|█████████████████████████████▉         | 823/1072 [01:59<00:45,  5.47it/s]"
     ]
    },
    {
     "name": "stdout",
     "output_type": "stream",
     "text": [
      "test date: 11\n"
     ]
    },
    {
     "name": "stderr",
     "output_type": "stream",
     "text": [
      "\r",
      " 77%|█████████████████████████████▉         | 824/1072 [01:59<00:45,  5.42it/s]"
     ]
    },
    {
     "name": "stdout",
     "output_type": "stream",
     "text": [
      "test date: 11\n"
     ]
    },
    {
     "name": "stderr",
     "output_type": "stream",
     "text": [
      "\r",
      " 77%|██████████████████████████████         | 825/1072 [02:00<00:45,  5.43it/s]"
     ]
    },
    {
     "name": "stdout",
     "output_type": "stream",
     "text": [
      "test date: 11\n"
     ]
    },
    {
     "name": "stderr",
     "output_type": "stream",
     "text": [
      "\r",
      " 77%|██████████████████████████████         | 826/1072 [02:00<00:45,  5.41it/s]"
     ]
    },
    {
     "name": "stdout",
     "output_type": "stream",
     "text": [
      "test date: 11\n"
     ]
    },
    {
     "name": "stderr",
     "output_type": "stream",
     "text": [
      "\r",
      " 77%|██████████████████████████████         | 827/1072 [02:00<00:45,  5.40it/s]"
     ]
    },
    {
     "name": "stdout",
     "output_type": "stream",
     "text": [
      "test date: 11\n"
     ]
    },
    {
     "name": "stderr",
     "output_type": "stream",
     "text": [
      "\r",
      " 77%|██████████████████████████████         | 828/1072 [02:00<00:45,  5.38it/s]"
     ]
    },
    {
     "name": "stdout",
     "output_type": "stream",
     "text": [
      "test date: 11\n"
     ]
    },
    {
     "name": "stderr",
     "output_type": "stream",
     "text": [
      "\r",
      " 77%|██████████████████████████████▏        | 829/1072 [02:00<00:45,  5.40it/s]"
     ]
    },
    {
     "name": "stdout",
     "output_type": "stream",
     "text": [
      "test date: 11\n"
     ]
    },
    {
     "name": "stderr",
     "output_type": "stream",
     "text": [
      "\r",
      " 77%|██████████████████████████████▏        | 830/1072 [02:01<00:44,  5.39it/s]"
     ]
    },
    {
     "name": "stdout",
     "output_type": "stream",
     "text": [
      "test date: 11\n"
     ]
    },
    {
     "name": "stderr",
     "output_type": "stream",
     "text": [
      "\r",
      " 78%|██████████████████████████████▏        | 831/1072 [02:01<00:44,  5.36it/s]"
     ]
    },
    {
     "name": "stdout",
     "output_type": "stream",
     "text": [
      "test date: 11\n"
     ]
    },
    {
     "name": "stderr",
     "output_type": "stream",
     "text": [
      "\r",
      " 78%|██████████████████████████████▎        | 832/1072 [02:01<00:44,  5.36it/s]"
     ]
    },
    {
     "name": "stdout",
     "output_type": "stream",
     "text": [
      "test date: 11\n"
     ]
    },
    {
     "name": "stderr",
     "output_type": "stream",
     "text": [
      "\r",
      " 78%|██████████████████████████████▎        | 833/1072 [02:01<00:44,  5.36it/s]"
     ]
    },
    {
     "name": "stdout",
     "output_type": "stream",
     "text": [
      "test date: 11\n"
     ]
    },
    {
     "name": "stderr",
     "output_type": "stream",
     "text": [
      "\r",
      " 78%|██████████████████████████████▎        | 834/1072 [02:01<00:44,  5.36it/s]"
     ]
    },
    {
     "name": "stdout",
     "output_type": "stream",
     "text": [
      "test date: 11\n"
     ]
    },
    {
     "name": "stderr",
     "output_type": "stream",
     "text": [
      "\r",
      " 78%|██████████████████████████████▍        | 835/1072 [02:01<00:44,  5.35it/s]"
     ]
    },
    {
     "name": "stdout",
     "output_type": "stream",
     "text": [
      "test date: 11\n"
     ]
    },
    {
     "name": "stderr",
     "output_type": "stream",
     "text": [
      "\r",
      " 78%|██████████████████████████████▍        | 836/1072 [02:02<00:44,  5.36it/s]"
     ]
    },
    {
     "name": "stdout",
     "output_type": "stream",
     "text": [
      "test date: 11\n"
     ]
    },
    {
     "name": "stderr",
     "output_type": "stream",
     "text": [
      "\r",
      " 78%|██████████████████████████████▍        | 837/1072 [02:02<00:43,  5.37it/s]"
     ]
    },
    {
     "name": "stdout",
     "output_type": "stream",
     "text": [
      "test date: 11\n"
     ]
    },
    {
     "name": "stderr",
     "output_type": "stream",
     "text": [
      "\r",
      " 78%|██████████████████████████████▍        | 838/1072 [02:02<00:43,  5.35it/s]"
     ]
    },
    {
     "name": "stdout",
     "output_type": "stream",
     "text": [
      "test date: 11\n"
     ]
    },
    {
     "name": "stderr",
     "output_type": "stream",
     "text": [
      "\r",
      " 78%|██████████████████████████████▌        | 839/1072 [02:02<00:43,  5.36it/s]"
     ]
    },
    {
     "name": "stdout",
     "output_type": "stream",
     "text": [
      "test date: 11\n"
     ]
    },
    {
     "name": "stderr",
     "output_type": "stream",
     "text": [
      "\r",
      " 78%|██████████████████████████████▌        | 840/1072 [02:02<00:43,  5.36it/s]"
     ]
    },
    {
     "name": "stdout",
     "output_type": "stream",
     "text": [
      "test date: 6\n"
     ]
    },
    {
     "name": "stderr",
     "output_type": "stream",
     "text": [
      "\r",
      " 78%|██████████████████████████████▌        | 841/1072 [02:03<00:43,  5.35it/s]"
     ]
    },
    {
     "name": "stdout",
     "output_type": "stream",
     "text": [
      "test date: 1\n"
     ]
    },
    {
     "name": "stderr",
     "output_type": "stream",
     "text": [
      "\r",
      " 79%|██████████████████████████████▋        | 842/1072 [02:03<00:42,  5.35it/s]"
     ]
    },
    {
     "name": "stdout",
     "output_type": "stream",
     "text": [
      "test date: 11\n"
     ]
    },
    {
     "name": "stderr",
     "output_type": "stream",
     "text": [
      "\r",
      " 79%|██████████████████████████████▋        | 843/1072 [02:03<00:42,  5.34it/s]"
     ]
    },
    {
     "name": "stdout",
     "output_type": "stream",
     "text": [
      "test date: 11\n"
     ]
    },
    {
     "name": "stderr",
     "output_type": "stream",
     "text": [
      "\r",
      " 79%|██████████████████████████████▋        | 845/1072 [02:03<00:39,  5.80it/s]"
     ]
    },
    {
     "name": "stdout",
     "output_type": "stream",
     "text": [
      "test date: 11\n"
     ]
    },
    {
     "name": "stderr",
     "output_type": "stream",
     "text": [
      "\r",
      " 79%|██████████████████████████████▊        | 846/1072 [02:03<00:39,  5.67it/s]"
     ]
    },
    {
     "name": "stdout",
     "output_type": "stream",
     "text": [
      "test date: 11\n"
     ]
    },
    {
     "name": "stderr",
     "output_type": "stream",
     "text": [
      "\r",
      " 79%|██████████████████████████████▊        | 847/1072 [02:04<00:40,  5.56it/s]"
     ]
    },
    {
     "name": "stdout",
     "output_type": "stream",
     "text": [
      "test date: 11\n"
     ]
    },
    {
     "name": "stderr",
     "output_type": "stream",
     "text": [
      "\r",
      " 79%|██████████████████████████████▊        | 848/1072 [02:04<00:40,  5.49it/s]"
     ]
    },
    {
     "name": "stdout",
     "output_type": "stream",
     "text": [
      "test date: 11\n"
     ]
    },
    {
     "name": "stderr",
     "output_type": "stream",
     "text": [
      "\r",
      " 79%|██████████████████████████████▉        | 849/1072 [02:04<00:40,  5.44it/s]"
     ]
    },
    {
     "name": "stdout",
     "output_type": "stream",
     "text": [
      "test date: 11\n"
     ]
    },
    {
     "name": "stderr",
     "output_type": "stream",
     "text": [
      "\r",
      " 79%|██████████████████████████████▉        | 850/1072 [02:04<00:41,  5.41it/s]"
     ]
    },
    {
     "name": "stdout",
     "output_type": "stream",
     "text": [
      "test date: 11\n"
     ]
    },
    {
     "name": "stderr",
     "output_type": "stream",
     "text": [
      "\r",
      " 79%|██████████████████████████████▉        | 852/1072 [02:04<00:37,  5.84it/s]"
     ]
    },
    {
     "name": "stdout",
     "output_type": "stream",
     "text": [
      "test date: 11\n"
     ]
    },
    {
     "name": "stderr",
     "output_type": "stream",
     "text": [
      "\r",
      " 80%|███████████████████████████████        | 853/1072 [02:05<00:38,  5.69it/s]"
     ]
    },
    {
     "name": "stdout",
     "output_type": "stream",
     "text": [
      "test date: 11\n"
     ]
    },
    {
     "name": "stderr",
     "output_type": "stream",
     "text": [
      "\r",
      " 80%|███████████████████████████████        | 854/1072 [02:05<00:38,  5.59it/s]"
     ]
    },
    {
     "name": "stdout",
     "output_type": "stream",
     "text": [
      "test date: 11\n"
     ]
    },
    {
     "name": "stderr",
     "output_type": "stream",
     "text": [
      "\r",
      " 80%|███████████████████████████████▏       | 856/1072 [02:05<00:36,  5.99it/s]"
     ]
    },
    {
     "name": "stdout",
     "output_type": "stream",
     "text": [
      "test date: 11\n"
     ]
    },
    {
     "name": "stderr",
     "output_type": "stream",
     "text": [
      "\r",
      " 80%|███████████████████████████████▏       | 857/1072 [02:05<00:36,  5.90it/s]"
     ]
    },
    {
     "name": "stdout",
     "output_type": "stream",
     "text": [
      "test date: 11\n"
     ]
    },
    {
     "name": "stderr",
     "output_type": "stream",
     "text": [
      "\r",
      " 80%|███████████████████████████████▏       | 858/1072 [02:05<00:36,  5.87it/s]"
     ]
    },
    {
     "name": "stdout",
     "output_type": "stream",
     "text": [
      "test date: 11\n"
     ]
    },
    {
     "name": "stderr",
     "output_type": "stream",
     "text": [
      "\r",
      " 80%|███████████████████████████████▎       | 860/1072 [02:06<00:33,  6.29it/s]"
     ]
    },
    {
     "name": "stdout",
     "output_type": "stream",
     "text": [
      "test date: 11\n"
     ]
    },
    {
     "name": "stderr",
     "output_type": "stream",
     "text": [
      "\r",
      " 80%|███████████████████████████████▎       | 861/1072 [02:06<00:35,  6.02it/s]"
     ]
    },
    {
     "name": "stdout",
     "output_type": "stream",
     "text": [
      "test date: 3\n"
     ]
    },
    {
     "name": "stderr",
     "output_type": "stream",
     "text": [
      "\r",
      " 80%|███████████████████████████████▎       | 862/1072 [02:06<00:35,  5.92it/s]"
     ]
    },
    {
     "name": "stdout",
     "output_type": "stream",
     "text": [
      "test date: 11\n"
     ]
    },
    {
     "name": "stderr",
     "output_type": "stream",
     "text": [
      "\r",
      " 81%|███████████████████████████████▍       | 863/1072 [02:06<00:36,  5.79it/s]"
     ]
    },
    {
     "name": "stdout",
     "output_type": "stream",
     "text": [
      "test date: 11\n"
     ]
    },
    {
     "name": "stderr",
     "output_type": "stream",
     "text": [
      "\r",
      " 81%|███████████████████████████████▍       | 864/1072 [02:06<00:36,  5.73it/s]"
     ]
    },
    {
     "name": "stdout",
     "output_type": "stream",
     "text": [
      "test date: 11\n"
     ]
    },
    {
     "name": "stderr",
     "output_type": "stream",
     "text": [
      "\r",
      " 81%|███████████████████████████████▍       | 865/1072 [02:07<00:35,  5.76it/s]"
     ]
    },
    {
     "name": "stdout",
     "output_type": "stream",
     "text": [
      "test date: 11\n"
     ]
    },
    {
     "name": "stderr",
     "output_type": "stream",
     "text": [
      "\r",
      " 81%|███████████████████████████████▌       | 866/1072 [02:07<00:35,  5.76it/s]"
     ]
    },
    {
     "name": "stdout",
     "output_type": "stream",
     "text": [
      "test date: 11\n"
     ]
    },
    {
     "name": "stderr",
     "output_type": "stream",
     "text": [
      "\r",
      " 81%|███████████████████████████████▌       | 867/1072 [02:07<00:35,  5.71it/s]"
     ]
    },
    {
     "name": "stdout",
     "output_type": "stream",
     "text": [
      "test date: 11\n"
     ]
    },
    {
     "name": "stderr",
     "output_type": "stream",
     "text": [
      "\r",
      " 81%|███████████████████████████████▌       | 868/1072 [02:07<00:37,  5.49it/s]"
     ]
    },
    {
     "name": "stdout",
     "output_type": "stream",
     "text": [
      "test date: 11\n"
     ]
    },
    {
     "name": "stderr",
     "output_type": "stream",
     "text": [
      "\r",
      " 81%|███████████████████████████████▌       | 869/1072 [02:07<00:34,  5.83it/s]"
     ]
    },
    {
     "name": "stdout",
     "output_type": "stream",
     "text": [
      "test date: 11\n"
     ]
    },
    {
     "name": "stderr",
     "output_type": "stream",
     "text": [
      "\r",
      " 81%|███████████████████████████████▋       | 870/1072 [02:07<00:34,  5.80it/s]"
     ]
    },
    {
     "name": "stdout",
     "output_type": "stream",
     "text": [
      "test date: 11\n"
     ]
    },
    {
     "name": "stderr",
     "output_type": "stream",
     "text": [
      "\r",
      " 81%|███████████████████████████████▋       | 871/1072 [02:08<00:34,  5.80it/s]"
     ]
    },
    {
     "name": "stdout",
     "output_type": "stream",
     "text": [
      "test date: 11\n"
     ]
    },
    {
     "name": "stderr",
     "output_type": "stream",
     "text": [
      "\r",
      " 81%|███████████████████████████████▊       | 873/1072 [02:08<00:31,  6.30it/s]"
     ]
    },
    {
     "name": "stdout",
     "output_type": "stream",
     "text": [
      "test date: 11\n"
     ]
    },
    {
     "name": "stderr",
     "output_type": "stream",
     "text": [
      "\r",
      " 82%|███████████████████████████████▊       | 874/1072 [02:08<00:33,  5.95it/s]"
     ]
    },
    {
     "name": "stdout",
     "output_type": "stream",
     "text": [
      "test date: 11\n"
     ]
    },
    {
     "name": "stderr",
     "output_type": "stream",
     "text": [
      "\r",
      " 82%|███████████████████████████████▊       | 875/1072 [02:08<00:32,  6.09it/s]"
     ]
    },
    {
     "name": "stdout",
     "output_type": "stream",
     "text": [
      "test date: 11\n"
     ]
    },
    {
     "name": "stderr",
     "output_type": "stream",
     "text": [
      "\r",
      " 82%|███████████████████████████████▊       | 876/1072 [02:08<00:33,  5.93it/s]"
     ]
    },
    {
     "name": "stdout",
     "output_type": "stream",
     "text": [
      "test date: 11\n"
     ]
    },
    {
     "name": "stderr",
     "output_type": "stream",
     "text": [
      "\r",
      " 82%|███████████████████████████████▉       | 877/1072 [02:09<00:33,  5.86it/s]"
     ]
    },
    {
     "name": "stdout",
     "output_type": "stream",
     "text": [
      "test date: 11\n"
     ]
    },
    {
     "name": "stderr",
     "output_type": "stream",
     "text": [
      "\r",
      " 82%|███████████████████████████████▉       | 878/1072 [02:09<00:33,  5.81it/s]"
     ]
    },
    {
     "name": "stdout",
     "output_type": "stream",
     "text": [
      "test date: 11\n"
     ]
    },
    {
     "name": "stderr",
     "output_type": "stream",
     "text": [
      "\r",
      " 82%|███████████████████████████████▉       | 879/1072 [02:09<00:33,  5.79it/s]"
     ]
    },
    {
     "name": "stdout",
     "output_type": "stream",
     "text": [
      "test date: 11\n"
     ]
    },
    {
     "name": "stderr",
     "output_type": "stream",
     "text": [
      "\r",
      " 82%|████████████████████████████████       | 881/1072 [02:09<00:30,  6.22it/s]"
     ]
    },
    {
     "name": "stdout",
     "output_type": "stream",
     "text": [
      "test date: 11\n"
     ]
    },
    {
     "name": "stderr",
     "output_type": "stream",
     "text": [
      "\r",
      " 82%|████████████████████████████████       | 882/1072 [02:09<00:31,  6.09it/s]"
     ]
    },
    {
     "name": "stdout",
     "output_type": "stream",
     "text": [
      "test date: 11\n"
     ]
    },
    {
     "name": "stderr",
     "output_type": "stream",
     "text": [
      "\r",
      " 82%|████████████████████████████████       | 883/1072 [02:10<00:31,  5.99it/s]"
     ]
    },
    {
     "name": "stdout",
     "output_type": "stream",
     "text": [
      "test date: 11\n"
     ]
    },
    {
     "name": "stderr",
     "output_type": "stream",
     "text": [
      "\r",
      " 82%|████████████████████████████████▏      | 884/1072 [02:10<00:32,  5.73it/s]"
     ]
    },
    {
     "name": "stdout",
     "output_type": "stream",
     "text": [
      "test date: 11\n"
     ]
    },
    {
     "name": "stderr",
     "output_type": "stream",
     "text": [
      "\r",
      " 83%|████████████████████████████████▏      | 885/1072 [02:10<00:33,  5.66it/s]"
     ]
    },
    {
     "name": "stdout",
     "output_type": "stream",
     "text": [
      "test date: 11\n"
     ]
    },
    {
     "name": "stderr",
     "output_type": "stream",
     "text": [
      "\r",
      " 83%|████████████████████████████████▏      | 886/1072 [02:10<00:31,  5.96it/s]"
     ]
    },
    {
     "name": "stdout",
     "output_type": "stream",
     "text": [
      "test date: 11\n"
     ]
    },
    {
     "name": "stderr",
     "output_type": "stream",
     "text": [
      "\r",
      " 83%|████████████████████████████████▎      | 887/1072 [02:10<00:31,  5.90it/s]"
     ]
    },
    {
     "name": "stdout",
     "output_type": "stream",
     "text": [
      "test date: 11\n"
     ]
    },
    {
     "name": "stderr",
     "output_type": "stream",
     "text": [
      "\r",
      " 83%|████████████████████████████████▎      | 888/1072 [02:10<00:31,  5.81it/s]"
     ]
    },
    {
     "name": "stdout",
     "output_type": "stream",
     "text": [
      "test date: 11\n"
     ]
    },
    {
     "name": "stderr",
     "output_type": "stream",
     "text": [
      "\r",
      " 83%|████████████████████████████████▎      | 889/1072 [02:11<00:31,  5.78it/s]"
     ]
    },
    {
     "name": "stdout",
     "output_type": "stream",
     "text": [
      "test date: 11\n"
     ]
    },
    {
     "name": "stderr",
     "output_type": "stream",
     "text": [
      "\r",
      " 83%|████████████████████████████████▍      | 890/1072 [02:11<00:31,  5.78it/s]"
     ]
    },
    {
     "name": "stdout",
     "output_type": "stream",
     "text": [
      "test date: 11\n"
     ]
    },
    {
     "name": "stderr",
     "output_type": "stream",
     "text": [
      "\r",
      " 83%|████████████████████████████████▍      | 891/1072 [02:11<00:31,  5.71it/s]"
     ]
    },
    {
     "name": "stdout",
     "output_type": "stream",
     "text": [
      "test date: 11\n"
     ]
    },
    {
     "name": "stderr",
     "output_type": "stream",
     "text": [
      "\r",
      " 83%|████████████████████████████████▍      | 892/1072 [02:11<00:31,  5.70it/s]"
     ]
    },
    {
     "name": "stdout",
     "output_type": "stream",
     "text": [
      "test date: 11\n"
     ]
    },
    {
     "name": "stderr",
     "output_type": "stream",
     "text": [
      "\r",
      " 83%|████████████████████████████████▍      | 893/1072 [02:11<00:31,  5.63it/s]"
     ]
    },
    {
     "name": "stdout",
     "output_type": "stream",
     "text": [
      "test date: 11\n"
     ]
    },
    {
     "name": "stderr",
     "output_type": "stream",
     "text": [
      "\r",
      " 83%|████████████████████████████████▌      | 894/1072 [02:12<00:32,  5.55it/s]"
     ]
    },
    {
     "name": "stdout",
     "output_type": "stream",
     "text": [
      "test date: 11\n"
     ]
    },
    {
     "name": "stderr",
     "output_type": "stream",
     "text": [
      "\r",
      " 83%|████████████████████████████████▌      | 895/1072 [02:12<00:32,  5.49it/s]"
     ]
    },
    {
     "name": "stdout",
     "output_type": "stream",
     "text": [
      "test date: 11\n"
     ]
    },
    {
     "name": "stderr",
     "output_type": "stream",
     "text": [
      "\r",
      " 84%|████████████████████████████████▌      | 896/1072 [02:12<00:32,  5.45it/s]"
     ]
    },
    {
     "name": "stdout",
     "output_type": "stream",
     "text": [
      "test date: 11\n"
     ]
    },
    {
     "name": "stderr",
     "output_type": "stream",
     "text": [
      "\r",
      " 84%|████████████████████████████████▋      | 897/1072 [02:12<00:32,  5.42it/s]"
     ]
    },
    {
     "name": "stdout",
     "output_type": "stream",
     "text": [
      "test date: 11\n"
     ]
    },
    {
     "name": "stderr",
     "output_type": "stream",
     "text": [
      "\r",
      " 84%|████████████████████████████████▋      | 898/1072 [02:12<00:32,  5.40it/s]"
     ]
    },
    {
     "name": "stdout",
     "output_type": "stream",
     "text": [
      "test date: 11\n"
     ]
    },
    {
     "name": "stderr",
     "output_type": "stream",
     "text": [
      "\r",
      " 84%|████████████████████████████████▋      | 899/1072 [02:12<00:32,  5.38it/s]"
     ]
    },
    {
     "name": "stdout",
     "output_type": "stream",
     "text": [
      "test date: 8\n"
     ]
    },
    {
     "name": "stderr",
     "output_type": "stream",
     "text": [
      "\r",
      " 84%|████████████████████████████████▋      | 900/1072 [02:13<00:31,  5.40it/s]"
     ]
    },
    {
     "name": "stdout",
     "output_type": "stream",
     "text": [
      "test date: 11\n"
     ]
    },
    {
     "name": "stderr",
     "output_type": "stream",
     "text": [
      "\r",
      " 84%|████████████████████████████████▊      | 901/1072 [02:13<00:31,  5.41it/s]"
     ]
    },
    {
     "name": "stdout",
     "output_type": "stream",
     "text": [
      "test date: 11\n"
     ]
    },
    {
     "name": "stderr",
     "output_type": "stream",
     "text": [
      "\r",
      " 84%|████████████████████████████████▊      | 902/1072 [02:13<00:30,  5.53it/s]"
     ]
    },
    {
     "name": "stdout",
     "output_type": "stream",
     "text": [
      "test date: 11\n"
     ]
    },
    {
     "name": "stderr",
     "output_type": "stream",
     "text": [
      "\r",
      " 84%|████████████████████████████████▊      | 903/1072 [02:13<00:30,  5.58it/s]"
     ]
    },
    {
     "name": "stdout",
     "output_type": "stream",
     "text": [
      "test date: 11\n"
     ]
    },
    {
     "name": "stderr",
     "output_type": "stream",
     "text": [
      "\r",
      " 84%|████████████████████████████████▉      | 904/1072 [02:13<00:29,  5.65it/s]"
     ]
    },
    {
     "name": "stdout",
     "output_type": "stream",
     "text": [
      "test date: 11\n"
     ]
    },
    {
     "name": "stderr",
     "output_type": "stream",
     "text": [
      "\r",
      " 84%|████████████████████████████████▉      | 905/1072 [02:14<00:29,  5.60it/s]"
     ]
    },
    {
     "name": "stdout",
     "output_type": "stream",
     "text": [
      "test date: 11\n"
     ]
    },
    {
     "name": "stderr",
     "output_type": "stream",
     "text": [
      "\r",
      " 85%|████████████████████████████████▉      | 906/1072 [02:14<00:29,  5.56it/s]"
     ]
    },
    {
     "name": "stdout",
     "output_type": "stream",
     "text": [
      "test date: 11\n"
     ]
    },
    {
     "name": "stderr",
     "output_type": "stream",
     "text": [
      "\r",
      " 85%|████████████████████████████████▉      | 907/1072 [02:14<00:29,  5.56it/s]"
     ]
    },
    {
     "name": "stdout",
     "output_type": "stream",
     "text": [
      "test date: 11\n"
     ]
    },
    {
     "name": "stderr",
     "output_type": "stream",
     "text": [
      "\r",
      " 85%|█████████████████████████████████      | 908/1072 [02:14<00:29,  5.52it/s]"
     ]
    },
    {
     "name": "stdout",
     "output_type": "stream",
     "text": [
      "test date: 11\n"
     ]
    },
    {
     "name": "stderr",
     "output_type": "stream",
     "text": [
      "\r",
      " 85%|█████████████████████████████████      | 909/1072 [02:14<00:29,  5.52it/s]"
     ]
    },
    {
     "name": "stdout",
     "output_type": "stream",
     "text": [
      "test date: 11\n"
     ]
    },
    {
     "name": "stderr",
     "output_type": "stream",
     "text": [
      "\r",
      " 85%|█████████████████████████████████      | 910/1072 [02:14<00:29,  5.50it/s]"
     ]
    },
    {
     "name": "stdout",
     "output_type": "stream",
     "text": [
      "test date: 11\n"
     ]
    },
    {
     "name": "stderr",
     "output_type": "stream",
     "text": [
      "\r",
      " 85%|█████████████████████████████████▏     | 911/1072 [02:15<00:29,  5.50it/s]"
     ]
    },
    {
     "name": "stdout",
     "output_type": "stream",
     "text": [
      "test date: 11\n"
     ]
    },
    {
     "name": "stderr",
     "output_type": "stream",
     "text": [
      "\r",
      " 85%|█████████████████████████████████▏     | 912/1072 [02:15<00:28,  5.57it/s]"
     ]
    },
    {
     "name": "stdout",
     "output_type": "stream",
     "text": [
      "test date: 11\n"
     ]
    },
    {
     "name": "stderr",
     "output_type": "stream",
     "text": [
      "\r",
      " 85%|█████████████████████████████████▏     | 913/1072 [02:15<00:28,  5.62it/s]"
     ]
    },
    {
     "name": "stdout",
     "output_type": "stream",
     "text": [
      "test date: 11\n"
     ]
    },
    {
     "name": "stderr",
     "output_type": "stream",
     "text": [
      "\r",
      " 85%|█████████████████████████████████▎     | 914/1072 [02:15<00:29,  5.41it/s]"
     ]
    },
    {
     "name": "stdout",
     "output_type": "stream",
     "text": [
      "test date: 11\n"
     ]
    },
    {
     "name": "stderr",
     "output_type": "stream",
     "text": [
      "\r",
      " 85%|█████████████████████████████████▎     | 915/1072 [02:15<00:28,  5.57it/s]"
     ]
    },
    {
     "name": "stdout",
     "output_type": "stream",
     "text": [
      "test date: 11\n"
     ]
    },
    {
     "name": "stderr",
     "output_type": "stream",
     "text": [
      "\r",
      " 85%|█████████████████████████████████▎     | 916/1072 [02:15<00:26,  5.84it/s]"
     ]
    },
    {
     "name": "stdout",
     "output_type": "stream",
     "text": [
      "test date: 11\n"
     ]
    },
    {
     "name": "stderr",
     "output_type": "stream",
     "text": [
      "\r",
      " 86%|█████████████████████████████████▎     | 917/1072 [02:16<00:26,  5.82it/s]"
     ]
    },
    {
     "name": "stdout",
     "output_type": "stream",
     "text": [
      "test date: 11\n"
     ]
    },
    {
     "name": "stderr",
     "output_type": "stream",
     "text": [
      "\r",
      " 86%|█████████████████████████████████▍     | 918/1072 [02:16<00:27,  5.63it/s]"
     ]
    },
    {
     "name": "stdout",
     "output_type": "stream",
     "text": [
      "test date: 11\n"
     ]
    },
    {
     "name": "stderr",
     "output_type": "stream",
     "text": [
      "\r",
      " 86%|█████████████████████████████████▍     | 919/1072 [02:16<00:26,  5.73it/s]"
     ]
    },
    {
     "name": "stdout",
     "output_type": "stream",
     "text": [
      "test date: 11\n"
     ]
    },
    {
     "name": "stderr",
     "output_type": "stream",
     "text": [
      "\r",
      " 86%|█████████████████████████████████▍     | 920/1072 [02:16<00:26,  5.64it/s]"
     ]
    },
    {
     "name": "stdout",
     "output_type": "stream",
     "text": [
      "test date: 11\n"
     ]
    },
    {
     "name": "stderr",
     "output_type": "stream",
     "text": [
      "\r",
      " 86%|█████████████████████████████████▌     | 921/1072 [02:16<00:26,  5.75it/s]"
     ]
    },
    {
     "name": "stdout",
     "output_type": "stream",
     "text": [
      "test date: 11\n"
     ]
    },
    {
     "name": "stderr",
     "output_type": "stream",
     "text": [
      "\r",
      " 86%|█████████████████████████████████▌     | 922/1072 [02:17<00:25,  5.85it/s]"
     ]
    },
    {
     "name": "stdout",
     "output_type": "stream",
     "text": [
      "test date: 11\n"
     ]
    },
    {
     "name": "stderr",
     "output_type": "stream",
     "text": [
      "\r",
      " 86%|█████████████████████████████████▌     | 923/1072 [02:17<00:25,  5.76it/s]"
     ]
    },
    {
     "name": "stdout",
     "output_type": "stream",
     "text": [
      "test date: 11\n"
     ]
    },
    {
     "name": "stderr",
     "output_type": "stream",
     "text": [
      "\r",
      " 86%|█████████████████████████████████▌     | 924/1072 [02:17<00:25,  5.76it/s]"
     ]
    },
    {
     "name": "stdout",
     "output_type": "stream",
     "text": [
      "test date: 9\n"
     ]
    },
    {
     "name": "stderr",
     "output_type": "stream",
     "text": [
      "\r",
      " 86%|█████████████████████████████████▋     | 925/1072 [02:17<00:25,  5.76it/s]"
     ]
    },
    {
     "name": "stdout",
     "output_type": "stream",
     "text": [
      "test date: 11\n"
     ]
    },
    {
     "name": "stderr",
     "output_type": "stream",
     "text": [
      "\r",
      " 86%|█████████████████████████████████▋     | 926/1072 [02:17<00:25,  5.75it/s]"
     ]
    },
    {
     "name": "stdout",
     "output_type": "stream",
     "text": [
      "test date: 11\n"
     ]
    },
    {
     "name": "stderr",
     "output_type": "stream",
     "text": [
      "\r",
      " 87%|█████████████████████████████████▊     | 928/1072 [02:17<00:23,  6.25it/s]"
     ]
    },
    {
     "name": "stdout",
     "output_type": "stream",
     "text": [
      "test date: 11\n"
     ]
    },
    {
     "name": "stderr",
     "output_type": "stream",
     "text": [
      "\r",
      " 87%|█████████████████████████████████▊     | 929/1072 [02:18<00:23,  6.02it/s]"
     ]
    },
    {
     "name": "stdout",
     "output_type": "stream",
     "text": [
      "test date: 11\n"
     ]
    },
    {
     "name": "stderr",
     "output_type": "stream",
     "text": [
      "\r",
      " 87%|█████████████████████████████████▊     | 930/1072 [02:18<00:23,  5.94it/s]"
     ]
    },
    {
     "name": "stdout",
     "output_type": "stream",
     "text": [
      "test date: 11\n"
     ]
    },
    {
     "name": "stderr",
     "output_type": "stream",
     "text": [
      "\r",
      " 87%|█████████████████████████████████▊     | 931/1072 [02:18<00:23,  5.88it/s]"
     ]
    },
    {
     "name": "stdout",
     "output_type": "stream",
     "text": [
      "test date: 11\n"
     ]
    },
    {
     "name": "stderr",
     "output_type": "stream",
     "text": [
      "\r",
      " 87%|█████████████████████████████████▉     | 932/1072 [02:18<00:23,  5.87it/s]"
     ]
    },
    {
     "name": "stdout",
     "output_type": "stream",
     "text": [
      "test date: 11\n"
     ]
    },
    {
     "name": "stderr",
     "output_type": "stream",
     "text": [
      "\r",
      " 87%|█████████████████████████████████▉     | 933/1072 [02:18<00:23,  5.82it/s]"
     ]
    },
    {
     "name": "stdout",
     "output_type": "stream",
     "text": [
      "test date: 11\n"
     ]
    },
    {
     "name": "stderr",
     "output_type": "stream",
     "text": [
      "\r",
      " 87%|█████████████████████████████████▉     | 934/1072 [02:19<00:24,  5.68it/s]"
     ]
    },
    {
     "name": "stdout",
     "output_type": "stream",
     "text": [
      "test date: 10\n"
     ]
    },
    {
     "name": "stderr",
     "output_type": "stream",
     "text": [
      "\r",
      " 87%|██████████████████████████████████     | 935/1072 [02:19<00:24,  5.68it/s]"
     ]
    },
    {
     "name": "stdout",
     "output_type": "stream",
     "text": [
      "test date: 11\n"
     ]
    },
    {
     "name": "stderr",
     "output_type": "stream",
     "text": [
      "\r",
      " 87%|██████████████████████████████████     | 936/1072 [02:19<00:23,  5.72it/s]"
     ]
    },
    {
     "name": "stdout",
     "output_type": "stream",
     "text": [
      "test date: 11\n"
     ]
    },
    {
     "name": "stderr",
     "output_type": "stream",
     "text": [
      "\r",
      " 87%|██████████████████████████████████     | 937/1072 [02:19<00:23,  5.68it/s]"
     ]
    },
    {
     "name": "stdout",
     "output_type": "stream",
     "text": [
      "test date: 11\n"
     ]
    },
    {
     "name": "stderr",
     "output_type": "stream",
     "text": [
      "\r",
      " 88%|██████████████████████████████████▏    | 938/1072 [02:19<00:23,  5.71it/s]"
     ]
    },
    {
     "name": "stdout",
     "output_type": "stream",
     "text": [
      "test date: 11\n"
     ]
    },
    {
     "name": "stderr",
     "output_type": "stream",
     "text": [
      "\r",
      " 88%|██████████████████████████████████▏    | 939/1072 [02:19<00:23,  5.66it/s]"
     ]
    },
    {
     "name": "stdout",
     "output_type": "stream",
     "text": [
      "test date: 11\n"
     ]
    },
    {
     "name": "stderr",
     "output_type": "stream",
     "text": [
      "\r",
      " 88%|██████████████████████████████████▏    | 940/1072 [02:20<00:23,  5.72it/s]"
     ]
    },
    {
     "name": "stdout",
     "output_type": "stream",
     "text": [
      "test date: 11\n"
     ]
    },
    {
     "name": "stderr",
     "output_type": "stream",
     "text": [
      "\r",
      " 88%|██████████████████████████████████▏    | 941/1072 [02:20<00:22,  5.72it/s]"
     ]
    },
    {
     "name": "stdout",
     "output_type": "stream",
     "text": [
      "test date: 11\n"
     ]
    },
    {
     "name": "stderr",
     "output_type": "stream",
     "text": [
      "\r",
      " 88%|██████████████████████████████████▎    | 942/1072 [02:20<00:22,  5.75it/s]"
     ]
    },
    {
     "name": "stdout",
     "output_type": "stream",
     "text": [
      "test date: 11\n"
     ]
    },
    {
     "name": "stderr",
     "output_type": "stream",
     "text": [
      "\r",
      " 88%|██████████████████████████████████▎    | 943/1072 [02:20<00:22,  5.66it/s]"
     ]
    },
    {
     "name": "stdout",
     "output_type": "stream",
     "text": [
      "test date: 11\n"
     ]
    },
    {
     "name": "stderr",
     "output_type": "stream",
     "text": [
      "\r",
      " 88%|██████████████████████████████████▎    | 944/1072 [02:20<00:22,  5.61it/s]"
     ]
    },
    {
     "name": "stdout",
     "output_type": "stream",
     "text": [
      "test date: 11\n"
     ]
    },
    {
     "name": "stderr",
     "output_type": "stream",
     "text": [
      "\r",
      " 88%|██████████████████████████████████▍    | 945/1072 [02:20<00:22,  5.59it/s]"
     ]
    },
    {
     "name": "stdout",
     "output_type": "stream",
     "text": [
      "test date: 11\n"
     ]
    },
    {
     "name": "stderr",
     "output_type": "stream",
     "text": [
      "\r",
      " 88%|██████████████████████████████████▍    | 946/1072 [02:21<00:22,  5.61it/s]"
     ]
    },
    {
     "name": "stdout",
     "output_type": "stream",
     "text": [
      "test date: 11\n"
     ]
    },
    {
     "name": "stderr",
     "output_type": "stream",
     "text": [
      "\r",
      " 88%|██████████████████████████████████▍    | 947/1072 [02:21<00:22,  5.67it/s]"
     ]
    },
    {
     "name": "stdout",
     "output_type": "stream",
     "text": [
      "test date: 11\n"
     ]
    },
    {
     "name": "stderr",
     "output_type": "stream",
     "text": [
      "\r",
      " 88%|██████████████████████████████████▍    | 948/1072 [02:21<00:21,  5.64it/s]"
     ]
    },
    {
     "name": "stdout",
     "output_type": "stream",
     "text": [
      "test date: 11\n"
     ]
    },
    {
     "name": "stderr",
     "output_type": "stream",
     "text": [
      "\r",
      " 89%|██████████████████████████████████▌    | 949/1072 [02:21<00:21,  5.64it/s]"
     ]
    },
    {
     "name": "stdout",
     "output_type": "stream",
     "text": [
      "test date: 11\n"
     ]
    },
    {
     "name": "stderr",
     "output_type": "stream",
     "text": [
      "\r",
      " 89%|██████████████████████████████████▌    | 950/1072 [02:21<00:21,  5.62it/s]"
     ]
    },
    {
     "name": "stdout",
     "output_type": "stream",
     "text": [
      "test date: 11\n"
     ]
    },
    {
     "name": "stderr",
     "output_type": "stream",
     "text": [
      "\r",
      " 89%|██████████████████████████████████▌    | 951/1072 [02:22<00:21,  5.58it/s]"
     ]
    },
    {
     "name": "stdout",
     "output_type": "stream",
     "text": [
      "test date: 11\n"
     ]
    },
    {
     "name": "stderr",
     "output_type": "stream",
     "text": [
      "\r",
      " 89%|██████████████████████████████████▋    | 952/1072 [02:22<00:21,  5.46it/s]"
     ]
    },
    {
     "name": "stdout",
     "output_type": "stream",
     "text": [
      "test date: 11\n"
     ]
    },
    {
     "name": "stderr",
     "output_type": "stream",
     "text": [
      "\r",
      " 89%|██████████████████████████████████▋    | 953/1072 [02:22<00:21,  5.47it/s]"
     ]
    },
    {
     "name": "stdout",
     "output_type": "stream",
     "text": [
      "test date: 11\n"
     ]
    },
    {
     "name": "stderr",
     "output_type": "stream",
     "text": [
      "\r",
      " 89%|██████████████████████████████████▋    | 954/1072 [02:22<00:20,  5.78it/s]"
     ]
    },
    {
     "name": "stdout",
     "output_type": "stream",
     "text": [
      "test date: 11\n"
     ]
    },
    {
     "name": "stderr",
     "output_type": "stream",
     "text": [
      "\r",
      " 89%|██████████████████████████████████▋    | 955/1072 [02:22<00:21,  5.51it/s]"
     ]
    },
    {
     "name": "stdout",
     "output_type": "stream",
     "text": [
      "test date: 11\n"
     ]
    },
    {
     "name": "stderr",
     "output_type": "stream",
     "text": [
      "\r",
      " 89%|██████████████████████████████████▊    | 956/1072 [02:22<00:20,  5.65it/s]"
     ]
    },
    {
     "name": "stdout",
     "output_type": "stream",
     "text": [
      "test date: 11\n"
     ]
    },
    {
     "name": "stderr",
     "output_type": "stream",
     "text": [
      "\r",
      " 89%|██████████████████████████████████▊    | 957/1072 [02:23<00:20,  5.59it/s]"
     ]
    },
    {
     "name": "stdout",
     "output_type": "stream",
     "text": [
      "test date: 11\n"
     ]
    },
    {
     "name": "stderr",
     "output_type": "stream",
     "text": [
      "\r",
      " 89%|██████████████████████████████████▊    | 958/1072 [02:23<00:20,  5.56it/s]"
     ]
    },
    {
     "name": "stdout",
     "output_type": "stream",
     "text": [
      "test date: 11\n"
     ]
    },
    {
     "name": "stderr",
     "output_type": "stream",
     "text": [
      "\r",
      " 89%|██████████████████████████████████▉    | 959/1072 [02:23<00:19,  5.66it/s]"
     ]
    },
    {
     "name": "stdout",
     "output_type": "stream",
     "text": [
      "test date: 11\n"
     ]
    },
    {
     "name": "stderr",
     "output_type": "stream",
     "text": [
      "\r",
      " 90%|██████████████████████████████████▉    | 960/1072 [02:23<00:19,  5.77it/s]"
     ]
    },
    {
     "name": "stdout",
     "output_type": "stream",
     "text": [
      "test date: 11\n"
     ]
    },
    {
     "name": "stderr",
     "output_type": "stream",
     "text": [
      "\r",
      " 90%|██████████████████████████████████▉    | 961/1072 [02:23<00:19,  5.84it/s]"
     ]
    },
    {
     "name": "stdout",
     "output_type": "stream",
     "text": [
      "test date: 11\n"
     ]
    },
    {
     "name": "stderr",
     "output_type": "stream",
     "text": [
      "\r",
      " 90%|██████████████████████████████████▉    | 962/1072 [02:23<00:19,  5.71it/s]"
     ]
    },
    {
     "name": "stdout",
     "output_type": "stream",
     "text": [
      "test date: 11\n"
     ]
    },
    {
     "name": "stderr",
     "output_type": "stream",
     "text": [
      "\r",
      " 90%|███████████████████████████████████    | 964/1072 [02:24<00:16,  6.36it/s]"
     ]
    },
    {
     "name": "stdout",
     "output_type": "stream",
     "text": [
      "test date: 11\n"
     ]
    },
    {
     "name": "stderr",
     "output_type": "stream",
     "text": [
      "\r",
      " 90%|███████████████████████████████████    | 965/1072 [02:24<00:18,  5.87it/s]"
     ]
    },
    {
     "name": "stdout",
     "output_type": "stream",
     "text": [
      "test date: 11\n"
     ]
    },
    {
     "name": "stderr",
     "output_type": "stream",
     "text": [
      "\r",
      " 90%|███████████████████████████████████▏   | 966/1072 [02:24<00:17,  6.05it/s]"
     ]
    },
    {
     "name": "stdout",
     "output_type": "stream",
     "text": [
      "test date: 11\n"
     ]
    },
    {
     "name": "stderr",
     "output_type": "stream",
     "text": [
      "\r",
      " 90%|███████████████████████████████████▏   | 967/1072 [02:24<00:17,  5.94it/s]"
     ]
    },
    {
     "name": "stdout",
     "output_type": "stream",
     "text": [
      "test date: 11\n"
     ]
    },
    {
     "name": "stderr",
     "output_type": "stream",
     "text": [
      "\r",
      " 90%|███████████████████████████████████▏   | 968/1072 [02:24<00:18,  5.77it/s]"
     ]
    },
    {
     "name": "stdout",
     "output_type": "stream",
     "text": [
      "test date: 11\n"
     ]
    },
    {
     "name": "stderr",
     "output_type": "stream",
     "text": [
      "\r",
      " 90%|███████████████████████████████████▎   | 969/1072 [02:25<00:18,  5.61it/s]"
     ]
    },
    {
     "name": "stdout",
     "output_type": "stream",
     "text": [
      "test date: 11\n"
     ]
    },
    {
     "name": "stderr",
     "output_type": "stream",
     "text": [
      "\r",
      " 90%|███████████████████████████████████▎   | 970/1072 [02:25<00:18,  5.60it/s]"
     ]
    },
    {
     "name": "stdout",
     "output_type": "stream",
     "text": [
      "test date: 11\n"
     ]
    },
    {
     "name": "stderr",
     "output_type": "stream",
     "text": [
      "\r",
      " 91%|███████████████████████████████████▎   | 971/1072 [02:25<00:18,  5.40it/s]"
     ]
    },
    {
     "name": "stdout",
     "output_type": "stream",
     "text": [
      "test date: 11\n"
     ]
    },
    {
     "name": "stderr",
     "output_type": "stream",
     "text": [
      "\r",
      " 91%|███████████████████████████████████▎   | 972/1072 [02:25<00:17,  5.64it/s]"
     ]
    },
    {
     "name": "stdout",
     "output_type": "stream",
     "text": [
      "test date: 11\n"
     ]
    },
    {
     "name": "stderr",
     "output_type": "stream",
     "text": [
      "\r",
      " 91%|███████████████████████████████████▍   | 973/1072 [02:25<00:17,  5.61it/s]"
     ]
    },
    {
     "name": "stdout",
     "output_type": "stream",
     "text": [
      "test date: 11\n"
     ]
    },
    {
     "name": "stderr",
     "output_type": "stream",
     "text": [
      "\r",
      " 91%|███████████████████████████████████▍   | 975/1072 [02:26<00:16,  6.01it/s]"
     ]
    },
    {
     "name": "stdout",
     "output_type": "stream",
     "text": [
      "test date: 11\n"
     ]
    },
    {
     "name": "stderr",
     "output_type": "stream",
     "text": [
      "\r",
      " 91%|███████████████████████████████████▌   | 976/1072 [02:26<00:15,  6.12it/s]"
     ]
    },
    {
     "name": "stdout",
     "output_type": "stream",
     "text": [
      "test date: 11\n"
     ]
    },
    {
     "name": "stderr",
     "output_type": "stream",
     "text": [
      "\r",
      " 91%|███████████████████████████████████▌   | 977/1072 [02:26<00:16,  5.75it/s]"
     ]
    },
    {
     "name": "stdout",
     "output_type": "stream",
     "text": [
      "test date: 11\n"
     ]
    },
    {
     "name": "stderr",
     "output_type": "stream",
     "text": [
      "\r",
      " 91%|███████████████████████████████████▌   | 978/1072 [02:26<00:16,  5.71it/s]"
     ]
    },
    {
     "name": "stdout",
     "output_type": "stream",
     "text": [
      "test date: 11\n"
     ]
    },
    {
     "name": "stderr",
     "output_type": "stream",
     "text": [
      "\r",
      " 91%|███████████████████████████████████▌   | 979/1072 [02:26<00:16,  5.79it/s]"
     ]
    },
    {
     "name": "stdout",
     "output_type": "stream",
     "text": [
      "test date: 11\n"
     ]
    },
    {
     "name": "stderr",
     "output_type": "stream",
     "text": [
      "\r",
      " 91%|███████████████████████████████████▋   | 980/1072 [02:27<00:16,  5.69it/s]"
     ]
    },
    {
     "name": "stdout",
     "output_type": "stream",
     "text": [
      "test date: 11\n"
     ]
    },
    {
     "name": "stderr",
     "output_type": "stream",
     "text": [
      "\r",
      " 92%|███████████████████████████████████▋   | 981/1072 [02:27<00:15,  5.77it/s]"
     ]
    },
    {
     "name": "stdout",
     "output_type": "stream",
     "text": [
      "test date: 11\n"
     ]
    },
    {
     "name": "stderr",
     "output_type": "stream",
     "text": [
      "\r",
      " 92%|███████████████████████████████████▋   | 982/1072 [02:27<00:15,  5.95it/s]"
     ]
    },
    {
     "name": "stdout",
     "output_type": "stream",
     "text": [
      "test date: 11\n"
     ]
    },
    {
     "name": "stderr",
     "output_type": "stream",
     "text": [
      "\r",
      " 92%|███████████████████████████████████▊   | 983/1072 [02:27<00:15,  5.86it/s]"
     ]
    },
    {
     "name": "stdout",
     "output_type": "stream",
     "text": [
      "test date: 11\n"
     ]
    },
    {
     "name": "stderr",
     "output_type": "stream",
     "text": [
      "\r",
      " 92%|███████████████████████████████████▊   | 984/1072 [02:27<00:15,  5.73it/s]"
     ]
    },
    {
     "name": "stdout",
     "output_type": "stream",
     "text": [
      "test date: 11\n"
     ]
    },
    {
     "name": "stderr",
     "output_type": "stream",
     "text": [
      "\r",
      " 92%|███████████████████████████████████▊   | 985/1072 [02:27<00:15,  5.59it/s]"
     ]
    },
    {
     "name": "stdout",
     "output_type": "stream",
     "text": [
      "test date: 11\n"
     ]
    },
    {
     "name": "stderr",
     "output_type": "stream",
     "text": [
      "\r",
      " 92%|███████████████████████████████████▊   | 986/1072 [02:28<00:16,  5.31it/s]"
     ]
    },
    {
     "name": "stdout",
     "output_type": "stream",
     "text": [
      "test date: 11\n"
     ]
    },
    {
     "name": "stderr",
     "output_type": "stream",
     "text": [
      "\r",
      " 92%|███████████████████████████████████▉   | 987/1072 [02:28<00:15,  5.62it/s]"
     ]
    },
    {
     "name": "stdout",
     "output_type": "stream",
     "text": [
      "test date: 11\n"
     ]
    },
    {
     "name": "stderr",
     "output_type": "stream",
     "text": [
      "\r",
      " 92%|███████████████████████████████████▉   | 988/1072 [02:28<00:14,  5.60it/s]"
     ]
    },
    {
     "name": "stdout",
     "output_type": "stream",
     "text": [
      "test date: 11\n"
     ]
    },
    {
     "name": "stderr",
     "output_type": "stream",
     "text": [
      "\r",
      " 92%|████████████████████████████████████   | 990/1072 [02:28<00:13,  5.98it/s]"
     ]
    },
    {
     "name": "stdout",
     "output_type": "stream",
     "text": [
      "test date: 11\n"
     ]
    },
    {
     "name": "stderr",
     "output_type": "stream",
     "text": [
      "\r",
      " 92%|████████████████████████████████████   | 991/1072 [02:28<00:13,  6.10it/s]"
     ]
    },
    {
     "name": "stdout",
     "output_type": "stream",
     "text": [
      "test date: 11\n"
     ]
    },
    {
     "name": "stderr",
     "output_type": "stream",
     "text": [
      "\r",
      " 93%|████████████████████████████████████   | 992/1072 [02:29<00:13,  5.98it/s]"
     ]
    },
    {
     "name": "stdout",
     "output_type": "stream",
     "text": [
      "test date: 11\n"
     ]
    },
    {
     "name": "stderr",
     "output_type": "stream",
     "text": [
      "\r",
      " 93%|████████████████████████████████████▏  | 993/1072 [02:29<00:13,  5.86it/s]"
     ]
    },
    {
     "name": "stdout",
     "output_type": "stream",
     "text": [
      "test date: 11\n"
     ]
    },
    {
     "name": "stderr",
     "output_type": "stream",
     "text": [
      "\r",
      " 93%|████████████████████████████████████▏  | 994/1072 [02:29<00:13,  5.85it/s]"
     ]
    },
    {
     "name": "stdout",
     "output_type": "stream",
     "text": [
      "test date: 11\n"
     ]
    },
    {
     "name": "stderr",
     "output_type": "stream",
     "text": [
      "\r",
      " 93%|████████████████████████████████████▏  | 995/1072 [02:29<00:13,  5.80it/s]"
     ]
    },
    {
     "name": "stdout",
     "output_type": "stream",
     "text": [
      "test date: 11\n"
     ]
    },
    {
     "name": "stderr",
     "output_type": "stream",
     "text": [
      "\r",
      " 93%|████████████████████████████████████▏  | 996/1072 [02:29<00:13,  5.80it/s]"
     ]
    },
    {
     "name": "stdout",
     "output_type": "stream",
     "text": [
      "test date: 11\n"
     ]
    },
    {
     "name": "stderr",
     "output_type": "stream",
     "text": [
      "\r",
      " 93%|████████████████████████████████████▎  | 997/1072 [02:29<00:13,  5.63it/s]"
     ]
    },
    {
     "name": "stdout",
     "output_type": "stream",
     "text": [
      "test date: 11\n"
     ]
    },
    {
     "name": "stderr",
     "output_type": "stream",
     "text": [
      " 93%|████████████████████████████████████▎  | 999/1072 [02:30<00:11,  6.58it/s]"
     ]
    },
    {
     "name": "stdout",
     "output_type": "stream",
     "text": [
      "test date: 11\n"
     ]
    },
    {
     "name": "stderr",
     "output_type": "stream",
     "text": [
      "\r",
      " 93%|███████████████████████████████████▍  | 1000/1072 [02:30<00:10,  6.57it/s]"
     ]
    },
    {
     "name": "stdout",
     "output_type": "stream",
     "text": [
      "test date: 11\n"
     ]
    },
    {
     "name": "stderr",
     "output_type": "stream",
     "text": [
      "\r",
      " 93%|███████████████████████████████████▍  | 1001/1072 [02:30<00:11,  6.01it/s]"
     ]
    },
    {
     "name": "stdout",
     "output_type": "stream",
     "text": [
      "test date: 11\n"
     ]
    },
    {
     "name": "stderr",
     "output_type": "stream",
     "text": [
      "\r",
      " 93%|███████████████████████████████████▌  | 1002/1072 [02:30<00:11,  6.14it/s]"
     ]
    },
    {
     "name": "stdout",
     "output_type": "stream",
     "text": [
      "test date: 11\n"
     ]
    },
    {
     "name": "stderr",
     "output_type": "stream",
     "text": [
      "\r",
      " 94%|███████████████████████████████████▌  | 1003/1072 [02:30<00:12,  5.64it/s]"
     ]
    },
    {
     "name": "stdout",
     "output_type": "stream",
     "text": [
      "test date: 11\n"
     ]
    },
    {
     "name": "stderr",
     "output_type": "stream",
     "text": [
      "\r",
      " 94%|███████████████████████████████████▌  | 1004/1072 [02:31<00:11,  5.74it/s]"
     ]
    },
    {
     "name": "stdout",
     "output_type": "stream",
     "text": [
      "test date: 11\n"
     ]
    },
    {
     "name": "stderr",
     "output_type": "stream",
     "text": [
      "\r",
      " 94%|███████████████████████████████████▋  | 1005/1072 [02:31<00:11,  5.66it/s]"
     ]
    },
    {
     "name": "stdout",
     "output_type": "stream",
     "text": [
      "test date: 11\n"
     ]
    },
    {
     "name": "stderr",
     "output_type": "stream",
     "text": [
      "\r",
      " 94%|███████████████████████████████████▋  | 1006/1072 [02:31<00:11,  5.75it/s]"
     ]
    },
    {
     "name": "stdout",
     "output_type": "stream",
     "text": [
      "test date: 11\n"
     ]
    },
    {
     "name": "stderr",
     "output_type": "stream",
     "text": [
      "\r",
      " 94%|███████████████████████████████████▋  | 1007/1072 [02:31<00:11,  5.83it/s]"
     ]
    },
    {
     "name": "stdout",
     "output_type": "stream",
     "text": [
      "test date: 11\n"
     ]
    },
    {
     "name": "stderr",
     "output_type": "stream",
     "text": [
      "\r",
      " 94%|███████████████████████████████████▋  | 1008/1072 [02:31<00:11,  5.79it/s]"
     ]
    },
    {
     "name": "stdout",
     "output_type": "stream",
     "text": [
      "test date: 11\n"
     ]
    },
    {
     "name": "stderr",
     "output_type": "stream",
     "text": [
      "\r",
      " 94%|███████████████████████████████████▊  | 1009/1072 [02:31<00:10,  5.95it/s]"
     ]
    },
    {
     "name": "stdout",
     "output_type": "stream",
     "text": [
      "test date: 11\n"
     ]
    },
    {
     "name": "stderr",
     "output_type": "stream",
     "text": [
      "\r",
      " 94%|███████████████████████████████████▊  | 1010/1072 [02:32<00:11,  5.61it/s]"
     ]
    },
    {
     "name": "stdout",
     "output_type": "stream",
     "text": [
      "test date: 11\n"
     ]
    },
    {
     "name": "stderr",
     "output_type": "stream",
     "text": [
      "\r",
      " 94%|███████████████████████████████████▊  | 1011/1072 [02:32<00:10,  5.73it/s]"
     ]
    },
    {
     "name": "stdout",
     "output_type": "stream",
     "text": [
      "test date: 11\n"
     ]
    },
    {
     "name": "stderr",
     "output_type": "stream",
     "text": [
      "\r",
      " 94%|███████████████████████████████████▊  | 1012/1072 [02:32<00:10,  5.86it/s]"
     ]
    },
    {
     "name": "stdout",
     "output_type": "stream",
     "text": [
      "test date: 2\n"
     ]
    },
    {
     "name": "stderr",
     "output_type": "stream",
     "text": [
      "\r",
      " 94%|███████████████████████████████████▉  | 1013/1072 [02:32<00:10,  5.52it/s]"
     ]
    },
    {
     "name": "stdout",
     "output_type": "stream",
     "text": [
      "test date: 11\n"
     ]
    },
    {
     "name": "stderr",
     "output_type": "stream",
     "text": [
      "\r",
      " 95%|███████████████████████████████████▉  | 1014/1072 [02:32<00:10,  5.66it/s]"
     ]
    },
    {
     "name": "stdout",
     "output_type": "stream",
     "text": [
      "test date: 11\n"
     ]
    },
    {
     "name": "stderr",
     "output_type": "stream",
     "text": [
      "\r",
      " 95%|███████████████████████████████████▉  | 1015/1072 [02:33<00:10,  5.60it/s]"
     ]
    },
    {
     "name": "stdout",
     "output_type": "stream",
     "text": [
      "test date: 11\n"
     ]
    },
    {
     "name": "stderr",
     "output_type": "stream",
     "text": [
      "\r",
      " 95%|████████████████████████████████████  | 1016/1072 [02:33<00:09,  5.71it/s]"
     ]
    },
    {
     "name": "stdout",
     "output_type": "stream",
     "text": [
      "test date: 11\n"
     ]
    },
    {
     "name": "stderr",
     "output_type": "stream",
     "text": [
      "\r",
      " 95%|████████████████████████████████████  | 1017/1072 [02:33<00:09,  5.79it/s]"
     ]
    },
    {
     "name": "stdout",
     "output_type": "stream",
     "text": [
      "test date: 11\n"
     ]
    },
    {
     "name": "stderr",
     "output_type": "stream",
     "text": [
      "\r",
      " 95%|████████████████████████████████████  | 1018/1072 [02:33<00:09,  5.69it/s]"
     ]
    },
    {
     "name": "stdout",
     "output_type": "stream",
     "text": [
      "test date: 11\n"
     ]
    },
    {
     "name": "stderr",
     "output_type": "stream",
     "text": [
      "\r",
      " 95%|████████████████████████████████████  | 1019/1072 [02:33<00:09,  5.78it/s]"
     ]
    },
    {
     "name": "stdout",
     "output_type": "stream",
     "text": [
      "test date: 11\n"
     ]
    },
    {
     "name": "stderr",
     "output_type": "stream",
     "text": [
      "\r",
      " 95%|████████████████████████████████████▏ | 1021/1072 [02:33<00:08,  6.36it/s]"
     ]
    },
    {
     "name": "stdout",
     "output_type": "stream",
     "text": [
      "test date: 11\n"
     ]
    },
    {
     "name": "stderr",
     "output_type": "stream",
     "text": [
      "\r",
      " 95%|████████████████████████████████████▏ | 1022/1072 [02:34<00:08,  5.98it/s]"
     ]
    },
    {
     "name": "stdout",
     "output_type": "stream",
     "text": [
      "test date: 11\n"
     ]
    },
    {
     "name": "stderr",
     "output_type": "stream",
     "text": [
      "\r",
      " 95%|████████████████████████████████████▎ | 1023/1072 [02:34<00:08,  5.73it/s]"
     ]
    },
    {
     "name": "stdout",
     "output_type": "stream",
     "text": [
      "test date: 11\n"
     ]
    },
    {
     "name": "stderr",
     "output_type": "stream",
     "text": [
      "\r",
      " 96%|████████████████████████████████████▎ | 1024/1072 [02:34<00:08,  5.54it/s]"
     ]
    },
    {
     "name": "stdout",
     "output_type": "stream",
     "text": [
      "test date: 11\n"
     ]
    },
    {
     "name": "stderr",
     "output_type": "stream",
     "text": [
      "\r",
      " 96%|████████████████████████████████████▎ | 1025/1072 [02:34<00:08,  5.82it/s]"
     ]
    },
    {
     "name": "stdout",
     "output_type": "stream",
     "text": [
      "test date: 11\n"
     ]
    },
    {
     "name": "stderr",
     "output_type": "stream",
     "text": [
      "\r",
      " 96%|████████████████████████████████████▎ | 1026/1072 [02:34<00:08,  5.57it/s]"
     ]
    },
    {
     "name": "stdout",
     "output_type": "stream",
     "text": [
      "test date: 11\n"
     ]
    },
    {
     "name": "stderr",
     "output_type": "stream",
     "text": [
      "\r",
      " 96%|████████████████████████████████████▍ | 1027/1072 [02:35<00:07,  5.83it/s]"
     ]
    },
    {
     "name": "stdout",
     "output_type": "stream",
     "text": [
      "test date: 11\n"
     ]
    },
    {
     "name": "stderr",
     "output_type": "stream",
     "text": [
      "\r",
      " 96%|████████████████████████████████████▍ | 1028/1072 [02:35<00:07,  5.60it/s]"
     ]
    },
    {
     "name": "stdout",
     "output_type": "stream",
     "text": [
      "test date: 11\n"
     ]
    },
    {
     "name": "stderr",
     "output_type": "stream",
     "text": [
      "\r",
      " 96%|████████████████████████████████████▍ | 1029/1072 [02:35<00:07,  5.39it/s]"
     ]
    },
    {
     "name": "stdout",
     "output_type": "stream",
     "text": [
      "test date: 11\n"
     ]
    },
    {
     "name": "stderr",
     "output_type": "stream",
     "text": [
      "\r",
      " 96%|████████████████████████████████████▌ | 1030/1072 [02:35<00:07,  5.56it/s]"
     ]
    },
    {
     "name": "stdout",
     "output_type": "stream",
     "text": [
      "test date: 11\n"
     ]
    },
    {
     "name": "stderr",
     "output_type": "stream",
     "text": [
      "\r",
      " 96%|████████████████████████████████████▌ | 1032/1072 [02:35<00:06,  6.12it/s]"
     ]
    },
    {
     "name": "stdout",
     "output_type": "stream",
     "text": [
      "test date: 11\n"
     ]
    },
    {
     "name": "stderr",
     "output_type": "stream",
     "text": [
      "\r",
      " 96%|████████████████████████████████████▌ | 1033/1072 [02:35<00:06,  6.08it/s]"
     ]
    },
    {
     "name": "stdout",
     "output_type": "stream",
     "text": [
      "test date: 11\n"
     ]
    },
    {
     "name": "stderr",
     "output_type": "stream",
     "text": [
      " 97%|████████████████████████████████████▋ | 1035/1072 [02:36<00:05,  6.83it/s]"
     ]
    },
    {
     "name": "stdout",
     "output_type": "stream",
     "text": [
      "test date: 11\n"
     ]
    },
    {
     "name": "stderr",
     "output_type": "stream",
     "text": [
      "\r",
      " 97%|████████████████████████████████████▋ | 1036/1072 [02:36<00:05,  6.72it/s]"
     ]
    },
    {
     "name": "stdout",
     "output_type": "stream",
     "text": [
      "test date: 11\n"
     ]
    },
    {
     "name": "stderr",
     "output_type": "stream",
     "text": [
      "\r",
      " 97%|████████████████████████████████████▊ | 1037/1072 [02:36<00:05,  6.14it/s]"
     ]
    },
    {
     "name": "stdout",
     "output_type": "stream",
     "text": [
      "test date: 11\n"
     ]
    },
    {
     "name": "stderr",
     "output_type": "stream",
     "text": [
      "\r",
      " 97%|████████████████████████████████████▊ | 1038/1072 [02:36<00:05,  6.10it/s]"
     ]
    },
    {
     "name": "stdout",
     "output_type": "stream",
     "text": [
      "test date: 11\n"
     ]
    },
    {
     "name": "stderr",
     "output_type": "stream",
     "text": [
      "\r",
      " 97%|████████████████████████████████████▊ | 1039/1072 [02:36<00:05,  6.18it/s]"
     ]
    },
    {
     "name": "stdout",
     "output_type": "stream",
     "text": [
      "test date: 11\n"
     ]
    },
    {
     "name": "stderr",
     "output_type": "stream",
     "text": [
      "\r",
      " 97%|████████████████████████████████████▊ | 1040/1072 [02:37<00:05,  5.84it/s]"
     ]
    },
    {
     "name": "stdout",
     "output_type": "stream",
     "text": [
      "test date: 11\n"
     ]
    },
    {
     "name": "stderr",
     "output_type": "stream",
     "text": [
      "\r",
      " 97%|████████████████████████████████████▉ | 1041/1072 [02:37<00:05,  5.56it/s]"
     ]
    },
    {
     "name": "stdout",
     "output_type": "stream",
     "text": [
      "test date: 11\n"
     ]
    },
    {
     "name": "stderr",
     "output_type": "stream",
     "text": [
      "\r",
      " 97%|████████████████████████████████████▉ | 1042/1072 [02:37<00:05,  5.68it/s]"
     ]
    },
    {
     "name": "stdout",
     "output_type": "stream",
     "text": [
      "test date: 11\n"
     ]
    },
    {
     "name": "stderr",
     "output_type": "stream",
     "text": [
      "\r",
      " 97%|████████████████████████████████████▉ | 1043/1072 [02:37<00:05,  5.77it/s]"
     ]
    },
    {
     "name": "stdout",
     "output_type": "stream",
     "text": [
      "test date: 11\n"
     ]
    },
    {
     "name": "stderr",
     "output_type": "stream",
     "text": [
      "\r",
      " 97%|█████████████████████████████████████ | 1044/1072 [02:37<00:04,  5.91it/s]"
     ]
    },
    {
     "name": "stdout",
     "output_type": "stream",
     "text": [
      "test date: 11\n"
     ]
    },
    {
     "name": "stderr",
     "output_type": "stream",
     "text": [
      "\r",
      " 97%|█████████████████████████████████████ | 1045/1072 [02:37<00:04,  5.78it/s]"
     ]
    },
    {
     "name": "stdout",
     "output_type": "stream",
     "text": [
      "test date: 5\n"
     ]
    },
    {
     "name": "stderr",
     "output_type": "stream",
     "text": [
      "\r",
      " 98%|█████████████████████████████████████ | 1046/1072 [02:38<00:04,  5.60it/s]"
     ]
    },
    {
     "name": "stdout",
     "output_type": "stream",
     "text": [
      "test date: 11\n"
     ]
    },
    {
     "name": "stderr",
     "output_type": "stream",
     "text": [
      "\r",
      " 98%|█████████████████████████████████████ | 1047/1072 [02:38<00:04,  5.57it/s]"
     ]
    },
    {
     "name": "stdout",
     "output_type": "stream",
     "text": [
      "test date: 11\n"
     ]
    },
    {
     "name": "stderr",
     "output_type": "stream",
     "text": [
      "\r",
      " 98%|█████████████████████████████████████▏| 1048/1072 [02:38<00:04,  5.77it/s]"
     ]
    },
    {
     "name": "stdout",
     "output_type": "stream",
     "text": [
      "test date: 11\n"
     ]
    },
    {
     "name": "stderr",
     "output_type": "stream",
     "text": [
      "\r",
      " 98%|█████████████████████████████████████▏| 1049/1072 [02:38<00:04,  5.43it/s]"
     ]
    },
    {
     "name": "stdout",
     "output_type": "stream",
     "text": [
      "test date: 11\n"
     ]
    },
    {
     "name": "stderr",
     "output_type": "stream",
     "text": [
      "\r",
      " 98%|█████████████████████████████████████▏| 1050/1072 [02:38<00:03,  5.58it/s]"
     ]
    },
    {
     "name": "stdout",
     "output_type": "stream",
     "text": [
      "test date: 3\n"
     ]
    },
    {
     "name": "stderr",
     "output_type": "stream",
     "text": [
      "\r",
      " 98%|█████████████████████████████████████▎| 1051/1072 [02:39<00:03,  5.79it/s]"
     ]
    },
    {
     "name": "stdout",
     "output_type": "stream",
     "text": [
      "test date: 11\n"
     ]
    },
    {
     "name": "stderr",
     "output_type": "stream",
     "text": [
      "\r",
      " 98%|█████████████████████████████████████▎| 1052/1072 [02:39<00:03,  5.61it/s]"
     ]
    },
    {
     "name": "stdout",
     "output_type": "stream",
     "text": [
      "test date: 11\n"
     ]
    },
    {
     "name": "stderr",
     "output_type": "stream",
     "text": [
      "\r",
      " 98%|█████████████████████████████████████▎| 1053/1072 [02:39<00:03,  5.56it/s]"
     ]
    },
    {
     "name": "stdout",
     "output_type": "stream",
     "text": [
      "test date: 11\n"
     ]
    },
    {
     "name": "stderr",
     "output_type": "stream",
     "text": [
      "\r",
      " 98%|█████████████████████████████████████▎| 1054/1072 [02:39<00:03,  5.69it/s]"
     ]
    },
    {
     "name": "stdout",
     "output_type": "stream",
     "text": [
      "test date: 11\n"
     ]
    },
    {
     "name": "stderr",
     "output_type": "stream",
     "text": [
      "\r",
      " 98%|█████████████████████████████████████▍| 1055/1072 [02:39<00:02,  5.86it/s]"
     ]
    },
    {
     "name": "stdout",
     "output_type": "stream",
     "text": [
      "test date: 11\n"
     ]
    },
    {
     "name": "stderr",
     "output_type": "stream",
     "text": [
      "\r",
      " 99%|█████████████████████████████████████▍| 1056/1072 [02:39<00:02,  5.51it/s]"
     ]
    },
    {
     "name": "stdout",
     "output_type": "stream",
     "text": [
      "test date: 11\n"
     ]
    },
    {
     "name": "stderr",
     "output_type": "stream",
     "text": [
      "\r",
      " 99%|█████████████████████████████████████▍| 1057/1072 [02:40<00:02,  5.86it/s]"
     ]
    },
    {
     "name": "stdout",
     "output_type": "stream",
     "text": [
      "test date: 11\n"
     ]
    },
    {
     "name": "stderr",
     "output_type": "stream",
     "text": [
      "\r",
      " 99%|█████████████████████████████████████▌| 1058/1072 [02:40<00:02,  5.67it/s]"
     ]
    },
    {
     "name": "stdout",
     "output_type": "stream",
     "text": [
      "test date: 11\n"
     ]
    },
    {
     "name": "stderr",
     "output_type": "stream",
     "text": [
      "\r",
      " 99%|█████████████████████████████████████▌| 1059/1072 [02:40<00:02,  5.61it/s]"
     ]
    },
    {
     "name": "stdout",
     "output_type": "stream",
     "text": [
      "test date: 11\n"
     ]
    },
    {
     "name": "stderr",
     "output_type": "stream",
     "text": [
      "\r",
      " 99%|█████████████████████████████████████▌| 1060/1072 [02:40<00:02,  5.90it/s]"
     ]
    },
    {
     "name": "stdout",
     "output_type": "stream",
     "text": [
      "test date: 11\n"
     ]
    },
    {
     "name": "stderr",
     "output_type": "stream",
     "text": [
      "\r",
      " 99%|█████████████████████████████████████▌| 1061/1072 [02:40<00:01,  5.60it/s]"
     ]
    },
    {
     "name": "stdout",
     "output_type": "stream",
     "text": [
      "test date: 11\n"
     ]
    },
    {
     "name": "stderr",
     "output_type": "stream",
     "text": [
      "\r",
      " 99%|█████████████████████████████████████▋| 1062/1072 [02:41<00:01,  5.74it/s]"
     ]
    },
    {
     "name": "stdout",
     "output_type": "stream",
     "text": [
      "test date: 11\n"
     ]
    },
    {
     "name": "stderr",
     "output_type": "stream",
     "text": [
      "\r",
      " 99%|█████████████████████████████████████▋| 1063/1072 [02:41<00:01,  5.56it/s]"
     ]
    },
    {
     "name": "stdout",
     "output_type": "stream",
     "text": [
      "test date: 11\n"
     ]
    },
    {
     "name": "stderr",
     "output_type": "stream",
     "text": [
      "\r",
      " 99%|█████████████████████████████████████▋| 1064/1072 [02:41<00:01,  5.29it/s]"
     ]
    },
    {
     "name": "stdout",
     "output_type": "stream",
     "text": [
      "test date: 11\n"
     ]
    },
    {
     "name": "stderr",
     "output_type": "stream",
     "text": [
      "\r",
      " 99%|█████████████████████████████████████▊| 1065/1072 [02:41<00:01,  5.44it/s]"
     ]
    },
    {
     "name": "stdout",
     "output_type": "stream",
     "text": [
      "test date: 11\n"
     ]
    },
    {
     "name": "stderr",
     "output_type": "stream",
     "text": [
      "\r",
      "100%|█████████████████████████████████████▊| 1067/1072 [02:41<00:00,  6.04it/s]"
     ]
    },
    {
     "name": "stdout",
     "output_type": "stream",
     "text": [
      "test date: 11\n"
     ]
    },
    {
     "name": "stderr",
     "output_type": "stream",
     "text": [
      "\r",
      "100%|█████████████████████████████████████▊| 1068/1072 [02:41<00:00,  6.09it/s]"
     ]
    },
    {
     "name": "stdout",
     "output_type": "stream",
     "text": [
      "test date: 11\n"
     ]
    },
    {
     "name": "stderr",
     "output_type": "stream",
     "text": [
      "\r",
      "100%|█████████████████████████████████████▉| 1069/1072 [02:42<00:00,  5.78it/s]"
     ]
    },
    {
     "name": "stdout",
     "output_type": "stream",
     "text": [
      "test date: 11\n"
     ]
    },
    {
     "name": "stderr",
     "output_type": "stream",
     "text": [
      "\r",
      "100%|█████████████████████████████████████▉| 1070/1072 [02:42<00:00,  5.56it/s]"
     ]
    },
    {
     "name": "stdout",
     "output_type": "stream",
     "text": [
      "test date: 11\n"
     ]
    },
    {
     "name": "stderr",
     "output_type": "stream",
     "text": [
      "\r",
      "100%|█████████████████████████████████████▉| 1071/1072 [02:42<00:00,  5.39it/s]"
     ]
    },
    {
     "name": "stdout",
     "output_type": "stream",
     "text": [
      "test date: 11\n"
     ]
    },
    {
     "name": "stderr",
     "output_type": "stream",
     "text": [
      "100%|██████████████████████████████████████| 1072/1072 [02:42<00:00,  5.40it/s]\n"
     ]
    },
    {
     "name": "stdout",
     "output_type": "stream",
     "text": [
      "Epoch 1/5\n",
      "2615/2615 [==============================] - ETA: 3s - loss: 28.12 - ETA: 0s - loss: 21.86 - ETA: 0s - loss: 20.41 - ETA: 0s - loss: 16.09 - ETA: 0s - loss: 15.56 - ETA: 0s - loss: 14.46 - ETA: 0s - loss: 13.24 - ETA: 0s - loss: 12.74 - 0s - loss: 11.0828     \n",
      "Epoch 2/5\n",
      "2615/2615 [==============================] - ETA: 0s - loss: 2.925 - ETA: 0s - loss: 2.720 - ETA: 0s - loss: 2.349 - ETA: 0s - loss: 1.977 - ETA: 0s - loss: 1.716 - ETA: 0s - loss: 1.533 - ETA: 0s - loss: 1.512 - 0s - loss: 1.2766     \n",
      "Epoch 3/5\n",
      "2615/2615 [==============================] - ETA: 0s - loss: 0.701 - ETA: 0s - loss: 0.696 - ETA: 0s - loss: 0.696 - ETA: 0s - loss: 0.696 - ETA: 0s - loss: 0.695 - ETA: 0s - loss: 0.695 - ETA: 0s - loss: 0.695 - 0s - loss: 0.6955     \n",
      "Epoch 4/5\n",
      "2615/2615 [==============================] - ETA: 2s - loss: 0.693 - ETA: 3s - loss: 0.694 - ETA: 2s - loss: 0.693 - ETA: 2s - loss: 0.694 - ETA: 1s - loss: 0.693 - ETA: 1s - loss: 0.694 - ETA: 1s - loss: 0.694 - ETA: 1s - loss: 0.694 - ETA: 1s - loss: 0.695 - ETA: 0s - loss: 0.695 - ETA: 0s - loss: 0.695 - ETA: 0s - loss: 0.694 - ETA: 0s - loss: 0.694 - 0s - loss: 0.6948     \n",
      "Epoch 5/5\n",
      "2615/2615 [==============================] - ETA: 2s - loss: 0.702 - ETA: 0s - loss: 0.696 - ETA: 0s - loss: 0.695 - ETA: 0s - loss: 0.695 - ETA: 0s - loss: 0.695 - ETA: 0s - loss: 0.695 - ETA: 0s - loss: 0.695 - ETA: 0s - loss: 0.695 - ETA: 0s - loss: 0.695 - ETA: 0s - loss: 0.695 - 0s - loss: 0.6953     \n",
      "Absolute Error:  1053.49786794\n",
      "MSE : 0.249998995688\n",
      "Writing Result to file r.csv...\n",
      "Done.\n"
     ]
    }
   ],
   "source": [
    "from utilities import utilities as util\n",
    "\n",
    "import math as m\n",
    "import numpy as np\n",
    "import pandas as pd\n",
    "\n",
    "from keras.models import Sequential\n",
    "from keras.layers import Dense, Activation\n",
    "from keras.layers import LSTM\n",
    "from keras.layers import Dropout\n",
    "from keras.layers.embeddings import Embedding\n",
    "from keras.layers.normalization import BatchNormalization\n",
    "from keras import optimizers, regularizers\n",
    "from keras.constraints import maxnorm\n",
    "\n",
    "from sklearn.metrics import mean_squared_error\n",
    "\n",
    "np.random.seed(7)\n",
    "\n",
    "input_file = 'temp.csv'\n",
    "output_file = 'temp.csv'\n",
    "\n",
    "#Read csv file\n",
    "data = pd.read_csv(input_file)\n",
    "\n",
    "#Eliminate the stocks which market cap < 100M\n",
    "data = util.MarketCapElimination(data, 100)\n",
    "\n",
    "#Select factors\n",
    "data = util.FactorsSelection(data)\n",
    "\n",
    "#Generate target label\n",
    "data = util.TargetLabelCaculation(data)\n",
    "\n",
    "#Split dataset to train/test\n",
    "df_train, df_test = util.TrainTestSpliting(data,2016)\n",
    "\n",
    "#Perform Min Max scaling on each stock\n",
    "df_train, df_test = util.MinMaxNormalization(df_train, df_test)\n",
    "\n",
    "#Drop the row which target is NA\n",
    "df_train.dropna(subset=['target'], inplace=True)\n",
    "df_test.dropna(subset=['target'], inplace=True)\n",
    "\n",
    "#Prepare np array for train/test\n",
    "train_X, train_y = df_train.drop(['date','ticker','last_price','next_return','target'], axis=1).as_matrix(), df_train['target'].as_matrix()\n",
    "test_X, test_y = df_test.drop(['date','ticker','last_price','next_return','target'], axis=1).as_matrix(), df_test['target'].as_matrix()\n",
    "\n",
    "#Build the model\n",
    "model = Sequential()\n",
    "model.add(Dense(100,kernel_regularizer=regularizers.l2(0.05),batch_input_shape=(len(train_X)/100,train_X.shape[1],)))\n",
    "#model.add(BatchNormalization())\n",
    "model.add(Activation('tanh'))\n",
    "model.add(Dropout(0.2))\n",
    "model.add(Dense(50,kernel_regularizer=regularizers.l2(0.2)))\n",
    "#model.add(BatchNormalization())\n",
    "model.add(Activation('tanh'))\n",
    "model.add(Dropout(0.2))\n",
    "model.add(Dense(300,kernel_regularizer=regularizers.l2(0.1)))\n",
    "#model.add(BatchNormalization())\n",
    "model.add(Activation('tanh'))\n",
    "model.add(Dropout(0.4))\n",
    "model.add(Dense(1))\n",
    "model.add(Activation('sigmoid'))\n",
    "rmsprop = optimizers.RMSprop(decay=0.0001)\n",
    "model.compile(loss='binary_crossentropy', optimizer=rmsprop)\n",
    "model.fit(train_X, train_y, epochs=5, batch_size=len(train_X)/100, verbose=1,shuffle=True)\n",
    "\n",
    "#Predict the target of test set\n",
    "predicted_result = model.predict(test_X)\n",
    "predicted_result = predicted_result[:,0]\n",
    "                                    \n",
    "#Cal AE, MSE\n",
    "abs_error = 0\n",
    "\n",
    "for i,j in zip(test_y,predicted_result):\n",
    "    abs_error += np.absolute(i-j)\n",
    "\n",
    "print \"Absolute Error: \",abs_error\n",
    "print \"MSE :\",mean_squared_error(test_y,predicted_result)\n",
    "\n",
    "#Output the predicted value\n",
    "util.WriteResultFile(df_test,predicted_result,'r.csv')"
   ]
  },
  {
   "cell_type": "markdown",
   "metadata": {},
   "source": [
    "# Other cell for testing"
   ]
  },
  {
   "cell_type": "code",
   "execution_count": 35,
   "metadata": {},
   "outputs": [],
   "source": [
    "tmp = df_test.dropna(subset=['target'])"
   ]
  },
  {
   "cell_type": "code",
   "execution_count": 2,
   "metadata": {},
   "outputs": [
    {
     "data": {
      "text/html": [
       "<div>\n",
       "<style>\n",
       "    .dataframe thead tr:only-child th {\n",
       "        text-align: right;\n",
       "    }\n",
       "\n",
       "    .dataframe thead th {\n",
       "        text-align: left;\n",
       "    }\n",
       "\n",
       "    .dataframe tbody tr th {\n",
       "        vertical-align: top;\n",
       "    }\n",
       "</style>\n",
       "<table border=\"1\" class=\"dataframe\">\n",
       "  <thead>\n",
       "    <tr style=\"text-align: right;\">\n",
       "      <th></th>\n",
       "      <th>date</th>\n",
       "      <th>ticker</th>\n",
       "      <th>account_receivable</th>\n",
       "      <th>asset_turnover</th>\n",
       "      <th>basic_eps_5yr_avg_growth</th>\n",
       "      <th>best_target_price</th>\n",
       "      <th>book_value</th>\n",
       "      <th>capital_expenditures</th>\n",
       "      <th>cash_cash_equivalents</th>\n",
       "      <th>cash_flow_per_share</th>\n",
       "      <th>...</th>\n",
       "      <th>resist_level3</th>\n",
       "      <th>high_price</th>\n",
       "      <th>low_price</th>\n",
       "      <th>bbg_mom_1m</th>\n",
       "      <th>bbg_mom_3m</th>\n",
       "      <th>bbg_mom_6m</th>\n",
       "      <th>bbg_mom_12m</th>\n",
       "      <th>bbg_mom_12m_vol_adj</th>\n",
       "      <th>next_return</th>\n",
       "      <th>target</th>\n",
       "    </tr>\n",
       "  </thead>\n",
       "  <tbody>\n",
       "    <tr>\n",
       "      <th>0</th>\n",
       "      <td>2015-02-28</td>\n",
       "      <td>MOGLQ US Equity</td>\n",
       "      <td>0.000000e+00</td>\n",
       "      <td>0.0000</td>\n",
       "      <td>0.0000</td>\n",
       "      <td>0.059</td>\n",
       "      <td>0.000000e+00</td>\n",
       "      <td>0.000</td>\n",
       "      <td>0.0000</td>\n",
       "      <td>0.0000</td>\n",
       "      <td>...</td>\n",
       "      <td>0.00000</td>\n",
       "      <td>0.0150</td>\n",
       "      <td>0.0150</td>\n",
       "      <td>0</td>\n",
       "      <td>0</td>\n",
       "      <td>0</td>\n",
       "      <td>0</td>\n",
       "      <td>0</td>\n",
       "      <td>153.333333</td>\n",
       "      <td>1.0</td>\n",
       "    </tr>\n",
       "    <tr>\n",
       "      <th>1</th>\n",
       "      <td>2015-02-28</td>\n",
       "      <td>ZEON US Equity</td>\n",
       "      <td>0.000000e+00</td>\n",
       "      <td>0.0000</td>\n",
       "      <td>0.0000</td>\n",
       "      <td>0.000</td>\n",
       "      <td>0.000000e+00</td>\n",
       "      <td>0.000</td>\n",
       "      <td>0.0000</td>\n",
       "      <td>0.0000</td>\n",
       "      <td>...</td>\n",
       "      <td>0.00000</td>\n",
       "      <td>2.0000</td>\n",
       "      <td>2.0000</td>\n",
       "      <td>0</td>\n",
       "      <td>0</td>\n",
       "      <td>0</td>\n",
       "      <td>0</td>\n",
       "      <td>0</td>\n",
       "      <td>132.500000</td>\n",
       "      <td>1.0</td>\n",
       "    </tr>\n",
       "    <tr>\n",
       "      <th>2</th>\n",
       "      <td>2015-02-28</td>\n",
       "      <td>SGQRF US Equity</td>\n",
       "      <td>4.620000e-01</td>\n",
       "      <td>0.0531</td>\n",
       "      <td>-31.1479</td>\n",
       "      <td>0.486</td>\n",
       "      <td>2.842810e+02</td>\n",
       "      <td>-3.649</td>\n",
       "      <td>4.7680</td>\n",
       "      <td>0.0000</td>\n",
       "      <td>...</td>\n",
       "      <td>0.00000</td>\n",
       "      <td>0.4604</td>\n",
       "      <td>0.4180</td>\n",
       "      <td>0</td>\n",
       "      <td>0</td>\n",
       "      <td>0</td>\n",
       "      <td>0</td>\n",
       "      <td>0</td>\n",
       "      <td>60.034752</td>\n",
       "      <td>1.0</td>\n",
       "    </tr>\n",
       "    <tr>\n",
       "      <th>3</th>\n",
       "      <td>2015-02-28</td>\n",
       "      <td>MDR US Equity</td>\n",
       "      <td>1.433700e+02</td>\n",
       "      <td>0.7393</td>\n",
       "      <td>-24.5987</td>\n",
       "      <td>4.955</td>\n",
       "      <td>1.488200e+03</td>\n",
       "      <td>-321.187</td>\n",
       "      <td>665.3090</td>\n",
       "      <td>0.5029</td>\n",
       "      <td>...</td>\n",
       "      <td>2.66333</td>\n",
       "      <td>2.5200</td>\n",
       "      <td>2.4300</td>\n",
       "      <td>0</td>\n",
       "      <td>0</td>\n",
       "      <td>0</td>\n",
       "      <td>0</td>\n",
       "      <td>0</td>\n",
       "      <td>53.600000</td>\n",
       "      <td>1.0</td>\n",
       "    </tr>\n",
       "    <tr>\n",
       "      <th>4</th>\n",
       "      <td>2015-02-28</td>\n",
       "      <td>SRMLF US Equity</td>\n",
       "      <td>8.205000e+00</td>\n",
       "      <td>0.2365</td>\n",
       "      <td>0.0000</td>\n",
       "      <td>6.233</td>\n",
       "      <td>3.215550e+02</td>\n",
       "      <td>-30.426</td>\n",
       "      <td>0.0000</td>\n",
       "      <td>0.0000</td>\n",
       "      <td>...</td>\n",
       "      <td>0.00000</td>\n",
       "      <td>2.6852</td>\n",
       "      <td>2.6852</td>\n",
       "      <td>0</td>\n",
       "      <td>0</td>\n",
       "      <td>0</td>\n",
       "      <td>0</td>\n",
       "      <td>0</td>\n",
       "      <td>33.137196</td>\n",
       "      <td>1.0</td>\n",
       "    </tr>\n",
       "    <tr>\n",
       "      <th>5</th>\n",
       "      <td>2015-02-28</td>\n",
       "      <td>CDXS US Equity</td>\n",
       "      <td>3.870000e+00</td>\n",
       "      <td>0.6602</td>\n",
       "      <td>0.0000</td>\n",
       "      <td>3.267</td>\n",
       "      <td>2.631100e+01</td>\n",
       "      <td>-0.302</td>\n",
       "      <td>26.4870</td>\n",
       "      <td>0.1287</td>\n",
       "      <td>...</td>\n",
       "      <td>3.72800</td>\n",
       "      <td>3.5800</td>\n",
       "      <td>3.4700</td>\n",
       "      <td>0</td>\n",
       "      <td>0</td>\n",
       "      <td>0</td>\n",
       "      <td>0</td>\n",
       "      <td>0</td>\n",
       "      <td>29.178470</td>\n",
       "      <td>1.0</td>\n",
       "    </tr>\n",
       "    <tr>\n",
       "      <th>6</th>\n",
       "      <td>2015-02-28</td>\n",
       "      <td>EOPT US Equity</td>\n",
       "      <td>0.000000e+00</td>\n",
       "      <td>0.5500</td>\n",
       "      <td>-451.0570</td>\n",
       "      <td>0.000</td>\n",
       "      <td>-2.053450e+01</td>\n",
       "      <td>0.000</td>\n",
       "      <td>0.0010</td>\n",
       "      <td>-0.0223</td>\n",
       "      <td>...</td>\n",
       "      <td>0.00000</td>\n",
       "      <td>4.0000</td>\n",
       "      <td>4.0000</td>\n",
       "      <td>0</td>\n",
       "      <td>0</td>\n",
       "      <td>0</td>\n",
       "      <td>0</td>\n",
       "      <td>0</td>\n",
       "      <td>27.500000</td>\n",
       "      <td>1.0</td>\n",
       "    </tr>\n",
       "    <tr>\n",
       "      <th>7</th>\n",
       "      <td>2015-02-28</td>\n",
       "      <td>KSKGF US Equity</td>\n",
       "      <td>0.000000e+00</td>\n",
       "      <td>0.0000</td>\n",
       "      <td>0.0000</td>\n",
       "      <td>0.555</td>\n",
       "      <td>0.000000e+00</td>\n",
       "      <td>0.000</td>\n",
       "      <td>0.0000</td>\n",
       "      <td>0.0000</td>\n",
       "      <td>...</td>\n",
       "      <td>0.00000</td>\n",
       "      <td>0.5700</td>\n",
       "      <td>0.5700</td>\n",
       "      <td>0</td>\n",
       "      <td>0</td>\n",
       "      <td>0</td>\n",
       "      <td>0</td>\n",
       "      <td>0</td>\n",
       "      <td>27.192982</td>\n",
       "      <td>1.0</td>\n",
       "    </tr>\n",
       "    <tr>\n",
       "      <th>8</th>\n",
       "      <td>2015-02-28</td>\n",
       "      <td>KANKF US Equity</td>\n",
       "      <td>1.328400e+05</td>\n",
       "      <td>1.0137</td>\n",
       "      <td>359.2310</td>\n",
       "      <td>5.459</td>\n",
       "      <td>2.869750e+05</td>\n",
       "      <td>0.000</td>\n",
       "      <td>25192.0000</td>\n",
       "      <td>0.0000</td>\n",
       "      <td>...</td>\n",
       "      <td>0.00000</td>\n",
       "      <td>5.7100</td>\n",
       "      <td>5.7100</td>\n",
       "      <td>0</td>\n",
       "      <td>0</td>\n",
       "      <td>0</td>\n",
       "      <td>0</td>\n",
       "      <td>0</td>\n",
       "      <td>26.970228</td>\n",
       "      <td>1.0</td>\n",
       "    </tr>\n",
       "    <tr>\n",
       "      <th>9</th>\n",
       "      <td>2015-02-28</td>\n",
       "      <td>SBFFF US Equity</td>\n",
       "      <td>0.000000e+00</td>\n",
       "      <td>0.0000</td>\n",
       "      <td>0.0000</td>\n",
       "      <td>15.423</td>\n",
       "      <td>0.000000e+00</td>\n",
       "      <td>0.000</td>\n",
       "      <td>0.0000</td>\n",
       "      <td>0.0000</td>\n",
       "      <td>...</td>\n",
       "      <td>0.00000</td>\n",
       "      <td>10.3200</td>\n",
       "      <td>10.3200</td>\n",
       "      <td>0</td>\n",
       "      <td>0</td>\n",
       "      <td>0</td>\n",
       "      <td>0</td>\n",
       "      <td>0</td>\n",
       "      <td>23.837209</td>\n",
       "      <td>1.0</td>\n",
       "    </tr>\n",
       "    <tr>\n",
       "      <th>10</th>\n",
       "      <td>2015-02-28</td>\n",
       "      <td>KMG US Equity</td>\n",
       "      <td>3.720200e+01</td>\n",
       "      <td>1.4677</td>\n",
       "      <td>-18.3189</td>\n",
       "      <td>22.000</td>\n",
       "      <td>1.179080e+02</td>\n",
       "      <td>-7.036</td>\n",
       "      <td>10.4900</td>\n",
       "      <td>-0.2681</td>\n",
       "      <td>...</td>\n",
       "      <td>21.91000</td>\n",
       "      <td>21.9500</td>\n",
       "      <td>21.1600</td>\n",
       "      <td>0</td>\n",
       "      <td>0</td>\n",
       "      <td>0</td>\n",
       "      <td>0</td>\n",
       "      <td>0</td>\n",
       "      <td>23.350254</td>\n",
       "      <td>1.0</td>\n",
       "    </tr>\n",
       "    <tr>\n",
       "      <th>11</th>\n",
       "      <td>2015-02-28</td>\n",
       "      <td>PARR US Equity</td>\n",
       "      <td>1.119530e+02</td>\n",
       "      <td>4.0144</td>\n",
       "      <td>-327.7980</td>\n",
       "      <td>22.794</td>\n",
       "      <td>2.921590e+02</td>\n",
       "      <td>-14.300</td>\n",
       "      <td>89.2100</td>\n",
       "      <td>0.5911</td>\n",
       "      <td>...</td>\n",
       "      <td>18.84670</td>\n",
       "      <td>18.6814</td>\n",
       "      <td>18.5823</td>\n",
       "      <td>0</td>\n",
       "      <td>0</td>\n",
       "      <td>0</td>\n",
       "      <td>0</td>\n",
       "      <td>0</td>\n",
       "      <td>23.130493</td>\n",
       "      <td>1.0</td>\n",
       "    </tr>\n",
       "    <tr>\n",
       "      <th>12</th>\n",
       "      <td>2015-02-28</td>\n",
       "      <td>GPRE US Equity</td>\n",
       "      <td>1.380730e+02</td>\n",
       "      <td>1.9256</td>\n",
       "      <td>24.5405</td>\n",
       "      <td>45.217</td>\n",
       "      <td>7.974490e+02</td>\n",
       "      <td>-59.547</td>\n",
       "      <td>425.5100</td>\n",
       "      <td>-0.1068</td>\n",
       "      <td>...</td>\n",
       "      <td>24.59920</td>\n",
       "      <td>23.5700</td>\n",
       "      <td>22.6000</td>\n",
       "      <td>0</td>\n",
       "      <td>0</td>\n",
       "      <td>0</td>\n",
       "      <td>0</td>\n",
       "      <td>0</td>\n",
       "      <td>22.795699</td>\n",
       "      <td>1.0</td>\n",
       "    </tr>\n",
       "    <tr>\n",
       "      <th>13</th>\n",
       "      <td>2015-02-28</td>\n",
       "      <td>KOP US Equity</td>\n",
       "      <td>1.987000e+02</td>\n",
       "      <td>1.4961</td>\n",
       "      <td>-11.1330</td>\n",
       "      <td>41.500</td>\n",
       "      <td>7.000000e+01</td>\n",
       "      <td>-83.800</td>\n",
       "      <td>51.1000</td>\n",
       "      <td>1.2052</td>\n",
       "      <td>...</td>\n",
       "      <td>21.82650</td>\n",
       "      <td>18.2700</td>\n",
       "      <td>16.0100</td>\n",
       "      <td>0</td>\n",
       "      <td>0</td>\n",
       "      <td>0</td>\n",
       "      <td>0</td>\n",
       "      <td>0</td>\n",
       "      <td>22.084367</td>\n",
       "      <td>1.0</td>\n",
       "    </tr>\n",
       "    <tr>\n",
       "      <th>14</th>\n",
       "      <td>2015-02-28</td>\n",
       "      <td>ICD US Equity</td>\n",
       "      <td>1.912700e+01</td>\n",
       "      <td>0.2965</td>\n",
       "      <td>0.0000</td>\n",
       "      <td>10.500</td>\n",
       "      <td>2.367360e+02</td>\n",
       "      <td>-115.388</td>\n",
       "      <td>10.7570</td>\n",
       "      <td>-0.2743</td>\n",
       "      <td>...</td>\n",
       "      <td>6.22333</td>\n",
       "      <td>5.7900</td>\n",
       "      <td>5.7000</td>\n",
       "      <td>0</td>\n",
       "      <td>0</td>\n",
       "      <td>0</td>\n",
       "      <td>0</td>\n",
       "      <td>0</td>\n",
       "      <td>22.066550</td>\n",
       "      <td>1.0</td>\n",
       "    </tr>\n",
       "    <tr>\n",
       "      <th>15</th>\n",
       "      <td>2015-02-28</td>\n",
       "      <td>SHANF US Equity</td>\n",
       "      <td>6.993260e+02</td>\n",
       "      <td>0.4235</td>\n",
       "      <td>0.0000</td>\n",
       "      <td>0.415</td>\n",
       "      <td>2.694290e+03</td>\n",
       "      <td>0.000</td>\n",
       "      <td>378.9530</td>\n",
       "      <td>0.0000</td>\n",
       "      <td>...</td>\n",
       "      <td>0.00000</td>\n",
       "      <td>0.3963</td>\n",
       "      <td>0.3963</td>\n",
       "      <td>0</td>\n",
       "      <td>0</td>\n",
       "      <td>0</td>\n",
       "      <td>0</td>\n",
       "      <td>0</td>\n",
       "      <td>21.978299</td>\n",
       "      <td>1.0</td>\n",
       "    </tr>\n",
       "    <tr>\n",
       "      <th>16</th>\n",
       "      <td>2015-02-28</td>\n",
       "      <td>MTLHF US Equity</td>\n",
       "      <td>8.291050e+05</td>\n",
       "      <td>0.9319</td>\n",
       "      <td>23.9675</td>\n",
       "      <td>5.066</td>\n",
       "      <td>9.846250e+05</td>\n",
       "      <td>0.000</td>\n",
       "      <td>231002.0000</td>\n",
       "      <td>0.0000</td>\n",
       "      <td>...</td>\n",
       "      <td>0.00000</td>\n",
       "      <td>5.0400</td>\n",
       "      <td>5.0400</td>\n",
       "      <td>0</td>\n",
       "      <td>0</td>\n",
       "      <td>0</td>\n",
       "      <td>0</td>\n",
       "      <td>0</td>\n",
       "      <td>21.805556</td>\n",
       "      <td>1.0</td>\n",
       "    </tr>\n",
       "    <tr>\n",
       "      <th>17</th>\n",
       "      <td>2015-02-28</td>\n",
       "      <td>CMT US Equity</td>\n",
       "      <td>3.436000e+01</td>\n",
       "      <td>1.6310</td>\n",
       "      <td>10.4593</td>\n",
       "      <td>17.000</td>\n",
       "      <td>7.614600e+01</td>\n",
       "      <td>-10.679</td>\n",
       "      <td>2.3120</td>\n",
       "      <td>0.8269</td>\n",
       "      <td>...</td>\n",
       "      <td>14.65330</td>\n",
       "      <td>14.2000</td>\n",
       "      <td>14.0510</td>\n",
       "      <td>0</td>\n",
       "      <td>0</td>\n",
       "      <td>0</td>\n",
       "      <td>0</td>\n",
       "      <td>0</td>\n",
       "      <td>21.773050</td>\n",
       "      <td>1.0</td>\n",
       "    </tr>\n",
       "    <tr>\n",
       "      <th>18</th>\n",
       "      <td>2015-02-28</td>\n",
       "      <td>TGA US Equity</td>\n",
       "      <td>1.175750e+02</td>\n",
       "      <td>0.4274</td>\n",
       "      <td>61.7459</td>\n",
       "      <td>6.230</td>\n",
       "      <td>5.001000e+02</td>\n",
       "      <td>-20.004</td>\n",
       "      <td>77.9390</td>\n",
       "      <td>0.0000</td>\n",
       "      <td>...</td>\n",
       "      <td>3.14000</td>\n",
       "      <td>2.9700</td>\n",
       "      <td>2.8700</td>\n",
       "      <td>0</td>\n",
       "      <td>0</td>\n",
       "      <td>0</td>\n",
       "      <td>0</td>\n",
       "      <td>0</td>\n",
       "      <td>21.232877</td>\n",
       "      <td>1.0</td>\n",
       "    </tr>\n",
       "    <tr>\n",
       "      <th>19</th>\n",
       "      <td>2015-02-28</td>\n",
       "      <td>HXPLF US Equity</td>\n",
       "      <td>9.450000e+02</td>\n",
       "      <td>1.3553</td>\n",
       "      <td>36.7114</td>\n",
       "      <td>9.305</td>\n",
       "      <td>5.049000e+03</td>\n",
       "      <td>0.000</td>\n",
       "      <td>826.0000</td>\n",
       "      <td>0.0000</td>\n",
       "      <td>...</td>\n",
       "      <td>0.00000</td>\n",
       "      <td>8.2650</td>\n",
       "      <td>8.2650</td>\n",
       "      <td>0</td>\n",
       "      <td>0</td>\n",
       "      <td>0</td>\n",
       "      <td>0</td>\n",
       "      <td>0</td>\n",
       "      <td>20.992136</td>\n",
       "      <td>1.0</td>\n",
       "    </tr>\n",
       "    <tr>\n",
       "      <th>20</th>\n",
       "      <td>2015-02-28</td>\n",
       "      <td>ALJ US Equity</td>\n",
       "      <td>9.844600e+01</td>\n",
       "      <td>3.0560</td>\n",
       "      <td>0.0000</td>\n",
       "      <td>17.700</td>\n",
       "      <td>6.362160e+02</td>\n",
       "      <td>-150.902</td>\n",
       "      <td>214.9610</td>\n",
       "      <td>0.7079</td>\n",
       "      <td>...</td>\n",
       "      <td>14.60000</td>\n",
       "      <td>14.1950</td>\n",
       "      <td>13.7600</td>\n",
       "      <td>0</td>\n",
       "      <td>0</td>\n",
       "      <td>0</td>\n",
       "      <td>0</td>\n",
       "      <td>0</td>\n",
       "      <td>18.866571</td>\n",
       "      <td>1.0</td>\n",
       "    </tr>\n",
       "    <tr>\n",
       "      <th>21</th>\n",
       "      <td>2015-02-28</td>\n",
       "      <td>CRLFF US Equity</td>\n",
       "      <td>2.033400e+01</td>\n",
       "      <td>0.2719</td>\n",
       "      <td>0.0000</td>\n",
       "      <td>15.931</td>\n",
       "      <td>7.479280e+02</td>\n",
       "      <td>-9.896</td>\n",
       "      <td>0.0000</td>\n",
       "      <td>0.0000</td>\n",
       "      <td>...</td>\n",
       "      <td>0.00000</td>\n",
       "      <td>9.6929</td>\n",
       "      <td>9.6929</td>\n",
       "      <td>0</td>\n",
       "      <td>0</td>\n",
       "      <td>0</td>\n",
       "      <td>0</td>\n",
       "      <td>0</td>\n",
       "      <td>18.148335</td>\n",
       "      <td>1.0</td>\n",
       "    </tr>\n",
       "    <tr>\n",
       "      <th>22</th>\n",
       "      <td>2015-02-28</td>\n",
       "      <td>AKRTF US Equity</td>\n",
       "      <td>4.501000e+03</td>\n",
       "      <td>1.2357</td>\n",
       "      <td>0.0000</td>\n",
       "      <td>6.501</td>\n",
       "      <td>5.677000e+03</td>\n",
       "      <td>-816.000</td>\n",
       "      <td>3339.0000</td>\n",
       "      <td>0.0000</td>\n",
       "      <td>...</td>\n",
       "      <td>0.00000</td>\n",
       "      <td>5.0800</td>\n",
       "      <td>5.0800</td>\n",
       "      <td>0</td>\n",
       "      <td>0</td>\n",
       "      <td>0</td>\n",
       "      <td>0</td>\n",
       "      <td>0</td>\n",
       "      <td>18.110236</td>\n",
       "      <td>1.0</td>\n",
       "    </tr>\n",
       "    <tr>\n",
       "      <th>23</th>\n",
       "      <td>2015-02-28</td>\n",
       "      <td>SBGLF US Equity</td>\n",
       "      <td>0.000000e+00</td>\n",
       "      <td>0.0000</td>\n",
       "      <td>0.0000</td>\n",
       "      <td>1.495</td>\n",
       "      <td>0.000000e+00</td>\n",
       "      <td>0.000</td>\n",
       "      <td>0.0000</td>\n",
       "      <td>0.0000</td>\n",
       "      <td>...</td>\n",
       "      <td>0.00000</td>\n",
       "      <td>1.2247</td>\n",
       "      <td>1.2049</td>\n",
       "      <td>0</td>\n",
       "      <td>0</td>\n",
       "      <td>0</td>\n",
       "      <td>0</td>\n",
       "      <td>0</td>\n",
       "      <td>17.841104</td>\n",
       "      <td>1.0</td>\n",
       "    </tr>\n",
       "    <tr>\n",
       "      <th>24</th>\n",
       "      <td>2015-02-28</td>\n",
       "      <td>ERN US Equity</td>\n",
       "      <td>4.960000e-01</td>\n",
       "      <td>0.0986</td>\n",
       "      <td>-73.7779</td>\n",
       "      <td>9.000</td>\n",
       "      <td>3.333510e+02</td>\n",
       "      <td>-59.481</td>\n",
       "      <td>54.2640</td>\n",
       "      <td>-0.0017</td>\n",
       "      <td>...</td>\n",
       "      <td>3.27723</td>\n",
       "      <td>2.7607</td>\n",
       "      <td>2.4000</td>\n",
       "      <td>0</td>\n",
       "      <td>0</td>\n",
       "      <td>0</td>\n",
       "      <td>0</td>\n",
       "      <td>0</td>\n",
       "      <td>17.777778</td>\n",
       "      <td>1.0</td>\n",
       "    </tr>\n",
       "    <tr>\n",
       "      <th>25</th>\n",
       "      <td>2015-02-28</td>\n",
       "      <td>PEIX US Equity</td>\n",
       "      <td>3.461200e+01</td>\n",
       "      <td>4.0973</td>\n",
       "      <td>-1.9313</td>\n",
       "      <td>21.500</td>\n",
       "      <td>2.135060e+02</td>\n",
       "      <td>-13.259</td>\n",
       "      <td>62.0840</td>\n",
       "      <td>0.5023</td>\n",
       "      <td>...</td>\n",
       "      <td>9.46667</td>\n",
       "      <td>9.3300</td>\n",
       "      <td>8.8800</td>\n",
       "      <td>0</td>\n",
       "      <td>0</td>\n",
       "      <td>0</td>\n",
       "      <td>0</td>\n",
       "      <td>0</td>\n",
       "      <td>17.538126</td>\n",
       "      <td>1.0</td>\n",
       "    </tr>\n",
       "    <tr>\n",
       "      <th>26</th>\n",
       "      <td>2015-02-28</td>\n",
       "      <td>PLM US Equity</td>\n",
       "      <td>3.810000e-01</td>\n",
       "      <td>0.0000</td>\n",
       "      <td>-13.5294</td>\n",
       "      <td>1.982</td>\n",
       "      <td>1.923760e+02</td>\n",
       "      <td>-6.552</td>\n",
       "      <td>8.8660</td>\n",
       "      <td>0.0000</td>\n",
       "      <td>...</td>\n",
       "      <td>1.11667</td>\n",
       "      <td>1.1100</td>\n",
       "      <td>1.0900</td>\n",
       "      <td>0</td>\n",
       "      <td>0</td>\n",
       "      <td>0</td>\n",
       "      <td>0</td>\n",
       "      <td>0</td>\n",
       "      <td>17.272727</td>\n",
       "      <td>1.0</td>\n",
       "    </tr>\n",
       "    <tr>\n",
       "      <th>27</th>\n",
       "      <td>2015-02-28</td>\n",
       "      <td>NAT US Equity</td>\n",
       "      <td>1.573900e+01</td>\n",
       "      <td>0.1311</td>\n",
       "      <td>-27.1250</td>\n",
       "      <td>9.478</td>\n",
       "      <td>8.889110e+02</td>\n",
       "      <td>-73.772</td>\n",
       "      <td>100.7360</td>\n",
       "      <td>0.2951</td>\n",
       "      <td>...</td>\n",
       "      <td>10.54210</td>\n",
       "      <td>10.3300</td>\n",
       "      <td>10.1200</td>\n",
       "      <td>0</td>\n",
       "      <td>0</td>\n",
       "      <td>0</td>\n",
       "      <td>0</td>\n",
       "      <td>0</td>\n",
       "      <td>16.422287</td>\n",
       "      <td>1.0</td>\n",
       "    </tr>\n",
       "    <tr>\n",
       "      <th>28</th>\n",
       "      <td>2015-02-28</td>\n",
       "      <td>KBSTF US Equity</td>\n",
       "      <td>3.231880e+05</td>\n",
       "      <td>0.8316</td>\n",
       "      <td>0.0000</td>\n",
       "      <td>16.800</td>\n",
       "      <td>7.321760e+05</td>\n",
       "      <td>0.000</td>\n",
       "      <td>189707.0000</td>\n",
       "      <td>0.0000</td>\n",
       "      <td>...</td>\n",
       "      <td>0.00000</td>\n",
       "      <td>17.0519</td>\n",
       "      <td>17.0519</td>\n",
       "      <td>0</td>\n",
       "      <td>0</td>\n",
       "      <td>0</td>\n",
       "      <td>0</td>\n",
       "      <td>0</td>\n",
       "      <td>16.116093</td>\n",
       "      <td>1.0</td>\n",
       "    </tr>\n",
       "    <tr>\n",
       "      <th>29</th>\n",
       "      <td>2015-02-28</td>\n",
       "      <td>USAP US Equity</td>\n",
       "      <td>2.905700e+01</td>\n",
       "      <td>0.5770</td>\n",
       "      <td>25.2819</td>\n",
       "      <td>29.000</td>\n",
       "      <td>2.036300e+02</td>\n",
       "      <td>-11.173</td>\n",
       "      <td>0.1420</td>\n",
       "      <td>1.1581</td>\n",
       "      <td>...</td>\n",
       "      <td>23.51000</td>\n",
       "      <td>23.0200</td>\n",
       "      <td>22.6000</td>\n",
       "      <td>0</td>\n",
       "      <td>0</td>\n",
       "      <td>0</td>\n",
       "      <td>0</td>\n",
       "      <td>0</td>\n",
       "      <td>15.915119</td>\n",
       "      <td>1.0</td>\n",
       "    </tr>\n",
       "    <tr>\n",
       "      <th>...</th>\n",
       "      <td>...</td>\n",
       "      <td>...</td>\n",
       "      <td>...</td>\n",
       "      <td>...</td>\n",
       "      <td>...</td>\n",
       "      <td>...</td>\n",
       "      <td>...</td>\n",
       "      <td>...</td>\n",
       "      <td>...</td>\n",
       "      <td>...</td>\n",
       "      <td>...</td>\n",
       "      <td>...</td>\n",
       "      <td>...</td>\n",
       "      <td>...</td>\n",
       "      <td>...</td>\n",
       "      <td>...</td>\n",
       "      <td>...</td>\n",
       "      <td>...</td>\n",
       "      <td>...</td>\n",
       "      <td>...</td>\n",
       "      <td>...</td>\n",
       "    </tr>\n",
       "    <tr>\n",
       "      <th>976</th>\n",
       "      <td>2015-02-28</td>\n",
       "      <td>RMGGF US Equity</td>\n",
       "      <td>0.000000e+00</td>\n",
       "      <td>0.0000</td>\n",
       "      <td>0.0000</td>\n",
       "      <td>0.440</td>\n",
       "      <td>0.000000e+00</td>\n",
       "      <td>0.000</td>\n",
       "      <td>0.0000</td>\n",
       "      <td>0.0000</td>\n",
       "      <td>...</td>\n",
       "      <td>0.00000</td>\n",
       "      <td>0.3100</td>\n",
       "      <td>0.3072</td>\n",
       "      <td>0</td>\n",
       "      <td>0</td>\n",
       "      <td>0</td>\n",
       "      <td>0</td>\n",
       "      <td>0</td>\n",
       "      <td>-25.806452</td>\n",
       "      <td>0.0</td>\n",
       "    </tr>\n",
       "    <tr>\n",
       "      <th>977</th>\n",
       "      <td>2015-02-28</td>\n",
       "      <td>LIFZF US Equity</td>\n",
       "      <td>2.486120e+01</td>\n",
       "      <td>0.1554</td>\n",
       "      <td>6.4873</td>\n",
       "      <td>21.117</td>\n",
       "      <td>5.777190e+02</td>\n",
       "      <td>0.000</td>\n",
       "      <td>49.0313</td>\n",
       "      <td>0.0000</td>\n",
       "      <td>...</td>\n",
       "      <td>14.56110</td>\n",
       "      <td>14.5160</td>\n",
       "      <td>14.3850</td>\n",
       "      <td>0</td>\n",
       "      <td>0</td>\n",
       "      <td>0</td>\n",
       "      <td>0</td>\n",
       "      <td>0</td>\n",
       "      <td>-26.104639</td>\n",
       "      <td>0.0</td>\n",
       "    </tr>\n",
       "    <tr>\n",
       "      <th>978</th>\n",
       "      <td>2015-02-28</td>\n",
       "      <td>CENX US Equity</td>\n",
       "      <td>7.616500e+01</td>\n",
       "      <td>1.0099</td>\n",
       "      <td>0.0000</td>\n",
       "      <td>32.143</td>\n",
       "      <td>1.091150e+03</td>\n",
       "      <td>-109.662</td>\n",
       "      <td>163.2420</td>\n",
       "      <td>1.1095</td>\n",
       "      <td>...</td>\n",
       "      <td>20.82330</td>\n",
       "      <td>19.7400</td>\n",
       "      <td>18.9600</td>\n",
       "      <td>0</td>\n",
       "      <td>0</td>\n",
       "      <td>0</td>\n",
       "      <td>0</td>\n",
       "      <td>0</td>\n",
       "      <td>-27.253558</td>\n",
       "      <td>0.0</td>\n",
       "    </tr>\n",
       "    <tr>\n",
       "      <th>979</th>\n",
       "      <td>2015-02-28</td>\n",
       "      <td>NADL US Equity</td>\n",
       "      <td>2.351000e+02</td>\n",
       "      <td>0.3438</td>\n",
       "      <td>0.0000</td>\n",
       "      <td>23.278</td>\n",
       "      <td>4.515000e+02</td>\n",
       "      <td>-461.800</td>\n",
       "      <td>116.2000</td>\n",
       "      <td>3.3859</td>\n",
       "      <td>...</td>\n",
       "      <td>17.06670</td>\n",
       "      <td>16.1000</td>\n",
       "      <td>15.3013</td>\n",
       "      <td>0</td>\n",
       "      <td>0</td>\n",
       "      <td>0</td>\n",
       "      <td>0</td>\n",
       "      <td>0</td>\n",
       "      <td>-27.950311</td>\n",
       "      <td>0.0</td>\n",
       "    </tr>\n",
       "    <tr>\n",
       "      <th>980</th>\n",
       "      <td>2015-02-28</td>\n",
       "      <td>AFRNF US Equity</td>\n",
       "      <td>1.907000e+02</td>\n",
       "      <td>0.2793</td>\n",
       "      <td>0.0000</td>\n",
       "      <td>1.488</td>\n",
       "      <td>2.664000e+02</td>\n",
       "      <td>-348.600</td>\n",
       "      <td>266.7000</td>\n",
       "      <td>0.0000</td>\n",
       "      <td>...</td>\n",
       "      <td>0.16000</td>\n",
       "      <td>0.1549</td>\n",
       "      <td>0.1549</td>\n",
       "      <td>0</td>\n",
       "      <td>0</td>\n",
       "      <td>0</td>\n",
       "      <td>0</td>\n",
       "      <td>0</td>\n",
       "      <td>-28.986443</td>\n",
       "      <td>0.0</td>\n",
       "    </tr>\n",
       "    <tr>\n",
       "      <th>981</th>\n",
       "      <td>2015-02-28</td>\n",
       "      <td>SA US Equity</td>\n",
       "      <td>5.092000e+00</td>\n",
       "      <td>0.0000</td>\n",
       "      <td>-66.6667</td>\n",
       "      <td>31.314</td>\n",
       "      <td>2.598340e+02</td>\n",
       "      <td>-13.761</td>\n",
       "      <td>0.6070</td>\n",
       "      <td>0.0000</td>\n",
       "      <td>...</td>\n",
       "      <td>8.45500</td>\n",
       "      <td>7.9700</td>\n",
       "      <td>7.7500</td>\n",
       "      <td>0</td>\n",
       "      <td>0</td>\n",
       "      <td>0</td>\n",
       "      <td>0</td>\n",
       "      <td>0</td>\n",
       "      <td>-29.343629</td>\n",
       "      <td>0.0</td>\n",
       "    </tr>\n",
       "    <tr>\n",
       "      <th>982</th>\n",
       "      <td>2015-02-28</td>\n",
       "      <td>CLF US Equity</td>\n",
       "      <td>1.227000e+02</td>\n",
       "      <td>0.4147</td>\n",
       "      <td>66.6205</td>\n",
       "      <td>7.179</td>\n",
       "      <td>-2.162600e+03</td>\n",
       "      <td>-284.100</td>\n",
       "      <td>290.9000</td>\n",
       "      <td>1.6645</td>\n",
       "      <td>...</td>\n",
       "      <td>7.12000</td>\n",
       "      <td>6.9800</td>\n",
       "      <td>6.7600</td>\n",
       "      <td>0</td>\n",
       "      <td>0</td>\n",
       "      <td>0</td>\n",
       "      <td>0</td>\n",
       "      <td>0</td>\n",
       "      <td>-29.678363</td>\n",
       "      <td>0.0</td>\n",
       "    </tr>\n",
       "    <tr>\n",
       "      <th>983</th>\n",
       "      <td>2015-02-28</td>\n",
       "      <td>CLD US Equity</td>\n",
       "      <td>8.683800e+01</td>\n",
       "      <td>0.5873</td>\n",
       "      <td>0.0000</td>\n",
       "      <td>17.045</td>\n",
       "      <td>1.087830e+03</td>\n",
       "      <td>-18.719</td>\n",
       "      <td>168.7450</td>\n",
       "      <td>0.9206</td>\n",
       "      <td>...</td>\n",
       "      <td>8.90333</td>\n",
       "      <td>8.5400</td>\n",
       "      <td>8.1300</td>\n",
       "      <td>0</td>\n",
       "      <td>0</td>\n",
       "      <td>0</td>\n",
       "      <td>0</td>\n",
       "      <td>0</td>\n",
       "      <td>-29.794934</td>\n",
       "      <td>0.0</td>\n",
       "    </tr>\n",
       "    <tr>\n",
       "      <th>984</th>\n",
       "      <td>2015-02-28</td>\n",
       "      <td>GUKYF US Equity</td>\n",
       "      <td>0.000000e+00</td>\n",
       "      <td>0.0000</td>\n",
       "      <td>0.0000</td>\n",
       "      <td>63.444</td>\n",
       "      <td>0.000000e+00</td>\n",
       "      <td>0.000</td>\n",
       "      <td>0.0000</td>\n",
       "      <td>0.0000</td>\n",
       "      <td>...</td>\n",
       "      <td>38.57350</td>\n",
       "      <td>34.7163</td>\n",
       "      <td>33.4429</td>\n",
       "      <td>0</td>\n",
       "      <td>0</td>\n",
       "      <td>0</td>\n",
       "      <td>0</td>\n",
       "      <td>0</td>\n",
       "      <td>-31.012707</td>\n",
       "      <td>0.0</td>\n",
       "    </tr>\n",
       "    <tr>\n",
       "      <th>985</th>\n",
       "      <td>2015-02-28</td>\n",
       "      <td>AWWEF US Equity</td>\n",
       "      <td>0.000000e+00</td>\n",
       "      <td>0.0000</td>\n",
       "      <td>0.0000</td>\n",
       "      <td>1.552</td>\n",
       "      <td>0.000000e+00</td>\n",
       "      <td>0.000</td>\n",
       "      <td>0.0000</td>\n",
       "      <td>0.0000</td>\n",
       "      <td>...</td>\n",
       "      <td>0.00000</td>\n",
       "      <td>1.4100</td>\n",
       "      <td>1.4100</td>\n",
       "      <td>0</td>\n",
       "      <td>0</td>\n",
       "      <td>0</td>\n",
       "      <td>0</td>\n",
       "      <td>0</td>\n",
       "      <td>-31.205674</td>\n",
       "      <td>0.0</td>\n",
       "    </tr>\n",
       "    <tr>\n",
       "      <th>986</th>\n",
       "      <td>2015-02-28</td>\n",
       "      <td>CRK US Equity</td>\n",
       "      <td>0.000000e+00</td>\n",
       "      <td>0.2602</td>\n",
       "      <td>-76.3339</td>\n",
       "      <td>44.286</td>\n",
       "      <td>1.377340e+03</td>\n",
       "      <td>-502.362</td>\n",
       "      <td>6.4330</td>\n",
       "      <td>7.7745</td>\n",
       "      <td>...</td>\n",
       "      <td>31.65000</td>\n",
       "      <td>26.8000</td>\n",
       "      <td>25.1000</td>\n",
       "      <td>0</td>\n",
       "      <td>0</td>\n",
       "      <td>0</td>\n",
       "      <td>0</td>\n",
       "      <td>0</td>\n",
       "      <td>-31.346154</td>\n",
       "      <td>0.0</td>\n",
       "    </tr>\n",
       "    <tr>\n",
       "      <th>987</th>\n",
       "      <td>2015-02-28</td>\n",
       "      <td>ARHVF US Equity</td>\n",
       "      <td>3.862000e+02</td>\n",
       "      <td>1.1055</td>\n",
       "      <td>0.0000</td>\n",
       "      <td>9.099</td>\n",
       "      <td>5.428000e+02</td>\n",
       "      <td>-214.600</td>\n",
       "      <td>28.9000</td>\n",
       "      <td>0.0000</td>\n",
       "      <td>...</td>\n",
       "      <td>0.00000</td>\n",
       "      <td>4.1463</td>\n",
       "      <td>4.1463</td>\n",
       "      <td>0</td>\n",
       "      <td>0</td>\n",
       "      <td>0</td>\n",
       "      <td>0</td>\n",
       "      <td>0</td>\n",
       "      <td>-31.534139</td>\n",
       "      <td>0.0</td>\n",
       "    </tr>\n",
       "    <tr>\n",
       "      <th>988</th>\n",
       "      <td>2015-02-28</td>\n",
       "      <td>TUWLF US Equity</td>\n",
       "      <td>0.000000e+00</td>\n",
       "      <td>0.0000</td>\n",
       "      <td>0.0000</td>\n",
       "      <td>8.204</td>\n",
       "      <td>0.000000e+00</td>\n",
       "      <td>0.000</td>\n",
       "      <td>0.0000</td>\n",
       "      <td>0.0000</td>\n",
       "      <td>...</td>\n",
       "      <td>0.00000</td>\n",
       "      <td>5.1711</td>\n",
       "      <td>5.1711</td>\n",
       "      <td>0</td>\n",
       "      <td>0</td>\n",
       "      <td>0</td>\n",
       "      <td>0</td>\n",
       "      <td>0</td>\n",
       "      <td>-32.312274</td>\n",
       "      <td>0.0</td>\n",
       "    </tr>\n",
       "    <tr>\n",
       "      <th>989</th>\n",
       "      <td>2015-02-28</td>\n",
       "      <td>RGRNF US Equity</td>\n",
       "      <td>0.000000e+00</td>\n",
       "      <td>0.0000</td>\n",
       "      <td>0.0000</td>\n",
       "      <td>1.515</td>\n",
       "      <td>0.000000e+00</td>\n",
       "      <td>0.000</td>\n",
       "      <td>10.4000</td>\n",
       "      <td>0.0000</td>\n",
       "      <td>...</td>\n",
       "      <td>0.00000</td>\n",
       "      <td>1.5000</td>\n",
       "      <td>1.5000</td>\n",
       "      <td>0</td>\n",
       "      <td>0</td>\n",
       "      <td>0</td>\n",
       "      <td>0</td>\n",
       "      <td>0</td>\n",
       "      <td>-34.000000</td>\n",
       "      <td>0.0</td>\n",
       "    </tr>\n",
       "    <tr>\n",
       "      <th>990</th>\n",
       "      <td>2015-02-28</td>\n",
       "      <td>ARRMF US Equity</td>\n",
       "      <td>0.000000e+00</td>\n",
       "      <td>0.0000</td>\n",
       "      <td>0.0000</td>\n",
       "      <td>0.262</td>\n",
       "      <td>0.000000e+00</td>\n",
       "      <td>0.000</td>\n",
       "      <td>0.0000</td>\n",
       "      <td>0.0000</td>\n",
       "      <td>...</td>\n",
       "      <td>0.00000</td>\n",
       "      <td>0.1900</td>\n",
       "      <td>0.1900</td>\n",
       "      <td>0</td>\n",
       "      <td>0</td>\n",
       "      <td>0</td>\n",
       "      <td>0</td>\n",
       "      <td>0</td>\n",
       "      <td>-34.210526</td>\n",
       "      <td>0.0</td>\n",
       "    </tr>\n",
       "    <tr>\n",
       "      <th>991</th>\n",
       "      <td>2015-02-28</td>\n",
       "      <td>ATLGF US Equity</td>\n",
       "      <td>0.000000e+00</td>\n",
       "      <td>0.0000</td>\n",
       "      <td>0.0000</td>\n",
       "      <td>0.146</td>\n",
       "      <td>0.000000e+00</td>\n",
       "      <td>0.000</td>\n",
       "      <td>0.0000</td>\n",
       "      <td>0.0000</td>\n",
       "      <td>...</td>\n",
       "      <td>0.00000</td>\n",
       "      <td>0.2080</td>\n",
       "      <td>0.2080</td>\n",
       "      <td>0</td>\n",
       "      <td>0</td>\n",
       "      <td>0</td>\n",
       "      <td>0</td>\n",
       "      <td>0</td>\n",
       "      <td>-35.096154</td>\n",
       "      <td>0.0</td>\n",
       "    </tr>\n",
       "    <tr>\n",
       "      <th>992</th>\n",
       "      <td>2015-02-28</td>\n",
       "      <td>NATDF US Equity</td>\n",
       "      <td>2.351000e+02</td>\n",
       "      <td>0.3438</td>\n",
       "      <td>0.0000</td>\n",
       "      <td>40.837</td>\n",
       "      <td>4.515000e+02</td>\n",
       "      <td>-461.800</td>\n",
       "      <td>116.2000</td>\n",
       "      <td>0.0000</td>\n",
       "      <td>...</td>\n",
       "      <td>0.00000</td>\n",
       "      <td>21.8000</td>\n",
       "      <td>15.6000</td>\n",
       "      <td>0</td>\n",
       "      <td>0</td>\n",
       "      <td>0</td>\n",
       "      <td>0</td>\n",
       "      <td>0</td>\n",
       "      <td>-35.897436</td>\n",
       "      <td>0.0</td>\n",
       "    </tr>\n",
       "    <tr>\n",
       "      <th>993</th>\n",
       "      <td>2015-02-28</td>\n",
       "      <td>PGNPQ US Equity</td>\n",
       "      <td>5.393760e+02</td>\n",
       "      <td>0.0000</td>\n",
       "      <td>0.0000</td>\n",
       "      <td>4.692</td>\n",
       "      <td>4.916080e+02</td>\n",
       "      <td>-79.290</td>\n",
       "      <td>-25.1360</td>\n",
       "      <td>1.5443</td>\n",
       "      <td>...</td>\n",
       "      <td>2.38333</td>\n",
       "      <td>2.2600</td>\n",
       "      <td>2.0100</td>\n",
       "      <td>0</td>\n",
       "      <td>0</td>\n",
       "      <td>0</td>\n",
       "      <td>0</td>\n",
       "      <td>0</td>\n",
       "      <td>-36.893204</td>\n",
       "      <td>0.0</td>\n",
       "    </tr>\n",
       "    <tr>\n",
       "      <th>994</th>\n",
       "      <td>2015-02-28</td>\n",
       "      <td>OEXFF US Equity</td>\n",
       "      <td>1.560500e+01</td>\n",
       "      <td>0.4240</td>\n",
       "      <td>0.0000</td>\n",
       "      <td>5.902</td>\n",
       "      <td>3.667990e+02</td>\n",
       "      <td>-46.924</td>\n",
       "      <td>0.0000</td>\n",
       "      <td>0.0000</td>\n",
       "      <td>...</td>\n",
       "      <td>3.75083</td>\n",
       "      <td>3.7500</td>\n",
       "      <td>3.7300</td>\n",
       "      <td>0</td>\n",
       "      <td>0</td>\n",
       "      <td>0</td>\n",
       "      <td>0</td>\n",
       "      <td>0</td>\n",
       "      <td>-38.649330</td>\n",
       "      <td>0.0</td>\n",
       "    </tr>\n",
       "    <tr>\n",
       "      <th>995</th>\n",
       "      <td>2015-02-28</td>\n",
       "      <td>SHASF US Equity</td>\n",
       "      <td>0.000000e+00</td>\n",
       "      <td>0.0000</td>\n",
       "      <td>0.0000</td>\n",
       "      <td>0.196</td>\n",
       "      <td>3.222040e+02</td>\n",
       "      <td>-0.002</td>\n",
       "      <td>78.6400</td>\n",
       "      <td>0.0000</td>\n",
       "      <td>...</td>\n",
       "      <td>0.11800</td>\n",
       "      <td>0.1180</td>\n",
       "      <td>0.1180</td>\n",
       "      <td>0</td>\n",
       "      <td>0</td>\n",
       "      <td>0</td>\n",
       "      <td>0</td>\n",
       "      <td>0</td>\n",
       "      <td>-41.610169</td>\n",
       "      <td>0.0</td>\n",
       "    </tr>\n",
       "    <tr>\n",
       "      <th>996</th>\n",
       "      <td>2015-02-28</td>\n",
       "      <td>SUNYF US Equity</td>\n",
       "      <td>9.550000e-01</td>\n",
       "      <td>0.0000</td>\n",
       "      <td>0.0000</td>\n",
       "      <td>0.046</td>\n",
       "      <td>9.830430e+02</td>\n",
       "      <td>-31.402</td>\n",
       "      <td>164.0780</td>\n",
       "      <td>0.0000</td>\n",
       "      <td>...</td>\n",
       "      <td>0.00000</td>\n",
       "      <td>0.0793</td>\n",
       "      <td>0.0793</td>\n",
       "      <td>0</td>\n",
       "      <td>0</td>\n",
       "      <td>0</td>\n",
       "      <td>0</td>\n",
       "      <td>0</td>\n",
       "      <td>-43.253468</td>\n",
       "      <td>0.0</td>\n",
       "    </tr>\n",
       "    <tr>\n",
       "      <th>997</th>\n",
       "      <td>2015-02-28</td>\n",
       "      <td>GRDGF US Equity</td>\n",
       "      <td>0.000000e+00</td>\n",
       "      <td>0.0000</td>\n",
       "      <td>0.0000</td>\n",
       "      <td>14.076</td>\n",
       "      <td>0.000000e+00</td>\n",
       "      <td>0.000</td>\n",
       "      <td>0.0000</td>\n",
       "      <td>0.0000</td>\n",
       "      <td>...</td>\n",
       "      <td>0.00000</td>\n",
       "      <td>9.7000</td>\n",
       "      <td>9.7000</td>\n",
       "      <td>0</td>\n",
       "      <td>0</td>\n",
       "      <td>0</td>\n",
       "      <td>0</td>\n",
       "      <td>0</td>\n",
       "      <td>-44.845361</td>\n",
       "      <td>0.0</td>\n",
       "    </tr>\n",
       "    <tr>\n",
       "      <th>998</th>\n",
       "      <td>2015-02-28</td>\n",
       "      <td>SOCLF US Equity</td>\n",
       "      <td>0.000000e+00</td>\n",
       "      <td>0.0000</td>\n",
       "      <td>0.0000</td>\n",
       "      <td>5.200</td>\n",
       "      <td>0.000000e+00</td>\n",
       "      <td>0.000</td>\n",
       "      <td>0.0000</td>\n",
       "      <td>0.0000</td>\n",
       "      <td>...</td>\n",
       "      <td>0.00000</td>\n",
       "      <td>4.4000</td>\n",
       "      <td>4.4000</td>\n",
       "      <td>0</td>\n",
       "      <td>0</td>\n",
       "      <td>0</td>\n",
       "      <td>0</td>\n",
       "      <td>0</td>\n",
       "      <td>-45.454545</td>\n",
       "      <td>0.0</td>\n",
       "    </tr>\n",
       "    <tr>\n",
       "      <th>999</th>\n",
       "      <td>2015-02-28</td>\n",
       "      <td>WG US Equity</td>\n",
       "      <td>1.509110e+02</td>\n",
       "      <td>2.4583</td>\n",
       "      <td>393.7850</td>\n",
       "      <td>5.750</td>\n",
       "      <td>1.135360e+02</td>\n",
       "      <td>-11.584</td>\n",
       "      <td>22.5650</td>\n",
       "      <td>-2.4740</td>\n",
       "      <td>...</td>\n",
       "      <td>7.08000</td>\n",
       "      <td>6.7700</td>\n",
       "      <td>6.3400</td>\n",
       "      <td>0</td>\n",
       "      <td>0</td>\n",
       "      <td>0</td>\n",
       "      <td>0</td>\n",
       "      <td>0</td>\n",
       "      <td>-47.791798</td>\n",
       "      <td>0.0</td>\n",
       "    </tr>\n",
       "    <tr>\n",
       "      <th>1000</th>\n",
       "      <td>2015-02-28</td>\n",
       "      <td>PTHIF US Equity</td>\n",
       "      <td>1.035280e+06</td>\n",
       "      <td>0.5910</td>\n",
       "      <td>-9.5127</td>\n",
       "      <td>0.201</td>\n",
       "      <td>8.577960e+06</td>\n",
       "      <td>0.000</td>\n",
       "      <td>0.0000</td>\n",
       "      <td>0.0000</td>\n",
       "      <td>...</td>\n",
       "      <td>0.00000</td>\n",
       "      <td>0.2500</td>\n",
       "      <td>0.2500</td>\n",
       "      <td>0</td>\n",
       "      <td>0</td>\n",
       "      <td>0</td>\n",
       "      <td>0</td>\n",
       "      <td>0</td>\n",
       "      <td>-48.000000</td>\n",
       "      <td>0.0</td>\n",
       "    </tr>\n",
       "    <tr>\n",
       "      <th>1001</th>\n",
       "      <td>2015-02-28</td>\n",
       "      <td>EGY US Equity</td>\n",
       "      <td>1.952700e+01</td>\n",
       "      <td>0.4585</td>\n",
       "      <td>33.8879</td>\n",
       "      <td>9.500</td>\n",
       "      <td>1.804630e+02</td>\n",
       "      <td>-92.179</td>\n",
       "      <td>69.0510</td>\n",
       "      <td>-0.5427</td>\n",
       "      <td>...</td>\n",
       "      <td>5.47000</td>\n",
       "      <td>5.0100</td>\n",
       "      <td>4.6900</td>\n",
       "      <td>0</td>\n",
       "      <td>0</td>\n",
       "      <td>0</td>\n",
       "      <td>0</td>\n",
       "      <td>0</td>\n",
       "      <td>-49.380165</td>\n",
       "      <td>0.0</td>\n",
       "    </tr>\n",
       "    <tr>\n",
       "      <th>1002</th>\n",
       "      <td>2015-02-28</td>\n",
       "      <td>KUMBF US Equity</td>\n",
       "      <td>0.000000e+00</td>\n",
       "      <td>0.0000</td>\n",
       "      <td>0.0000</td>\n",
       "      <td>23.619</td>\n",
       "      <td>0.000000e+00</td>\n",
       "      <td>0.000</td>\n",
       "      <td>0.0000</td>\n",
       "      <td>0.0000</td>\n",
       "      <td>...</td>\n",
       "      <td>0.00000</td>\n",
       "      <td>26.0700</td>\n",
       "      <td>26.0700</td>\n",
       "      <td>0</td>\n",
       "      <td>0</td>\n",
       "      <td>0</td>\n",
       "      <td>0</td>\n",
       "      <td>0</td>\n",
       "      <td>-50.901419</td>\n",
       "      <td>0.0</td>\n",
       "    </tr>\n",
       "    <tr>\n",
       "      <th>1003</th>\n",
       "      <td>2015-02-28</td>\n",
       "      <td>GBRRF US Equity</td>\n",
       "      <td>1.540000e-01</td>\n",
       "      <td>0.0000</td>\n",
       "      <td>0.0183</td>\n",
       "      <td>1.169</td>\n",
       "      <td>5.939590e+02</td>\n",
       "      <td>-15.092</td>\n",
       "      <td>52.5810</td>\n",
       "      <td>0.0000</td>\n",
       "      <td>...</td>\n",
       "      <td>0.63600</td>\n",
       "      <td>0.6260</td>\n",
       "      <td>0.6260</td>\n",
       "      <td>0</td>\n",
       "      <td>0</td>\n",
       "      <td>0</td>\n",
       "      <td>0</td>\n",
       "      <td>0</td>\n",
       "      <td>-52.076677</td>\n",
       "      <td>0.0</td>\n",
       "    </tr>\n",
       "    <tr>\n",
       "      <th>1004</th>\n",
       "      <td>2015-02-28</td>\n",
       "      <td>CILS US Equity</td>\n",
       "      <td>0.000000e+00</td>\n",
       "      <td>0.0000</td>\n",
       "      <td>0.0000</td>\n",
       "      <td>0.000</td>\n",
       "      <td>0.000000e+00</td>\n",
       "      <td>0.000</td>\n",
       "      <td>0.0000</td>\n",
       "      <td>0.0000</td>\n",
       "      <td>...</td>\n",
       "      <td>0.00000</td>\n",
       "      <td>154.0000</td>\n",
       "      <td>154.0000</td>\n",
       "      <td>0</td>\n",
       "      <td>0</td>\n",
       "      <td>0</td>\n",
       "      <td>0</td>\n",
       "      <td>0</td>\n",
       "      <td>-54.545455</td>\n",
       "      <td>0.0</td>\n",
       "    </tr>\n",
       "    <tr>\n",
       "      <th>1005</th>\n",
       "      <td>2015-02-28</td>\n",
       "      <td>PAOC US Equity</td>\n",
       "      <td>0.000000e+00</td>\n",
       "      <td>0.0000</td>\n",
       "      <td>0.0000</td>\n",
       "      <td>0.000</td>\n",
       "      <td>0.000000e+00</td>\n",
       "      <td>0.000</td>\n",
       "      <td>0.0000</td>\n",
       "      <td>0.0000</td>\n",
       "      <td>...</td>\n",
       "      <td>6.50000</td>\n",
       "      <td>8.3000</td>\n",
       "      <td>7.2000</td>\n",
       "      <td>0</td>\n",
       "      <td>0</td>\n",
       "      <td>0</td>\n",
       "      <td>0</td>\n",
       "      <td>0</td>\n",
       "      <td>-63.855422</td>\n",
       "      <td>0.0</td>\n",
       "    </tr>\n",
       "  </tbody>\n",
       "</table>\n",
       "<p>1006 rows × 122 columns</p>\n",
       "</div>"
      ],
      "text/plain": [
       "            date           ticker  account_receivable  asset_turnover  \\\n",
       "0     2015-02-28  MOGLQ US Equity        0.000000e+00          0.0000   \n",
       "1     2015-02-28   ZEON US Equity        0.000000e+00          0.0000   \n",
       "2     2015-02-28  SGQRF US Equity        4.620000e-01          0.0531   \n",
       "3     2015-02-28    MDR US Equity        1.433700e+02          0.7393   \n",
       "4     2015-02-28  SRMLF US Equity        8.205000e+00          0.2365   \n",
       "5     2015-02-28   CDXS US Equity        3.870000e+00          0.6602   \n",
       "6     2015-02-28   EOPT US Equity        0.000000e+00          0.5500   \n",
       "7     2015-02-28  KSKGF US Equity        0.000000e+00          0.0000   \n",
       "8     2015-02-28  KANKF US Equity        1.328400e+05          1.0137   \n",
       "9     2015-02-28  SBFFF US Equity        0.000000e+00          0.0000   \n",
       "10    2015-02-28    KMG US Equity        3.720200e+01          1.4677   \n",
       "11    2015-02-28   PARR US Equity        1.119530e+02          4.0144   \n",
       "12    2015-02-28   GPRE US Equity        1.380730e+02          1.9256   \n",
       "13    2015-02-28    KOP US Equity        1.987000e+02          1.4961   \n",
       "14    2015-02-28    ICD US Equity        1.912700e+01          0.2965   \n",
       "15    2015-02-28  SHANF US Equity        6.993260e+02          0.4235   \n",
       "16    2015-02-28  MTLHF US Equity        8.291050e+05          0.9319   \n",
       "17    2015-02-28    CMT US Equity        3.436000e+01          1.6310   \n",
       "18    2015-02-28    TGA US Equity        1.175750e+02          0.4274   \n",
       "19    2015-02-28  HXPLF US Equity        9.450000e+02          1.3553   \n",
       "20    2015-02-28    ALJ US Equity        9.844600e+01          3.0560   \n",
       "21    2015-02-28  CRLFF US Equity        2.033400e+01          0.2719   \n",
       "22    2015-02-28  AKRTF US Equity        4.501000e+03          1.2357   \n",
       "23    2015-02-28  SBGLF US Equity        0.000000e+00          0.0000   \n",
       "24    2015-02-28    ERN US Equity        4.960000e-01          0.0986   \n",
       "25    2015-02-28   PEIX US Equity        3.461200e+01          4.0973   \n",
       "26    2015-02-28    PLM US Equity        3.810000e-01          0.0000   \n",
       "27    2015-02-28    NAT US Equity        1.573900e+01          0.1311   \n",
       "28    2015-02-28  KBSTF US Equity        3.231880e+05          0.8316   \n",
       "29    2015-02-28   USAP US Equity        2.905700e+01          0.5770   \n",
       "...          ...              ...                 ...             ...   \n",
       "976   2015-02-28  RMGGF US Equity        0.000000e+00          0.0000   \n",
       "977   2015-02-28  LIFZF US Equity        2.486120e+01          0.1554   \n",
       "978   2015-02-28   CENX US Equity        7.616500e+01          1.0099   \n",
       "979   2015-02-28   NADL US Equity        2.351000e+02          0.3438   \n",
       "980   2015-02-28  AFRNF US Equity        1.907000e+02          0.2793   \n",
       "981   2015-02-28     SA US Equity        5.092000e+00          0.0000   \n",
       "982   2015-02-28    CLF US Equity        1.227000e+02          0.4147   \n",
       "983   2015-02-28    CLD US Equity        8.683800e+01          0.5873   \n",
       "984   2015-02-28  GUKYF US Equity        0.000000e+00          0.0000   \n",
       "985   2015-02-28  AWWEF US Equity        0.000000e+00          0.0000   \n",
       "986   2015-02-28    CRK US Equity        0.000000e+00          0.2602   \n",
       "987   2015-02-28  ARHVF US Equity        3.862000e+02          1.1055   \n",
       "988   2015-02-28  TUWLF US Equity        0.000000e+00          0.0000   \n",
       "989   2015-02-28  RGRNF US Equity        0.000000e+00          0.0000   \n",
       "990   2015-02-28  ARRMF US Equity        0.000000e+00          0.0000   \n",
       "991   2015-02-28  ATLGF US Equity        0.000000e+00          0.0000   \n",
       "992   2015-02-28  NATDF US Equity        2.351000e+02          0.3438   \n",
       "993   2015-02-28  PGNPQ US Equity        5.393760e+02          0.0000   \n",
       "994   2015-02-28  OEXFF US Equity        1.560500e+01          0.4240   \n",
       "995   2015-02-28  SHASF US Equity        0.000000e+00          0.0000   \n",
       "996   2015-02-28  SUNYF US Equity        9.550000e-01          0.0000   \n",
       "997   2015-02-28  GRDGF US Equity        0.000000e+00          0.0000   \n",
       "998   2015-02-28  SOCLF US Equity        0.000000e+00          0.0000   \n",
       "999   2015-02-28     WG US Equity        1.509110e+02          2.4583   \n",
       "1000  2015-02-28  PTHIF US Equity        1.035280e+06          0.5910   \n",
       "1001  2015-02-28    EGY US Equity        1.952700e+01          0.4585   \n",
       "1002  2015-02-28  KUMBF US Equity        0.000000e+00          0.0000   \n",
       "1003  2015-02-28  GBRRF US Equity        1.540000e-01          0.0000   \n",
       "1004  2015-02-28   CILS US Equity        0.000000e+00          0.0000   \n",
       "1005  2015-02-28   PAOC US Equity        0.000000e+00          0.0000   \n",
       "\n",
       "      basic_eps_5yr_avg_growth  best_target_price    book_value  \\\n",
       "0                       0.0000              0.059  0.000000e+00   \n",
       "1                       0.0000              0.000  0.000000e+00   \n",
       "2                     -31.1479              0.486  2.842810e+02   \n",
       "3                     -24.5987              4.955  1.488200e+03   \n",
       "4                       0.0000              6.233  3.215550e+02   \n",
       "5                       0.0000              3.267  2.631100e+01   \n",
       "6                    -451.0570              0.000 -2.053450e+01   \n",
       "7                       0.0000              0.555  0.000000e+00   \n",
       "8                     359.2310              5.459  2.869750e+05   \n",
       "9                       0.0000             15.423  0.000000e+00   \n",
       "10                    -18.3189             22.000  1.179080e+02   \n",
       "11                   -327.7980             22.794  2.921590e+02   \n",
       "12                     24.5405             45.217  7.974490e+02   \n",
       "13                    -11.1330             41.500  7.000000e+01   \n",
       "14                      0.0000             10.500  2.367360e+02   \n",
       "15                      0.0000              0.415  2.694290e+03   \n",
       "16                     23.9675              5.066  9.846250e+05   \n",
       "17                     10.4593             17.000  7.614600e+01   \n",
       "18                     61.7459              6.230  5.001000e+02   \n",
       "19                     36.7114              9.305  5.049000e+03   \n",
       "20                      0.0000             17.700  6.362160e+02   \n",
       "21                      0.0000             15.931  7.479280e+02   \n",
       "22                      0.0000              6.501  5.677000e+03   \n",
       "23                      0.0000              1.495  0.000000e+00   \n",
       "24                    -73.7779              9.000  3.333510e+02   \n",
       "25                     -1.9313             21.500  2.135060e+02   \n",
       "26                    -13.5294              1.982  1.923760e+02   \n",
       "27                    -27.1250              9.478  8.889110e+02   \n",
       "28                      0.0000             16.800  7.321760e+05   \n",
       "29                     25.2819             29.000  2.036300e+02   \n",
       "...                        ...                ...           ...   \n",
       "976                     0.0000              0.440  0.000000e+00   \n",
       "977                     6.4873             21.117  5.777190e+02   \n",
       "978                     0.0000             32.143  1.091150e+03   \n",
       "979                     0.0000             23.278  4.515000e+02   \n",
       "980                     0.0000              1.488  2.664000e+02   \n",
       "981                   -66.6667             31.314  2.598340e+02   \n",
       "982                    66.6205              7.179 -2.162600e+03   \n",
       "983                     0.0000             17.045  1.087830e+03   \n",
       "984                     0.0000             63.444  0.000000e+00   \n",
       "985                     0.0000              1.552  0.000000e+00   \n",
       "986                   -76.3339             44.286  1.377340e+03   \n",
       "987                     0.0000              9.099  5.428000e+02   \n",
       "988                     0.0000              8.204  0.000000e+00   \n",
       "989                     0.0000              1.515  0.000000e+00   \n",
       "990                     0.0000              0.262  0.000000e+00   \n",
       "991                     0.0000              0.146  0.000000e+00   \n",
       "992                     0.0000             40.837  4.515000e+02   \n",
       "993                     0.0000              4.692  4.916080e+02   \n",
       "994                     0.0000              5.902  3.667990e+02   \n",
       "995                     0.0000              0.196  3.222040e+02   \n",
       "996                     0.0000              0.046  9.830430e+02   \n",
       "997                     0.0000             14.076  0.000000e+00   \n",
       "998                     0.0000              5.200  0.000000e+00   \n",
       "999                   393.7850              5.750  1.135360e+02   \n",
       "1000                   -9.5127              0.201  8.577960e+06   \n",
       "1001                   33.8879              9.500  1.804630e+02   \n",
       "1002                    0.0000             23.619  0.000000e+00   \n",
       "1003                    0.0183              1.169  5.939590e+02   \n",
       "1004                    0.0000              0.000  0.000000e+00   \n",
       "1005                    0.0000              0.000  0.000000e+00   \n",
       "\n",
       "      capital_expenditures  cash_cash_equivalents  cash_flow_per_share  \\\n",
       "0                    0.000                 0.0000               0.0000   \n",
       "1                    0.000                 0.0000               0.0000   \n",
       "2                   -3.649                 4.7680               0.0000   \n",
       "3                 -321.187               665.3090               0.5029   \n",
       "4                  -30.426                 0.0000               0.0000   \n",
       "5                   -0.302                26.4870               0.1287   \n",
       "6                    0.000                 0.0010              -0.0223   \n",
       "7                    0.000                 0.0000               0.0000   \n",
       "8                    0.000             25192.0000               0.0000   \n",
       "9                    0.000                 0.0000               0.0000   \n",
       "10                  -7.036                10.4900              -0.2681   \n",
       "11                 -14.300                89.2100               0.5911   \n",
       "12                 -59.547               425.5100              -0.1068   \n",
       "13                 -83.800                51.1000               1.2052   \n",
       "14                -115.388                10.7570              -0.2743   \n",
       "15                   0.000               378.9530               0.0000   \n",
       "16                   0.000            231002.0000               0.0000   \n",
       "17                 -10.679                 2.3120               0.8269   \n",
       "18                 -20.004                77.9390               0.0000   \n",
       "19                   0.000               826.0000               0.0000   \n",
       "20                -150.902               214.9610               0.7079   \n",
       "21                  -9.896                 0.0000               0.0000   \n",
       "22                -816.000              3339.0000               0.0000   \n",
       "23                   0.000                 0.0000               0.0000   \n",
       "24                 -59.481                54.2640              -0.0017   \n",
       "25                 -13.259                62.0840               0.5023   \n",
       "26                  -6.552                 8.8660               0.0000   \n",
       "27                 -73.772               100.7360               0.2951   \n",
       "28                   0.000            189707.0000               0.0000   \n",
       "29                 -11.173                 0.1420               1.1581   \n",
       "...                    ...                    ...                  ...   \n",
       "976                  0.000                 0.0000               0.0000   \n",
       "977                  0.000                49.0313               0.0000   \n",
       "978               -109.662               163.2420               1.1095   \n",
       "979               -461.800               116.2000               3.3859   \n",
       "980               -348.600               266.7000               0.0000   \n",
       "981                -13.761                 0.6070               0.0000   \n",
       "982               -284.100               290.9000               1.6645   \n",
       "983                -18.719               168.7450               0.9206   \n",
       "984                  0.000                 0.0000               0.0000   \n",
       "985                  0.000                 0.0000               0.0000   \n",
       "986               -502.362                 6.4330               7.7745   \n",
       "987               -214.600                28.9000               0.0000   \n",
       "988                  0.000                 0.0000               0.0000   \n",
       "989                  0.000                10.4000               0.0000   \n",
       "990                  0.000                 0.0000               0.0000   \n",
       "991                  0.000                 0.0000               0.0000   \n",
       "992               -461.800               116.2000               0.0000   \n",
       "993                -79.290               -25.1360               1.5443   \n",
       "994                -46.924                 0.0000               0.0000   \n",
       "995                 -0.002                78.6400               0.0000   \n",
       "996                -31.402               164.0780               0.0000   \n",
       "997                  0.000                 0.0000               0.0000   \n",
       "998                  0.000                 0.0000               0.0000   \n",
       "999                -11.584                22.5650              -2.4740   \n",
       "1000                 0.000                 0.0000               0.0000   \n",
       "1001               -92.179                69.0510              -0.5427   \n",
       "1002                 0.000                 0.0000               0.0000   \n",
       "1003               -15.092                52.5810               0.0000   \n",
       "1004                 0.000                 0.0000               0.0000   \n",
       "1005                 0.000                 0.0000               0.0000   \n",
       "\n",
       "       ...    resist_level3  high_price  low_price  bbg_mom_1m  bbg_mom_3m  \\\n",
       "0      ...          0.00000      0.0150     0.0150           0           0   \n",
       "1      ...          0.00000      2.0000     2.0000           0           0   \n",
       "2      ...          0.00000      0.4604     0.4180           0           0   \n",
       "3      ...          2.66333      2.5200     2.4300           0           0   \n",
       "4      ...          0.00000      2.6852     2.6852           0           0   \n",
       "5      ...          3.72800      3.5800     3.4700           0           0   \n",
       "6      ...          0.00000      4.0000     4.0000           0           0   \n",
       "7      ...          0.00000      0.5700     0.5700           0           0   \n",
       "8      ...          0.00000      5.7100     5.7100           0           0   \n",
       "9      ...          0.00000     10.3200    10.3200           0           0   \n",
       "10     ...         21.91000     21.9500    21.1600           0           0   \n",
       "11     ...         18.84670     18.6814    18.5823           0           0   \n",
       "12     ...         24.59920     23.5700    22.6000           0           0   \n",
       "13     ...         21.82650     18.2700    16.0100           0           0   \n",
       "14     ...          6.22333      5.7900     5.7000           0           0   \n",
       "15     ...          0.00000      0.3963     0.3963           0           0   \n",
       "16     ...          0.00000      5.0400     5.0400           0           0   \n",
       "17     ...         14.65330     14.2000    14.0510           0           0   \n",
       "18     ...          3.14000      2.9700     2.8700           0           0   \n",
       "19     ...          0.00000      8.2650     8.2650           0           0   \n",
       "20     ...         14.60000     14.1950    13.7600           0           0   \n",
       "21     ...          0.00000      9.6929     9.6929           0           0   \n",
       "22     ...          0.00000      5.0800     5.0800           0           0   \n",
       "23     ...          0.00000      1.2247     1.2049           0           0   \n",
       "24     ...          3.27723      2.7607     2.4000           0           0   \n",
       "25     ...          9.46667      9.3300     8.8800           0           0   \n",
       "26     ...          1.11667      1.1100     1.0900           0           0   \n",
       "27     ...         10.54210     10.3300    10.1200           0           0   \n",
       "28     ...          0.00000     17.0519    17.0519           0           0   \n",
       "29     ...         23.51000     23.0200    22.6000           0           0   \n",
       "...    ...              ...         ...        ...         ...         ...   \n",
       "976    ...          0.00000      0.3100     0.3072           0           0   \n",
       "977    ...         14.56110     14.5160    14.3850           0           0   \n",
       "978    ...         20.82330     19.7400    18.9600           0           0   \n",
       "979    ...         17.06670     16.1000    15.3013           0           0   \n",
       "980    ...          0.16000      0.1549     0.1549           0           0   \n",
       "981    ...          8.45500      7.9700     7.7500           0           0   \n",
       "982    ...          7.12000      6.9800     6.7600           0           0   \n",
       "983    ...          8.90333      8.5400     8.1300           0           0   \n",
       "984    ...         38.57350     34.7163    33.4429           0           0   \n",
       "985    ...          0.00000      1.4100     1.4100           0           0   \n",
       "986    ...         31.65000     26.8000    25.1000           0           0   \n",
       "987    ...          0.00000      4.1463     4.1463           0           0   \n",
       "988    ...          0.00000      5.1711     5.1711           0           0   \n",
       "989    ...          0.00000      1.5000     1.5000           0           0   \n",
       "990    ...          0.00000      0.1900     0.1900           0           0   \n",
       "991    ...          0.00000      0.2080     0.2080           0           0   \n",
       "992    ...          0.00000     21.8000    15.6000           0           0   \n",
       "993    ...          2.38333      2.2600     2.0100           0           0   \n",
       "994    ...          3.75083      3.7500     3.7300           0           0   \n",
       "995    ...          0.11800      0.1180     0.1180           0           0   \n",
       "996    ...          0.00000      0.0793     0.0793           0           0   \n",
       "997    ...          0.00000      9.7000     9.7000           0           0   \n",
       "998    ...          0.00000      4.4000     4.4000           0           0   \n",
       "999    ...          7.08000      6.7700     6.3400           0           0   \n",
       "1000   ...          0.00000      0.2500     0.2500           0           0   \n",
       "1001   ...          5.47000      5.0100     4.6900           0           0   \n",
       "1002   ...          0.00000     26.0700    26.0700           0           0   \n",
       "1003   ...          0.63600      0.6260     0.6260           0           0   \n",
       "1004   ...          0.00000    154.0000   154.0000           0           0   \n",
       "1005   ...          6.50000      8.3000     7.2000           0           0   \n",
       "\n",
       "      bbg_mom_6m  bbg_mom_12m  bbg_mom_12m_vol_adj  next_return  target  \n",
       "0              0            0                    0   153.333333     1.0  \n",
       "1              0            0                    0   132.500000     1.0  \n",
       "2              0            0                    0    60.034752     1.0  \n",
       "3              0            0                    0    53.600000     1.0  \n",
       "4              0            0                    0    33.137196     1.0  \n",
       "5              0            0                    0    29.178470     1.0  \n",
       "6              0            0                    0    27.500000     1.0  \n",
       "7              0            0                    0    27.192982     1.0  \n",
       "8              0            0                    0    26.970228     1.0  \n",
       "9              0            0                    0    23.837209     1.0  \n",
       "10             0            0                    0    23.350254     1.0  \n",
       "11             0            0                    0    23.130493     1.0  \n",
       "12             0            0                    0    22.795699     1.0  \n",
       "13             0            0                    0    22.084367     1.0  \n",
       "14             0            0                    0    22.066550     1.0  \n",
       "15             0            0                    0    21.978299     1.0  \n",
       "16             0            0                    0    21.805556     1.0  \n",
       "17             0            0                    0    21.773050     1.0  \n",
       "18             0            0                    0    21.232877     1.0  \n",
       "19             0            0                    0    20.992136     1.0  \n",
       "20             0            0                    0    18.866571     1.0  \n",
       "21             0            0                    0    18.148335     1.0  \n",
       "22             0            0                    0    18.110236     1.0  \n",
       "23             0            0                    0    17.841104     1.0  \n",
       "24             0            0                    0    17.777778     1.0  \n",
       "25             0            0                    0    17.538126     1.0  \n",
       "26             0            0                    0    17.272727     1.0  \n",
       "27             0            0                    0    16.422287     1.0  \n",
       "28             0            0                    0    16.116093     1.0  \n",
       "29             0            0                    0    15.915119     1.0  \n",
       "...          ...          ...                  ...          ...     ...  \n",
       "976            0            0                    0   -25.806452     0.0  \n",
       "977            0            0                    0   -26.104639     0.0  \n",
       "978            0            0                    0   -27.253558     0.0  \n",
       "979            0            0                    0   -27.950311     0.0  \n",
       "980            0            0                    0   -28.986443     0.0  \n",
       "981            0            0                    0   -29.343629     0.0  \n",
       "982            0            0                    0   -29.678363     0.0  \n",
       "983            0            0                    0   -29.794934     0.0  \n",
       "984            0            0                    0   -31.012707     0.0  \n",
       "985            0            0                    0   -31.205674     0.0  \n",
       "986            0            0                    0   -31.346154     0.0  \n",
       "987            0            0                    0   -31.534139     0.0  \n",
       "988            0            0                    0   -32.312274     0.0  \n",
       "989            0            0                    0   -34.000000     0.0  \n",
       "990            0            0                    0   -34.210526     0.0  \n",
       "991            0            0                    0   -35.096154     0.0  \n",
       "992            0            0                    0   -35.897436     0.0  \n",
       "993            0            0                    0   -36.893204     0.0  \n",
       "994            0            0                    0   -38.649330     0.0  \n",
       "995            0            0                    0   -41.610169     0.0  \n",
       "996            0            0                    0   -43.253468     0.0  \n",
       "997            0            0                    0   -44.845361     0.0  \n",
       "998            0            0                    0   -45.454545     0.0  \n",
       "999            0            0                    0   -47.791798     0.0  \n",
       "1000           0            0                    0   -48.000000     0.0  \n",
       "1001           0            0                    0   -49.380165     0.0  \n",
       "1002           0            0                    0   -50.901419     0.0  \n",
       "1003           0            0                    0   -52.076677     0.0  \n",
       "1004           0            0                    0   -54.545455     0.0  \n",
       "1005           0            0                    0   -63.855422     0.0  \n",
       "\n",
       "[1006 rows x 122 columns]"
      ]
     },
     "execution_count": 2,
     "metadata": {},
     "output_type": "execute_result"
    }
   ],
   "source": [
    "data[data.date=='2015-02-28']"
   ]
  },
  {
   "cell_type": "code",
   "execution_count": 5,
   "metadata": {},
   "outputs": [
    {
     "data": {
      "text/plain": [
       "153.33333333333334"
      ]
     },
     "execution_count": 5,
     "metadata": {},
     "output_type": "execute_result"
    }
   ],
   "source": [
    "df_train[df_train.date=='2015-02-28'].next_return.max()"
   ]
  },
  {
   "cell_type": "code",
   "execution_count": 6,
   "metadata": {},
   "outputs": [
    {
     "data": {
      "text/html": [
       "<div>\n",
       "<style>\n",
       "    .dataframe thead tr:only-child th {\n",
       "        text-align: right;\n",
       "    }\n",
       "\n",
       "    .dataframe thead th {\n",
       "        text-align: left;\n",
       "    }\n",
       "\n",
       "    .dataframe tbody tr th {\n",
       "        vertical-align: top;\n",
       "    }\n",
       "</style>\n",
       "<table border=\"1\" class=\"dataframe\">\n",
       "  <thead>\n",
       "    <tr style=\"text-align: right;\">\n",
       "      <th></th>\n",
       "      <th>account_receivable</th>\n",
       "      <th>asset_turnover</th>\n",
       "      <th>basic_eps_5yr_avg_growth</th>\n",
       "      <th>best_target_price</th>\n",
       "      <th>book_value</th>\n",
       "      <th>capital_expenditures</th>\n",
       "      <th>cash_cash_equivalents</th>\n",
       "      <th>cash_flow_per_share</th>\n",
       "      <th>cash_from_financing</th>\n",
       "      <th>cash_from_investing</th>\n",
       "      <th>...</th>\n",
       "      <th>bbg_mom_1m</th>\n",
       "      <th>bbg_mom_3m</th>\n",
       "      <th>bbg_mom_6m</th>\n",
       "      <th>bbg_mom_12m</th>\n",
       "      <th>bbg_mom_12m_vol_adj</th>\n",
       "      <th>date</th>\n",
       "      <th>last_price</th>\n",
       "      <th>ticker</th>\n",
       "      <th>target</th>\n",
       "      <th>next_return</th>\n",
       "    </tr>\n",
       "  </thead>\n",
       "  <tbody>\n",
       "    <tr>\n",
       "      <th>1</th>\n",
       "      <td>0.268852</td>\n",
       "      <td>0.503704</td>\n",
       "      <td>0.000000</td>\n",
       "      <td>0.044664</td>\n",
       "      <td>0.017443</td>\n",
       "      <td>0.987551</td>\n",
       "      <td>0.077857</td>\n",
       "      <td>0.000000</td>\n",
       "      <td>0.304266</td>\n",
       "      <td>0.919286</td>\n",
       "      <td>...</td>\n",
       "      <td>0.0</td>\n",
       "      <td>0.0</td>\n",
       "      <td>0.0</td>\n",
       "      <td>0.0</td>\n",
       "      <td>0.0</td>\n",
       "      <td>2016-05-31</td>\n",
       "      <td>4.1262</td>\n",
       "      <td>AUY US Equity</td>\n",
       "      <td>1.0</td>\n",
       "      <td>24.402598</td>\n",
       "    </tr>\n",
       "    <tr>\n",
       "      <th>1</th>\n",
       "      <td>-0.862746</td>\n",
       "      <td>0.831111</td>\n",
       "      <td>0.000000</td>\n",
       "      <td>-0.513942</td>\n",
       "      <td>-0.128970</td>\n",
       "      <td>1.246916</td>\n",
       "      <td>0.167762</td>\n",
       "      <td>0.334740</td>\n",
       "      <td>-0.411424</td>\n",
       "      <td>1.246392</td>\n",
       "      <td>...</td>\n",
       "      <td>0.0</td>\n",
       "      <td>0.0</td>\n",
       "      <td>0.0</td>\n",
       "      <td>0.0</td>\n",
       "      <td>0.0</td>\n",
       "      <td>2016-05-31</td>\n",
       "      <td>4.3600</td>\n",
       "      <td>NOG US Equity</td>\n",
       "      <td>NaN</td>\n",
       "      <td>5.963303</td>\n",
       "    </tr>\n",
       "    <tr>\n",
       "      <th>1</th>\n",
       "      <td>0.255221</td>\n",
       "      <td>0.633200</td>\n",
       "      <td>0.000000</td>\n",
       "      <td>0.809190</td>\n",
       "      <td>1.045454</td>\n",
       "      <td>0.587849</td>\n",
       "      <td>0.263464</td>\n",
       "      <td>0.372778</td>\n",
       "      <td>0.212816</td>\n",
       "      <td>0.514947</td>\n",
       "      <td>...</td>\n",
       "      <td>0.0</td>\n",
       "      <td>0.0</td>\n",
       "      <td>0.0</td>\n",
       "      <td>0.0</td>\n",
       "      <td>0.0</td>\n",
       "      <td>2016-05-31</td>\n",
       "      <td>21.4921</td>\n",
       "      <td>SUM US Equity</td>\n",
       "      <td>NaN</td>\n",
       "      <td>-5.931017</td>\n",
       "    </tr>\n",
       "    <tr>\n",
       "      <th>1</th>\n",
       "      <td>-0.916812</td>\n",
       "      <td>-0.195652</td>\n",
       "      <td>0.000000</td>\n",
       "      <td>-0.357523</td>\n",
       "      <td>-0.773392</td>\n",
       "      <td>1.350498</td>\n",
       "      <td>0.448997</td>\n",
       "      <td>1.033136</td>\n",
       "      <td>-0.307169</td>\n",
       "      <td>1.334365</td>\n",
       "      <td>...</td>\n",
       "      <td>0.0</td>\n",
       "      <td>0.0</td>\n",
       "      <td>0.0</td>\n",
       "      <td>0.0</td>\n",
       "      <td>0.0</td>\n",
       "      <td>2016-05-31</td>\n",
       "      <td>12.4500</td>\n",
       "      <td>GLOG US Equity</td>\n",
       "      <td>NaN</td>\n",
       "      <td>4.257028</td>\n",
       "    </tr>\n",
       "    <tr>\n",
       "      <th>1</th>\n",
       "      <td>1.336999</td>\n",
       "      <td>0.004695</td>\n",
       "      <td>-0.248906</td>\n",
       "      <td>0.714286</td>\n",
       "      <td>1.138462</td>\n",
       "      <td>1.900757</td>\n",
       "      <td>0.110455</td>\n",
       "      <td>-0.166474</td>\n",
       "      <td>0.695202</td>\n",
       "      <td>1.899833</td>\n",
       "      <td>...</td>\n",
       "      <td>0.0</td>\n",
       "      <td>0.0</td>\n",
       "      <td>0.0</td>\n",
       "      <td>0.0</td>\n",
       "      <td>0.0</td>\n",
       "      <td>2016-05-31</td>\n",
       "      <td>21.5500</td>\n",
       "      <td>UFPT US Equity</td>\n",
       "      <td>NaN</td>\n",
       "      <td>4.593968</td>\n",
       "    </tr>\n",
       "    <tr>\n",
       "      <th>1</th>\n",
       "      <td>-0.237565</td>\n",
       "      <td>-0.307656</td>\n",
       "      <td>0.000000</td>\n",
       "      <td>-0.017593</td>\n",
       "      <td>-0.011185</td>\n",
       "      <td>1.040601</td>\n",
       "      <td>0.000000</td>\n",
       "      <td>0.000000</td>\n",
       "      <td>0.245999</td>\n",
       "      <td>1.075223</td>\n",
       "      <td>...</td>\n",
       "      <td>0.0</td>\n",
       "      <td>0.0</td>\n",
       "      <td>0.0</td>\n",
       "      <td>0.0</td>\n",
       "      <td>0.0</td>\n",
       "      <td>2016-05-31</td>\n",
       "      <td>5.5300</td>\n",
       "      <td>GXOCF US Equity</td>\n",
       "      <td>NaN</td>\n",
       "      <td>11.374322</td>\n",
       "    </tr>\n",
       "    <tr>\n",
       "      <th>1</th>\n",
       "      <td>0.000000</td>\n",
       "      <td>0.000000</td>\n",
       "      <td>0.000000</td>\n",
       "      <td>0.979058</td>\n",
       "      <td>0.000000</td>\n",
       "      <td>0.000000</td>\n",
       "      <td>0.000000</td>\n",
       "      <td>0.000000</td>\n",
       "      <td>0.000000</td>\n",
       "      <td>0.000000</td>\n",
       "      <td>...</td>\n",
       "      <td>0.0</td>\n",
       "      <td>0.0</td>\n",
       "      <td>0.0</td>\n",
       "      <td>0.0</td>\n",
       "      <td>0.0</td>\n",
       "      <td>2016-05-31</td>\n",
       "      <td>5.6000</td>\n",
       "      <td>NUFMF US Equity</td>\n",
       "      <td>NaN</td>\n",
       "      <td>0.000000</td>\n",
       "    </tr>\n",
       "    <tr>\n",
       "      <th>1</th>\n",
       "      <td>-0.203323</td>\n",
       "      <td>-0.265647</td>\n",
       "      <td>0.206954</td>\n",
       "      <td>-0.342451</td>\n",
       "      <td>-0.668384</td>\n",
       "      <td>1.026990</td>\n",
       "      <td>0.257276</td>\n",
       "      <td>0.000000</td>\n",
       "      <td>0.611214</td>\n",
       "      <td>1.025415</td>\n",
       "      <td>...</td>\n",
       "      <td>0.0</td>\n",
       "      <td>0.0</td>\n",
       "      <td>0.0</td>\n",
       "      <td>0.0</td>\n",
       "      <td>0.0</td>\n",
       "      <td>2016-05-31</td>\n",
       "      <td>2.6200</td>\n",
       "      <td>CESDF US Equity</td>\n",
       "      <td>NaN</td>\n",
       "      <td>19.465649</td>\n",
       "    </tr>\n",
       "    <tr>\n",
       "      <th>1</th>\n",
       "      <td>0.334617</td>\n",
       "      <td>0.597938</td>\n",
       "      <td>0.000000</td>\n",
       "      <td>-0.147889</td>\n",
       "      <td>1.405491</td>\n",
       "      <td>-31.440000</td>\n",
       "      <td>811.004000</td>\n",
       "      <td>1.661600</td>\n",
       "      <td>-139.182000</td>\n",
       "      <td>-35.588000</td>\n",
       "      <td>...</td>\n",
       "      <td>0.0</td>\n",
       "      <td>0.0</td>\n",
       "      <td>0.0</td>\n",
       "      <td>0.0</td>\n",
       "      <td>0.0</td>\n",
       "      <td>2016-05-31</td>\n",
       "      <td>2.3800</td>\n",
       "      <td>ORIG US Equity</td>\n",
       "      <td>NaN</td>\n",
       "      <td>4.201681</td>\n",
       "    </tr>\n",
       "    <tr>\n",
       "      <th>1</th>\n",
       "      <td>0.000000</td>\n",
       "      <td>0.000000</td>\n",
       "      <td>0.000000</td>\n",
       "      <td>-0.338462</td>\n",
       "      <td>0.000000</td>\n",
       "      <td>0.000000</td>\n",
       "      <td>0.000000</td>\n",
       "      <td>0.000000</td>\n",
       "      <td>0.000000</td>\n",
       "      <td>0.000000</td>\n",
       "      <td>...</td>\n",
       "      <td>0.0</td>\n",
       "      <td>0.0</td>\n",
       "      <td>0.0</td>\n",
       "      <td>0.0</td>\n",
       "      <td>0.0</td>\n",
       "      <td>2016-05-31</td>\n",
       "      <td>0.5000</td>\n",
       "      <td>BEPTF US Equity</td>\n",
       "      <td>0.0</td>\n",
       "      <td>-19.000000</td>\n",
       "    </tr>\n",
       "    <tr>\n",
       "      <th>1</th>\n",
       "      <td>0.824742</td>\n",
       "      <td>-0.520776</td>\n",
       "      <td>0.000000</td>\n",
       "      <td>-0.319807</td>\n",
       "      <td>0.101695</td>\n",
       "      <td>1.000000</td>\n",
       "      <td>-0.131579</td>\n",
       "      <td>0.000000</td>\n",
       "      <td>0.761538</td>\n",
       "      <td>0.975309</td>\n",
       "      <td>...</td>\n",
       "      <td>0.0</td>\n",
       "      <td>0.0</td>\n",
       "      <td>0.0</td>\n",
       "      <td>0.0</td>\n",
       "      <td>0.0</td>\n",
       "      <td>2016-05-31</td>\n",
       "      <td>34.3500</td>\n",
       "      <td>WFTBF US Equity</td>\n",
       "      <td>0.0</td>\n",
       "      <td>-16.171179</td>\n",
       "    </tr>\n",
       "    <tr>\n",
       "      <th>1</th>\n",
       "      <td>-0.096019</td>\n",
       "      <td>0.633858</td>\n",
       "      <td>0.000000</td>\n",
       "      <td>-0.851199</td>\n",
       "      <td>-0.044099</td>\n",
       "      <td>-0.447545</td>\n",
       "      <td>0.186747</td>\n",
       "      <td>-1.177050</td>\n",
       "      <td>1.261520</td>\n",
       "      <td>-0.088747</td>\n",
       "      <td>...</td>\n",
       "      <td>0.0</td>\n",
       "      <td>0.0</td>\n",
       "      <td>0.0</td>\n",
       "      <td>0.0</td>\n",
       "      <td>0.0</td>\n",
       "      <td>2016-05-31</td>\n",
       "      <td>36.0900</td>\n",
       "      <td>DVN US Equity</td>\n",
       "      <td>NaN</td>\n",
       "      <td>0.443336</td>\n",
       "    </tr>\n",
       "    <tr>\n",
       "      <th>1</th>\n",
       "      <td>0.281941</td>\n",
       "      <td>-0.675472</td>\n",
       "      <td>0.000000</td>\n",
       "      <td>-0.385694</td>\n",
       "      <td>-0.210269</td>\n",
       "      <td>0.429653</td>\n",
       "      <td>0.004660</td>\n",
       "      <td>0.671129</td>\n",
       "      <td>0.766944</td>\n",
       "      <td>0.028084</td>\n",
       "      <td>...</td>\n",
       "      <td>0.0</td>\n",
       "      <td>0.0</td>\n",
       "      <td>0.0</td>\n",
       "      <td>0.0</td>\n",
       "      <td>0.0</td>\n",
       "      <td>2016-05-31</td>\n",
       "      <td>13.4100</td>\n",
       "      <td>BRS US Equity</td>\n",
       "      <td>0.0</td>\n",
       "      <td>-14.914243</td>\n",
       "    </tr>\n",
       "    <tr>\n",
       "      <th>1</th>\n",
       "      <td>1.790269</td>\n",
       "      <td>1.809843</td>\n",
       "      <td>0.000000</td>\n",
       "      <td>-0.288660</td>\n",
       "      <td>0.477155</td>\n",
       "      <td>1.239761</td>\n",
       "      <td>0.419983</td>\n",
       "      <td>0.000000</td>\n",
       "      <td>-0.458883</td>\n",
       "      <td>1.058110</td>\n",
       "      <td>...</td>\n",
       "      <td>0.0</td>\n",
       "      <td>0.0</td>\n",
       "      <td>0.0</td>\n",
       "      <td>0.0</td>\n",
       "      <td>0.0</td>\n",
       "      <td>2016-05-31</td>\n",
       "      <td>4.2103</td>\n",
       "      <td>IPMLF US Equity</td>\n",
       "      <td>NaN</td>\n",
       "      <td>13.880246</td>\n",
       "    </tr>\n",
       "    <tr>\n",
       "      <th>1</th>\n",
       "      <td>-0.071329</td>\n",
       "      <td>0.051370</td>\n",
       "      <td>0.687580</td>\n",
       "      <td>-0.955509</td>\n",
       "      <td>0.620197</td>\n",
       "      <td>0.999451</td>\n",
       "      <td>0.603226</td>\n",
       "      <td>0.679521</td>\n",
       "      <td>0.696067</td>\n",
       "      <td>1.005337</td>\n",
       "      <td>...</td>\n",
       "      <td>0.0</td>\n",
       "      <td>0.0</td>\n",
       "      <td>0.0</td>\n",
       "      <td>0.0</td>\n",
       "      <td>0.0</td>\n",
       "      <td>2016-05-31</td>\n",
       "      <td>68.2300</td>\n",
       "      <td>PKG US Equity</td>\n",
       "      <td>NaN</td>\n",
       "      <td>-1.905320</td>\n",
       "    </tr>\n",
       "    <tr>\n",
       "      <th>1</th>\n",
       "      <td>-0.724771</td>\n",
       "      <td>0.110132</td>\n",
       "      <td>0.000000</td>\n",
       "      <td>0.000000</td>\n",
       "      <td>0.146627</td>\n",
       "      <td>0.000000</td>\n",
       "      <td>1.273716</td>\n",
       "      <td>0.000000</td>\n",
       "      <td>-0.178291</td>\n",
       "      <td>0.256282</td>\n",
       "      <td>...</td>\n",
       "      <td>0.0</td>\n",
       "      <td>0.0</td>\n",
       "      <td>0.0</td>\n",
       "      <td>0.0</td>\n",
       "      <td>0.0</td>\n",
       "      <td>2016-05-31</td>\n",
       "      <td>17.7537</td>\n",
       "      <td>PBRQF US Equity</td>\n",
       "      <td>NaN</td>\n",
       "      <td>0.000000</td>\n",
       "    </tr>\n",
       "    <tr>\n",
       "      <th>1</th>\n",
       "      <td>1.283843</td>\n",
       "      <td>0.738134</td>\n",
       "      <td>0.431274</td>\n",
       "      <td>-0.874552</td>\n",
       "      <td>-0.008900</td>\n",
       "      <td>-0.279134</td>\n",
       "      <td>-0.980779</td>\n",
       "      <td>0.000000</td>\n",
       "      <td>5.859578</td>\n",
       "      <td>-0.613437</td>\n",
       "      <td>...</td>\n",
       "      <td>0.0</td>\n",
       "      <td>0.0</td>\n",
       "      <td>0.0</td>\n",
       "      <td>0.0</td>\n",
       "      <td>0.0</td>\n",
       "      <td>2016-05-31</td>\n",
       "      <td>1.6600</td>\n",
       "      <td>SVM US Equity</td>\n",
       "      <td>1.0</td>\n",
       "      <td>36.849398</td>\n",
       "    </tr>\n",
       "    <tr>\n",
       "      <th>1</th>\n",
       "      <td>0.000000</td>\n",
       "      <td>0.000000</td>\n",
       "      <td>0.000000</td>\n",
       "      <td>0.306428</td>\n",
       "      <td>0.000000</td>\n",
       "      <td>0.000000</td>\n",
       "      <td>0.000000</td>\n",
       "      <td>0.000000</td>\n",
       "      <td>0.000000</td>\n",
       "      <td>0.000000</td>\n",
       "      <td>...</td>\n",
       "      <td>0.0</td>\n",
       "      <td>0.0</td>\n",
       "      <td>0.0</td>\n",
       "      <td>0.0</td>\n",
       "      <td>0.0</td>\n",
       "      <td>2016-05-31</td>\n",
       "      <td>4.7600</td>\n",
       "      <td>DULUF US Equity</td>\n",
       "      <td>NaN</td>\n",
       "      <td>0.000000</td>\n",
       "    </tr>\n",
       "    <tr>\n",
       "      <th>1</th>\n",
       "      <td>0.627907</td>\n",
       "      <td>0.504596</td>\n",
       "      <td>0.000000</td>\n",
       "      <td>1.472280</td>\n",
       "      <td>0.608309</td>\n",
       "      <td>1.000000</td>\n",
       "      <td>0.084507</td>\n",
       "      <td>0.000000</td>\n",
       "      <td>0.750000</td>\n",
       "      <td>1.000000</td>\n",
       "      <td>...</td>\n",
       "      <td>0.0</td>\n",
       "      <td>0.0</td>\n",
       "      <td>0.0</td>\n",
       "      <td>0.0</td>\n",
       "      <td>0.0</td>\n",
       "      <td>2016-05-31</td>\n",
       "      <td>21.6000</td>\n",
       "      <td>OSB US Equity</td>\n",
       "      <td>NaN</td>\n",
       "      <td>-8.703704</td>\n",
       "    </tr>\n",
       "    <tr>\n",
       "      <th>1</th>\n",
       "      <td>0.326513</td>\n",
       "      <td>0.498155</td>\n",
       "      <td>-0.034293</td>\n",
       "      <td>1.428782</td>\n",
       "      <td>0.110816</td>\n",
       "      <td>1.061084</td>\n",
       "      <td>0.073710</td>\n",
       "      <td>-0.011698</td>\n",
       "      <td>1.010149</td>\n",
       "      <td>0.570738</td>\n",
       "      <td>...</td>\n",
       "      <td>0.0</td>\n",
       "      <td>0.0</td>\n",
       "      <td>0.0</td>\n",
       "      <td>0.0</td>\n",
       "      <td>0.0</td>\n",
       "      <td>2016-05-31</td>\n",
       "      <td>50.3400</td>\n",
       "      <td>BMS US Equity</td>\n",
       "      <td>NaN</td>\n",
       "      <td>2.284466</td>\n",
       "    </tr>\n",
       "    <tr>\n",
       "      <th>1</th>\n",
       "      <td>0.770898</td>\n",
       "      <td>1.391863</td>\n",
       "      <td>-0.052434</td>\n",
       "      <td>0.000000</td>\n",
       "      <td>1.519910</td>\n",
       "      <td>-0.610148</td>\n",
       "      <td>3.325236</td>\n",
       "      <td>0.000000</td>\n",
       "      <td>-11.773860</td>\n",
       "      <td>-0.684271</td>\n",
       "      <td>...</td>\n",
       "      <td>0.0</td>\n",
       "      <td>0.0</td>\n",
       "      <td>0.0</td>\n",
       "      <td>0.0</td>\n",
       "      <td>0.0</td>\n",
       "      <td>2016-05-31</td>\n",
       "      <td>1.2811</td>\n",
       "      <td>CADGF US Equity</td>\n",
       "      <td>NaN</td>\n",
       "      <td>-1.647022</td>\n",
       "    </tr>\n",
       "    <tr>\n",
       "      <th>1</th>\n",
       "      <td>0.905224</td>\n",
       "      <td>1.095157</td>\n",
       "      <td>0.000000</td>\n",
       "      <td>0.523221</td>\n",
       "      <td>1.328419</td>\n",
       "      <td>0.973326</td>\n",
       "      <td>1.347037</td>\n",
       "      <td>0.561102</td>\n",
       "      <td>0.021679</td>\n",
       "      <td>0.965464</td>\n",
       "      <td>...</td>\n",
       "      <td>0.0</td>\n",
       "      <td>0.0</td>\n",
       "      <td>0.0</td>\n",
       "      <td>0.0</td>\n",
       "      <td>0.0</td>\n",
       "      <td>2016-05-31</td>\n",
       "      <td>4.7500</td>\n",
       "      <td>MDR US Equity</td>\n",
       "      <td>NaN</td>\n",
       "      <td>4.000000</td>\n",
       "    </tr>\n",
       "    <tr>\n",
       "      <th>1</th>\n",
       "      <td>0.844860</td>\n",
       "      <td>0.202899</td>\n",
       "      <td>0.472691</td>\n",
       "      <td>0.551614</td>\n",
       "      <td>2.117439</td>\n",
       "      <td>0.902664</td>\n",
       "      <td>-0.155988</td>\n",
       "      <td>0.065835</td>\n",
       "      <td>0.731474</td>\n",
       "      <td>0.919105</td>\n",
       "      <td>...</td>\n",
       "      <td>0.0</td>\n",
       "      <td>0.0</td>\n",
       "      <td>0.0</td>\n",
       "      <td>0.0</td>\n",
       "      <td>0.0</td>\n",
       "      <td>2016-05-31</td>\n",
       "      <td>47.6700</td>\n",
       "      <td>SON US Equity</td>\n",
       "      <td>NaN</td>\n",
       "      <td>4.174533</td>\n",
       "    </tr>\n",
       "    <tr>\n",
       "      <th>1</th>\n",
       "      <td>0.275641</td>\n",
       "      <td>0.000000</td>\n",
       "      <td>0.000000</td>\n",
       "      <td>-1.720804</td>\n",
       "      <td>-0.501779</td>\n",
       "      <td>0.000000</td>\n",
       "      <td>-0.642442</td>\n",
       "      <td>0.076923</td>\n",
       "      <td>0.998633</td>\n",
       "      <td>0.000000</td>\n",
       "      <td>...</td>\n",
       "      <td>0.0</td>\n",
       "      <td>0.0</td>\n",
       "      <td>0.0</td>\n",
       "      <td>0.0</td>\n",
       "      <td>0.0</td>\n",
       "      <td>2016-05-31</td>\n",
       "      <td>19.9500</td>\n",
       "      <td>CQH US Equity</td>\n",
       "      <td>NaN</td>\n",
       "      <td>-0.100251</td>\n",
       "    </tr>\n",
       "    <tr>\n",
       "      <th>1</th>\n",
       "      <td>0.285113</td>\n",
       "      <td>0.164166</td>\n",
       "      <td>0.948013</td>\n",
       "      <td>0.000000</td>\n",
       "      <td>1.084869</td>\n",
       "      <td>0.938046</td>\n",
       "      <td>1.012367</td>\n",
       "      <td>0.496981</td>\n",
       "      <td>0.929991</td>\n",
       "      <td>0.953089</td>\n",
       "      <td>...</td>\n",
       "      <td>0.0</td>\n",
       "      <td>0.0</td>\n",
       "      <td>0.0</td>\n",
       "      <td>0.0</td>\n",
       "      <td>0.0</td>\n",
       "      <td>2016-05-31</td>\n",
       "      <td>53.4900</td>\n",
       "      <td>USLM US Equity</td>\n",
       "      <td>NaN</td>\n",
       "      <td>10.282296</td>\n",
       "    </tr>\n",
       "    <tr>\n",
       "      <th>1</th>\n",
       "      <td>0.156812</td>\n",
       "      <td>-0.635714</td>\n",
       "      <td>-0.670448</td>\n",
       "      <td>-0.364185</td>\n",
       "      <td>-0.136558</td>\n",
       "      <td>0.903743</td>\n",
       "      <td>0.002660</td>\n",
       "      <td>-0.356308</td>\n",
       "      <td>2.104762</td>\n",
       "      <td>0.931217</td>\n",
       "      <td>...</td>\n",
       "      <td>0.0</td>\n",
       "      <td>0.0</td>\n",
       "      <td>0.0</td>\n",
       "      <td>0.0</td>\n",
       "      <td>0.0</td>\n",
       "      <td>2016-05-31</td>\n",
       "      <td>16.3300</td>\n",
       "      <td>POT US Equity</td>\n",
       "      <td>NaN</td>\n",
       "      <td>-0.551133</td>\n",
       "    </tr>\n",
       "    <tr>\n",
       "      <th>1</th>\n",
       "      <td>0.068310</td>\n",
       "      <td>0.659574</td>\n",
       "      <td>0.000000</td>\n",
       "      <td>-0.138100</td>\n",
       "      <td>-0.092648</td>\n",
       "      <td>1.162233</td>\n",
       "      <td>-0.748648</td>\n",
       "      <td>-0.355189</td>\n",
       "      <td>0.901684</td>\n",
       "      <td>1.175617</td>\n",
       "      <td>...</td>\n",
       "      <td>0.0</td>\n",
       "      <td>0.0</td>\n",
       "      <td>0.0</td>\n",
       "      <td>0.0</td>\n",
       "      <td>0.0</td>\n",
       "      <td>2016-05-31</td>\n",
       "      <td>5.3800</td>\n",
       "      <td>FMSA US Equity</td>\n",
       "      <td>1.0</td>\n",
       "      <td>43.308550</td>\n",
       "    </tr>\n",
       "    <tr>\n",
       "      <th>1</th>\n",
       "      <td>-0.035897</td>\n",
       "      <td>0.340924</td>\n",
       "      <td>0.000000</td>\n",
       "      <td>-0.225809</td>\n",
       "      <td>0.974904</td>\n",
       "      <td>0.000000</td>\n",
       "      <td>0.895337</td>\n",
       "      <td>0.000000</td>\n",
       "      <td>0.034787</td>\n",
       "      <td>1.271429</td>\n",
       "      <td>...</td>\n",
       "      <td>0.0</td>\n",
       "      <td>0.0</td>\n",
       "      <td>0.0</td>\n",
       "      <td>0.0</td>\n",
       "      <td>0.0</td>\n",
       "      <td>2016-05-31</td>\n",
       "      <td>19.8320</td>\n",
       "      <td>PREKF US Equity</td>\n",
       "      <td>NaN</td>\n",
       "      <td>-5.818879</td>\n",
       "    </tr>\n",
       "    <tr>\n",
       "      <th>1</th>\n",
       "      <td>0.132877</td>\n",
       "      <td>-0.199519</td>\n",
       "      <td>0.000000</td>\n",
       "      <td>-0.017191</td>\n",
       "      <td>-0.142952</td>\n",
       "      <td>1.194199</td>\n",
       "      <td>2.454276</td>\n",
       "      <td>0.395188</td>\n",
       "      <td>-0.044975</td>\n",
       "      <td>2.820773</td>\n",
       "      <td>...</td>\n",
       "      <td>0.0</td>\n",
       "      <td>0.0</td>\n",
       "      <td>0.0</td>\n",
       "      <td>0.0</td>\n",
       "      <td>0.0</td>\n",
       "      <td>2016-05-31</td>\n",
       "      <td>15.3600</td>\n",
       "      <td>CNX US Equity</td>\n",
       "      <td>NaN</td>\n",
       "      <td>4.752604</td>\n",
       "    </tr>\n",
       "    <tr>\n",
       "      <th>1</th>\n",
       "      <td>0.556796</td>\n",
       "      <td>-0.460526</td>\n",
       "      <td>0.115316</td>\n",
       "      <td>0.356730</td>\n",
       "      <td>-0.986350</td>\n",
       "      <td>0.780181</td>\n",
       "      <td>1.407674</td>\n",
       "      <td>0.049255</td>\n",
       "      <td>0.644031</td>\n",
       "      <td>0.798336</td>\n",
       "      <td>...</td>\n",
       "      <td>0.0</td>\n",
       "      <td>0.0</td>\n",
       "      <td>0.0</td>\n",
       "      <td>0.0</td>\n",
       "      <td>0.0</td>\n",
       "      <td>2016-05-31</td>\n",
       "      <td>131.8710</td>\n",
       "      <td>APD US Equity</td>\n",
       "      <td>NaN</td>\n",
       "      <td>-0.420108</td>\n",
       "    </tr>\n",
       "    <tr>\n",
       "      <th>...</th>\n",
       "      <td>...</td>\n",
       "      <td>...</td>\n",
       "      <td>...</td>\n",
       "      <td>...</td>\n",
       "      <td>...</td>\n",
       "      <td>...</td>\n",
       "      <td>...</td>\n",
       "      <td>...</td>\n",
       "      <td>...</td>\n",
       "      <td>...</td>\n",
       "      <td>...</td>\n",
       "      <td>...</td>\n",
       "      <td>...</td>\n",
       "      <td>...</td>\n",
       "      <td>...</td>\n",
       "      <td>...</td>\n",
       "      <td>...</td>\n",
       "      <td>...</td>\n",
       "      <td>...</td>\n",
       "      <td>...</td>\n",
       "      <td>...</td>\n",
       "    </tr>\n",
       "    <tr>\n",
       "      <th>1</th>\n",
       "      <td>0.000000</td>\n",
       "      <td>0.000000</td>\n",
       "      <td>0.000000</td>\n",
       "      <td>0.908463</td>\n",
       "      <td>0.000000</td>\n",
       "      <td>0.000000</td>\n",
       "      <td>0.000000</td>\n",
       "      <td>0.000000</td>\n",
       "      <td>0.000000</td>\n",
       "      <td>0.000000</td>\n",
       "      <td>...</td>\n",
       "      <td>0.0</td>\n",
       "      <td>0.0</td>\n",
       "      <td>0.0</td>\n",
       "      <td>0.0</td>\n",
       "      <td>0.0</td>\n",
       "      <td>2016-05-31</td>\n",
       "      <td>395.1000</td>\n",
       "      <td>SYENF US Equity</td>\n",
       "      <td>NaN</td>\n",
       "      <td>-3.581372</td>\n",
       "    </tr>\n",
       "    <tr>\n",
       "      <th>1</th>\n",
       "      <td>0.000000</td>\n",
       "      <td>0.000000</td>\n",
       "      <td>0.000000</td>\n",
       "      <td>-3.466951</td>\n",
       "      <td>0.000000</td>\n",
       "      <td>0.000000</td>\n",
       "      <td>0.000000</td>\n",
       "      <td>0.000000</td>\n",
       "      <td>0.000000</td>\n",
       "      <td>0.000000</td>\n",
       "      <td>...</td>\n",
       "      <td>0.0</td>\n",
       "      <td>0.0</td>\n",
       "      <td>0.0</td>\n",
       "      <td>0.0</td>\n",
       "      <td>0.0</td>\n",
       "      <td>2016-05-31</td>\n",
       "      <td>3.8500</td>\n",
       "      <td>GRDGF US Equity</td>\n",
       "      <td>NaN</td>\n",
       "      <td>0.000000</td>\n",
       "    </tr>\n",
       "    <tr>\n",
       "      <th>1</th>\n",
       "      <td>0.898111</td>\n",
       "      <td>-0.031915</td>\n",
       "      <td>0.464179</td>\n",
       "      <td>-0.323799</td>\n",
       "      <td>1.008976</td>\n",
       "      <td>1.299031</td>\n",
       "      <td>1.368548</td>\n",
       "      <td>0.000000</td>\n",
       "      <td>1.470560</td>\n",
       "      <td>28.340654</td>\n",
       "      <td>...</td>\n",
       "      <td>0.0</td>\n",
       "      <td>0.0</td>\n",
       "      <td>0.0</td>\n",
       "      <td>0.0</td>\n",
       "      <td>0.0</td>\n",
       "      <td>2016-05-31</td>\n",
       "      <td>2.2100</td>\n",
       "      <td>GMBXF US Equity</td>\n",
       "      <td>NaN</td>\n",
       "      <td>4.918552</td>\n",
       "    </tr>\n",
       "    <tr>\n",
       "      <th>1</th>\n",
       "      <td>-0.026756</td>\n",
       "      <td>-0.678571</td>\n",
       "      <td>0.409121</td>\n",
       "      <td>-0.468477</td>\n",
       "      <td>0.163217</td>\n",
       "      <td>1.229835</td>\n",
       "      <td>0.745714</td>\n",
       "      <td>0.000000</td>\n",
       "      <td>1.209924</td>\n",
       "      <td>0.648276</td>\n",
       "      <td>...</td>\n",
       "      <td>0.0</td>\n",
       "      <td>0.0</td>\n",
       "      <td>0.0</td>\n",
       "      <td>0.0</td>\n",
       "      <td>0.0</td>\n",
       "      <td>2016-05-31</td>\n",
       "      <td>3.0900</td>\n",
       "      <td>SDRL US Equity</td>\n",
       "      <td>NaN</td>\n",
       "      <td>4.854369</td>\n",
       "    </tr>\n",
       "    <tr>\n",
       "      <th>1</th>\n",
       "      <td>0.000000</td>\n",
       "      <td>0.000000</td>\n",
       "      <td>0.000000</td>\n",
       "      <td>0.000000</td>\n",
       "      <td>1.000000</td>\n",
       "      <td>0.948541</td>\n",
       "      <td>1.000000</td>\n",
       "      <td>0.301524</td>\n",
       "      <td>0.000000</td>\n",
       "      <td>0.956044</td>\n",
       "      <td>...</td>\n",
       "      <td>0.0</td>\n",
       "      <td>0.0</td>\n",
       "      <td>0.0</td>\n",
       "      <td>0.0</td>\n",
       "      <td>0.0</td>\n",
       "      <td>2016-05-31</td>\n",
       "      <td>4.5113</td>\n",
       "      <td>NADL US Equity</td>\n",
       "      <td>1.0</td>\n",
       "      <td>49.402611</td>\n",
       "    </tr>\n",
       "    <tr>\n",
       "      <th>1</th>\n",
       "      <td>-0.172503</td>\n",
       "      <td>0.342282</td>\n",
       "      <td>0.000000</td>\n",
       "      <td>-0.281190</td>\n",
       "      <td>-0.325226</td>\n",
       "      <td>1.136978</td>\n",
       "      <td>0.284822</td>\n",
       "      <td>0.036855</td>\n",
       "      <td>0.723650</td>\n",
       "      <td>0.744696</td>\n",
       "      <td>...</td>\n",
       "      <td>0.0</td>\n",
       "      <td>0.0</td>\n",
       "      <td>0.0</td>\n",
       "      <td>0.0</td>\n",
       "      <td>0.0</td>\n",
       "      <td>2016-05-31</td>\n",
       "      <td>57.1400</td>\n",
       "      <td>APA US Equity</td>\n",
       "      <td>NaN</td>\n",
       "      <td>-2.572629</td>\n",
       "    </tr>\n",
       "    <tr>\n",
       "      <th>1</th>\n",
       "      <td>1.000000</td>\n",
       "      <td>0.348000</td>\n",
       "      <td>0.000000</td>\n",
       "      <td>-0.515448</td>\n",
       "      <td>0.044202</td>\n",
       "      <td>1.003794</td>\n",
       "      <td>0.078763</td>\n",
       "      <td>0.000000</td>\n",
       "      <td>-0.578962</td>\n",
       "      <td>1.307922</td>\n",
       "      <td>...</td>\n",
       "      <td>0.0</td>\n",
       "      <td>0.0</td>\n",
       "      <td>0.0</td>\n",
       "      <td>0.0</td>\n",
       "      <td>0.0</td>\n",
       "      <td>2016-05-31</td>\n",
       "      <td>5.0108</td>\n",
       "      <td>AVACF US Equity</td>\n",
       "      <td>0.0</td>\n",
       "      <td>-41.073282</td>\n",
       "    </tr>\n",
       "    <tr>\n",
       "      <th>1</th>\n",
       "      <td>0.000000</td>\n",
       "      <td>0.000000</td>\n",
       "      <td>0.000000</td>\n",
       "      <td>0.138604</td>\n",
       "      <td>0.000000</td>\n",
       "      <td>0.000000</td>\n",
       "      <td>0.000000</td>\n",
       "      <td>0.000000</td>\n",
       "      <td>0.000000</td>\n",
       "      <td>0.000000</td>\n",
       "      <td>...</td>\n",
       "      <td>0.0</td>\n",
       "      <td>0.0</td>\n",
       "      <td>0.0</td>\n",
       "      <td>0.0</td>\n",
       "      <td>0.0</td>\n",
       "      <td>2016-05-31</td>\n",
       "      <td>0.2200</td>\n",
       "      <td>EGRAF US Equity</td>\n",
       "      <td>1.0</td>\n",
       "      <td>36.363636</td>\n",
       "    </tr>\n",
       "    <tr>\n",
       "      <th>1</th>\n",
       "      <td>-0.296450</td>\n",
       "      <td>-0.067232</td>\n",
       "      <td>0.000000</td>\n",
       "      <td>-0.503973</td>\n",
       "      <td>-0.648224</td>\n",
       "      <td>1.101013</td>\n",
       "      <td>0.040462</td>\n",
       "      <td>-0.170732</td>\n",
       "      <td>-1.585829</td>\n",
       "      <td>1.277905</td>\n",
       "      <td>...</td>\n",
       "      <td>0.0</td>\n",
       "      <td>0.0</td>\n",
       "      <td>0.0</td>\n",
       "      <td>0.0</td>\n",
       "      <td>0.0</td>\n",
       "      <td>2016-05-31</td>\n",
       "      <td>42.0600</td>\n",
       "      <td>CLR US Equity</td>\n",
       "      <td>NaN</td>\n",
       "      <td>7.631954</td>\n",
       "    </tr>\n",
       "    <tr>\n",
       "      <th>1</th>\n",
       "      <td>0.136785</td>\n",
       "      <td>-0.126603</td>\n",
       "      <td>2.491037</td>\n",
       "      <td>-0.153846</td>\n",
       "      <td>1.360150</td>\n",
       "      <td>0.923219</td>\n",
       "      <td>0.964698</td>\n",
       "      <td>0.271968</td>\n",
       "      <td>0.777089</td>\n",
       "      <td>0.895658</td>\n",
       "      <td>...</td>\n",
       "      <td>0.0</td>\n",
       "      <td>0.0</td>\n",
       "      <td>0.0</td>\n",
       "      <td>0.0</td>\n",
       "      <td>0.0</td>\n",
       "      <td>2016-05-31</td>\n",
       "      <td>6.6600</td>\n",
       "      <td>ANW US Equity</td>\n",
       "      <td>0.0</td>\n",
       "      <td>-17.417417</td>\n",
       "    </tr>\n",
       "    <tr>\n",
       "      <th>1</th>\n",
       "      <td>-0.118373</td>\n",
       "      <td>-0.110226</td>\n",
       "      <td>0.000000</td>\n",
       "      <td>-0.115276</td>\n",
       "      <td>-0.136480</td>\n",
       "      <td>1.173947</td>\n",
       "      <td>0.132644</td>\n",
       "      <td>0.421733</td>\n",
       "      <td>0.973598</td>\n",
       "      <td>1.251391</td>\n",
       "      <td>...</td>\n",
       "      <td>0.0</td>\n",
       "      <td>0.0</td>\n",
       "      <td>0.0</td>\n",
       "      <td>0.0</td>\n",
       "      <td>0.0</td>\n",
       "      <td>2016-05-31</td>\n",
       "      <td>32.8600</td>\n",
       "      <td>OIS US Equity</td>\n",
       "      <td>NaN</td>\n",
       "      <td>0.060864</td>\n",
       "    </tr>\n",
       "    <tr>\n",
       "      <th>1</th>\n",
       "      <td>0.752283</td>\n",
       "      <td>0.144231</td>\n",
       "      <td>0.290531</td>\n",
       "      <td>-0.084106</td>\n",
       "      <td>0.354102</td>\n",
       "      <td>0.000000</td>\n",
       "      <td>-1.443023</td>\n",
       "      <td>0.000000</td>\n",
       "      <td>-0.384591</td>\n",
       "      <td>0.939994</td>\n",
       "      <td>...</td>\n",
       "      <td>0.0</td>\n",
       "      <td>0.0</td>\n",
       "      <td>0.0</td>\n",
       "      <td>0.0</td>\n",
       "      <td>0.0</td>\n",
       "      <td>2016-05-31</td>\n",
       "      <td>29.9000</td>\n",
       "      <td>ENGGF US Equity</td>\n",
       "      <td>NaN</td>\n",
       "      <td>-0.668896</td>\n",
       "    </tr>\n",
       "    <tr>\n",
       "      <th>1</th>\n",
       "      <td>1.043260</td>\n",
       "      <td>0.071531</td>\n",
       "      <td>0.570422</td>\n",
       "      <td>-0.271513</td>\n",
       "      <td>0.886229</td>\n",
       "      <td>-0.433941</td>\n",
       "      <td>0.753087</td>\n",
       "      <td>0.847082</td>\n",
       "      <td>-0.238421</td>\n",
       "      <td>0.716765</td>\n",
       "      <td>...</td>\n",
       "      <td>0.0</td>\n",
       "      <td>0.0</td>\n",
       "      <td>0.0</td>\n",
       "      <td>0.0</td>\n",
       "      <td>0.0</td>\n",
       "      <td>2016-05-31</td>\n",
       "      <td>50.1900</td>\n",
       "      <td>RPM US Equity</td>\n",
       "      <td>NaN</td>\n",
       "      <td>-0.478183</td>\n",
       "    </tr>\n",
       "    <tr>\n",
       "      <th>1</th>\n",
       "      <td>0.430769</td>\n",
       "      <td>-0.290526</td>\n",
       "      <td>0.007214</td>\n",
       "      <td>-0.722443</td>\n",
       "      <td>0.459161</td>\n",
       "      <td>1.036160</td>\n",
       "      <td>3.466667</td>\n",
       "      <td>0.036772</td>\n",
       "      <td>0.976250</td>\n",
       "      <td>0.710000</td>\n",
       "      <td>...</td>\n",
       "      <td>0.0</td>\n",
       "      <td>0.0</td>\n",
       "      <td>0.0</td>\n",
       "      <td>0.0</td>\n",
       "      <td>0.0</td>\n",
       "      <td>2016-05-31</td>\n",
       "      <td>109.8600</td>\n",
       "      <td>PX US Equity</td>\n",
       "      <td>NaN</td>\n",
       "      <td>2.302931</td>\n",
       "    </tr>\n",
       "    <tr>\n",
       "      <th>1</th>\n",
       "      <td>0.000000</td>\n",
       "      <td>0.000000</td>\n",
       "      <td>0.000000</td>\n",
       "      <td>-1.136418</td>\n",
       "      <td>-0.217985</td>\n",
       "      <td>0.000000</td>\n",
       "      <td>0.000000</td>\n",
       "      <td>-0.043478</td>\n",
       "      <td>0.000000</td>\n",
       "      <td>1.000000</td>\n",
       "      <td>...</td>\n",
       "      <td>0.0</td>\n",
       "      <td>0.0</td>\n",
       "      <td>0.0</td>\n",
       "      <td>0.0</td>\n",
       "      <td>0.0</td>\n",
       "      <td>2016-05-31</td>\n",
       "      <td>19.4723</td>\n",
       "      <td>EEQ US Equity</td>\n",
       "      <td>NaN</td>\n",
       "      <td>5.260806</td>\n",
       "    </tr>\n",
       "    <tr>\n",
       "      <th>1</th>\n",
       "      <td>-0.241661</td>\n",
       "      <td>-1.952978</td>\n",
       "      <td>0.000000</td>\n",
       "      <td>-0.085098</td>\n",
       "      <td>-0.176130</td>\n",
       "      <td>0.961097</td>\n",
       "      <td>-0.102364</td>\n",
       "      <td>0.258026</td>\n",
       "      <td>1.000944</td>\n",
       "      <td>0.677353</td>\n",
       "      <td>...</td>\n",
       "      <td>0.0</td>\n",
       "      <td>0.0</td>\n",
       "      <td>0.0</td>\n",
       "      <td>0.0</td>\n",
       "      <td>0.0</td>\n",
       "      <td>2016-05-31</td>\n",
       "      <td>1.9600</td>\n",
       "      <td>CLD US Equity</td>\n",
       "      <td>NaN</td>\n",
       "      <td>5.102041</td>\n",
       "    </tr>\n",
       "    <tr>\n",
       "      <th>1</th>\n",
       "      <td>0.000000</td>\n",
       "      <td>0.000000</td>\n",
       "      <td>0.000000</td>\n",
       "      <td>-2.369565</td>\n",
       "      <td>0.000000</td>\n",
       "      <td>0.000000</td>\n",
       "      <td>0.000000</td>\n",
       "      <td>0.000000</td>\n",
       "      <td>0.000000</td>\n",
       "      <td>0.000000</td>\n",
       "      <td>...</td>\n",
       "      <td>0.0</td>\n",
       "      <td>0.0</td>\n",
       "      <td>0.0</td>\n",
       "      <td>0.0</td>\n",
       "      <td>0.0</td>\n",
       "      <td>2016-05-31</td>\n",
       "      <td>0.5030</td>\n",
       "      <td>MDSMF US Equity</td>\n",
       "      <td>NaN</td>\n",
       "      <td>9.343936</td>\n",
       "    </tr>\n",
       "    <tr>\n",
       "      <th>1</th>\n",
       "      <td>-0.069644</td>\n",
       "      <td>-1.521327</td>\n",
       "      <td>0.924126</td>\n",
       "      <td>0.000000</td>\n",
       "      <td>0.822033</td>\n",
       "      <td>0.991870</td>\n",
       "      <td>5.694243</td>\n",
       "      <td>0.000000</td>\n",
       "      <td>1.048053</td>\n",
       "      <td>0.496980</td>\n",
       "      <td>...</td>\n",
       "      <td>0.0</td>\n",
       "      <td>0.0</td>\n",
       "      <td>0.0</td>\n",
       "      <td>0.0</td>\n",
       "      <td>0.0</td>\n",
       "      <td>2016-05-31</td>\n",
       "      <td>3337.2100</td>\n",
       "      <td>LUPTQ US Equity</td>\n",
       "      <td>NaN</td>\n",
       "      <td>0.000000</td>\n",
       "    </tr>\n",
       "    <tr>\n",
       "      <th>1</th>\n",
       "      <td>0.000000</td>\n",
       "      <td>0.000000</td>\n",
       "      <td>0.000000</td>\n",
       "      <td>1.421000</td>\n",
       "      <td>0.000000</td>\n",
       "      <td>0.000000</td>\n",
       "      <td>0.000000</td>\n",
       "      <td>0.000000</td>\n",
       "      <td>0.000000</td>\n",
       "      <td>0.000000</td>\n",
       "      <td>...</td>\n",
       "      <td>0.0</td>\n",
       "      <td>0.0</td>\n",
       "      <td>0.0</td>\n",
       "      <td>0.0</td>\n",
       "      <td>0.0</td>\n",
       "      <td>2016-05-31</td>\n",
       "      <td>1.8500</td>\n",
       "      <td>STBMF US Equity</td>\n",
       "      <td>NaN</td>\n",
       "      <td>18.918919</td>\n",
       "    </tr>\n",
       "    <tr>\n",
       "      <th>1</th>\n",
       "      <td>0.000000</td>\n",
       "      <td>-0.189645</td>\n",
       "      <td>0.000000</td>\n",
       "      <td>-0.248578</td>\n",
       "      <td>0.193512</td>\n",
       "      <td>1.244290</td>\n",
       "      <td>0.381328</td>\n",
       "      <td>0.000000</td>\n",
       "      <td>0.405026</td>\n",
       "      <td>0.741756</td>\n",
       "      <td>...</td>\n",
       "      <td>0.0</td>\n",
       "      <td>0.0</td>\n",
       "      <td>0.0</td>\n",
       "      <td>0.0</td>\n",
       "      <td>0.0</td>\n",
       "      <td>2016-05-31</td>\n",
       "      <td>16.4000</td>\n",
       "      <td>STOHF US Equity</td>\n",
       "      <td>NaN</td>\n",
       "      <td>2.743902</td>\n",
       "    </tr>\n",
       "    <tr>\n",
       "      <th>1</th>\n",
       "      <td>-5.058824</td>\n",
       "      <td>-0.116883</td>\n",
       "      <td>0.000000</td>\n",
       "      <td>-1.211313</td>\n",
       "      <td>-53.807215</td>\n",
       "      <td>1.609509</td>\n",
       "      <td>0.217724</td>\n",
       "      <td>0.000000</td>\n",
       "      <td>0.160155</td>\n",
       "      <td>1.355703</td>\n",
       "      <td>...</td>\n",
       "      <td>0.0</td>\n",
       "      <td>0.0</td>\n",
       "      <td>0.0</td>\n",
       "      <td>0.0</td>\n",
       "      <td>0.0</td>\n",
       "      <td>2016-05-31</td>\n",
       "      <td>0.5860</td>\n",
       "      <td>ORXPF US Equity</td>\n",
       "      <td>NaN</td>\n",
       "      <td>16.143345</td>\n",
       "    </tr>\n",
       "    <tr>\n",
       "      <th>1</th>\n",
       "      <td>1.000000</td>\n",
       "      <td>0.599194</td>\n",
       "      <td>0.000000</td>\n",
       "      <td>0.530811</td>\n",
       "      <td>1.032473</td>\n",
       "      <td>0.594058</td>\n",
       "      <td>1.046561</td>\n",
       "      <td>-0.013771</td>\n",
       "      <td>0.297218</td>\n",
       "      <td>0.603821</td>\n",
       "      <td>...</td>\n",
       "      <td>0.0</td>\n",
       "      <td>0.0</td>\n",
       "      <td>0.0</td>\n",
       "      <td>0.0</td>\n",
       "      <td>0.0</td>\n",
       "      <td>2016-05-31</td>\n",
       "      <td>8.8800</td>\n",
       "      <td>FRO US Equity</td>\n",
       "      <td>NaN</td>\n",
       "      <td>-11.373874</td>\n",
       "    </tr>\n",
       "    <tr>\n",
       "      <th>1</th>\n",
       "      <td>1.000000</td>\n",
       "      <td>1.000000</td>\n",
       "      <td>0.000000</td>\n",
       "      <td>0.000000</td>\n",
       "      <td>1.000000</td>\n",
       "      <td>0.000000</td>\n",
       "      <td>1.000000</td>\n",
       "      <td>0.000000</td>\n",
       "      <td>0.000000</td>\n",
       "      <td>0.000000</td>\n",
       "      <td>...</td>\n",
       "      <td>0.0</td>\n",
       "      <td>0.0</td>\n",
       "      <td>0.0</td>\n",
       "      <td>0.0</td>\n",
       "      <td>0.0</td>\n",
       "      <td>2016-05-31</td>\n",
       "      <td>2.2500</td>\n",
       "      <td>GURE US Equity</td>\n",
       "      <td>NaN</td>\n",
       "      <td>0.000000</td>\n",
       "    </tr>\n",
       "    <tr>\n",
       "      <th>1</th>\n",
       "      <td>0.000000</td>\n",
       "      <td>0.000000</td>\n",
       "      <td>0.000000</td>\n",
       "      <td>-0.197953</td>\n",
       "      <td>0.000000</td>\n",
       "      <td>0.000000</td>\n",
       "      <td>0.000000</td>\n",
       "      <td>0.000000</td>\n",
       "      <td>0.000000</td>\n",
       "      <td>0.000000</td>\n",
       "      <td>...</td>\n",
       "      <td>0.0</td>\n",
       "      <td>0.0</td>\n",
       "      <td>0.0</td>\n",
       "      <td>0.0</td>\n",
       "      <td>0.0</td>\n",
       "      <td>2016-05-31</td>\n",
       "      <td>2.8444</td>\n",
       "      <td>TUWLF US Equity</td>\n",
       "      <td>NaN</td>\n",
       "      <td>8.086064</td>\n",
       "    </tr>\n",
       "    <tr>\n",
       "      <th>1</th>\n",
       "      <td>-0.293839</td>\n",
       "      <td>0.909548</td>\n",
       "      <td>0.000000</td>\n",
       "      <td>-0.210184</td>\n",
       "      <td>-0.042079</td>\n",
       "      <td>1.349282</td>\n",
       "      <td>0.299787</td>\n",
       "      <td>-0.467930</td>\n",
       "      <td>-1.876797</td>\n",
       "      <td>1.369790</td>\n",
       "      <td>...</td>\n",
       "      <td>0.0</td>\n",
       "      <td>0.0</td>\n",
       "      <td>0.0</td>\n",
       "      <td>0.0</td>\n",
       "      <td>0.0</td>\n",
       "      <td>2016-05-31</td>\n",
       "      <td>2.6700</td>\n",
       "      <td>ECR US Equity</td>\n",
       "      <td>1.0</td>\n",
       "      <td>25.093633</td>\n",
       "    </tr>\n",
       "    <tr>\n",
       "      <th>1</th>\n",
       "      <td>-0.079004</td>\n",
       "      <td>-0.051282</td>\n",
       "      <td>1.108167</td>\n",
       "      <td>0.000000</td>\n",
       "      <td>1.375387</td>\n",
       "      <td>1.005999</td>\n",
       "      <td>0.551510</td>\n",
       "      <td>0.076850</td>\n",
       "      <td>0.444255</td>\n",
       "      <td>1.005987</td>\n",
       "      <td>...</td>\n",
       "      <td>0.0</td>\n",
       "      <td>0.0</td>\n",
       "      <td>0.0</td>\n",
       "      <td>0.0</td>\n",
       "      <td>0.0</td>\n",
       "      <td>2016-05-31</td>\n",
       "      <td>11.2500</td>\n",
       "      <td>TREC US Equity</td>\n",
       "      <td>NaN</td>\n",
       "      <td>-7.288889</td>\n",
       "    </tr>\n",
       "    <tr>\n",
       "      <th>0</th>\n",
       "      <td>-0.260051</td>\n",
       "      <td>-0.218957</td>\n",
       "      <td>0.000000</td>\n",
       "      <td>-0.091060</td>\n",
       "      <td>-0.317410</td>\n",
       "      <td>0.976458</td>\n",
       "      <td>-0.040212</td>\n",
       "      <td>-0.054954</td>\n",
       "      <td>0.705343</td>\n",
       "      <td>0.963623</td>\n",
       "      <td>...</td>\n",
       "      <td>0.0</td>\n",
       "      <td>0.0</td>\n",
       "      <td>0.0</td>\n",
       "      <td>0.0</td>\n",
       "      <td>0.0</td>\n",
       "      <td>2016-05-31</td>\n",
       "      <td>3.9400</td>\n",
       "      <td>GLFMQ US Equity</td>\n",
       "      <td>NaN</td>\n",
       "      <td>0.761421</td>\n",
       "    </tr>\n",
       "    <tr>\n",
       "      <th>1</th>\n",
       "      <td>0.043598</td>\n",
       "      <td>0.000000</td>\n",
       "      <td>20.583536</td>\n",
       "      <td>0.087519</td>\n",
       "      <td>0.946960</td>\n",
       "      <td>0.904027</td>\n",
       "      <td>1.197304</td>\n",
       "      <td>0.000000</td>\n",
       "      <td>0.004771</td>\n",
       "      <td>0.870753</td>\n",
       "      <td>...</td>\n",
       "      <td>0.0</td>\n",
       "      <td>0.0</td>\n",
       "      <td>0.0</td>\n",
       "      <td>0.0</td>\n",
       "      <td>0.0</td>\n",
       "      <td>2016-05-31</td>\n",
       "      <td>12.0300</td>\n",
       "      <td>SA US Equity</td>\n",
       "      <td>1.0</td>\n",
       "      <td>22.028263</td>\n",
       "    </tr>\n",
       "    <tr>\n",
       "      <th>1</th>\n",
       "      <td>-0.139148</td>\n",
       "      <td>-0.323155</td>\n",
       "      <td>0.000000</td>\n",
       "      <td>-0.090561</td>\n",
       "      <td>-0.224124</td>\n",
       "      <td>1.089357</td>\n",
       "      <td>0.628508</td>\n",
       "      <td>0.000000</td>\n",
       "      <td>0.127039</td>\n",
       "      <td>1.007266</td>\n",
       "      <td>...</td>\n",
       "      <td>0.0</td>\n",
       "      <td>0.0</td>\n",
       "      <td>0.0</td>\n",
       "      <td>0.0</td>\n",
       "      <td>0.0</td>\n",
       "      <td>2016-05-31</td>\n",
       "      <td>1.7371</td>\n",
       "      <td>CFWFF US Equity</td>\n",
       "      <td>1.0</td>\n",
       "      <td>70.974613</td>\n",
       "    </tr>\n",
       "    <tr>\n",
       "      <th>1</th>\n",
       "      <td>0.000000</td>\n",
       "      <td>0.000000</td>\n",
       "      <td>0.000000</td>\n",
       "      <td>-0.478893</td>\n",
       "      <td>0.000000</td>\n",
       "      <td>0.000000</td>\n",
       "      <td>0.000000</td>\n",
       "      <td>0.000000</td>\n",
       "      <td>0.000000</td>\n",
       "      <td>0.000000</td>\n",
       "      <td>...</td>\n",
       "      <td>0.0</td>\n",
       "      <td>0.0</td>\n",
       "      <td>0.0</td>\n",
       "      <td>0.0</td>\n",
       "      <td>0.0</td>\n",
       "      <td>2016-05-31</td>\n",
       "      <td>1.2000</td>\n",
       "      <td>NPKAF US Equity</td>\n",
       "      <td>NaN</td>\n",
       "      <td>-8.333333</td>\n",
       "    </tr>\n",
       "  </tbody>\n",
       "</table>\n",
       "<p>974 rows × 122 columns</p>\n",
       "</div>"
      ],
      "text/plain": [
       "    account_receivable  asset_turnover  basic_eps_5yr_avg_growth  \\\n",
       "1             0.268852        0.503704                  0.000000   \n",
       "1            -0.862746        0.831111                  0.000000   \n",
       "1             0.255221        0.633200                  0.000000   \n",
       "1            -0.916812       -0.195652                  0.000000   \n",
       "1             1.336999        0.004695                 -0.248906   \n",
       "1            -0.237565       -0.307656                  0.000000   \n",
       "1             0.000000        0.000000                  0.000000   \n",
       "1            -0.203323       -0.265647                  0.206954   \n",
       "1             0.334617        0.597938                  0.000000   \n",
       "1             0.000000        0.000000                  0.000000   \n",
       "1             0.824742       -0.520776                  0.000000   \n",
       "1            -0.096019        0.633858                  0.000000   \n",
       "1             0.281941       -0.675472                  0.000000   \n",
       "1             1.790269        1.809843                  0.000000   \n",
       "1            -0.071329        0.051370                  0.687580   \n",
       "1            -0.724771        0.110132                  0.000000   \n",
       "1             1.283843        0.738134                  0.431274   \n",
       "1             0.000000        0.000000                  0.000000   \n",
       "1             0.627907        0.504596                  0.000000   \n",
       "1             0.326513        0.498155                 -0.034293   \n",
       "1             0.770898        1.391863                 -0.052434   \n",
       "1             0.905224        1.095157                  0.000000   \n",
       "1             0.844860        0.202899                  0.472691   \n",
       "1             0.275641        0.000000                  0.000000   \n",
       "1             0.285113        0.164166                  0.948013   \n",
       "1             0.156812       -0.635714                 -0.670448   \n",
       "1             0.068310        0.659574                  0.000000   \n",
       "1            -0.035897        0.340924                  0.000000   \n",
       "1             0.132877       -0.199519                  0.000000   \n",
       "1             0.556796       -0.460526                  0.115316   \n",
       "..                 ...             ...                       ...   \n",
       "1             0.000000        0.000000                  0.000000   \n",
       "1             0.000000        0.000000                  0.000000   \n",
       "1             0.898111       -0.031915                  0.464179   \n",
       "1            -0.026756       -0.678571                  0.409121   \n",
       "1             0.000000        0.000000                  0.000000   \n",
       "1            -0.172503        0.342282                  0.000000   \n",
       "1             1.000000        0.348000                  0.000000   \n",
       "1             0.000000        0.000000                  0.000000   \n",
       "1            -0.296450       -0.067232                  0.000000   \n",
       "1             0.136785       -0.126603                  2.491037   \n",
       "1            -0.118373       -0.110226                  0.000000   \n",
       "1             0.752283        0.144231                  0.290531   \n",
       "1             1.043260        0.071531                  0.570422   \n",
       "1             0.430769       -0.290526                  0.007214   \n",
       "1             0.000000        0.000000                  0.000000   \n",
       "1            -0.241661       -1.952978                  0.000000   \n",
       "1             0.000000        0.000000                  0.000000   \n",
       "1            -0.069644       -1.521327                  0.924126   \n",
       "1             0.000000        0.000000                  0.000000   \n",
       "1             0.000000       -0.189645                  0.000000   \n",
       "1            -5.058824       -0.116883                  0.000000   \n",
       "1             1.000000        0.599194                  0.000000   \n",
       "1             1.000000        1.000000                  0.000000   \n",
       "1             0.000000        0.000000                  0.000000   \n",
       "1            -0.293839        0.909548                  0.000000   \n",
       "1            -0.079004       -0.051282                  1.108167   \n",
       "0            -0.260051       -0.218957                  0.000000   \n",
       "1             0.043598        0.000000                 20.583536   \n",
       "1            -0.139148       -0.323155                  0.000000   \n",
       "1             0.000000        0.000000                  0.000000   \n",
       "\n",
       "    best_target_price  book_value  capital_expenditures  \\\n",
       "1            0.044664    0.017443              0.987551   \n",
       "1           -0.513942   -0.128970              1.246916   \n",
       "1            0.809190    1.045454              0.587849   \n",
       "1           -0.357523   -0.773392              1.350498   \n",
       "1            0.714286    1.138462              1.900757   \n",
       "1           -0.017593   -0.011185              1.040601   \n",
       "1            0.979058    0.000000              0.000000   \n",
       "1           -0.342451   -0.668384              1.026990   \n",
       "1           -0.147889    1.405491            -31.440000   \n",
       "1           -0.338462    0.000000              0.000000   \n",
       "1           -0.319807    0.101695              1.000000   \n",
       "1           -0.851199   -0.044099             -0.447545   \n",
       "1           -0.385694   -0.210269              0.429653   \n",
       "1           -0.288660    0.477155              1.239761   \n",
       "1           -0.955509    0.620197              0.999451   \n",
       "1            0.000000    0.146627              0.000000   \n",
       "1           -0.874552   -0.008900             -0.279134   \n",
       "1            0.306428    0.000000              0.000000   \n",
       "1            1.472280    0.608309              1.000000   \n",
       "1            1.428782    0.110816              1.061084   \n",
       "1            0.000000    1.519910             -0.610148   \n",
       "1            0.523221    1.328419              0.973326   \n",
       "1            0.551614    2.117439              0.902664   \n",
       "1           -1.720804   -0.501779              0.000000   \n",
       "1            0.000000    1.084869              0.938046   \n",
       "1           -0.364185   -0.136558              0.903743   \n",
       "1           -0.138100   -0.092648              1.162233   \n",
       "1           -0.225809    0.974904              0.000000   \n",
       "1           -0.017191   -0.142952              1.194199   \n",
       "1            0.356730   -0.986350              0.780181   \n",
       "..                ...         ...                   ...   \n",
       "1            0.908463    0.000000              0.000000   \n",
       "1           -3.466951    0.000000              0.000000   \n",
       "1           -0.323799    1.008976              1.299031   \n",
       "1           -0.468477    0.163217              1.229835   \n",
       "1            0.000000    1.000000              0.948541   \n",
       "1           -0.281190   -0.325226              1.136978   \n",
       "1           -0.515448    0.044202              1.003794   \n",
       "1            0.138604    0.000000              0.000000   \n",
       "1           -0.503973   -0.648224              1.101013   \n",
       "1           -0.153846    1.360150              0.923219   \n",
       "1           -0.115276   -0.136480              1.173947   \n",
       "1           -0.084106    0.354102              0.000000   \n",
       "1           -0.271513    0.886229             -0.433941   \n",
       "1           -0.722443    0.459161              1.036160   \n",
       "1           -1.136418   -0.217985              0.000000   \n",
       "1           -0.085098   -0.176130              0.961097   \n",
       "1           -2.369565    0.000000              0.000000   \n",
       "1            0.000000    0.822033              0.991870   \n",
       "1            1.421000    0.000000              0.000000   \n",
       "1           -0.248578    0.193512              1.244290   \n",
       "1           -1.211313  -53.807215              1.609509   \n",
       "1            0.530811    1.032473              0.594058   \n",
       "1            0.000000    1.000000              0.000000   \n",
       "1           -0.197953    0.000000              0.000000   \n",
       "1           -0.210184   -0.042079              1.349282   \n",
       "1            0.000000    1.375387              1.005999   \n",
       "0           -0.091060   -0.317410              0.976458   \n",
       "1            0.087519    0.946960              0.904027   \n",
       "1           -0.090561   -0.224124              1.089357   \n",
       "1           -0.478893    0.000000              0.000000   \n",
       "\n",
       "    cash_cash_equivalents  cash_flow_per_share  cash_from_financing  \\\n",
       "1                0.077857             0.000000             0.304266   \n",
       "1                0.167762             0.334740            -0.411424   \n",
       "1                0.263464             0.372778             0.212816   \n",
       "1                0.448997             1.033136            -0.307169   \n",
       "1                0.110455            -0.166474             0.695202   \n",
       "1                0.000000             0.000000             0.245999   \n",
       "1                0.000000             0.000000             0.000000   \n",
       "1                0.257276             0.000000             0.611214   \n",
       "1              811.004000             1.661600          -139.182000   \n",
       "1                0.000000             0.000000             0.000000   \n",
       "1               -0.131579             0.000000             0.761538   \n",
       "1                0.186747            -1.177050             1.261520   \n",
       "1                0.004660             0.671129             0.766944   \n",
       "1                0.419983             0.000000            -0.458883   \n",
       "1                0.603226             0.679521             0.696067   \n",
       "1                1.273716             0.000000            -0.178291   \n",
       "1               -0.980779             0.000000             5.859578   \n",
       "1                0.000000             0.000000             0.000000   \n",
       "1                0.084507             0.000000             0.750000   \n",
       "1                0.073710            -0.011698             1.010149   \n",
       "1                3.325236             0.000000           -11.773860   \n",
       "1                1.347037             0.561102             0.021679   \n",
       "1               -0.155988             0.065835             0.731474   \n",
       "1               -0.642442             0.076923             0.998633   \n",
       "1                1.012367             0.496981             0.929991   \n",
       "1                0.002660            -0.356308             2.104762   \n",
       "1               -0.748648            -0.355189             0.901684   \n",
       "1                0.895337             0.000000             0.034787   \n",
       "1                2.454276             0.395188            -0.044975   \n",
       "1                1.407674             0.049255             0.644031   \n",
       "..                    ...                  ...                  ...   \n",
       "1                0.000000             0.000000             0.000000   \n",
       "1                0.000000             0.000000             0.000000   \n",
       "1                1.368548             0.000000             1.470560   \n",
       "1                0.745714             0.000000             1.209924   \n",
       "1                1.000000             0.301524             0.000000   \n",
       "1                0.284822             0.036855             0.723650   \n",
       "1                0.078763             0.000000            -0.578962   \n",
       "1                0.000000             0.000000             0.000000   \n",
       "1                0.040462            -0.170732            -1.585829   \n",
       "1                0.964698             0.271968             0.777089   \n",
       "1                0.132644             0.421733             0.973598   \n",
       "1               -1.443023             0.000000            -0.384591   \n",
       "1                0.753087             0.847082            -0.238421   \n",
       "1                3.466667             0.036772             0.976250   \n",
       "1                0.000000            -0.043478             0.000000   \n",
       "1               -0.102364             0.258026             1.000944   \n",
       "1                0.000000             0.000000             0.000000   \n",
       "1                5.694243             0.000000             1.048053   \n",
       "1                0.000000             0.000000             0.000000   \n",
       "1                0.381328             0.000000             0.405026   \n",
       "1                0.217724             0.000000             0.160155   \n",
       "1                1.046561            -0.013771             0.297218   \n",
       "1                1.000000             0.000000             0.000000   \n",
       "1                0.000000             0.000000             0.000000   \n",
       "1                0.299787            -0.467930            -1.876797   \n",
       "1                0.551510             0.076850             0.444255   \n",
       "0               -0.040212            -0.054954             0.705343   \n",
       "1                1.197304             0.000000             0.004771   \n",
       "1                0.628508             0.000000             0.127039   \n",
       "1                0.000000             0.000000             0.000000   \n",
       "\n",
       "    cash_from_investing     ...       bbg_mom_1m  bbg_mom_3m  bbg_mom_6m  \\\n",
       "1              0.919286     ...              0.0         0.0         0.0   \n",
       "1              1.246392     ...              0.0         0.0         0.0   \n",
       "1              0.514947     ...              0.0         0.0         0.0   \n",
       "1              1.334365     ...              0.0         0.0         0.0   \n",
       "1              1.899833     ...              0.0         0.0         0.0   \n",
       "1              1.075223     ...              0.0         0.0         0.0   \n",
       "1              0.000000     ...              0.0         0.0         0.0   \n",
       "1              1.025415     ...              0.0         0.0         0.0   \n",
       "1            -35.588000     ...              0.0         0.0         0.0   \n",
       "1              0.000000     ...              0.0         0.0         0.0   \n",
       "1              0.975309     ...              0.0         0.0         0.0   \n",
       "1             -0.088747     ...              0.0         0.0         0.0   \n",
       "1              0.028084     ...              0.0         0.0         0.0   \n",
       "1              1.058110     ...              0.0         0.0         0.0   \n",
       "1              1.005337     ...              0.0         0.0         0.0   \n",
       "1              0.256282     ...              0.0         0.0         0.0   \n",
       "1             -0.613437     ...              0.0         0.0         0.0   \n",
       "1              0.000000     ...              0.0         0.0         0.0   \n",
       "1              1.000000     ...              0.0         0.0         0.0   \n",
       "1              0.570738     ...              0.0         0.0         0.0   \n",
       "1             -0.684271     ...              0.0         0.0         0.0   \n",
       "1              0.965464     ...              0.0         0.0         0.0   \n",
       "1              0.919105     ...              0.0         0.0         0.0   \n",
       "1              0.000000     ...              0.0         0.0         0.0   \n",
       "1              0.953089     ...              0.0         0.0         0.0   \n",
       "1              0.931217     ...              0.0         0.0         0.0   \n",
       "1              1.175617     ...              0.0         0.0         0.0   \n",
       "1              1.271429     ...              0.0         0.0         0.0   \n",
       "1              2.820773     ...              0.0         0.0         0.0   \n",
       "1              0.798336     ...              0.0         0.0         0.0   \n",
       "..                  ...     ...              ...         ...         ...   \n",
       "1              0.000000     ...              0.0         0.0         0.0   \n",
       "1              0.000000     ...              0.0         0.0         0.0   \n",
       "1             28.340654     ...              0.0         0.0         0.0   \n",
       "1              0.648276     ...              0.0         0.0         0.0   \n",
       "1              0.956044     ...              0.0         0.0         0.0   \n",
       "1              0.744696     ...              0.0         0.0         0.0   \n",
       "1              1.307922     ...              0.0         0.0         0.0   \n",
       "1              0.000000     ...              0.0         0.0         0.0   \n",
       "1              1.277905     ...              0.0         0.0         0.0   \n",
       "1              0.895658     ...              0.0         0.0         0.0   \n",
       "1              1.251391     ...              0.0         0.0         0.0   \n",
       "1              0.939994     ...              0.0         0.0         0.0   \n",
       "1              0.716765     ...              0.0         0.0         0.0   \n",
       "1              0.710000     ...              0.0         0.0         0.0   \n",
       "1              1.000000     ...              0.0         0.0         0.0   \n",
       "1              0.677353     ...              0.0         0.0         0.0   \n",
       "1              0.000000     ...              0.0         0.0         0.0   \n",
       "1              0.496980     ...              0.0         0.0         0.0   \n",
       "1              0.000000     ...              0.0         0.0         0.0   \n",
       "1              0.741756     ...              0.0         0.0         0.0   \n",
       "1              1.355703     ...              0.0         0.0         0.0   \n",
       "1              0.603821     ...              0.0         0.0         0.0   \n",
       "1              0.000000     ...              0.0         0.0         0.0   \n",
       "1              0.000000     ...              0.0         0.0         0.0   \n",
       "1              1.369790     ...              0.0         0.0         0.0   \n",
       "1              1.005987     ...              0.0         0.0         0.0   \n",
       "0              0.963623     ...              0.0         0.0         0.0   \n",
       "1              0.870753     ...              0.0         0.0         0.0   \n",
       "1              1.007266     ...              0.0         0.0         0.0   \n",
       "1              0.000000     ...              0.0         0.0         0.0   \n",
       "\n",
       "    bbg_mom_12m  bbg_mom_12m_vol_adj        date  last_price           ticker  \\\n",
       "1           0.0                  0.0  2016-05-31      4.1262    AUY US Equity   \n",
       "1           0.0                  0.0  2016-05-31      4.3600    NOG US Equity   \n",
       "1           0.0                  0.0  2016-05-31     21.4921    SUM US Equity   \n",
       "1           0.0                  0.0  2016-05-31     12.4500   GLOG US Equity   \n",
       "1           0.0                  0.0  2016-05-31     21.5500   UFPT US Equity   \n",
       "1           0.0                  0.0  2016-05-31      5.5300  GXOCF US Equity   \n",
       "1           0.0                  0.0  2016-05-31      5.6000  NUFMF US Equity   \n",
       "1           0.0                  0.0  2016-05-31      2.6200  CESDF US Equity   \n",
       "1           0.0                  0.0  2016-05-31      2.3800   ORIG US Equity   \n",
       "1           0.0                  0.0  2016-05-31      0.5000  BEPTF US Equity   \n",
       "1           0.0                  0.0  2016-05-31     34.3500  WFTBF US Equity   \n",
       "1           0.0                  0.0  2016-05-31     36.0900    DVN US Equity   \n",
       "1           0.0                  0.0  2016-05-31     13.4100    BRS US Equity   \n",
       "1           0.0                  0.0  2016-05-31      4.2103  IPMLF US Equity   \n",
       "1           0.0                  0.0  2016-05-31     68.2300    PKG US Equity   \n",
       "1           0.0                  0.0  2016-05-31     17.7537  PBRQF US Equity   \n",
       "1           0.0                  0.0  2016-05-31      1.6600    SVM US Equity   \n",
       "1           0.0                  0.0  2016-05-31      4.7600  DULUF US Equity   \n",
       "1           0.0                  0.0  2016-05-31     21.6000    OSB US Equity   \n",
       "1           0.0                  0.0  2016-05-31     50.3400    BMS US Equity   \n",
       "1           0.0                  0.0  2016-05-31      1.2811  CADGF US Equity   \n",
       "1           0.0                  0.0  2016-05-31      4.7500    MDR US Equity   \n",
       "1           0.0                  0.0  2016-05-31     47.6700    SON US Equity   \n",
       "1           0.0                  0.0  2016-05-31     19.9500    CQH US Equity   \n",
       "1           0.0                  0.0  2016-05-31     53.4900   USLM US Equity   \n",
       "1           0.0                  0.0  2016-05-31     16.3300    POT US Equity   \n",
       "1           0.0                  0.0  2016-05-31      5.3800   FMSA US Equity   \n",
       "1           0.0                  0.0  2016-05-31     19.8320  PREKF US Equity   \n",
       "1           0.0                  0.0  2016-05-31     15.3600    CNX US Equity   \n",
       "1           0.0                  0.0  2016-05-31    131.8710    APD US Equity   \n",
       "..          ...                  ...         ...         ...              ...   \n",
       "1           0.0                  0.0  2016-05-31    395.1000  SYENF US Equity   \n",
       "1           0.0                  0.0  2016-05-31      3.8500  GRDGF US Equity   \n",
       "1           0.0                  0.0  2016-05-31      2.2100  GMBXF US Equity   \n",
       "1           0.0                  0.0  2016-05-31      3.0900   SDRL US Equity   \n",
       "1           0.0                  0.0  2016-05-31      4.5113   NADL US Equity   \n",
       "1           0.0                  0.0  2016-05-31     57.1400    APA US Equity   \n",
       "1           0.0                  0.0  2016-05-31      5.0108  AVACF US Equity   \n",
       "1           0.0                  0.0  2016-05-31      0.2200  EGRAF US Equity   \n",
       "1           0.0                  0.0  2016-05-31     42.0600    CLR US Equity   \n",
       "1           0.0                  0.0  2016-05-31      6.6600    ANW US Equity   \n",
       "1           0.0                  0.0  2016-05-31     32.8600    OIS US Equity   \n",
       "1           0.0                  0.0  2016-05-31     29.9000  ENGGF US Equity   \n",
       "1           0.0                  0.0  2016-05-31     50.1900    RPM US Equity   \n",
       "1           0.0                  0.0  2016-05-31    109.8600     PX US Equity   \n",
       "1           0.0                  0.0  2016-05-31     19.4723    EEQ US Equity   \n",
       "1           0.0                  0.0  2016-05-31      1.9600    CLD US Equity   \n",
       "1           0.0                  0.0  2016-05-31      0.5030  MDSMF US Equity   \n",
       "1           0.0                  0.0  2016-05-31   3337.2100  LUPTQ US Equity   \n",
       "1           0.0                  0.0  2016-05-31      1.8500  STBMF US Equity   \n",
       "1           0.0                  0.0  2016-05-31     16.4000  STOHF US Equity   \n",
       "1           0.0                  0.0  2016-05-31      0.5860  ORXPF US Equity   \n",
       "1           0.0                  0.0  2016-05-31      8.8800    FRO US Equity   \n",
       "1           0.0                  0.0  2016-05-31      2.2500   GURE US Equity   \n",
       "1           0.0                  0.0  2016-05-31      2.8444  TUWLF US Equity   \n",
       "1           0.0                  0.0  2016-05-31      2.6700    ECR US Equity   \n",
       "1           0.0                  0.0  2016-05-31     11.2500   TREC US Equity   \n",
       "0           0.0                  0.0  2016-05-31      3.9400  GLFMQ US Equity   \n",
       "1           0.0                  0.0  2016-05-31     12.0300     SA US Equity   \n",
       "1           0.0                  0.0  2016-05-31      1.7371  CFWFF US Equity   \n",
       "1           0.0                  0.0  2016-05-31      1.2000  NPKAF US Equity   \n",
       "\n",
       "    target  next_return  \n",
       "1      1.0    24.402598  \n",
       "1      NaN     5.963303  \n",
       "1      NaN    -5.931017  \n",
       "1      NaN     4.257028  \n",
       "1      NaN     4.593968  \n",
       "1      NaN    11.374322  \n",
       "1      NaN     0.000000  \n",
       "1      NaN    19.465649  \n",
       "1      NaN     4.201681  \n",
       "1      0.0   -19.000000  \n",
       "1      0.0   -16.171179  \n",
       "1      NaN     0.443336  \n",
       "1      0.0   -14.914243  \n",
       "1      NaN    13.880246  \n",
       "1      NaN    -1.905320  \n",
       "1      NaN     0.000000  \n",
       "1      1.0    36.849398  \n",
       "1      NaN     0.000000  \n",
       "1      NaN    -8.703704  \n",
       "1      NaN     2.284466  \n",
       "1      NaN    -1.647022  \n",
       "1      NaN     4.000000  \n",
       "1      NaN     4.174533  \n",
       "1      NaN    -0.100251  \n",
       "1      NaN    10.282296  \n",
       "1      NaN    -0.551133  \n",
       "1      1.0    43.308550  \n",
       "1      NaN    -5.818879  \n",
       "1      NaN     4.752604  \n",
       "1      NaN    -0.420108  \n",
       "..     ...          ...  \n",
       "1      NaN    -3.581372  \n",
       "1      NaN     0.000000  \n",
       "1      NaN     4.918552  \n",
       "1      NaN     4.854369  \n",
       "1      1.0    49.402611  \n",
       "1      NaN    -2.572629  \n",
       "1      0.0   -41.073282  \n",
       "1      1.0    36.363636  \n",
       "1      NaN     7.631954  \n",
       "1      0.0   -17.417417  \n",
       "1      NaN     0.060864  \n",
       "1      NaN    -0.668896  \n",
       "1      NaN    -0.478183  \n",
       "1      NaN     2.302931  \n",
       "1      NaN     5.260806  \n",
       "1      NaN     5.102041  \n",
       "1      NaN     9.343936  \n",
       "1      NaN     0.000000  \n",
       "1      NaN    18.918919  \n",
       "1      NaN     2.743902  \n",
       "1      NaN    16.143345  \n",
       "1      NaN   -11.373874  \n",
       "1      NaN     0.000000  \n",
       "1      NaN     8.086064  \n",
       "1      1.0    25.093633  \n",
       "1      NaN    -7.288889  \n",
       "0      NaN     0.761421  \n",
       "1      1.0    22.028263  \n",
       "1      1.0    70.974613  \n",
       "1      NaN    -8.333333  \n",
       "\n",
       "[974 rows x 122 columns]"
      ]
     },
     "execution_count": 6,
     "metadata": {},
     "output_type": "execute_result"
    }
   ],
   "source": [
    "df_test[df_test.date=='2016-05-31']"
   ]
  },
  {
   "cell_type": "code",
   "execution_count": 18,
   "metadata": {},
   "outputs": [
    {
     "data": {
      "text/plain": [
       "'2016-11-30'"
      ]
     },
     "execution_count": 18,
     "metadata": {},
     "output_type": "execute_result"
    }
   ],
   "source": [
    "data.date.tolist()[24000]"
   ]
  },
  {
   "cell_type": "code",
   "execution_count": 134,
   "metadata": {},
   "outputs": [
    {
     "data": {
      "text/html": [
       "<div>\n",
       "<style>\n",
       "    .dataframe thead tr:only-child th {\n",
       "        text-align: right;\n",
       "    }\n",
       "\n",
       "    .dataframe thead th {\n",
       "        text-align: left;\n",
       "    }\n",
       "\n",
       "    .dataframe tbody tr th {\n",
       "        vertical-align: top;\n",
       "    }\n",
       "</style>\n",
       "<table border=\"1\" class=\"dataframe\">\n",
       "  <thead>\n",
       "    <tr style=\"text-align: right;\">\n",
       "      <th></th>\n",
       "      <th>date</th>\n",
       "      <th>ticker</th>\n",
       "      <th>account_receivable</th>\n",
       "      <th>asset_turnover</th>\n",
       "      <th>basic_eps_5yr_avg_growth</th>\n",
       "      <th>best_target_price</th>\n",
       "      <th>book_value</th>\n",
       "      <th>capital_expenditures</th>\n",
       "      <th>cash_cash_equivalents</th>\n",
       "      <th>cash_flow_per_share</th>\n",
       "      <th>...</th>\n",
       "      <th>resist_level1</th>\n",
       "      <th>resist_level2</th>\n",
       "      <th>resist_level3</th>\n",
       "      <th>high_price</th>\n",
       "      <th>low_price</th>\n",
       "      <th>bbg_mom_1m</th>\n",
       "      <th>bbg_mom_3m</th>\n",
       "      <th>bbg_mom_6m</th>\n",
       "      <th>bbg_mom_12m</th>\n",
       "      <th>bbg_mom_12m_vol_adj</th>\n",
       "    </tr>\n",
       "  </thead>\n",
       "  <tbody>\n",
       "    <tr>\n",
       "      <th>25238</th>\n",
       "      <td>2014-12-31</td>\n",
       "      <td>STRDF US Equity</td>\n",
       "      <td>48.542</td>\n",
       "      <td>0.987</td>\n",
       "      <td>0.0</td>\n",
       "      <td>4.511</td>\n",
       "      <td>154.99</td>\n",
       "      <td>-27.21</td>\n",
       "      <td>-8.132</td>\n",
       "      <td>0.0</td>\n",
       "      <td>...</td>\n",
       "      <td>0.0</td>\n",
       "      <td>0.0</td>\n",
       "      <td>0.0</td>\n",
       "      <td>3.2763</td>\n",
       "      <td>3.2763</td>\n",
       "      <td>0</td>\n",
       "      <td>0</td>\n",
       "      <td>0</td>\n",
       "      <td>0</td>\n",
       "      <td>0</td>\n",
       "    </tr>\n",
       "    <tr>\n",
       "      <th>25239</th>\n",
       "      <td>2015-01-31</td>\n",
       "      <td>STRDF US Equity</td>\n",
       "      <td>48.542</td>\n",
       "      <td>0.987</td>\n",
       "      <td>0.0</td>\n",
       "      <td>4.511</td>\n",
       "      <td>154.99</td>\n",
       "      <td>-27.21</td>\n",
       "      <td>-8.132</td>\n",
       "      <td>0.0</td>\n",
       "      <td>...</td>\n",
       "      <td>0.0</td>\n",
       "      <td>0.0</td>\n",
       "      <td>0.0</td>\n",
       "      <td>2.8279</td>\n",
       "      <td>2.8021</td>\n",
       "      <td>0</td>\n",
       "      <td>0</td>\n",
       "      <td>0</td>\n",
       "      <td>0</td>\n",
       "      <td>0</td>\n",
       "    </tr>\n",
       "  </tbody>\n",
       "</table>\n",
       "<p>2 rows × 120 columns</p>\n",
       "</div>"
      ],
      "text/plain": [
       "            date           ticker  account_receivable  asset_turnover  \\\n",
       "25238 2014-12-31  STRDF US Equity              48.542           0.987   \n",
       "25239 2015-01-31  STRDF US Equity              48.542           0.987   \n",
       "\n",
       "       basic_eps_5yr_avg_growth  best_target_price  book_value  \\\n",
       "25238                       0.0              4.511      154.99   \n",
       "25239                       0.0              4.511      154.99   \n",
       "\n",
       "       capital_expenditures  cash_cash_equivalents  cash_flow_per_share  \\\n",
       "25238                -27.21                 -8.132                  0.0   \n",
       "25239                -27.21                 -8.132                  0.0   \n",
       "\n",
       "              ...           resist_level1  resist_level2  resist_level3  \\\n",
       "25238         ...                     0.0            0.0            0.0   \n",
       "25239         ...                     0.0            0.0            0.0   \n",
       "\n",
       "       high_price  low_price  bbg_mom_1m  bbg_mom_3m  bbg_mom_6m  bbg_mom_12m  \\\n",
       "25238      3.2763     3.2763           0           0           0            0   \n",
       "25239      2.8279     2.8021           0           0           0            0   \n",
       "\n",
       "       bbg_mom_12m_vol_adj  \n",
       "25238                    0  \n",
       "25239                    0  \n",
       "\n",
       "[2 rows x 120 columns]"
      ]
     },
     "execution_count": 134,
     "metadata": {},
     "output_type": "execute_result"
    }
   ],
   "source": [
    "test[test.ticker=='STRDF US Equity']"
   ]
  },
  {
   "cell_type": "code",
   "execution_count": 10,
   "metadata": {
    "collapsed": true
   },
   "outputs": [],
   "source": [
    "#Read csv file\n",
    "import pandas as pd\n",
    "\n",
    "test = pd.read_csv('temp.csv', parse_dates=['date'])"
   ]
  },
  {
   "cell_type": "code",
   "execution_count": 11,
   "metadata": {},
   "outputs": [
    {
     "name": "stdout",
     "output_type": "stream",
     "text": [
      "TargetLabelCaculation: p is None, set p = 10% by default.\n"
     ]
    }
   ],
   "source": [
    "target = TargetLabelCaculation(test,period = 1)\n",
    "df_train, df_test = TrainTestSpliting(target, 2016)"
   ]
  },
  {
   "cell_type": "code",
   "execution_count": 212,
   "metadata": {},
   "outputs": [
    {
     "name": "stdout",
     "output_type": "stream",
     "text": [
      "MinMaxNormalization: min_max is None, set min = 0 and max = 1 by default.\n",
      "MinMaxNormalization: ticker FFMGF US Equity only appear in test set,eliminated.\n",
      "MinMaxNormalization: ticker THM US Equity only appear in test set,eliminated.\n",
      "MinMaxNormalization: ticker VITFF US Equity only appear in test set,eliminated.\n",
      "MinMaxNormalization: ticker RMLRF US Equity only appear in test set,eliminated.\n",
      "MinMaxNormalization: ticker HUMRF US Equity only appear in test set,eliminated.\n",
      "MinMaxNormalization: ticker BKHRF US Equity only appear in test set,eliminated.\n",
      "MinMaxNormalization: ticker GSS US Equity only appear in test set,eliminated.\n",
      "MinMaxNormalization: ticker GLDLF US Equity only appear in test set,eliminated.\n",
      "MinMaxNormalization: ticker BAA US Equity only appear in test set,eliminated.\n",
      "MinMaxNormalization: ticker AXU US Equity only appear in test set,eliminated.\n",
      "MinMaxNormalization: ticker LYDIF US Equity only appear in test set,eliminated.\n",
      "MinMaxNormalization: ticker CDEV US Equity only appear in test set,eliminated.\n",
      "MinMaxNormalization: ticker MDRPF US Equity only appear in test set,eliminated.\n",
      "MinMaxNormalization: ticker RDEMF US Equity only appear in test set,eliminated.\n",
      "MinMaxNormalization: ticker USAS US Equity only appear in test set,eliminated.\n",
      "MinMaxNormalization: ticker ASM US Equity only appear in test set,eliminated.\n",
      "MinMaxNormalization: ticker NGVT US Equity only appear in test set,eliminated.\n",
      "MinMaxNormalization: ticker ARCTF US Equity only appear in test set,eliminated.\n",
      "MinMaxNormalization: ticker ELVAF US Equity only appear in test set,eliminated.\n",
      "MinMaxNormalization: ticker OBNNF US Equity only appear in test set,eliminated.\n",
      "MinMaxNormalization: ticker WLDVF US Equity only appear in test set,eliminated.\n",
      "MinMaxNormalization: ticker TMMFF US Equity only appear in test set,eliminated.\n",
      "MinMaxNormalization: ticker ICGQF US Equity only appear in test set,eliminated.\n",
      "MinMaxNormalization: ticker SBOW US Equity only appear in test set,eliminated.\n",
      "MinMaxNormalization: ticker GCP US Equity only appear in test set,eliminated.\n",
      "MinMaxNormalization: ticker XRA US Equity only appear in test set,eliminated.\n",
      "MinMaxNormalization: ticker GNMNF US Equity only appear in test set,eliminated.\n",
      "MinMaxNormalization: ticker VNNHF US Equity only appear in test set,eliminated.\n",
      "MinMaxNormalization: ticker BGMZF US Equity only appear in test set,eliminated.\n",
      "MinMaxNormalization: ticker SGURF US Equity only appear in test set,eliminated.\n",
      "MinMaxNormalization: ticker TKKIF US Equity only appear in test set,eliminated.\n",
      "MinMaxNormalization: ticker DMCOF US Equity only appear in test set,eliminated.\n",
      "MinMaxNormalization: ticker ORXGF US Equity only appear in test set,eliminated.\n",
      "MinMaxNormalization: ticker HFSRF US Equity only appear in test set,eliminated.\n",
      "MinMaxNormalization: ticker ALTAF US Equity only appear in test set,eliminated.\n",
      "MinMaxNormalization: ticker SNPKF US Equity only appear in test set,eliminated.\n",
      "MinMaxNormalization: ticker ESGFF US Equity only appear in test set,eliminated.\n",
      "MinMaxNormalization: ticker PRSRF US Equity only appear in test set,eliminated.\n",
      "MinMaxNormalization: ticker MURXF US Equity only appear in test set,eliminated.\n",
      "MinMaxNormalization: ticker ORZCF US Equity only appear in test set,eliminated.\n",
      "MinMaxNormalization: ticker CHPGF US Equity only appear in test set,eliminated.\n",
      "MinMaxNormalization: ticker AAU US Equity only appear in test set,eliminated.\n",
      "MinMaxNormalization: ticker RRSSF US Equity only appear in test set,eliminated.\n",
      "MinMaxNormalization: ticker RPMGF US Equity only appear in test set,eliminated.\n",
      "MinMaxNormalization: ticker LACDF US Equity only appear in test set,eliminated.\n",
      "MinMaxNormalization: ticker NMKEF US Equity only appear in test set,eliminated.\n",
      "MinMaxNormalization: ticker EDEYF US Equity only appear in test set,eliminated.\n",
      "MinMaxNormalization: ticker VGZ US Equity only appear in test set,eliminated.\n",
      "MinMaxNormalization: ticker PILBF US Equity only appear in test set,eliminated.\n",
      "MinMaxNormalization: ticker NAK US Equity only appear in test set,eliminated.\n",
      "MinMaxNormalization: ticker VRS US Equity only appear in test set,eliminated.\n",
      "MinMaxNormalization: ticker SLGGF US Equity only appear in test set,eliminated.\n",
      "MinMaxNormalization: ticker LQMT US Equity only appear in test set,eliminated.\n",
      "MinMaxNormalization: ticker BKLRF US Equity only appear in test set,eliminated.\n",
      "MinMaxNormalization: ticker TWIRF US Equity only appear in test set,eliminated.\n",
      "MinMaxNormalization: ticker QGEPF US Equity only appear in test set,eliminated.\n",
      "MinMaxNormalization: ticker SLGYF US Equity only appear in test set,eliminated.\n",
      "MinMaxNormalization: ticker LIXXF US Equity only appear in test set,eliminated.\n",
      "MinMaxNormalization: ticker VVV US Equity only appear in test set,eliminated.\n",
      "MinMaxNormalization: ticker RMLFF US Equity only appear in test set,eliminated.\n",
      "MinMaxNormalization: ticker BKBEF US Equity only appear in test set,eliminated.\n",
      "MinMaxNormalization: ticker CRPOF US Equity only appear in test set,eliminated.\n",
      "MinMaxNormalization: ticker ZNRGF US Equity only appear in test set,eliminated.\n",
      "MinMaxNormalization: ticker LCPDF US Equity only appear in test set,eliminated.\n",
      "MinMaxNormalization: ticker PTKHF US Equity only appear in test set,eliminated.\n",
      "MinMaxNormalization: ticker SNEGF US Equity only appear in test set,eliminated.\n",
      "MinMaxNormalization: ticker AMNTF US Equity only appear in test set,eliminated.\n",
      "MinMaxNormalization: ticker TTNMF US Equity only appear in test set,eliminated.\n",
      "MinMaxNormalization: ticker CRDNF US Equity only appear in test set,eliminated.\n",
      "MinMaxNormalization: ticker SPVEF US Equity only appear in test set,eliminated.\n",
      "MinMaxNormalization: ticker CHPRF US Equity only appear in test set,eliminated.\n",
      "MinMaxNormalization: ticker HK US Equity only appear in test set,eliminated.\n",
      "MinMaxNormalization: ticker MCEM US Equity only appear in test set,eliminated.\n",
      "MinMaxNormalization: ticker ANCKF US Equity only appear in test set,eliminated.\n",
      "MinMaxNormalization: ticker MGPHF US Equity only appear in test set,eliminated.\n",
      "MinMaxNormalization: ticker MRLDF US Equity only appear in test set,eliminated.\n",
      "MinMaxNormalization: ticker MMMDF US Equity only appear in test set,eliminated.\n",
      "MinMaxNormalization: ticker DRYYF US Equity only appear in test set,eliminated.\n",
      "MinMaxNormalization: ticker ODMEF US Equity only appear in test set,eliminated.\n",
      "MinMaxNormalization: ticker WFRSF US Equity only appear in test set,eliminated.\n",
      "MinMaxNormalization: ticker EXLLF US Equity only appear in test set,eliminated.\n",
      "MinMaxNormalization: ticker FPRGF US Equity only appear in test set,eliminated.\n",
      "MinMaxNormalization: ticker PROBF US Equity only appear in test set,eliminated.\n",
      "MinMaxNormalization: ticker CTMQF US Equity only appear in test set,eliminated.\n",
      "MinMaxNormalization: ticker ECSNF US Equity only appear in test set,eliminated.\n",
      "MinMaxNormalization: ticker NULGF US Equity only appear in test set,eliminated.\n",
      "MinMaxNormalization: ticker BRSLF US Equity only appear in test set,eliminated.\n",
      "MinMaxNormalization: ticker EANRF US Equity only appear in test set,eliminated.\n",
      "MinMaxNormalization: ticker NSRPF US Equity only appear in test set,eliminated.\n",
      "MinMaxNormalization: ticker ORMNF US Equity only appear in test set,eliminated.\n",
      "MinMaxNormalization: ticker MRZLF US Equity only appear in test set,eliminated.\n",
      "MinMaxNormalization: ticker GDQMF US Equity only appear in test set,eliminated.\n",
      "MinMaxNoramlization: 92 tickers are elimnated.\n",
      "size: 1072\n",
      "SCVPF US Equity\n",
      "train set size: 13\n",
      "1\n",
      "TNISF US Equity\n",
      "train set size: 13\n",
      "2\n",
      "SASOF US Equity\n",
      "train set size: 13\n",
      "3\n",
      "EMN US Equity\n",
      "train set size: 13\n",
      "4\n",
      "TRYRF US Equity\n",
      "train set size: 12\n",
      "5\n",
      "SZBHF US Equity\n",
      "train set size: 13\n",
      "6\n",
      "NBL US Equity\n",
      "train set size: 13\n",
      "7\n",
      "ECA US Equity\n",
      "train set size: 13\n",
      "8\n",
      "FF US Equity\n",
      "train set size: 13\n",
      "9\n",
      "AKG US Equity\n",
      "train set size: 13\n",
      "10\n",
      "PHIIK US Equity\n",
      "train set size: 13\n",
      "11\n",
      "PCCYF US Equity\n",
      "train set size: 13\n",
      "12\n",
      "FOLGF US Equity\n",
      "train set size: 9\n",
      "13\n",
      "STNG US Equity\n",
      "train set size: 13\n",
      "14\n",
      "BSRUF US Equity\n",
      "train set size: 13\n",
      "15\n",
      "AHKSF US Equity\n",
      "train set size: 13\n",
      "16\n",
      "NFX US Equity\n",
      "train set size: 13\n",
      "17\n",
      "XCTGF US Equity\n",
      "train set size: 10\n",
      "18\n",
      "DPGYF US Equity\n",
      "train set size: 13\n",
      "19\n",
      "HIPEF US Equity\n",
      "train set size: 13\n",
      "20\n",
      "SUNYF US Equity\n",
      "train set size: 13\n"
     ]
    },
    {
     "name": "stdout",
     "output_type": "stream",
     "text": [
      "21\n",
      "NKSJF US Equity\n",
      "train set size: 6\n",
      "22\n",
      "LMPRF US Equity\n",
      "train set size: 13\n",
      "23\n",
      "BOALF US Equity\n",
      "train set size: 13\n",
      "24\n",
      "CDSAF US Equity\n",
      "train set size: 13\n",
      "25\n",
      "JIAXF US Equity\n",
      "train set size: 13\n",
      "26\n",
      "SEMG US Equity\n",
      "train set size: 13\n",
      "27\n",
      "STMNF US Equity\n",
      "train set size: 13\n",
      "28\n",
      "BRDBF US Equity\n",
      "train set size: 13\n",
      "29\n",
      "PFIE US Equity\n",
      "train set size: 3\n",
      "30\n",
      "CRTSF US Equity\n",
      "train set size: 13\n",
      "31\n",
      "XJXNF US Equity\n",
      "train set size: 13\n",
      "32\n",
      "TBTEF US Equity\n",
      "train set size: 9\n",
      "33\n",
      "LNGSF US Equity\n",
      "train set size: 7\n",
      "34\n",
      "RBTEF US Equity\n",
      "train set size: 13\n",
      "35\n",
      "OMN US Equity\n",
      "train set size: 13\n",
      "36\n",
      "AGFS US Equity\n",
      "train set size: 13\n",
      "37\n",
      "TAHO US Equity\n",
      "train set size: 13\n",
      "38\n",
      "FUL US Equity\n",
      "train set size: 13\n",
      "39\n",
      "OII US Equity\n",
      "train set size: 13\n",
      "40\n",
      "FANG US Equity\n",
      "train set size: 13\n",
      "41\n",
      "ATHOF US Equity\n",
      "train set size: 13\n",
      "42\n",
      "TTI US Equity\n",
      "train set size: 13\n",
      "43\n",
      "RIC US Equity\n",
      "train set size: 13\n",
      "44\n",
      "PAFRF US Equity\n",
      "train set size: 13\n",
      "45\n",
      "VPNFF US Equity\n",
      "train set size: 4\n",
      "46\n",
      "RGLD US Equity\n",
      "train set size: 13\n",
      "47\n",
      "CVE US Equity\n",
      "train set size: 13\n",
      "48\n",
      "NG US Equity\n",
      "train set size: 13\n",
      "49\n",
      "OAS US Equity\n",
      "train set size: 13\n",
      "50\n",
      "CNQ US Equity\n",
      "train set size: 13\n",
      "51\n",
      "AG US Equity\n",
      "train set size: 13\n",
      "52\n",
      "CCEGF US Equity\n",
      "train set size: 3\n",
      "53\n",
      "MAAFF US Equity\n",
      "train set size: 12\n",
      "54\n",
      "NNA US Equity\n",
      "train set size: 13\n",
      "55\n",
      "TRHXF US Equity\n",
      "train set size: 2\n",
      "56\n",
      "KSANF US Equity\n",
      "train set size: 13\n",
      "57\n",
      "BHPBF US Equity\n",
      "train set size: 13\n",
      "58\n",
      "GLRI US Equity\n",
      "train set size: 2\n",
      "59\n",
      "GENGF US Equity\n",
      "train set size: 13\n",
      "60\n",
      "SVYSF US Equity\n",
      "train set size: 13\n",
      "61\n",
      "VITOF US Equity\n",
      "train set size: 13\n",
      "62\n",
      "IAG US Equity\n",
      "train set size: 13\n",
      "63\n",
      "RDC US Equity\n",
      "train set size: 13\n",
      "64\n",
      "AMMCF US Equity\n",
      "train set size: 8\n",
      "65\n",
      "ITPOF US Equity\n",
      "train set size: 13\n",
      "66\n",
      "RYDAF US Equity\n",
      "train set size: 13\n",
      "67\n",
      "EZRHQ US Equity\n",
      "train set size: 13\n",
      "68\n",
      "PALDF US Equity\n",
      "train set size: 11\n",
      "69\n",
      "HSHPF US Equity\n",
      "train set size: 13\n",
      "70\n",
      "BAPUF US Equity\n",
      "train set size: 13\n",
      "71\n",
      "SCCO US Equity\n",
      "train set size: 13\n",
      "72\n",
      "TORXF US Equity\n",
      "train set size: 13\n",
      "73\n",
      "LUCRF US Equity\n",
      "train set size: 13\n",
      "74\n",
      "BXE US Equity\n",
      "train set size: 13\n",
      "75\n",
      "QTEYF US Equity\n",
      "train set size: 13\n",
      "76\n",
      "DHT US Equity\n",
      "train set size: 13\n",
      "77\n",
      "PARXF US Equity\n",
      "train set size: 13\n",
      "78\n",
      "EGN US Equity\n",
      "train set size: 13\n",
      "79\n",
      "WPM US Equity\n",
      "train set size: 13\n",
      "80\n",
      "FNLPF US Equity\n",
      "train set size: 13\n",
      "81\n",
      "WPX US Equity\n",
      "train set size: 13\n",
      "82\n",
      "NUVSF US Equity\n",
      "train set size: 13\n",
      "83\n",
      "MNHFF US Equity\n",
      "train set size: 13\n",
      "84\n",
      "ICPVF US Equity\n",
      "train set size: 13\n",
      "85\n",
      "ABX US Equity\n",
      "train set size: 13\n",
      "86\n",
      "WDGJF US Equity\n",
      "train set size: 13\n",
      "87\n",
      "SMUPF US Equity\n",
      "train set size: 13\n",
      "88\n",
      "PPG US Equity\n",
      "train set size: 13\n",
      "89\n",
      "CVX US Equity\n",
      "train set size: 13\n",
      "90\n",
      "GLKFF US Equity\n",
      "train set size: 3\n",
      "91\n",
      "KANKF US Equity\n",
      "train set size: 13\n",
      "92\n",
      "NESRF US Equity\n",
      "train set size: 13\n",
      "93\n",
      "YACAF US Equity\n",
      "train set size: 8\n",
      "94\n",
      "TDGCF US Equity\n",
      "train set size: 13\n",
      "95\n",
      "KVAEF US Equity\n",
      "train set size: 13\n",
      "96\n",
      "NR US Equity\n",
      "train set size: 13\n",
      "97\n",
      "DWMNF US Equity\n",
      "train set size: 13\n",
      "98\n",
      "SAPMF US Equity\n",
      "train set size: 13\n",
      "99\n",
      "AMSYF US Equity\n",
      "train set size: 13\n",
      "100\n",
      "CLB US Equity\n",
      "train set size: 13\n",
      "101\n",
      "HGHAF US Equity\n",
      "train set size: 13\n",
      "102\n",
      "UBEOF US Equity\n",
      "train set size: 13\n",
      "103\n",
      "PADEF US Equity\n",
      "train set size: 13\n",
      "104\n",
      "HFC US Equity\n",
      "train set size: 13\n",
      "105\n",
      "TECK US Equity\n",
      "train set size: 13\n",
      "106\n",
      "ANGGF US Equity\n",
      "train set size: 13\n",
      "107\n",
      "PACD US Equity\n",
      "train set size: 13\n",
      "108\n",
      "SPGYF US Equity\n",
      "train set size: 13\n",
      "109\n",
      "PPCGF US Equity\n",
      "train set size: 9\n",
      "110\n",
      "DRQ US Equity\n",
      "train set size: 13\n",
      "111\n",
      "KMRPF US Equity\n",
      "train set size: 13\n",
      "112\n",
      "PTHIF US Equity\n",
      "train set size: 13\n",
      "113\n",
      "GPK US Equity\n",
      "train set size: 13\n",
      "114\n",
      "SNMRF US Equity\n",
      "train set size: 13\n",
      "115\n",
      "YUMA US Equity\n",
      "train set size: 3\n",
      "116\n",
      "EQT US Equity\n",
      "train set size: 13\n",
      "117\n",
      "RRC US Equity\n",
      "train set size: 13\n",
      "118\n",
      "RTK US Equity\n",
      "train set size: 11\n",
      "119\n",
      "DENR US Equity\n",
      "train set size: 3\n",
      "120\n",
      "GBNXF US Equity\n",
      "train set size: 13\n",
      "121\n",
      "CFXTF US Equity\n",
      "train set size: 12\n",
      "122\n",
      "BCEKF US Equity\n",
      "train set size: 13\n",
      "123\n",
      "CELTF US Equity\n",
      "train set size: 13\n",
      "124\n",
      "DRLDF US Equity\n",
      "train set size: 12\n",
      "125\n",
      "FTMNF US Equity\n",
      "train set size: 13\n",
      "126\n",
      "SHASF US Equity\n",
      "train set size: 13\n",
      "127\n",
      "PDPYF US Equity\n",
      "train set size: 13\n",
      "128\n",
      "MOS US Equity\n",
      "train set size: 13\n",
      "129\n",
      "PES US Equity\n",
      "train set size: 13\n",
      "130\n",
      "GEF US Equity\n",
      "train set size: 13\n",
      "131\n",
      "NGQRF US Equity\n",
      "train set size: 13\n",
      "132\n",
      "WOR US Equity\n",
      "train set size: 13\n",
      "133\n",
      "ASUXF US Equity\n",
      "train set size: 13\n",
      "134\n",
      "ZIJMF US Equity\n",
      "train set size: 13\n",
      "135\n",
      "CZZ US Equity\n",
      "train set size: 13\n",
      "136\n",
      "AAV US Equity\n",
      "train set size: 13\n",
      "137\n",
      "CRZO US Equity\n",
      "train set size: 13\n",
      "138\n",
      "CXO US Equity\n",
      "train set size: 13\n",
      "139\n",
      "GNRT US Equity\n",
      "train set size: 7\n",
      "140\n",
      "KRA US Equity\n",
      "train set size: 13\n",
      "141\n",
      "SUMXF US Equity\n",
      "train set size: 9\n",
      "142\n",
      "NGS US Equity\n",
      "train set size: 13\n",
      "143\n",
      "CWEGF US Equity\n",
      "train set size: 13\n",
      "144\n",
      "ENRFF US Equity\n",
      "train set size: 13\n",
      "145\n",
      "ORRAF US Equity\n",
      "train set size: 13\n",
      "146\n",
      "HL US Equity\n",
      "train set size: 13\n",
      "147\n",
      "TRRVF US Equity\n",
      "train set size: 13\n",
      "148\n",
      "TRYIF US Equity\n",
      "train set size: 13\n",
      "149\n",
      "HUN US Equity\n",
      "train set size: 13\n",
      "150\n",
      "TGRLF US Equity\n",
      "train set size: 13\n",
      "151\n",
      "SWN US Equity\n",
      "train set size: 13\n",
      "152\n",
      "JONE US Equity\n",
      "train set size: 13\n",
      "153\n",
      "BDNNF US Equity\n",
      "train set size: 13\n",
      "154\n",
      "FEEXF US Equity\n",
      "train set size: 13\n",
      "155\n",
      "SVM US Equity\n",
      "train set size: 13\n",
      "156\n",
      "CREQF US Equity\n",
      "train set size: 13\n",
      "157\n",
      "TNRSF US Equity\n",
      "train set size: 13\n",
      "158\n",
      "PREKF US Equity\n",
      "train set size: 13\n",
      "159\n",
      "AMCBF US Equity\n",
      "train set size: 13\n",
      "160\n",
      "CENX US Equity\n",
      "train set size: 13\n",
      "161\n",
      "TOEYF US Equity\n",
      "train set size: 13\n",
      "162\n",
      "ZMPLF US Equity\n",
      "train set size: 13\n",
      "163\n",
      "MMLTF US Equity\n",
      "train set size: 13\n",
      "164\n",
      "IPMLF US Equity\n",
      "train set size: 13\n",
      "165\n",
      "PBRQF US Equity\n",
      "train set size: 13\n",
      "166\n",
      "ROXIF US Equity\n",
      "train set size: 13\n",
      "167\n",
      "NORNQ US Equity\n",
      "train set size: 6\n",
      "168\n",
      "TK US Equity\n",
      "train set size: 13\n",
      "169\n",
      "SON US Equity\n",
      "train set size: 13\n",
      "170\n",
      "WNARF US Equity\n",
      "train set size: 13\n",
      "171\n",
      "CNX US Equity\n",
      "train set size: 13\n",
      "172\n",
      "MDR US Equity\n",
      "train set size: 13\n",
      "173\n",
      "DULUF US Equity\n",
      "train set size: 13\n",
      "174\n",
      "BGSWF US Equity\n",
      "train set size: 13\n",
      "175\n",
      "UFPT US Equity\n",
      "train set size: 13\n",
      "176\n",
      "CESDF US Equity\n",
      "train set size: 13\n",
      "177\n",
      "SYAAF US Equity\n",
      "train set size: 13\n",
      "178\n",
      "AKKVF US Equity\n",
      "train set size: 13\n",
      "179\n",
      "TMBCF US Equity\n",
      "train set size: 13\n",
      "180\n",
      "CMHFF US Equity\n",
      "train set size: 13\n",
      "181\n",
      "JSCPF US Equity\n",
      "train set size: 13\n",
      "182\n",
      "MAANF US Equity\n",
      "train set size: 13\n",
      "183\n",
      "CRLFF US Equity\n",
      "train set size: 13\n",
      "184\n",
      "XTMCF US Equity\n",
      "train set size: 13\n",
      "185\n",
      "ANFGF US Equity\n",
      "train set size: 13\n",
      "186\n",
      "UEC US Equity\n",
      "train set size: 13\n",
      "187\n",
      "GPRK US Equity\n",
      "train set size: 13\n",
      "188\n",
      "PLM US Equity\n",
      "train set size: 13\n",
      "189\n",
      "KBSTF US Equity\n",
      "train set size: 13\n",
      "190\n",
      "GDRZF US Equity\n",
      "train set size: 13\n",
      "191\n",
      "SVGYF US Equity\n",
      "train set size: 13\n",
      "192\n",
      "IRLCF US Equity\n",
      "train set size: 13\n",
      "193\n",
      "GPOR US Equity\n",
      "train set size: 13\n",
      "194\n",
      "SHANF US Equity\n",
      "train set size: 13\n",
      "195\n",
      "KALU US Equity\n",
      "train set size: 13\n",
      "196\n",
      "RMISF US Equity\n",
      "train set size: 13\n",
      "197\n",
      "ERELF US Equity\n",
      "train set size: 13\n",
      "198\n",
      "TRX US Equity\n",
      "train set size: 13\n",
      "199\n",
      "WLK US Equity\n",
      "train set size: 13\n",
      "200\n",
      "TNUMF US Equity\n",
      "train set size: 13\n",
      "201\n",
      "IP US Equity\n",
      "train set size: 13\n",
      "202\n",
      "FTK US Equity\n",
      "train set size: 13\n",
      "203\n",
      "CAOLF US Equity\n",
      "train set size: 13\n",
      "204\n",
      "PEFGF US Equity\n",
      "train set size: 13\n",
      "205\n",
      "VLO US Equity\n",
      "train set size: 13\n",
      "206\n",
      "PSX US Equity\n",
      "train set size: 13\n",
      "207\n",
      "PKIUF US Equity\n",
      "train set size: 13\n",
      "208\n",
      "ICD US Equity\n",
      "train set size: 13\n",
      "209\n",
      "CRK US Equity\n",
      "train set size: 13\n",
      "210\n",
      "AREX US Equity\n",
      "train set size: 13\n",
      "211\n",
      "RMGGF US Equity\n",
      "train set size: 13\n",
      "212\n",
      "RYI US Equity\n",
      "train set size: 13\n",
      "213\n",
      "ENQUF US Equity\n",
      "train set size: 13\n",
      "214\n",
      "MUX US Equity\n",
      "train set size: 13\n",
      "215\n",
      "ALMMF US Equity\n",
      "train set size: 13\n",
      "216\n",
      "GORO US Equity\n",
      "train set size: 13\n",
      "217\n",
      "TOIPF US Equity\n",
      "train set size: 13\n",
      "218\n",
      "WFMRF US Equity\n",
      "train set size: 13\n",
      "219\n",
      "IPI US Equity\n",
      "train set size: 13\n",
      "220\n",
      "ELKMF US Equity\n",
      "train set size: 10\n",
      "221\n",
      "IPHS US Equity\n",
      "train set size: 13\n",
      "222\n",
      "ROYE US Equity\n",
      "train set size: 10\n",
      "223\n",
      "WG US Equity\n",
      "train set size: 13\n",
      "224\n",
      "RICE US Equity\n",
      "train set size: 13\n",
      "225\n",
      "KLDX US Equity\n",
      "train set size: 13\n",
      "226\n",
      "SKKAF US Equity\n",
      "train set size: 13\n",
      "227\n",
      "EXTN US Equity\n",
      "train set size: 1\n",
      "228\n",
      "PTIFF US Equity\n",
      "train set size: 12\n",
      "229\n",
      "ATLGF US Equity\n",
      "train set size: 13\n",
      "230\n",
      "FOEAF US Equity\n",
      "train set size: 13\n",
      "231\n",
      "NOA US Equity\n",
      "train set size: 13\n",
      "232\n",
      "NFSHF US Equity\n",
      "train set size: 13\n",
      "233\n",
      "TRQ US Equity\n",
      "train set size: 13\n",
      "234\n",
      "ENB US Equity\n",
      "train set size: 13\n",
      "235\n",
      "CHK US Equity\n",
      "train set size: 13\n",
      "236\n",
      "AGU US Equity\n",
      "train set size: 13\n",
      "237\n",
      "SZGPF US Equity\n",
      "train set size: 13\n",
      "238\n",
      "JINFF US Equity\n",
      "train set size: 13\n"
     ]
    },
    {
     "name": "stdout",
     "output_type": "stream",
     "text": [
      "239\n",
      "IACAF US Equity\n",
      "train set size: 13\n",
      "240\n",
      "SRMLF US Equity\n",
      "train set size: 13\n",
      "241\n",
      "TOLWF US Equity\n",
      "train set size: 13\n",
      "242\n",
      "CPG US Equity\n",
      "train set size: 13\n",
      "243\n",
      "CCC US Equity\n",
      "train set size: 13\n",
      "244\n",
      "CKH US Equity\n",
      "train set size: 13\n",
      "245\n",
      "SU US Equity\n",
      "train set size: 13\n",
      "246\n",
      "HES US Equity\n",
      "train set size: 13\n",
      "247\n",
      "CBT US Equity\n",
      "train set size: 13\n",
      "248\n",
      "NTOIF US Equity\n",
      "train set size: 13\n",
      "249\n",
      "KMG US Equity\n",
      "train set size: 13\n",
      "250\n",
      "MPC US Equity\n",
      "train set size: 13\n",
      "251\n",
      "KUNUF US Equity\n",
      "train set size: 13\n",
      "252\n",
      "VKSC US Equity\n",
      "train set size: 13\n",
      "253\n",
      "PHII US Equity\n",
      "train set size: 6\n",
      "254\n",
      "NBR US Equity\n",
      "train set size: 13\n",
      "255\n",
      "BDREF US Equity\n",
      "train set size: 13\n",
      "256\n",
      "VLPNF US Equity\n",
      "train set size: 13\n",
      "257\n",
      "AVY US Equity\n",
      "train set size: 13\n",
      "258\n",
      "LLPP US Equity\n",
      "train set size: 2\n",
      "259\n",
      "CTXAF US Equity\n",
      "train set size: 13\n",
      "260\n",
      "PTNDF US Equity\n",
      "train set size: 13\n",
      "261\n",
      "VREYF US Equity\n",
      "train set size: 13\n",
      "262\n",
      "YIPCF US Equity\n",
      "train set size: 13\n",
      "263\n",
      "RPM US Equity\n",
      "train set size: 13\n",
      "264\n",
      "GLPEF US Equity\n",
      "train set size: 13\n",
      "265\n",
      "RUBNF US Equity\n",
      "train set size: 4\n",
      "266\n",
      "GMDMF US Equity\n",
      "train set size: 13\n",
      "267\n",
      "SKPBF US Equity\n",
      "train set size: 13\n",
      "268\n",
      "SA US Equity\n",
      "train set size: 13\n",
      "269\n",
      "SN US Equity\n",
      "train set size: 13\n",
      "270\n",
      "PGLC US Equity\n",
      "train set size: 13\n",
      "271\n",
      "TSDOF US Equity\n",
      "train set size: 7\n",
      "272\n",
      "CGPVF US Equity\n",
      "train set size: 13\n",
      "273\n",
      "VMC US Equity\n",
      "train set size: 13\n",
      "274\n",
      "CYSVF US Equity\n",
      "train set size: 13\n",
      "275\n",
      "SYIEF US Equity\n",
      "train set size: 13\n",
      "276\n",
      "RGRNF US Equity\n",
      "train set size: 13\n",
      "277\n",
      "HP US Equity\n",
      "train set size: 13\n",
      "278\n",
      "KATFF US Equity\n",
      "train set size: 13\n",
      "279\n",
      "EBGUF US Equity\n",
      "train set size: 13\n",
      "280\n",
      "PGNPQ US Equity\n",
      "train set size: 6\n",
      "281\n",
      "QDRSF US Equity\n",
      "train set size: 13\n",
      "282\n",
      "SCL US Equity\n",
      "train set size: 13\n",
      "283\n",
      "PLG US Equity\n",
      "train set size: 13\n",
      "284\n",
      "MERC US Equity\n",
      "train set size: 13\n",
      "285\n",
      "AWCMF US Equity\n",
      "train set size: 13\n",
      "286\n",
      "CLR US Equity\n",
      "train set size: 13\n",
      "287\n",
      "NPKAF US Equity\n",
      "train set size: 13\n",
      "288\n",
      "GVDBF US Equity\n",
      "train set size: 13\n",
      "289\n",
      "WBRBF US Equity\n",
      "train set size: 13\n",
      "290\n",
      "HAIPF US Equity\n",
      "train set size: 13\n",
      "291\n",
      "PHX US Equity\n",
      "train set size: 13\n",
      "292\n",
      "IMPUF US Equity\n",
      "train set size: 13\n",
      "293\n",
      "OCINF US Equity\n",
      "train set size: 13\n",
      "294\n",
      "NCMGF US Equity\n",
      "train set size: 13\n",
      "295\n",
      "SKEGF US Equity\n",
      "train set size: 13\n",
      "296\n",
      "CRSXF US Equity\n",
      "train set size: 13\n",
      "297\n",
      "AMVMF US Equity\n",
      "train set size: 13\n",
      "298\n",
      "BLRDF US Equity\n",
      "train set size: 13\n",
      "299\n",
      "ICL US Equity\n",
      "train set size: 13\n",
      "300\n",
      "FLRAF US Equity\n",
      "train set size: 13\n",
      "301\n",
      "TUWLF US Equity\n",
      "train set size: 13\n",
      "302\n",
      "FMC US Equity\n",
      "train set size: 13\n",
      "303\n",
      "OIS US Equity\n",
      "train set size: 13\n",
      "304\n",
      "HCHDF US Equity\n",
      "train set size: 13\n",
      "305\n",
      "FCX US Equity\n",
      "train set size: 13\n",
      "306\n",
      "AROC US Equity\n",
      "train set size: 13\n",
      "307\n",
      "SBOEF US Equity\n",
      "train set size: 13\n",
      "308\n",
      "NYRSF US Equity\n",
      "train set size: 13\n",
      "309\n",
      "FRO US Equity\n",
      "train set size: 13\n",
      "310\n",
      "PXD US Equity\n",
      "train set size: 13\n",
      "311\n",
      "GLFMQ US Equity\n",
      "train set size: 13\n",
      "312\n",
      "RS US Equity\n",
      "train set size: 13\n",
      "313\n",
      "GST US Equity\n",
      "train set size: 13\n",
      "314\n",
      "BERY US Equity\n",
      "train set size: 13\n",
      "315\n",
      "AMTX US Equity\n",
      "train set size: 5\n",
      "316\n",
      "STLD US Equity\n",
      "train set size: 13\n",
      "317\n",
      "LNXSF US Equity\n",
      "train set size: 13\n",
      "318\n",
      "TNMAF US Equity\n",
      "train set size: 13\n",
      "319\n",
      "LNZNF US Equity\n",
      "train set size: 13\n",
      "320\n",
      "WFT US Equity\n",
      "train set size: 13\n",
      "321\n",
      "WMB US Equity\n",
      "train set size: 13\n",
      "322\n",
      "IDKOF US Equity\n",
      "train set size: 13\n",
      "323\n",
      "PDCE US Equity\n",
      "train set size: 13\n",
      "324\n",
      "HXPLF US Equity\n",
      "train set size: 13\n",
      "325\n",
      "HUSKF US Equity\n",
      "train set size: 13\n",
      "326\n",
      "GLCNF US Equity\n",
      "train set size: 13\n",
      "327\n",
      "EVRZF US Equity\n",
      "train set size: 13\n",
      "328\n",
      "CNKEF US Equity\n",
      "train set size: 10\n",
      "329\n",
      "SNFRF US Equity\n",
      "train set size: 13\n",
      "330\n",
      "GLGDF US Equity\n",
      "train set size: 13\n",
      "331\n",
      "NEVDF US Equity\n",
      "train set size: 6\n",
      "332\n",
      "IO US Equity\n",
      "train set size: 13\n",
      "333\n",
      "GPRE US Equity\n",
      "train set size: 13\n",
      "334\n",
      "TOSCF US Equity\n",
      "train set size: 13\n",
      "335\n",
      "OXY US Equity\n",
      "train set size: 13\n",
      "336\n",
      "WTI US Equity\n",
      "train set size: 13\n",
      "337\n",
      "PTORF US Equity\n",
      "train set size: 13\n",
      "338\n",
      "AXAS US Equity\n",
      "train set size: 13\n",
      "339\n",
      "ISRL US Equity\n",
      "train set size: 13\n",
      "340\n",
      "OTTEF US Equity\n",
      "train set size: 5\n",
      "341\n",
      "GEOS US Equity\n",
      "train set size: 13\n",
      "342\n",
      "OUTFF US Equity\n",
      "train set size: 13\n",
      "343\n",
      "EEQ US Equity\n",
      "train set size: 13\n",
      "344\n",
      "MDSMF US Equity\n",
      "train set size: 13\n",
      "345\n",
      "ILKAF US Equity\n",
      "train set size: 13\n",
      "346\n",
      "PRSEF US Equity\n",
      "train set size: 13\n",
      "347\n",
      "CLD US Equity\n",
      "train set size: 13\n",
      "348\n",
      "FCUUF US Equity\n",
      "train set size: 13\n",
      "349\n",
      "MEGEF US Equity\n",
      "train set size: 13\n",
      "350\n",
      "BLSFF US Equity\n",
      "train set size: 13\n",
      "351\n",
      "BRTPF US Equity\n",
      "train set size: 13\n",
      "352\n",
      "TNK US Equity\n",
      "train set size: 13\n",
      "353\n",
      "MPVD US Equity\n",
      "train set size: 13\n",
      "354\n",
      "AKTAF US Equity\n",
      "train set size: 13\n",
      "355\n",
      "GSPE US Equity\n",
      "train set size: 3\n",
      "356\n",
      "QEP US Equity\n",
      "train set size: 13\n",
      "357\n",
      "BRNGF US Equity\n",
      "train set size: 8\n",
      "358\n",
      "EXK US Equity\n",
      "train set size: 13\n",
      "359\n",
      "CFPZF US Equity\n",
      "train set size: 13\n",
      "360\n",
      "TYEKF US Equity\n",
      "train set size: 13\n",
      "361\n",
      "JRNGF US Equity\n",
      "train set size: 8\n",
      "362\n",
      "TGB US Equity\n",
      "train set size: 13\n",
      "363\n",
      "CIE US Equity\n",
      "train set size: 13\n",
      "364\n",
      "COP US Equity\n",
      "train set size: 13\n",
      "365\n",
      "FET US Equity\n",
      "train set size: 13\n",
      "366\n",
      "MYE US Equity\n",
      "train set size: 13\n",
      "367\n",
      "RPCGF US Equity\n",
      "train set size: 13\n",
      "368\n",
      "APMSF US Equity\n",
      "train set size: 13\n",
      "369\n",
      "WOPEF US Equity\n",
      "train set size: 13\n",
      "370\n",
      "WLB US Equity\n",
      "train set size: 13\n",
      "371\n",
      "ZEON US Equity\n",
      "train set size: 13\n",
      "372\n",
      "TANH US Equity\n",
      "train set size: 10\n",
      "373\n",
      "MNDJF US Equity\n",
      "train set size: 13\n",
      "374\n",
      "KUMBF US Equity\n",
      "train set size: 13\n",
      "375\n",
      "BYRSF US Equity\n",
      "train set size: 13\n",
      "376\n",
      "AFRNF US Equity\n",
      "train set size: 3\n",
      "377\n",
      "ZPTAF US Equity\n",
      "train set size: 13\n",
      "378\n",
      "LUNMF US Equity\n",
      "train set size: 13\n",
      "379\n",
      "SYENF US Equity\n",
      "train set size: 13\n",
      "380\n",
      "NPPGF US Equity\n",
      "train set size: 13\n",
      "381\n",
      "AHCHF US Equity\n",
      "train set size: 13\n",
      "382\n",
      "STRDF US Equity\n",
      "train set size: 1\n",
      "383\n",
      "RYAM US Equity\n",
      "train set size: 13\n",
      "384\n",
      "YMTKF US Equity\n",
      "train set size: 13\n",
      "385\n",
      "HBM US Equity\n",
      "train set size: 13\n",
      "386\n",
      "SXC US Equity\n",
      "train set size: 13\n",
      "387\n",
      "EGRAF US Equity\n",
      "train set size: 13\n",
      "388\n",
      "PAH US Equity\n",
      "train set size: 13\n",
      "389\n",
      "YNGDF US Equity\n",
      "train set size: 13\n",
      "390\n",
      "PUTKF US Equity\n",
      "train set size: 13\n",
      "391\n",
      "ADBCF US Equity\n",
      "train set size: 13\n",
      "392\n",
      "NOCEF US Equity\n",
      "train set size: 13\n",
      "393\n",
      "PECGF US Equity\n",
      "train set size: 2\n",
      "394\n",
      "ROGFF US Equity\n",
      "train set size: 13\n",
      "395\n",
      "TOTZF US Equity\n",
      "train set size: 13\n",
      "396\n",
      "YTEN US Equity\n",
      "train set size: 4\n",
      "397\n",
      "PPLKF US Equity\n",
      "train set size: 10\n",
      "398\n",
      "KEWL US Equity\n",
      "train set size: 13\n",
      "399\n",
      "WYGPF US Equity\n",
      "train set size: 13\n",
      "400\n",
      "APA US Equity\n",
      "train set size: 13\n",
      "401\n",
      "MJDLF US Equity\n",
      "train set size: 13\n",
      "402\n",
      "TROX US Equity\n",
      "train set size: 13\n",
      "403\n",
      "RES US Equity\n",
      "train set size: 13\n",
      "404\n",
      "NVZMF US Equity\n",
      "train set size: 13\n",
      "405\n",
      "MON US Equity\n",
      "train set size: 13\n",
      "406\n",
      "PEYUF US Equity\n",
      "train set size: 13\n",
      "407\n",
      "SFL US Equity\n",
      "train set size: 13\n",
      "408\n",
      "SNMX US Equity\n",
      "train set size: 13\n",
      "409\n",
      "OMHLF US Equity\n",
      "train set size: 13\n",
      "410\n",
      "CE US Equity\n",
      "train set size: 13\n",
      "411\n",
      "BBG US Equity\n",
      "train set size: 13\n",
      "412\n",
      "NXE US Equity\n",
      "train set size: 9\n",
      "413\n",
      "CSTM US Equity\n",
      "train set size: 13\n",
      "414\n",
      "LYB US Equity\n",
      "train set size: 13\n",
      "415\n",
      "PBATF US Equity\n",
      "train set size: 13\n",
      "416\n",
      "DETNF US Equity\n",
      "train set size: 13\n",
      "417\n",
      "PTHRF US Equity\n",
      "train set size: 3\n",
      "418\n",
      "RSPP US Equity\n",
      "train set size: 13\n",
      "419\n",
      "IPOAF US Equity\n",
      "train set size: 13\n",
      "420\n",
      "DSSPF US Equity\n",
      "train set size: 6\n",
      "421\n",
      "CVI US Equity\n",
      "train set size: 13\n",
      "422\n",
      "KPLUF US Equity\n",
      "train set size: 13\n",
      "423\n",
      "SUCEF US Equity\n",
      "train set size: 13\n",
      "424\n",
      "NOSOF US Equity\n",
      "train set size: 1\n",
      "425\n",
      "EXP US Equity\n",
      "train set size: 13\n",
      "426\n",
      "PQ US Equity\n",
      "train set size: 7\n",
      "427\n",
      "CDXS US Equity\n",
      "train set size: 13\n",
      "428\n",
      "USCR US Equity\n",
      "train set size: 13\n",
      "429\n",
      "ORXPF US Equity\n",
      "train set size: 13\n",
      "430\n",
      "SGAZF US Equity\n",
      "train set size: 13\n",
      "431\n",
      "DK US Equity\n",
      "train set size: 13\n",
      "432\n",
      "SWM US Equity\n",
      "train set size: 13\n",
      "433\n",
      "CCDBF US Equity\n",
      "train set size: 13\n",
      "434\n",
      "SALDF US Equity\n",
      "train set size: 13\n",
      "435\n",
      "POL US Equity\n",
      "train set size: 13\n",
      "436\n",
      "NTIC US Equity\n",
      "train set size: 2\n",
      "437\n",
      "MOAEF US Equity\n",
      "train set size: 13\n",
      "438\n",
      "OPGYF US Equity\n",
      "train set size: 13\n",
      "439\n",
      "CMT US Equity\n",
      "train set size: 13\n",
      "440\n",
      "REN US Equity\n",
      "train set size: 13\n",
      "441\n",
      "SHW US Equity\n",
      "train set size: 13\n",
      "442\n",
      "MCCRF US Equity\n",
      "train set size: 7\n",
      "443\n",
      "KZMYF US Equity\n",
      "train set size: 13\n",
      "444\n",
      "KGC US Equity\n",
      "train set size: 13\n",
      "445\n",
      "ECL US Equity\n",
      "train set size: 13\n",
      "446\n",
      "DAKPQ US Equity\n",
      "train set size: 4\n",
      "447\n",
      "CEQXF US Equity\n",
      "train set size: 7\n",
      "448\n",
      "TOZOF US Equity\n",
      "train set size: 13\n",
      "449\n",
      "PLHCF US Equity\n",
      "train set size: 9\n",
      "450\n",
      "GALXF US Equity\n",
      "train set size: 10\n",
      "451\n",
      "CAHPF US Equity\n",
      "train set size: 13\n",
      "452\n",
      "RNGOF US Equity\n",
      "train set size: 13\n",
      "453\n",
      "PTPIF US Equity\n",
      "train set size: 13\n"
     ]
    },
    {
     "name": "stdout",
     "output_type": "stream",
     "text": [
      "454\n",
      "MRO US Equity\n",
      "train set size: 13\n",
      "455\n",
      "CNMGF US Equity\n",
      "train set size: 13\n",
      "456\n",
      "ATONF US Equity\n",
      "train set size: 13\n",
      "457\n",
      "GRDGF US Equity\n",
      "train set size: 13\n",
      "458\n",
      "ECR US Equity\n",
      "train set size: 13\n",
      "459\n",
      "LPI US Equity\n",
      "train set size: 13\n",
      "460\n",
      "BLL US Equity\n",
      "train set size: 13\n",
      "461\n",
      "HGHGF US Equity\n",
      "train set size: 13\n",
      "462\n",
      "SMFTF US Equity\n",
      "train set size: 13\n",
      "463\n",
      "TREC US Equity\n",
      "train set size: 13\n",
      "464\n",
      "LUPTQ US Equity\n",
      "train set size: 13\n",
      "465\n",
      "SVRGF US Equity\n",
      "train set size: 13\n",
      "466\n",
      "PMGYF US Equity\n",
      "train set size: 7\n",
      "467\n",
      "NHPEF US Equity\n",
      "train set size: 13\n",
      "468\n",
      "BTE US Equity\n",
      "train set size: 13\n",
      "469\n",
      "KDIAF US Equity\n",
      "train set size: 13\n",
      "470\n",
      "LECBF US Equity\n",
      "train set size: 13\n",
      "471\n",
      "GQMNF US Equity\n",
      "train set size: 13\n",
      "472\n",
      "RCKHF US Equity\n",
      "train set size: 13\n",
      "473\n",
      "EPSEF US Equity\n",
      "train set size: 13\n",
      "474\n",
      "STOSF US Equity\n",
      "train set size: 13\n",
      "475\n",
      "SPTJF US Equity\n",
      "train set size: 13\n",
      "476\n",
      "IMDXF US Equity\n",
      "train set size: 13\n",
      "477\n",
      "RNFTF US Equity\n",
      "train set size: 13\n",
      "478\n",
      "FSM US Equity\n",
      "train set size: 13\n",
      "479\n",
      "GZPZF US Equity\n",
      "train set size: 13\n",
      "480\n",
      "GFIOF US Equity\n",
      "train set size: 13\n",
      "481\n",
      "DDC US Equity\n",
      "train set size: 13\n",
      "482\n",
      "HWKN US Equity\n",
      "train set size: 13\n",
      "483\n",
      "ICHBF US Equity\n",
      "train set size: 13\n",
      "484\n",
      "SDDFF US Equity\n",
      "train set size: 13\n",
      "485\n",
      "CNNEF US Equity\n",
      "train set size: 13\n",
      "486\n",
      "ERMAF US Equity\n",
      "train set size: 13\n",
      "487\n",
      "KOS US Equity\n",
      "train set size: 13\n",
      "488\n",
      "SMPR US Equity\n",
      "train set size: 5\n",
      "489\n",
      "FRDIF US Equity\n",
      "train set size: 13\n",
      "490\n",
      "ADES US Equity\n",
      "train set size: 13\n",
      "491\n",
      "EMSHF US Equity\n",
      "train set size: 13\n",
      "492\n",
      "TPLM US Equity\n",
      "train set size: 13\n",
      "493\n",
      "BWLLF US Equity\n",
      "train set size: 13\n",
      "494\n",
      "CSTMF US Equity\n",
      "train set size: 13\n",
      "495\n",
      "AAUKF US Equity\n",
      "train set size: 13\n",
      "496\n",
      "PSYTF US Equity\n",
      "train set size: 13\n",
      "497\n",
      "TG US Equity\n",
      "train set size: 13\n",
      "498\n",
      "MTX US Equity\n",
      "train set size: 13\n",
      "499\n",
      "ACGYF US Equity\n",
      "train set size: 13\n",
      "500\n",
      "PDER US Equity\n",
      "train set size: 13\n",
      "501\n",
      "EOG US Equity\n",
      "train set size: 13\n",
      "502\n",
      "LXU US Equity\n",
      "train set size: 13\n",
      "503\n",
      "CDE US Equity\n",
      "train set size: 13\n",
      "504\n",
      "CMCLF US Equity\n",
      "train set size: 13\n",
      "505\n",
      "SXGAF US Equity\n",
      "train set size: 13\n",
      "506\n",
      "VOPKF US Equity\n",
      "train set size: 13\n",
      "507\n",
      "AKS US Equity\n",
      "train set size: 13\n",
      "508\n",
      "REGI US Equity\n",
      "train set size: 13\n",
      "509\n",
      "WSZWF US Equity\n",
      "train set size: 1\n",
      "510\n",
      "TFSCF US Equity\n",
      "train set size: 13\n",
      "511\n",
      "REX US Equity\n",
      "train set size: 13\n",
      "512\n",
      "OISHF US Equity\n",
      "train set size: 13\n",
      "513\n",
      "LNG US Equity\n",
      "train set size: 13\n",
      "514\n",
      "TESO US Equity\n",
      "train set size: 13\n",
      "515\n",
      "PIRGF US Equity\n",
      "train set size: 13\n",
      "516\n",
      "RGORF US Equity\n",
      "train set size: 13\n",
      "517\n",
      "UUUU US Equity\n",
      "train set size: 13\n",
      "518\n",
      "PTXLF US Equity\n",
      "train set size: 13\n",
      "519\n",
      "PAGP US Equity\n",
      "train set size: 13\n",
      "520\n",
      "HNRG US Equity\n",
      "train set size: 13\n",
      "521\n",
      "HGRVF US Equity\n",
      "train set size: 13\n",
      "522\n",
      "XZJCF US Equity\n",
      "train set size: 13\n",
      "523\n",
      "HNTIF US Equity\n",
      "train set size: 13\n",
      "524\n",
      "OGFGF US Equity\n",
      "train set size: 13\n",
      "525\n",
      "SRCI US Equity\n",
      "train set size: 13\n",
      "526\n",
      "ASPN US Equity\n",
      "train set size: 13\n",
      "527\n",
      "CFEGF US Equity\n",
      "train set size: 13\n",
      "528\n",
      "NZRFF US Equity\n",
      "train set size: 13\n",
      "529\n",
      "WFSTF US Equity\n",
      "train set size: 13\n",
      "530\n",
      "UNT US Equity\n",
      "train set size: 13\n",
      "531\n",
      "OILRF US Equity\n",
      "train set size: 13\n",
      "532\n",
      "DPMLF US Equity\n",
      "train set size: 13\n",
      "533\n",
      "LGORF US Equity\n",
      "train set size: 13\n",
      "534\n",
      "GLOG US Equity\n",
      "train set size: 13\n",
      "535\n",
      "SOCLF US Equity\n",
      "train set size: 13\n",
      "536\n",
      "JXHGF US Equity\n",
      "train set size: 13\n",
      "537\n",
      "CLW US Equity\n",
      "train set size: 13\n",
      "538\n",
      "POT US Equity\n",
      "train set size: 13\n",
      "539\n",
      "ERA US Equity\n",
      "train set size: 13\n",
      "540\n",
      "PBA US Equity\n",
      "train set size: 13\n",
      "541\n",
      "BMS US Equity\n",
      "train set size: 13\n",
      "542\n",
      "GPL US Equity\n",
      "train set size: 13\n",
      "543\n",
      "OXFCF US Equity\n",
      "train set size: 12\n",
      "544\n",
      "BRS US Equity\n",
      "train set size: 13\n",
      "545\n",
      "PKG US Equity\n",
      "train set size: 13\n",
      "546\n",
      "LNCYF US Equity\n",
      "train set size: 11\n",
      "547\n",
      "AUY US Equity\n",
      "train set size: 13\n",
      "548\n",
      "NOG US Equity\n",
      "train set size: 13\n",
      "549\n",
      "CRNZF US Equity\n",
      "train set size: 13\n",
      "550\n",
      "CQH US Equity\n",
      "train set size: 13\n",
      "551\n",
      "PDS US Equity\n",
      "train set size: 13\n",
      "552\n",
      "FMSA US Equity\n",
      "train set size: 13\n",
      "553\n",
      "FSUMF US Equity\n",
      "train set size: 13\n",
      "554\n",
      "RWFC US Equity\n",
      "train set size: 13\n",
      "555\n",
      "OSB US Equity\n",
      "train set size: 13\n",
      "556\n",
      "SUM US Equity\n",
      "train set size: 10\n",
      "557\n",
      "MFRVF US Equity\n",
      "train set size: 13\n",
      "558\n",
      "COG US Equity\n",
      "train set size: 13\n",
      "559\n",
      "CRC US Equity\n",
      "train set size: 13\n",
      "560\n",
      "PLSDF US Equity\n",
      "train set size: 13\n",
      "561\n",
      "MODLF US Equity\n",
      "train set size: 13\n",
      "562\n",
      "CF US Equity\n",
      "train set size: 13\n",
      "563\n",
      "RRENF US Equity\n",
      "train set size: 13\n",
      "564\n",
      "CC US Equity\n",
      "train set size: 7\n",
      "565\n",
      "TRGP US Equity\n",
      "train set size: 13\n",
      "566\n",
      "NDEKF US Equity\n",
      "train set size: 13\n",
      "567\n",
      "SDRNF US Equity\n",
      "train set size: 3\n",
      "568\n",
      "RARMF US Equity\n",
      "train set size: 13\n",
      "569\n",
      "AMVGF US Equity\n",
      "train set size: 13\n",
      "570\n",
      "BHPLF US Equity\n",
      "train set size: 13\n",
      "571\n",
      "PAEKF US Equity\n",
      "train set size: 13\n",
      "572\n",
      "IGHOF US Equity\n",
      "train set size: 4\n",
      "573\n",
      "EGO US Equity\n",
      "train set size: 13\n",
      "574\n",
      "SECYF US Equity\n",
      "train set size: 13\n",
      "575\n",
      "DO US Equity\n",
      "train set size: 13\n",
      "576\n",
      "OLN US Equity\n",
      "train set size: 13\n",
      "577\n",
      "HCMLF US Equity\n",
      "train set size: 13\n",
      "578\n",
      "ATUSF US Equity\n",
      "train set size: 13\n",
      "579\n",
      "SNPMF US Equity\n",
      "train set size: 13\n",
      "580\n",
      "PITPF US Equity\n",
      "train set size: 13\n",
      "581\n",
      "SFRRF US Equity\n",
      "train set size: 13\n",
      "582\n",
      "WDOFF US Equity\n",
      "train set size: 13\n",
      "583\n",
      "LNDNF US Equity\n",
      "train set size: 13\n",
      "584\n",
      "EMNSF US Equity\n",
      "train set size: 13\n",
      "585\n",
      "AAARF US Equity\n",
      "train set size: 13\n",
      "586\n",
      "ESV US Equity\n",
      "train set size: 13\n",
      "587\n",
      "AA US Equity\n",
      "train set size: 13\n",
      "588\n",
      "FLXNF US Equity\n",
      "train set size: 13\n",
      "589\n",
      "GASS US Equity\n",
      "train set size: 13\n",
      "590\n",
      "HLMNF US Equity\n",
      "train set size: 13\n",
      "591\n",
      "CAOJF US Equity\n",
      "train set size: 13\n",
      "592\n",
      "RIG US Equity\n",
      "train set size: 13\n",
      "593\n",
      "CCOZF US Equity\n",
      "train set size: 13\n",
      "594\n",
      "IFSPF US Equity\n",
      "train set size: 13\n",
      "595\n",
      "PWSEF US Equity\n",
      "train set size: 4\n",
      "596\n",
      "YDWAF US Equity\n",
      "train set size: 13\n",
      "597\n",
      "CUGKF US Equity\n",
      "train set size: 13\n",
      "598\n",
      "CMC US Equity\n",
      "train set size: 13\n",
      "599\n",
      "AMRS US Equity\n",
      "train set size: 13\n",
      "600\n",
      "TCKRF US Equity\n",
      "train set size: 13\n",
      "601\n",
      "EEYUF US Equity\n",
      "train set size: 7\n",
      "602\n",
      "CADNF US Equity\n",
      "train set size: 13\n",
      "603\n",
      "FRCEF US Equity\n",
      "train set size: 13\n",
      "604\n",
      "RFP US Equity\n",
      "train set size: 13\n",
      "605\n",
      "GEF/B US Equity\n",
      "train set size: 13\n",
      "606\n",
      "USAP US Equity\n",
      "train set size: 13\n",
      "607\n",
      "FSHRF US Equity\n",
      "train set size: 13\n",
      "608\n",
      "EORBF US Equity\n",
      "train set size: 10\n",
      "609\n",
      "KUREF US Equity\n",
      "train set size: 13\n",
      "610\n",
      "ARRMF US Equity\n",
      "train set size: 13\n",
      "611\n",
      "EVKIF US Equity\n",
      "train set size: 13\n",
      "612\n",
      "ARNGF US Equity\n",
      "train set size: 13\n",
      "613\n",
      "SHECF US Equity\n",
      "train set size: 13\n",
      "614\n",
      "MUR US Equity\n",
      "train set size: 13\n",
      "615\n",
      "IMO US Equity\n",
      "train set size: 13\n",
      "616\n",
      "WCHNF US Equity\n",
      "train set size: 13\n",
      "617\n",
      "GIFI US Equity\n",
      "train set size: 13\n",
      "618\n",
      "NAO US Equity\n",
      "train set size: 13\n",
      "619\n",
      "ALIAF US Equity\n",
      "train set size: 13\n",
      "620\n",
      "PPCMF US Equity\n",
      "train set size: 13\n",
      "621\n",
      "SGQRF US Equity\n",
      "train set size: 7\n",
      "622\n",
      "EIPAF US Equity\n",
      "train set size: 13\n",
      "623\n",
      "AP US Equity\n",
      "train set size: 13\n",
      "624\n",
      "TXSO US Equity\n",
      "train set size: 2\n",
      "625\n",
      "PTGIF US Equity\n",
      "train set size: 13\n",
      "626\n",
      "THYOF US Equity\n",
      "train set size: 13\n",
      "627\n",
      "APC US Equity\n",
      "train set size: 13\n",
      "628\n",
      "AMCRF US Equity\n",
      "train set size: 13\n",
      "629\n",
      "ASH US Equity\n",
      "train set size: 13\n",
      "630\n",
      "SEOJF US Equity\n",
      "train set size: 13\n",
      "631\n",
      "EOPT US Equity\n",
      "train set size: 13\n",
      "632\n",
      "ASHGB US Equity\n",
      "train set size: 13\n",
      "633\n",
      "RXHKF US Equity\n",
      "train set size: 13\n",
      "634\n",
      "AECLF US Equity\n",
      "train set size: 13\n",
      "635\n",
      "SYNL US Equity\n",
      "train set size: 9\n",
      "636\n",
      "BCRMF US Equity\n",
      "train set size: 9\n",
      "637\n",
      "DIMN US Equity\n",
      "train set size: 4\n",
      "638\n",
      "PAAS US Equity\n",
      "train set size: 13\n",
      "639\n",
      "ARHVF US Equity\n",
      "train set size: 10\n",
      "640\n",
      "OMVJF US Equity\n",
      "train set size: 13\n",
      "641\n",
      "ARSMF US Equity\n",
      "train set size: 10\n",
      "642\n",
      "ATI US Equity\n",
      "train set size: 13\n",
      "643\n",
      "OCANF US Equity\n",
      "train set size: 13\n",
      "644\n",
      "NHEGF US Equity\n",
      "train set size: 4\n",
      "645\n",
      "CCF US Equity\n",
      "train set size: 13\n",
      "646\n",
      "GFLDF US Equity\n",
      "train set size: 13\n",
      "647\n",
      "DEL US Equity\n",
      "train set size: 13\n",
      "648\n",
      "NPCPF US Equity\n",
      "train set size: 13\n",
      "649\n",
      "SM US Equity\n",
      "train set size: 13\n",
      "650\n",
      "KS US Equity\n",
      "train set size: 13\n",
      "651\n",
      "EGY US Equity\n",
      "train set size: 12\n",
      "652\n",
      "WRK US Equity\n",
      "train set size: 7\n",
      "653\n",
      "SEMFF US Equity\n",
      "train set size: 13\n",
      "654\n",
      "FPCPF US Equity\n",
      "train set size: 13\n",
      "655\n",
      "PSGTF US Equity\n",
      "train set size: 13\n",
      "656\n",
      "TKYMF US Equity\n",
      "train set size: 13\n",
      "657\n",
      "LEKOF US Equity\n",
      "train set size: 13\n",
      "658\n",
      "BFFAF US Equity\n",
      "train set size: 13\n",
      "659\n",
      "SD US Equity\n",
      "train set size: 13\n",
      "660\n",
      "IPGDF US Equity\n",
      "train set size: 13\n",
      "661\n",
      "MLXEF US Equity\n",
      "train set size: 13\n",
      "662\n",
      "INT US Equity\n",
      "train set size: 13\n",
      "663\n",
      "VTGDF US Equity\n",
      "train set size: 6\n",
      "664\n",
      "PANRF US Equity\n",
      "train set size: 13\n",
      "665\n",
      "PALAF US Equity\n",
      "train set size: 13\n",
      "666\n",
      "MTLHF US Equity\n",
      "train set size: 13\n",
      "667\n",
      "CVONF US Equity\n",
      "train set size: 5\n",
      "668\n",
      "KURRF US Equity\n",
      "train set size: 13\n"
     ]
    },
    {
     "name": "stdout",
     "output_type": "stream",
     "text": [
      "669\n",
      "LGCLF US Equity\n",
      "train set size: 13\n",
      "670\n",
      "GUYFF US Equity\n",
      "train set size: 13\n",
      "671\n",
      "BZZUF US Equity\n",
      "train set size: 13\n",
      "672\n",
      "KGHPF US Equity\n",
      "train set size: 13\n",
      "673\n",
      "AVD US Equity\n",
      "train set size: 13\n",
      "674\n",
      "REXX US Equity\n",
      "train set size: 13\n",
      "675\n",
      "STLJF US Equity\n",
      "train set size: 13\n",
      "676\n",
      "HAL US Equity\n",
      "train set size: 13\n",
      "677\n",
      "SVNNF US Equity\n",
      "train set size: 13\n",
      "678\n",
      "EPE US Equity\n",
      "train set size: 13\n",
      "679\n",
      "GSM US Equity\n",
      "train set size: 13\n",
      "680\n",
      "KELTF US Equity\n",
      "train set size: 13\n",
      "681\n",
      "ESTE US Equity\n",
      "train set size: 13\n",
      "682\n",
      "NZEOF US Equity\n",
      "train set size: 13\n",
      "683\n",
      "SSAAF US Equity\n",
      "train set size: 13\n",
      "684\n",
      "SPN US Equity\n",
      "train set size: 13\n",
      "685\n",
      "X US Equity\n",
      "train set size: 13\n",
      "686\n",
      "BNEFF US Equity\n",
      "train set size: 13\n",
      "687\n",
      "FARYF US Equity\n",
      "train set size: 13\n",
      "688\n",
      "NWLTF US Equity\n",
      "train set size: 13\n",
      "689\n",
      "IGESF US Equity\n",
      "train set size: 11\n",
      "690\n",
      "THYCF US Equity\n",
      "train set size: 13\n",
      "691\n",
      "LPG US Equity\n",
      "train set size: 13\n",
      "692\n",
      "HLBZF US Equity\n",
      "train set size: 13\n",
      "693\n",
      "RELY US Equity\n",
      "train set size: 10\n",
      "694\n",
      "NISTF US Equity\n",
      "train set size: 13\n",
      "695\n",
      "RNET US Equity\n",
      "train set size: 13\n",
      "696\n",
      "PNRG US Equity\n",
      "train set size: 13\n",
      "697\n",
      "KRNGF US Equity\n",
      "train set size: 13\n",
      "698\n",
      "LKSGF US Equity\n",
      "train set size: 13\n",
      "699\n",
      "MDWCQ US Equity\n",
      "train set size: 3\n",
      "700\n",
      "ESVIF US Equity\n",
      "train set size: 13\n",
      "701\n",
      "LNTEF US Equity\n",
      "train set size: 13\n",
      "702\n",
      "HLX US Equity\n",
      "train set size: 13\n",
      "703\n",
      "CCK US Equity\n",
      "train set size: 13\n",
      "704\n",
      "WKCMF US Equity\n",
      "train set size: 13\n",
      "705\n",
      "OSG US Equity\n",
      "train set size: 1\n",
      "706\n",
      "BIREF US Equity\n",
      "train set size: 13\n",
      "707\n",
      "ACOL US Equity\n",
      "train set size: 1\n",
      "708\n",
      "HMTLF US Equity\n",
      "train set size: 13\n",
      "709\n",
      "AGPPF US Equity\n",
      "train set size: 13\n",
      "710\n",
      "ATGFF US Equity\n",
      "train set size: 13\n",
      "711\n",
      "NE US Equity\n",
      "train set size: 13\n",
      "712\n",
      "JFEEF US Equity\n",
      "train set size: 13\n",
      "713\n",
      "EURN US Equity\n",
      "train set size: 10\n",
      "714\n",
      "VPTOF US Equity\n",
      "train set size: 13\n",
      "715\n",
      "CEOHF US Equity\n",
      "train set size: 13\n",
      "716\n",
      "PAOC US Equity\n",
      "train set size: 9\n",
      "717\n",
      "HOS US Equity\n",
      "train set size: 13\n",
      "718\n",
      "ATR US Equity\n",
      "train set size: 13\n",
      "719\n",
      "MAG US Equity\n",
      "train set size: 13\n",
      "720\n",
      "PTEN US Equity\n",
      "train set size: 13\n",
      "721\n",
      "CRR US Equity\n",
      "train set size: 13\n",
      "722\n",
      "KWR US Equity\n",
      "train set size: 13\n",
      "723\n",
      "SBFFF US Equity\n",
      "train set size: 13\n",
      "724\n",
      "TGCDF US Equity\n",
      "train set size: 13\n",
      "725\n",
      "AULGF US Equity\n",
      "train set size: 13\n",
      "726\n",
      "SRUXF US Equity\n",
      "train set size: 13\n",
      "727\n",
      "CSFFF US Equity\n",
      "train set size: 13\n",
      "728\n",
      "PIFYF US Equity\n",
      "train set size: 13\n",
      "729\n",
      "VLOUF US Equity\n",
      "train set size: 13\n",
      "730\n",
      "CUGCF US Equity\n",
      "train set size: 13\n",
      "731\n",
      "ALJ US Equity\n",
      "train set size: 13\n",
      "732\n",
      "GRA US Equity\n",
      "train set size: 13\n",
      "733\n",
      "LCRTF US Equity\n",
      "train set size: 13\n",
      "734\n",
      "TEGP US Equity\n",
      "train set size: 7\n",
      "735\n",
      "PARR US Equity\n",
      "train set size: 13\n",
      "736\n",
      "PKXFF US Equity\n",
      "train set size: 13\n",
      "737\n",
      "HRTPF US Equity\n",
      "train set size: 13\n",
      "738\n",
      "NOV US Equity\n",
      "train set size: 13\n",
      "739\n",
      "TTFNF US Equity\n",
      "train set size: 13\n",
      "740\n",
      "PXMFF US Equity\n",
      "train set size: 13\n",
      "741\n",
      "OKE US Equity\n",
      "train set size: 13\n",
      "742\n",
      "AUSDF US Equity\n",
      "train set size: 13\n",
      "743\n",
      "BLKPF US Equity\n",
      "train set size: 13\n",
      "744\n",
      "PBMRF US Equity\n",
      "train set size: 13\n",
      "745\n",
      "ABGLF US Equity\n",
      "train set size: 13\n",
      "746\n",
      "RTNTF US Equity\n",
      "train set size: 13\n",
      "747\n",
      "GLNG US Equity\n",
      "train set size: 13\n",
      "748\n",
      "COPJF US Equity\n",
      "train set size: 13\n",
      "749\n",
      "LNGLF US Equity\n",
      "train set size: 13\n",
      "750\n",
      "EZIDF US Equity\n",
      "train set size: 13\n",
      "751\n",
      "ZCCMF US Equity\n",
      "train set size: 12\n",
      "752\n",
      "CDPGF US Equity\n",
      "train set size: 13\n",
      "753\n",
      "KRYMF US Equity\n",
      "train set size: 8\n",
      "754\n",
      "MLM US Equity\n",
      "train set size: 13\n",
      "755\n",
      "PEIX US Equity\n",
      "train set size: 13\n",
      "756\n",
      "NUSMF US Equity\n",
      "train set size: 13\n",
      "757\n",
      "CBUMF US Equity\n",
      "train set size: 13\n",
      "758\n",
      "AXTA US Equity\n",
      "train set size: 13\n",
      "759\n",
      "CJRCF US Equity\n",
      "train set size: 13\n",
      "760\n",
      "YNSKF US Equity\n",
      "train set size: 13\n",
      "761\n",
      "VTXPF US Equity\n",
      "train set size: 13\n",
      "762\n",
      "ERF US Equity\n",
      "train set size: 13\n",
      "763\n",
      "TRMLF US Equity\n",
      "train set size: 13\n",
      "764\n",
      "LIFZF US Equity\n",
      "train set size: 13\n",
      "765\n",
      "MTDR US Equity\n",
      "train set size: 13\n",
      "766\n",
      "MIMTF US Equity\n",
      "train set size: 13\n",
      "767\n",
      "DRDGF US Equity\n",
      "train set size: 13\n",
      "768\n",
      "SPTYF US Equity\n",
      "train set size: 13\n",
      "769\n",
      "LNMIF US Equity\n",
      "train set size: 13\n",
      "770\n",
      "NATDF US Equity\n",
      "train set size: 13\n",
      "771\n",
      "PGEJF US Equity\n",
      "train set size: 13\n",
      "772\n",
      "TGA US Equity\n",
      "train set size: 13\n",
      "773\n",
      "ZHAOF US Equity\n",
      "train set size: 13\n",
      "774\n",
      "SAWLF US Equity\n",
      "train set size: 13\n",
      "775\n",
      "AIQUF US Equity\n",
      "train set size: 13\n",
      "776\n",
      "PHXHF US Equity\n",
      "train set size: 13\n",
      "777\n",
      "NGD US Equity\n",
      "train set size: 13\n",
      "778\n",
      "PKD US Equity\n",
      "train set size: 13\n",
      "779\n",
      "MDIKF US Equity\n",
      "train set size: 13\n",
      "780\n",
      "MGSCF US Equity\n",
      "train set size: 13\n",
      "781\n",
      "RDFEF US Equity\n",
      "train set size: 1\n",
      "782\n",
      "NUE US Equity\n",
      "train set size: 13\n",
      "783\n",
      "SYMX US Equity\n",
      "train set size: 9\n",
      "784\n",
      "NSU US Equity\n",
      "train set size: 13\n",
      "785\n",
      "LYSCF US Equity\n",
      "train set size: 13\n",
      "786\n",
      "BMBGF US Equity\n",
      "train set size: 13\n",
      "787\n",
      "TREVF US Equity\n",
      "train set size: 13\n",
      "788\n",
      "NEU US Equity\n",
      "train set size: 13\n",
      "789\n",
      "WEEEF US Equity\n",
      "train set size: 13\n",
      "790\n",
      "VHI US Equity\n",
      "train set size: 13\n",
      "791\n",
      "GEGYF US Equity\n",
      "train set size: 13\n",
      "792\n",
      "GBRRF US Equity\n",
      "train set size: 13\n",
      "793\n",
      "MTSAF US Equity\n",
      "train set size: 13\n",
      "794\n",
      "IPXHF US Equity\n",
      "train set size: 13\n",
      "795\n",
      "IPPLF US Equity\n",
      "train set size: 13\n",
      "796\n",
      "POLMF US Equity\n",
      "train set size: 13\n",
      "797\n",
      "PDMDF US Equity\n",
      "train set size: 13\n",
      "798\n",
      "CGOOF US Equity\n",
      "train set size: 7\n",
      "799\n",
      "IPLRF US Equity\n",
      "train set size: 13\n",
      "800\n",
      "MOGLQ US Equity\n",
      "train set size: 13\n",
      "801\n",
      "VDNRF US Equity\n",
      "train set size: 13\n",
      "802\n",
      "DVN US Equity\n",
      "train set size: 13\n",
      "803\n",
      "IFF US Equity\n",
      "train set size: 13\n",
      "804\n",
      "APD US Equity\n",
      "train set size: 13\n",
      "805\n",
      "UFS US Equity\n",
      "train set size: 13\n",
      "806\n",
      "GXOCF US Equity\n",
      "train set size: 13\n",
      "807\n",
      "FCGYF US Equity\n",
      "train set size: 13\n",
      "808\n",
      "CPPMF US Equity\n",
      "train set size: 13\n",
      "809\n",
      "OYIEF US Equity\n",
      "train set size: 13\n",
      "810\n",
      "USLM US Equity\n",
      "train set size: 13\n",
      "811\n",
      "NVGS US Equity\n",
      "train set size: 13\n",
      "812\n",
      "URG US Equity\n",
      "train set size: 7\n",
      "813\n",
      "PENMF US Equity\n",
      "train set size: 13\n",
      "814\n",
      "CAGDF US Equity\n",
      "train set size: 13\n",
      "815\n",
      "FRUTF US Equity\n",
      "train set size: 13\n",
      "816\n",
      "PCNT US Equity\n",
      "train set size: 1\n",
      "817\n",
      "LMPMF US Equity\n",
      "train set size: 13\n",
      "818\n",
      "TETZF US Equity\n",
      "train set size: 13\n",
      "819\n",
      "SWYDF US Equity\n",
      "train set size: 13\n",
      "820\n",
      "DLKNF US Equity\n",
      "train set size: 13\n",
      "821\n",
      "GCWOF US Equity\n",
      "train set size: 13\n",
      "822\n",
      "AOIFF US Equity\n",
      "train set size: 13\n",
      "823\n",
      "KEYUF US Equity\n",
      "train set size: 13\n",
      "824\n",
      "KDSKF US Equity\n",
      "train set size: 13\n",
      "825\n",
      "SVMRF US Equity\n",
      "train set size: 13\n",
      "826\n",
      "ALB US Equity\n",
      "train set size: 13\n",
      "827\n",
      "HOLHF US Equity\n",
      "train set size: 13\n",
      "828\n",
      "BIOA US Equity\n",
      "train set size: 13\n",
      "829\n",
      "REPYF US Equity\n",
      "train set size: 13\n",
      "830\n",
      "CRS US Equity\n",
      "train set size: 13\n",
      "831\n",
      "SHWDF US Equity\n",
      "train set size: 13\n",
      "832\n",
      "BCPC US Equity\n",
      "train set size: 13\n",
      "833\n",
      "IMYSF US Equity\n",
      "train set size: 13\n",
      "834\n",
      "AGPIF US Equity\n",
      "train set size: 13\n",
      "835\n",
      "FRHLF US Equity\n",
      "train set size: 13\n",
      "836\n",
      "OCLDF US Equity\n",
      "train set size: 13\n",
      "837\n",
      "SLGN US Equity\n",
      "train set size: 13\n",
      "838\n",
      "MBGCF US Equity\n",
      "train set size: 13\n",
      "839\n",
      "AWTRF US Equity\n",
      "train set size: 13\n",
      "840\n",
      "PUBC US Equity\n",
      "train set size: 13\n",
      "841\n",
      "ELRMF US Equity\n",
      "train set size: 13\n",
      "842\n",
      "NHYKF US Equity\n",
      "train set size: 13\n",
      "843\n",
      "TAT US Equity\n",
      "train set size: 11\n",
      "844\n",
      "PBF US Equity\n",
      "train set size: 13\n",
      "845\n",
      "PNADF US Equity\n",
      "train set size: 13\n",
      "846\n",
      "RYDBF US Equity\n",
      "train set size: 13\n",
      "847\n",
      "AE US Equity\n",
      "train set size: 13\n",
      "848\n",
      "SVLKF US Equity\n",
      "train set size: 13\n",
      "849\n",
      "CFWFF US Equity\n",
      "train set size: 13\n",
      "850\n",
      "NESCQ US Equity\n",
      "train set size: 7\n",
      "851\n",
      "AKRTF US Equity\n",
      "train set size: 13\n",
      "852\n",
      "SATYF US Equity\n",
      "train set size: 8\n",
      "853\n",
      "CSRLF US Equity\n",
      "train set size: 13\n",
      "854\n",
      "EOLGF US Equity\n",
      "train set size: 1\n",
      "855\n",
      "HOYFF US Equity\n",
      "train set size: 13\n",
      "856\n",
      "SXT US Equity\n",
      "train set size: 13\n",
      "857\n",
      "DACHF US Equity\n",
      "train set size: 13\n",
      "858\n",
      "HZNFF US Equity\n",
      "train set size: 12\n",
      "859\n",
      "HGMCF US Equity\n",
      "train set size: 13\n",
      "860\n",
      "TNEYF US Equity\n",
      "train set size: 13\n",
      "861\n",
      "PLXXF US Equity\n",
      "train set size: 13\n",
      "862\n",
      "MTRX US Equity\n",
      "train set size: 13\n",
      "863\n",
      "BEKSF US Equity\n",
      "train set size: 13\n",
      "864\n",
      "SKFOF US Equity\n",
      "train set size: 13\n",
      "865\n",
      "GMBXF US Equity\n",
      "train set size: 13\n",
      "866\n",
      "CRHCF US Equity\n",
      "train set size: 13\n",
      "867\n",
      "MRELF US Equity\n",
      "train set size: 13\n",
      "868\n",
      "DTNOF US Equity\n",
      "train set size: 13\n",
      "869\n",
      "GUKYF US Equity\n",
      "train set size: 13\n",
      "870\n",
      "MPSX US Equity\n",
      "train set size: 1\n",
      "871\n",
      "CILS US Equity\n",
      "train set size: 6\n",
      "872\n",
      "RTERF US Equity\n",
      "train set size: 13\n",
      "873\n",
      "NDGPF US Equity\n",
      "train set size: 13\n",
      "874\n",
      "TVIA US Equity\n",
      "train set size: 13\n",
      "875\n",
      "KMI US Equity\n",
      "train set size: 13\n",
      "876\n",
      "COIHF US Equity\n",
      "train set size: 13\n",
      "877\n",
      "TNHPF US Equity\n",
      "train set size: 13\n",
      "878\n",
      "GTE US Equity\n",
      "train set size: 13\n",
      "879\n",
      "RBYCF US Equity\n",
      "train set size: 11\n",
      "880\n",
      "XCO US Equity\n",
      "train set size: 13\n",
      "881\n",
      "PX US Equity\n",
      "train set size: 13\n",
      "882\n",
      "PMOIF US Equity\n",
      "train set size: 13\n",
      "883\n",
      "PMNXF US Equity\n",
      "train set size: 13\n"
     ]
    },
    {
     "name": "stdout",
     "output_type": "stream",
     "text": [
      "884\n",
      "CFPUF US Equity\n",
      "train set size: 13\n",
      "885\n",
      "SLB US Equity\n",
      "train set size: 13\n",
      "886\n",
      "KOP US Equity\n",
      "train set size: 13\n",
      "887\n",
      "AKZOF US Equity\n",
      "train set size: 13\n",
      "888\n",
      "XOM US Equity\n",
      "train set size: 13\n",
      "889\n",
      "PTTMF US Equity\n",
      "train set size: 13\n",
      "890\n",
      "NADL US Equity\n",
      "train set size: 13\n",
      "891\n",
      "SDCJF US Equity\n",
      "train set size: 13\n",
      "892\n",
      "ANW US Equity\n",
      "train set size: 13\n",
      "893\n",
      "CPE US Equity\n",
      "train set size: 13\n",
      "894\n",
      "SGSVF US Equity\n",
      "train set size: 1\n",
      "895\n",
      "MLLGF US Equity\n",
      "train set size: 13\n",
      "896\n",
      "ENGGF US Equity\n",
      "train set size: 13\n",
      "897\n",
      "SCEXF US Equity\n",
      "train set size: 13\n",
      "898\n",
      "AETUF US Equity\n",
      "train set size: 13\n",
      "899\n",
      "BALMF US Equity\n",
      "train set size: 13\n",
      "900\n",
      "WIPKF US Equity\n",
      "train set size: 13\n",
      "901\n",
      "AWLCF US Equity\n",
      "train set size: 13\n",
      "902\n",
      "MTGRF US Equity\n",
      "train set size: 13\n",
      "903\n",
      "HRCXF US Equity\n",
      "train set size: 13\n",
      "904\n",
      "STOHF US Equity\n",
      "train set size: 13\n",
      "905\n",
      "HAYN US Equity\n",
      "train set size: 13\n",
      "906\n",
      "SDRL US Equity\n",
      "train set size: 13\n",
      "907\n",
      "OI US Equity\n",
      "train set size: 13\n",
      "908\n",
      "ATW US Equity\n",
      "train set size: 13\n",
      "909\n",
      "ASOLF US Equity\n",
      "train set size: 13\n",
      "910\n",
      "GLT US Equity\n",
      "train set size: 13\n",
      "911\n",
      "OMNRF US Equity\n",
      "train set size: 8\n",
      "912\n",
      "MXCHF US Equity\n",
      "train set size: 13\n",
      "913\n",
      "POYYF US Equity\n",
      "train set size: 13\n",
      "914\n",
      "VET US Equity\n",
      "train set size: 13\n",
      "915\n",
      "DNN US Equity\n",
      "train set size: 13\n",
      "916\n",
      "BWLVF US Equity\n",
      "train set size: 13\n",
      "917\n",
      "AIAGF US Equity\n",
      "train set size: 13\n",
      "918\n",
      "MEOH US Equity\n",
      "train set size: 13\n",
      "919\n",
      "DLKGF US Equity\n",
      "train set size: 13\n",
      "920\n",
      "CHOLF US Equity\n",
      "train set size: 13\n",
      "921\n",
      "SEE US Equity\n",
      "train set size: 13\n",
      "922\n",
      "UMICF US Equity\n",
      "train set size: 13\n",
      "923\n",
      "BCC US Equity\n",
      "train set size: 13\n",
      "924\n",
      "OEXFF US Equity\n",
      "train set size: 13\n",
      "925\n",
      "TRP US Equity\n",
      "train set size: 13\n",
      "926\n",
      "ATLRF US Equity\n",
      "train set size: 2\n",
      "927\n",
      "KRO US Equity\n",
      "train set size: 13\n",
      "928\n",
      "NMPNF US Equity\n",
      "train set size: 13\n",
      "929\n",
      "LPX US Equity\n",
      "train set size: 13\n",
      "930\n",
      "CBLUF US Equity\n",
      "train set size: 13\n",
      "931\n",
      "WHITF US Equity\n",
      "train set size: 13\n",
      "932\n",
      "AVACF US Equity\n",
      "train set size: 13\n",
      "933\n",
      "CUAEF US Equity\n",
      "train set size: 13\n",
      "934\n",
      "PLTYF US Equity\n",
      "train set size: 6\n",
      "935\n",
      "PVG US Equity\n",
      "train set size: 13\n",
      "936\n",
      "DOW US Equity\n",
      "train set size: 13\n",
      "937\n",
      "ASHG US Equity\n",
      "train set size: 13\n",
      "938\n",
      "ARKAF US Equity\n",
      "train set size: 13\n",
      "939\n",
      "SHERF US Equity\n",
      "train set size: 13\n",
      "940\n",
      "ELFGF US Equity\n",
      "train set size: 13\n",
      "941\n",
      "UNEGF US Equity\n",
      "train set size: 13\n",
      "942\n",
      "STBMF US Equity\n",
      "train set size: 9\n",
      "943\n",
      "GG US Equity\n",
      "train set size: 13\n",
      "944\n",
      "ZEUS US Equity\n",
      "train set size: 13\n",
      "945\n",
      "REI US Equity\n",
      "train set size: 13\n",
      "946\n",
      "WLL US Equity\n",
      "train set size: 13\n",
      "947\n",
      "SWSKF US Equity\n",
      "train set size: 13\n",
      "948\n",
      "HNH US Equity\n",
      "train set size: 13\n",
      "949\n",
      "DITHF US Equity\n",
      "train set size: 13\n",
      "950\n",
      "SOMMF US Equity\n",
      "train set size: 13\n",
      "951\n",
      "DD US Equity\n",
      "train set size: 13\n",
      "952\n",
      "TNP US Equity\n",
      "train set size: 13\n",
      "953\n",
      "DWSN US Equity\n",
      "train set size: 9\n",
      "954\n",
      "GURE US Equity\n",
      "train set size: 9\n",
      "955\n",
      "AFBOF US Equity\n",
      "train set size: 8\n",
      "956\n",
      "URNXF US Equity\n",
      "train set size: 2\n",
      "957\n",
      "OZMLF US Equity\n",
      "train set size: 13\n",
      "958\n",
      "NIOBF US Equity\n",
      "train set size: 10\n",
      "959\n",
      "FUPEF US Equity\n",
      "train set size: 13\n",
      "960\n",
      "TNNFF US Equity\n",
      "train set size: 3\n",
      "961\n",
      "CSNVF US Equity\n",
      "train set size: 13\n",
      "962\n",
      "EMEXF US Equity\n",
      "train set size: 2\n",
      "963\n",
      "MTRN US Equity\n",
      "train set size: 13\n",
      "964\n",
      "ABSSF US Equity\n",
      "train set size: 13\n",
      "965\n",
      "OJIPF US Equity\n",
      "train set size: 13\n",
      "966\n",
      "GRVWF US Equity\n",
      "train set size: 13\n",
      "967\n",
      "SHTLF US Equity\n",
      "train set size: 7\n",
      "968\n",
      "AGI US Equity\n",
      "train set size: 13\n",
      "969\n",
      "AXIIF US Equity\n",
      "train set size: 8\n",
      "970\n",
      "AR US Equity\n",
      "train set size: 13\n",
      "971\n",
      "MITUF US Equity\n",
      "train set size: 13\n",
      "972\n",
      "FUJSF US Equity\n",
      "train set size: 13\n",
      "973\n",
      "BNKPF US Equity\n",
      "train set size: 1\n",
      "974\n",
      "PE US Equity\n",
      "train set size: 13\n",
      "975\n",
      "JSPRF US Equity\n",
      "train set size: 13\n",
      "976\n",
      "ENLC US Equity\n",
      "train set size: 13\n",
      "977\n",
      "POFCF US Equity\n",
      "train set size: 13\n",
      "978\n",
      "BNPUF US Equity\n",
      "train set size: 13\n",
      "979\n",
      "AWWEF US Equity\n",
      "train set size: 13\n",
      "980\n",
      "ACAZF US Equity\n",
      "train set size: 13\n",
      "981\n",
      "ERN US Equity\n",
      "train set size: 13\n",
      "982\n",
      "MONDF US Equity\n",
      "train set size: 13\n",
      "983\n",
      "TSE US Equity\n",
      "train set size: 13\n",
      "984\n",
      "PETZF US Equity\n",
      "train set size: 13\n",
      "985\n",
      "HUABF US Equity\n",
      "train set size: 13\n",
      "986\n",
      "ORIG US Equity\n",
      "train set size: 13\n",
      "987\n",
      "NUFMF US Equity\n",
      "train set size: 13\n",
      "988\n",
      "HYEEF US Equity\n",
      "train set size: 12\n",
      "989\n",
      "YZCFF US Equity\n",
      "train set size: 13\n",
      "990\n",
      "PPP US Equity\n",
      "train set size: 13\n",
      "991\n",
      "EDVMF US Equity\n",
      "train set size: 13\n",
      "992\n",
      "BEPTF US Equity\n",
      "train set size: 13\n",
      "993\n",
      "WFTBF US Equity\n",
      "train set size: 13\n",
      "994\n",
      "NAT US Equity\n",
      "train set size: 13\n",
      "995\n",
      "CADGF US Equity\n",
      "train set size: 13\n",
      "996\n",
      "NP US Equity\n",
      "train set size: 13\n",
      "997\n",
      "CLF US Equity\n",
      "train set size: 13\n",
      "998\n",
      "WZGRF US Equity\n",
      "train set size: 6\n",
      "999\n",
      "JMPLF US Equity\n",
      "train set size: 13\n",
      "1000\n",
      "FOE US Equity\n",
      "train set size: 13\n",
      "1001\n",
      "TGLS US Equity\n",
      "train set size: 13\n",
      "1002\n",
      "EPM US Equity\n",
      "train set size: 13\n",
      "1003\n",
      "CHZHF US Equity\n",
      "train set size: 13\n",
      "1004\n",
      "RTPPF US Equity\n",
      "train set size: 13\n",
      "1005\n",
      "SHLM US Equity\n",
      "train set size: 13\n",
      "1006\n",
      "SBGLF US Equity\n",
      "train set size: 13\n",
      "1007\n",
      "OEC US Equity\n",
      "train set size: 13\n",
      "1008\n",
      "MFRSF US Equity\n",
      "train set size: 13\n",
      "1009\n",
      "CLNE US Equity\n",
      "train set size: 13\n",
      "1010\n",
      "IRPTF US Equity\n",
      "train set size: 13\n",
      "1011\n",
      "PETFF US Equity\n",
      "train set size: 13\n",
      "1012\n",
      "MDLNF US Equity\n",
      "train set size: 13\n",
      "1013\n",
      "BTG US Equity\n",
      "train set size: 13\n",
      "1014\n",
      "AEM US Equity\n",
      "train set size: 13\n",
      "1015\n",
      "CHPMF US Equity\n",
      "train set size: 13\n",
      "1016\n",
      "KLGDF US Equity\n",
      "train set size: 4\n",
      "1017\n",
      "TOKSF US Equity\n",
      "train set size: 13\n",
      "1018\n",
      "GSV US Equity\n",
      "train set size: 1\n",
      "1019\n",
      "ELRFF US Equity\n",
      "train set size: 7\n",
      "1020\n",
      "BPAQF US Equity\n",
      "train set size: 13\n",
      "1021\n",
      "IVPAF US Equity\n",
      "train set size: 13\n",
      "1022\n",
      "MCF US Equity\n",
      "train set size: 13\n",
      "1023\n",
      "FTI US Equity\n",
      "train set size: 13\n",
      "1024\n",
      "UPMKF US Equity\n",
      "train set size: 13\n",
      "1025\n",
      "LNAGF US Equity\n",
      "train set size: 13\n",
      "1026\n",
      "OROCF US Equity\n",
      "train set size: 13\n",
      "1027\n",
      "CCJ US Equity\n",
      "train set size: 13\n",
      "1028\n",
      "GSEBF US Equity\n",
      "train set size: 13\n",
      "1029\n",
      "FNV US Equity\n",
      "train set size: 13\n",
      "1030\n",
      "CKATF US Equity\n",
      "train set size: 9\n",
      "1031\n",
      "ARCXF US Equity\n",
      "train set size: 13\n",
      "1032\n",
      "DRGDF US Equity\n",
      "train set size: 13\n",
      "1033\n",
      "OR US Equity\n",
      "train set size: 13\n",
      "1034\n",
      "ZARFF US Equity\n",
      "train set size: 4\n",
      "1035\n",
      "SPHVF US Equity\n",
      "train set size: 13\n",
      "1036\n",
      "XEC US Equity\n",
      "train set size: 13\n",
      "1037\n",
      "ZCLCF US Equity\n",
      "train set size: 13\n",
      "1038\n",
      "PIKQF US Equity\n",
      "train set size: 13\n",
      "1039\n",
      "TGSNF US Equity\n",
      "train set size: 13\n",
      "1040\n",
      "SCHN US Equity\n",
      "train set size: 13\n",
      "1041\n",
      "DICCF US Equity\n",
      "train set size: 13\n",
      "1042\n",
      "ALO US Equity\n",
      "train set size: 13\n",
      "1043\n",
      "ASC US Equity\n",
      "train set size: 13\n",
      "1044\n",
      "MALRF US Equity\n",
      "train set size: 13\n",
      "1045\n",
      "KSKGF US Equity\n",
      "train set size: 13\n",
      "1046\n",
      "TITCF US Equity\n",
      "train set size: 13\n",
      "1047\n",
      "IOSP US Equity\n",
      "train set size: 13\n",
      "1048\n",
      "SUAFF US Equity\n",
      "train set size: 10\n",
      "1049\n",
      "EXMRF US Equity\n",
      "train set size: 13\n",
      "1050\n",
      "ENGT US Equity\n",
      "train set size: 13\n",
      "1051\n",
      "YRAIF US Equity\n",
      "train set size: 13\n",
      "1052\n",
      "EXXAF US Equity\n",
      "train set size: 13\n",
      "1053\n",
      "FQVLF US Equity\n",
      "train set size: 13\n",
      "1054\n",
      "YZCHF US Equity\n",
      "train set size: 13\n",
      "1055\n",
      "DCHLF US Equity\n",
      "train set size: 13\n",
      "1056\n",
      "CMP US Equity\n",
      "train set size: 13\n",
      "1057\n",
      "PGH US Equity\n",
      "train set size: 13\n",
      "1058\n",
      "FI US Equity\n",
      "train set size: 13\n",
      "1059\n",
      "SMG US Equity\n",
      "train set size: 13\n",
      "1060\n",
      "DNR US Equity\n",
      "train set size: 13\n",
      "1061\n",
      "TMST US Equity\n",
      "train set size: 13\n",
      "1062\n",
      "NEM US Equity\n",
      "train set size: 13\n",
      "1063\n",
      "PRMRF US Equity\n",
      "train set size: 13\n",
      "1064\n",
      "HASGF US Equity\n",
      "train set size: 13\n",
      "1065\n",
      "VTNR US Equity\n",
      "train set size: 3\n",
      "1066\n",
      "SAND US Equity\n",
      "train set size: 13\n",
      "1067\n",
      "BHI US Equity\n",
      "train set size: 13\n",
      "1068\n",
      "NBZZF US Equity\n",
      "train set size: 1\n",
      "1069\n",
      "ALKEF US Equity\n",
      "train set size: 11\n",
      "1070\n",
      "SLCA US Equity\n",
      "train set size: 13\n",
      "1071\n",
      "CLZNF US Equity\n",
      "train set size: 13\n",
      "1072\n"
     ]
    }
   ],
   "source": [
    "df_train, df_test = MinMaxNormalization(df_train, df_test, min_max = None)"
   ]
  },
  {
   "cell_type": "code",
   "execution_count": 236,
   "metadata": {
    "scrolled": true
   },
   "outputs": [
    {
     "name": "stdout",
     "output_type": "stream",
     "text": [
      "EliminateToSeasonal: months is None, choose 1,4,7,10 by default.\n"
     ]
    },
    {
     "data": {
      "text/html": [
       "<div>\n",
       "<style>\n",
       "    .dataframe thead tr:only-child th {\n",
       "        text-align: right;\n",
       "    }\n",
       "\n",
       "    .dataframe thead th {\n",
       "        text-align: left;\n",
       "    }\n",
       "\n",
       "    .dataframe tbody tr th {\n",
       "        vertical-align: top;\n",
       "    }\n",
       "</style>\n",
       "<table border=\"1\" class=\"dataframe\">\n",
       "  <thead>\n",
       "    <tr style=\"text-align: right;\">\n",
       "      <th></th>\n",
       "      <th>account_receivable</th>\n",
       "      <th>asset_turnover</th>\n",
       "      <th>basic_eps_5yr_avg_growth</th>\n",
       "      <th>best_target_price</th>\n",
       "      <th>book_value</th>\n",
       "      <th>capital_expenditures</th>\n",
       "      <th>cash_cash_equivalents</th>\n",
       "      <th>cash_flow_per_share</th>\n",
       "      <th>cash_from_financing</th>\n",
       "      <th>cash_from_investing</th>\n",
       "      <th>...</th>\n",
       "      <th>bbg_mom_1m</th>\n",
       "      <th>bbg_mom_3m</th>\n",
       "      <th>bbg_mom_6m</th>\n",
       "      <th>bbg_mom_12m</th>\n",
       "      <th>bbg_mom_12m_vol_adj</th>\n",
       "      <th>date</th>\n",
       "      <th>last_price</th>\n",
       "      <th>ticker</th>\n",
       "      <th>target</th>\n",
       "      <th>next_return</th>\n",
       "    </tr>\n",
       "  </thead>\n",
       "  <tbody>\n",
       "    <tr>\n",
       "      <th>0</th>\n",
       "      <td>0.000000</td>\n",
       "      <td>0.000000</td>\n",
       "      <td>1.0</td>\n",
       "      <td>0.631579</td>\n",
       "      <td>0.000000</td>\n",
       "      <td>0.000000</td>\n",
       "      <td>0.000000</td>\n",
       "      <td>0.0</td>\n",
       "      <td>0.000000</td>\n",
       "      <td>0.000000</td>\n",
       "      <td>...</td>\n",
       "      <td>0.0</td>\n",
       "      <td>0.0</td>\n",
       "      <td>0.0</td>\n",
       "      <td>0.0</td>\n",
       "      <td>0.0</td>\n",
       "      <td>2015-10-31</td>\n",
       "      <td>0.1140</td>\n",
       "      <td>FOLGF US Equity</td>\n",
       "      <td>NaN</td>\n",
       "      <td>-2.982456</td>\n",
       "    </tr>\n",
       "    <tr>\n",
       "      <th>1</th>\n",
       "      <td>0.000000</td>\n",
       "      <td>0.000000</td>\n",
       "      <td>1.0</td>\n",
       "      <td>0.631579</td>\n",
       "      <td>0.000000</td>\n",
       "      <td>0.000000</td>\n",
       "      <td>0.000000</td>\n",
       "      <td>0.0</td>\n",
       "      <td>0.000000</td>\n",
       "      <td>0.000000</td>\n",
       "      <td>...</td>\n",
       "      <td>0.0</td>\n",
       "      <td>0.0</td>\n",
       "      <td>0.0</td>\n",
       "      <td>0.0</td>\n",
       "      <td>0.0</td>\n",
       "      <td>2015-10-31</td>\n",
       "      <td>0.1106</td>\n",
       "      <td>FOLGF US Equity</td>\n",
       "      <td>NaN</td>\n",
       "      <td>0.000000</td>\n",
       "    </tr>\n",
       "    <tr>\n",
       "      <th>2</th>\n",
       "      <td>0.000000</td>\n",
       "      <td>0.000000</td>\n",
       "      <td>1.0</td>\n",
       "      <td>0.631579</td>\n",
       "      <td>0.000000</td>\n",
       "      <td>0.000000</td>\n",
       "      <td>0.000000</td>\n",
       "      <td>0.0</td>\n",
       "      <td>0.000000</td>\n",
       "      <td>0.000000</td>\n",
       "      <td>...</td>\n",
       "      <td>0.0</td>\n",
       "      <td>0.0</td>\n",
       "      <td>0.0</td>\n",
       "      <td>0.0</td>\n",
       "      <td>0.0</td>\n",
       "      <td>2015-10-31</td>\n",
       "      <td>0.1106</td>\n",
       "      <td>FOLGF US Equity</td>\n",
       "      <td>NaN</td>\n",
       "      <td>0.000000</td>\n",
       "    </tr>\n",
       "    <tr>\n",
       "      <th>3</th>\n",
       "      <td>0.000000</td>\n",
       "      <td>1.000000</td>\n",
       "      <td>0.0</td>\n",
       "      <td>0.000000</td>\n",
       "      <td>1.000000</td>\n",
       "      <td>1.000000</td>\n",
       "      <td>1.000000</td>\n",
       "      <td>0.0</td>\n",
       "      <td>0.000000</td>\n",
       "      <td>1.000000</td>\n",
       "      <td>...</td>\n",
       "      <td>0.0</td>\n",
       "      <td>0.0</td>\n",
       "      <td>0.0</td>\n",
       "      <td>0.0</td>\n",
       "      <td>0.0</td>\n",
       "      <td>2015-10-31</td>\n",
       "      <td>0.1460</td>\n",
       "      <td>FOLGF US Equity</td>\n",
       "      <td>NaN</td>\n",
       "      <td>-4.109589</td>\n",
       "    </tr>\n",
       "    <tr>\n",
       "      <th>4</th>\n",
       "      <td>0.000000</td>\n",
       "      <td>1.000000</td>\n",
       "      <td>0.0</td>\n",
       "      <td>0.000000</td>\n",
       "      <td>1.000000</td>\n",
       "      <td>1.000000</td>\n",
       "      <td>1.000000</td>\n",
       "      <td>0.0</td>\n",
       "      <td>0.000000</td>\n",
       "      <td>1.000000</td>\n",
       "      <td>...</td>\n",
       "      <td>0.0</td>\n",
       "      <td>0.0</td>\n",
       "      <td>0.0</td>\n",
       "      <td>0.0</td>\n",
       "      <td>0.0</td>\n",
       "      <td>2015-10-31</td>\n",
       "      <td>0.1100</td>\n",
       "      <td>FOLGF US Equity</td>\n",
       "      <td>1.0</td>\n",
       "      <td>32.727273</td>\n",
       "    </tr>\n",
       "    <tr>\n",
       "      <th>5</th>\n",
       "      <td>0.000000</td>\n",
       "      <td>0.500000</td>\n",
       "      <td>1.0</td>\n",
       "      <td>1.000000</td>\n",
       "      <td>0.213655</td>\n",
       "      <td>1.000000</td>\n",
       "      <td>0.421442</td>\n",
       "      <td>0.0</td>\n",
       "      <td>0.000000</td>\n",
       "      <td>1.000000</td>\n",
       "      <td>...</td>\n",
       "      <td>0.0</td>\n",
       "      <td>0.0</td>\n",
       "      <td>0.0</td>\n",
       "      <td>0.0</td>\n",
       "      <td>0.0</td>\n",
       "      <td>2015-10-31</td>\n",
       "      <td>0.1100</td>\n",
       "      <td>FOLGF US Equity</td>\n",
       "      <td>1.0</td>\n",
       "      <td>2.181818</td>\n",
       "    </tr>\n",
       "    <tr>\n",
       "      <th>6</th>\n",
       "      <td>0.000000</td>\n",
       "      <td>0.500000</td>\n",
       "      <td>1.0</td>\n",
       "      <td>1.000000</td>\n",
       "      <td>0.213655</td>\n",
       "      <td>1.000000</td>\n",
       "      <td>0.421442</td>\n",
       "      <td>0.0</td>\n",
       "      <td>0.000000</td>\n",
       "      <td>1.000000</td>\n",
       "      <td>...</td>\n",
       "      <td>0.0</td>\n",
       "      <td>0.0</td>\n",
       "      <td>0.0</td>\n",
       "      <td>0.0</td>\n",
       "      <td>0.0</td>\n",
       "      <td>2015-10-31</td>\n",
       "      <td>0.1124</td>\n",
       "      <td>FOLGF US Equity</td>\n",
       "      <td>NaN</td>\n",
       "      <td>1.423488</td>\n",
       "    </tr>\n",
       "    <tr>\n",
       "      <th>7</th>\n",
       "      <td>0.000000</td>\n",
       "      <td>0.500000</td>\n",
       "      <td>1.0</td>\n",
       "      <td>1.000000</td>\n",
       "      <td>0.213655</td>\n",
       "      <td>1.000000</td>\n",
       "      <td>0.421442</td>\n",
       "      <td>0.0</td>\n",
       "      <td>0.000000</td>\n",
       "      <td>1.000000</td>\n",
       "      <td>...</td>\n",
       "      <td>0.0</td>\n",
       "      <td>0.0</td>\n",
       "      <td>0.0</td>\n",
       "      <td>0.0</td>\n",
       "      <td>0.0</td>\n",
       "      <td>2015-10-31</td>\n",
       "      <td>0.1400</td>\n",
       "      <td>FOLGF US Equity</td>\n",
       "      <td>NaN</td>\n",
       "      <td>-21.428571</td>\n",
       "    </tr>\n",
       "    <tr>\n",
       "      <th>8</th>\n",
       "      <td>0.000000</td>\n",
       "      <td>0.500000</td>\n",
       "      <td>1.0</td>\n",
       "      <td>1.000000</td>\n",
       "      <td>0.213655</td>\n",
       "      <td>1.000000</td>\n",
       "      <td>0.421442</td>\n",
       "      <td>0.0</td>\n",
       "      <td>0.000000</td>\n",
       "      <td>1.000000</td>\n",
       "      <td>...</td>\n",
       "      <td>0.0</td>\n",
       "      <td>0.0</td>\n",
       "      <td>0.0</td>\n",
       "      <td>0.0</td>\n",
       "      <td>0.0</td>\n",
       "      <td>2015-10-31</td>\n",
       "      <td>0.1100</td>\n",
       "      <td>FOLGF US Equity</td>\n",
       "      <td>NaN</td>\n",
       "      <td>0.000000</td>\n",
       "    </tr>\n",
       "    <tr>\n",
       "      <th>0</th>\n",
       "      <td>0.000000</td>\n",
       "      <td>0.000000</td>\n",
       "      <td>0.0</td>\n",
       "      <td>0.000000</td>\n",
       "      <td>0.000000</td>\n",
       "      <td>0.000000</td>\n",
       "      <td>0.000000</td>\n",
       "      <td>0.0</td>\n",
       "      <td>0.000000</td>\n",
       "      <td>0.000000</td>\n",
       "      <td>...</td>\n",
       "      <td>0.0</td>\n",
       "      <td>0.0</td>\n",
       "      <td>0.0</td>\n",
       "      <td>0.0</td>\n",
       "      <td>0.0</td>\n",
       "      <td>2015-10-31</td>\n",
       "      <td>3.2000</td>\n",
       "      <td>VPNFF US Equity</td>\n",
       "      <td>NaN</td>\n",
       "      <td>0.000000</td>\n",
       "    </tr>\n",
       "    <tr>\n",
       "      <th>1</th>\n",
       "      <td>0.000000</td>\n",
       "      <td>0.000000</td>\n",
       "      <td>0.0</td>\n",
       "      <td>0.000000</td>\n",
       "      <td>0.000000</td>\n",
       "      <td>0.000000</td>\n",
       "      <td>0.000000</td>\n",
       "      <td>0.0</td>\n",
       "      <td>0.000000</td>\n",
       "      <td>0.000000</td>\n",
       "      <td>...</td>\n",
       "      <td>0.0</td>\n",
       "      <td>0.0</td>\n",
       "      <td>0.0</td>\n",
       "      <td>0.0</td>\n",
       "      <td>0.0</td>\n",
       "      <td>2015-10-31</td>\n",
       "      <td>3.2000</td>\n",
       "      <td>VPNFF US Equity</td>\n",
       "      <td>NaN</td>\n",
       "      <td>0.000000</td>\n",
       "    </tr>\n",
       "    <tr>\n",
       "      <th>2</th>\n",
       "      <td>0.000000</td>\n",
       "      <td>0.000000</td>\n",
       "      <td>0.0</td>\n",
       "      <td>0.000000</td>\n",
       "      <td>0.000000</td>\n",
       "      <td>0.000000</td>\n",
       "      <td>0.000000</td>\n",
       "      <td>0.0</td>\n",
       "      <td>0.000000</td>\n",
       "      <td>0.000000</td>\n",
       "      <td>...</td>\n",
       "      <td>0.0</td>\n",
       "      <td>0.0</td>\n",
       "      <td>0.0</td>\n",
       "      <td>0.0</td>\n",
       "      <td>0.0</td>\n",
       "      <td>2015-10-31</td>\n",
       "      <td>3.2000</td>\n",
       "      <td>VPNFF US Equity</td>\n",
       "      <td>NaN</td>\n",
       "      <td>0.000000</td>\n",
       "    </tr>\n",
       "    <tr>\n",
       "      <th>3</th>\n",
       "      <td>0.000000</td>\n",
       "      <td>0.000000</td>\n",
       "      <td>0.0</td>\n",
       "      <td>0.000000</td>\n",
       "      <td>0.000000</td>\n",
       "      <td>0.000000</td>\n",
       "      <td>0.000000</td>\n",
       "      <td>0.0</td>\n",
       "      <td>0.000000</td>\n",
       "      <td>0.000000</td>\n",
       "      <td>...</td>\n",
       "      <td>0.0</td>\n",
       "      <td>0.0</td>\n",
       "      <td>0.0</td>\n",
       "      <td>0.0</td>\n",
       "      <td>0.0</td>\n",
       "      <td>2015-10-31</td>\n",
       "      <td>3.2000</td>\n",
       "      <td>VPNFF US Equity</td>\n",
       "      <td>NaN</td>\n",
       "      <td>0.000000</td>\n",
       "    </tr>\n",
       "    <tr>\n",
       "      <th>0</th>\n",
       "      <td>0.000000</td>\n",
       "      <td>0.000000</td>\n",
       "      <td>0.0</td>\n",
       "      <td>1.000000</td>\n",
       "      <td>0.000000</td>\n",
       "      <td>0.000000</td>\n",
       "      <td>0.000000</td>\n",
       "      <td>0.0</td>\n",
       "      <td>0.000000</td>\n",
       "      <td>0.000000</td>\n",
       "      <td>...</td>\n",
       "      <td>0.0</td>\n",
       "      <td>0.0</td>\n",
       "      <td>0.0</td>\n",
       "      <td>0.0</td>\n",
       "      <td>0.0</td>\n",
       "      <td>2015-10-31</td>\n",
       "      <td>2.2000</td>\n",
       "      <td>CCEGF US Equity</td>\n",
       "      <td>NaN</td>\n",
       "      <td>0.000000</td>\n",
       "    </tr>\n",
       "    <tr>\n",
       "      <th>1</th>\n",
       "      <td>0.000000</td>\n",
       "      <td>0.000000</td>\n",
       "      <td>0.0</td>\n",
       "      <td>1.000000</td>\n",
       "      <td>0.000000</td>\n",
       "      <td>0.000000</td>\n",
       "      <td>0.000000</td>\n",
       "      <td>0.0</td>\n",
       "      <td>0.000000</td>\n",
       "      <td>0.000000</td>\n",
       "      <td>...</td>\n",
       "      <td>0.0</td>\n",
       "      <td>0.0</td>\n",
       "      <td>0.0</td>\n",
       "      <td>0.0</td>\n",
       "      <td>0.0</td>\n",
       "      <td>2015-10-31</td>\n",
       "      <td>2.2000</td>\n",
       "      <td>CCEGF US Equity</td>\n",
       "      <td>NaN</td>\n",
       "      <td>0.000000</td>\n",
       "    </tr>\n",
       "    <tr>\n",
       "      <th>2</th>\n",
       "      <td>0.000000</td>\n",
       "      <td>0.000000</td>\n",
       "      <td>0.0</td>\n",
       "      <td>0.000000</td>\n",
       "      <td>0.000000</td>\n",
       "      <td>0.000000</td>\n",
       "      <td>0.000000</td>\n",
       "      <td>0.0</td>\n",
       "      <td>0.000000</td>\n",
       "      <td>0.000000</td>\n",
       "      <td>...</td>\n",
       "      <td>0.0</td>\n",
       "      <td>0.0</td>\n",
       "      <td>0.0</td>\n",
       "      <td>0.0</td>\n",
       "      <td>0.0</td>\n",
       "      <td>2015-10-31</td>\n",
       "      <td>2.2000</td>\n",
       "      <td>CCEGF US Equity</td>\n",
       "      <td>NaN</td>\n",
       "      <td>0.000000</td>\n",
       "    </tr>\n",
       "    <tr>\n",
       "      <th>0</th>\n",
       "      <td>0.000000</td>\n",
       "      <td>0.000000</td>\n",
       "      <td>0.0</td>\n",
       "      <td>0.000000</td>\n",
       "      <td>0.000000</td>\n",
       "      <td>0.000000</td>\n",
       "      <td>0.000000</td>\n",
       "      <td>0.0</td>\n",
       "      <td>0.000000</td>\n",
       "      <td>0.000000</td>\n",
       "      <td>...</td>\n",
       "      <td>0.0</td>\n",
       "      <td>0.0</td>\n",
       "      <td>0.0</td>\n",
       "      <td>0.0</td>\n",
       "      <td>0.0</td>\n",
       "      <td>2015-01-31</td>\n",
       "      <td>1.2500</td>\n",
       "      <td>TRHXF US Equity</td>\n",
       "      <td>NaN</td>\n",
       "      <td>0.000000</td>\n",
       "    </tr>\n",
       "    <tr>\n",
       "      <th>1</th>\n",
       "      <td>0.000000</td>\n",
       "      <td>0.000000</td>\n",
       "      <td>0.0</td>\n",
       "      <td>0.000000</td>\n",
       "      <td>0.000000</td>\n",
       "      <td>0.000000</td>\n",
       "      <td>0.000000</td>\n",
       "      <td>0.0</td>\n",
       "      <td>0.000000</td>\n",
       "      <td>0.000000</td>\n",
       "      <td>...</td>\n",
       "      <td>0.0</td>\n",
       "      <td>0.0</td>\n",
       "      <td>0.0</td>\n",
       "      <td>0.0</td>\n",
       "      <td>0.0</td>\n",
       "      <td>2015-01-31</td>\n",
       "      <td>1.2500</td>\n",
       "      <td>TRHXF US Equity</td>\n",
       "      <td>NaN</td>\n",
       "      <td>0.000000</td>\n",
       "    </tr>\n",
       "    <tr>\n",
       "      <th>0</th>\n",
       "      <td>0.000000</td>\n",
       "      <td>0.000000</td>\n",
       "      <td>0.0</td>\n",
       "      <td>0.000000</td>\n",
       "      <td>0.000000</td>\n",
       "      <td>0.000000</td>\n",
       "      <td>0.000000</td>\n",
       "      <td>0.0</td>\n",
       "      <td>0.000000</td>\n",
       "      <td>0.000000</td>\n",
       "      <td>...</td>\n",
       "      <td>0.0</td>\n",
       "      <td>0.0</td>\n",
       "      <td>0.0</td>\n",
       "      <td>0.0</td>\n",
       "      <td>0.0</td>\n",
       "      <td>2015-01-31</td>\n",
       "      <td>3.3400</td>\n",
       "      <td>GLRI US Equity</td>\n",
       "      <td>NaN</td>\n",
       "      <td>8.383234</td>\n",
       "    </tr>\n",
       "    <tr>\n",
       "      <th>1</th>\n",
       "      <td>0.000000</td>\n",
       "      <td>0.000000</td>\n",
       "      <td>0.0</td>\n",
       "      <td>0.000000</td>\n",
       "      <td>0.000000</td>\n",
       "      <td>0.000000</td>\n",
       "      <td>0.000000</td>\n",
       "      <td>0.0</td>\n",
       "      <td>0.000000</td>\n",
       "      <td>0.000000</td>\n",
       "      <td>...</td>\n",
       "      <td>0.0</td>\n",
       "      <td>0.0</td>\n",
       "      <td>0.0</td>\n",
       "      <td>0.0</td>\n",
       "      <td>0.0</td>\n",
       "      <td>2015-01-31</td>\n",
       "      <td>4.1800</td>\n",
       "      <td>GLRI US Equity</td>\n",
       "      <td>NaN</td>\n",
       "      <td>-20.095694</td>\n",
       "    </tr>\n",
       "    <tr>\n",
       "      <th>0</th>\n",
       "      <td>0.000000</td>\n",
       "      <td>0.000000</td>\n",
       "      <td>0.0</td>\n",
       "      <td>0.000000</td>\n",
       "      <td>0.000000</td>\n",
       "      <td>0.000000</td>\n",
       "      <td>0.000000</td>\n",
       "      <td>0.0</td>\n",
       "      <td>0.000000</td>\n",
       "      <td>0.000000</td>\n",
       "      <td>...</td>\n",
       "      <td>0.0</td>\n",
       "      <td>0.0</td>\n",
       "      <td>0.0</td>\n",
       "      <td>0.0</td>\n",
       "      <td>0.0</td>\n",
       "      <td>2015-10-31</td>\n",
       "      <td>0.2450</td>\n",
       "      <td>AMMCF US Equity</td>\n",
       "      <td>NaN</td>\n",
       "      <td>0.000000</td>\n",
       "    </tr>\n",
       "    <tr>\n",
       "      <th>1</th>\n",
       "      <td>0.000000</td>\n",
       "      <td>0.000000</td>\n",
       "      <td>0.0</td>\n",
       "      <td>0.000000</td>\n",
       "      <td>0.000000</td>\n",
       "      <td>0.000000</td>\n",
       "      <td>0.000000</td>\n",
       "      <td>0.0</td>\n",
       "      <td>0.000000</td>\n",
       "      <td>0.000000</td>\n",
       "      <td>...</td>\n",
       "      <td>0.0</td>\n",
       "      <td>0.0</td>\n",
       "      <td>0.0</td>\n",
       "      <td>0.0</td>\n",
       "      <td>0.0</td>\n",
       "      <td>2015-10-31</td>\n",
       "      <td>0.2450</td>\n",
       "      <td>AMMCF US Equity</td>\n",
       "      <td>NaN</td>\n",
       "      <td>-7.591837</td>\n",
       "    </tr>\n",
       "    <tr>\n",
       "      <th>2</th>\n",
       "      <td>0.000000</td>\n",
       "      <td>0.000000</td>\n",
       "      <td>0.0</td>\n",
       "      <td>0.000000</td>\n",
       "      <td>0.000000</td>\n",
       "      <td>0.000000</td>\n",
       "      <td>0.000000</td>\n",
       "      <td>0.0</td>\n",
       "      <td>0.000000</td>\n",
       "      <td>0.000000</td>\n",
       "      <td>...</td>\n",
       "      <td>0.0</td>\n",
       "      <td>0.0</td>\n",
       "      <td>0.0</td>\n",
       "      <td>0.0</td>\n",
       "      <td>0.0</td>\n",
       "      <td>2015-10-31</td>\n",
       "      <td>0.2264</td>\n",
       "      <td>AMMCF US Equity</td>\n",
       "      <td>NaN</td>\n",
       "      <td>0.000000</td>\n",
       "    </tr>\n",
       "    <tr>\n",
       "      <th>3</th>\n",
       "      <td>0.000000</td>\n",
       "      <td>0.000000</td>\n",
       "      <td>0.0</td>\n",
       "      <td>0.000000</td>\n",
       "      <td>0.000000</td>\n",
       "      <td>0.000000</td>\n",
       "      <td>0.000000</td>\n",
       "      <td>0.0</td>\n",
       "      <td>0.000000</td>\n",
       "      <td>0.000000</td>\n",
       "      <td>...</td>\n",
       "      <td>0.0</td>\n",
       "      <td>0.0</td>\n",
       "      <td>0.0</td>\n",
       "      <td>0.0</td>\n",
       "      <td>0.0</td>\n",
       "      <td>2015-10-31</td>\n",
       "      <td>0.3100</td>\n",
       "      <td>AMMCF US Equity</td>\n",
       "      <td>1.0</td>\n",
       "      <td>44.612903</td>\n",
       "    </tr>\n",
       "    <tr>\n",
       "      <th>4</th>\n",
       "      <td>0.000000</td>\n",
       "      <td>0.000000</td>\n",
       "      <td>0.0</td>\n",
       "      <td>0.000000</td>\n",
       "      <td>0.000000</td>\n",
       "      <td>0.000000</td>\n",
       "      <td>0.000000</td>\n",
       "      <td>0.0</td>\n",
       "      <td>0.000000</td>\n",
       "      <td>0.000000</td>\n",
       "      <td>...</td>\n",
       "      <td>0.0</td>\n",
       "      <td>0.0</td>\n",
       "      <td>0.0</td>\n",
       "      <td>0.0</td>\n",
       "      <td>0.0</td>\n",
       "      <td>2015-10-31</td>\n",
       "      <td>0.2450</td>\n",
       "      <td>AMMCF US Equity</td>\n",
       "      <td>NaN</td>\n",
       "      <td>0.000000</td>\n",
       "    </tr>\n",
       "    <tr>\n",
       "      <th>5</th>\n",
       "      <td>0.000000</td>\n",
       "      <td>0.000000</td>\n",
       "      <td>0.0</td>\n",
       "      <td>0.000000</td>\n",
       "      <td>0.000000</td>\n",
       "      <td>0.000000</td>\n",
       "      <td>0.000000</td>\n",
       "      <td>0.0</td>\n",
       "      <td>0.000000</td>\n",
       "      <td>0.000000</td>\n",
       "      <td>...</td>\n",
       "      <td>0.0</td>\n",
       "      <td>0.0</td>\n",
       "      <td>0.0</td>\n",
       "      <td>0.0</td>\n",
       "      <td>0.0</td>\n",
       "      <td>2015-10-31</td>\n",
       "      <td>0.2450</td>\n",
       "      <td>AMMCF US Equity</td>\n",
       "      <td>NaN</td>\n",
       "      <td>0.000000</td>\n",
       "    </tr>\n",
       "    <tr>\n",
       "      <th>6</th>\n",
       "      <td>0.000000</td>\n",
       "      <td>0.000000</td>\n",
       "      <td>0.0</td>\n",
       "      <td>0.000000</td>\n",
       "      <td>0.000000</td>\n",
       "      <td>0.000000</td>\n",
       "      <td>0.000000</td>\n",
       "      <td>0.0</td>\n",
       "      <td>0.000000</td>\n",
       "      <td>0.000000</td>\n",
       "      <td>...</td>\n",
       "      <td>0.0</td>\n",
       "      <td>0.0</td>\n",
       "      <td>0.0</td>\n",
       "      <td>0.0</td>\n",
       "      <td>0.0</td>\n",
       "      <td>2015-10-31</td>\n",
       "      <td>0.4483</td>\n",
       "      <td>AMMCF US Equity</td>\n",
       "      <td>0.0</td>\n",
       "      <td>-26.388579</td>\n",
       "    </tr>\n",
       "    <tr>\n",
       "      <th>7</th>\n",
       "      <td>0.000000</td>\n",
       "      <td>0.000000</td>\n",
       "      <td>0.0</td>\n",
       "      <td>0.000000</td>\n",
       "      <td>0.000000</td>\n",
       "      <td>0.000000</td>\n",
       "      <td>0.000000</td>\n",
       "      <td>0.0</td>\n",
       "      <td>0.000000</td>\n",
       "      <td>0.000000</td>\n",
       "      <td>...</td>\n",
       "      <td>0.0</td>\n",
       "      <td>0.0</td>\n",
       "      <td>0.0</td>\n",
       "      <td>0.0</td>\n",
       "      <td>0.0</td>\n",
       "      <td>2015-10-31</td>\n",
       "      <td>0.3300</td>\n",
       "      <td>AMMCF US Equity</td>\n",
       "      <td>0.0</td>\n",
       "      <td>-25.757576</td>\n",
       "    </tr>\n",
       "    <tr>\n",
       "      <th>0</th>\n",
       "      <td>0.000000</td>\n",
       "      <td>0.134948</td>\n",
       "      <td>0.0</td>\n",
       "      <td>1.000000</td>\n",
       "      <td>0.573002</td>\n",
       "      <td>0.593344</td>\n",
       "      <td>0.436623</td>\n",
       "      <td>1.0</td>\n",
       "      <td>0.000000</td>\n",
       "      <td>0.589925</td>\n",
       "      <td>...</td>\n",
       "      <td>0.0</td>\n",
       "      <td>0.0</td>\n",
       "      <td>0.0</td>\n",
       "      <td>0.0</td>\n",
       "      <td>0.0</td>\n",
       "      <td>2015-10-31</td>\n",
       "      <td>10.4000</td>\n",
       "      <td>GNRT US Equity</td>\n",
       "      <td>NaN</td>\n",
       "      <td>-6.826923</td>\n",
       "    </tr>\n",
       "    <tr>\n",
       "      <th>1</th>\n",
       "      <td>0.000000</td>\n",
       "      <td>0.134948</td>\n",
       "      <td>0.0</td>\n",
       "      <td>1.000000</td>\n",
       "      <td>0.573002</td>\n",
       "      <td>0.593344</td>\n",
       "      <td>0.436623</td>\n",
       "      <td>1.0</td>\n",
       "      <td>0.000000</td>\n",
       "      <td>0.589925</td>\n",
       "      <td>...</td>\n",
       "      <td>0.0</td>\n",
       "      <td>0.0</td>\n",
       "      <td>0.0</td>\n",
       "      <td>0.0</td>\n",
       "      <td>0.0</td>\n",
       "      <td>2015-10-31</td>\n",
       "      <td>9.6900</td>\n",
       "      <td>GNRT US Equity</td>\n",
       "      <td>NaN</td>\n",
       "      <td>-2.476780</td>\n",
       "    </tr>\n",
       "    <tr>\n",
       "      <th>...</th>\n",
       "      <td>...</td>\n",
       "      <td>...</td>\n",
       "      <td>...</td>\n",
       "      <td>...</td>\n",
       "      <td>...</td>\n",
       "      <td>...</td>\n",
       "      <td>...</td>\n",
       "      <td>...</td>\n",
       "      <td>...</td>\n",
       "      <td>...</td>\n",
       "      <td>...</td>\n",
       "      <td>...</td>\n",
       "      <td>...</td>\n",
       "      <td>...</td>\n",
       "      <td>...</td>\n",
       "      <td>...</td>\n",
       "      <td>...</td>\n",
       "      <td>...</td>\n",
       "      <td>...</td>\n",
       "      <td>...</td>\n",
       "      <td>...</td>\n",
       "    </tr>\n",
       "    <tr>\n",
       "      <th>2</th>\n",
       "      <td>0.000000</td>\n",
       "      <td>0.000000</td>\n",
       "      <td>0.0</td>\n",
       "      <td>0.000000</td>\n",
       "      <td>0.000000</td>\n",
       "      <td>0.000000</td>\n",
       "      <td>0.000000</td>\n",
       "      <td>0.0</td>\n",
       "      <td>0.000000</td>\n",
       "      <td>0.000000</td>\n",
       "      <td>...</td>\n",
       "      <td>0.0</td>\n",
       "      <td>0.0</td>\n",
       "      <td>0.0</td>\n",
       "      <td>0.0</td>\n",
       "      <td>0.0</td>\n",
       "      <td>2015-10-31</td>\n",
       "      <td>7.4400</td>\n",
       "      <td>TNNFF US Equity</td>\n",
       "      <td>NaN</td>\n",
       "      <td>-8.602151</td>\n",
       "    </tr>\n",
       "    <tr>\n",
       "      <th>0</th>\n",
       "      <td>0.000000</td>\n",
       "      <td>0.000000</td>\n",
       "      <td>0.0</td>\n",
       "      <td>0.418549</td>\n",
       "      <td>0.000000</td>\n",
       "      <td>0.000000</td>\n",
       "      <td>0.000000</td>\n",
       "      <td>0.0</td>\n",
       "      <td>0.000000</td>\n",
       "      <td>0.000000</td>\n",
       "      <td>...</td>\n",
       "      <td>0.0</td>\n",
       "      <td>0.0</td>\n",
       "      <td>0.0</td>\n",
       "      <td>0.0</td>\n",
       "      <td>0.0</td>\n",
       "      <td>2015-10-31</td>\n",
       "      <td>1.0300</td>\n",
       "      <td>SHTLF US Equity</td>\n",
       "      <td>0.0</td>\n",
       "      <td>-18.446602</td>\n",
       "    </tr>\n",
       "    <tr>\n",
       "      <th>1</th>\n",
       "      <td>0.000000</td>\n",
       "      <td>0.000000</td>\n",
       "      <td>0.0</td>\n",
       "      <td>0.418549</td>\n",
       "      <td>0.000000</td>\n",
       "      <td>0.000000</td>\n",
       "      <td>0.000000</td>\n",
       "      <td>0.0</td>\n",
       "      <td>0.000000</td>\n",
       "      <td>0.000000</td>\n",
       "      <td>...</td>\n",
       "      <td>0.0</td>\n",
       "      <td>0.0</td>\n",
       "      <td>0.0</td>\n",
       "      <td>0.0</td>\n",
       "      <td>0.0</td>\n",
       "      <td>2015-10-31</td>\n",
       "      <td>0.8400</td>\n",
       "      <td>SHTLF US Equity</td>\n",
       "      <td>NaN</td>\n",
       "      <td>-9.523810</td>\n",
       "    </tr>\n",
       "    <tr>\n",
       "      <th>2</th>\n",
       "      <td>0.000000</td>\n",
       "      <td>0.000000</td>\n",
       "      <td>0.0</td>\n",
       "      <td>0.000000</td>\n",
       "      <td>0.000000</td>\n",
       "      <td>0.000000</td>\n",
       "      <td>0.000000</td>\n",
       "      <td>0.0</td>\n",
       "      <td>0.000000</td>\n",
       "      <td>0.000000</td>\n",
       "      <td>...</td>\n",
       "      <td>0.0</td>\n",
       "      <td>0.0</td>\n",
       "      <td>0.0</td>\n",
       "      <td>0.0</td>\n",
       "      <td>0.0</td>\n",
       "      <td>2015-10-31</td>\n",
       "      <td>0.7600</td>\n",
       "      <td>SHTLF US Equity</td>\n",
       "      <td>NaN</td>\n",
       "      <td>-11.671053</td>\n",
       "    </tr>\n",
       "    <tr>\n",
       "      <th>3</th>\n",
       "      <td>0.000000</td>\n",
       "      <td>0.000000</td>\n",
       "      <td>0.0</td>\n",
       "      <td>1.000000</td>\n",
       "      <td>0.000000</td>\n",
       "      <td>0.000000</td>\n",
       "      <td>0.000000</td>\n",
       "      <td>0.0</td>\n",
       "      <td>0.000000</td>\n",
       "      <td>0.000000</td>\n",
       "      <td>...</td>\n",
       "      <td>0.0</td>\n",
       "      <td>0.0</td>\n",
       "      <td>0.0</td>\n",
       "      <td>0.0</td>\n",
       "      <td>0.0</td>\n",
       "      <td>2015-10-31</td>\n",
       "      <td>1.0900</td>\n",
       "      <td>SHTLF US Equity</td>\n",
       "      <td>NaN</td>\n",
       "      <td>-14.678899</td>\n",
       "    </tr>\n",
       "    <tr>\n",
       "      <th>4</th>\n",
       "      <td>0.000000</td>\n",
       "      <td>0.000000</td>\n",
       "      <td>0.0</td>\n",
       "      <td>0.418549</td>\n",
       "      <td>0.000000</td>\n",
       "      <td>0.000000</td>\n",
       "      <td>0.000000</td>\n",
       "      <td>0.0</td>\n",
       "      <td>0.000000</td>\n",
       "      <td>0.000000</td>\n",
       "      <td>...</td>\n",
       "      <td>0.0</td>\n",
       "      <td>0.0</td>\n",
       "      <td>0.0</td>\n",
       "      <td>0.0</td>\n",
       "      <td>0.0</td>\n",
       "      <td>2015-10-31</td>\n",
       "      <td>0.9300</td>\n",
       "      <td>SHTLF US Equity</td>\n",
       "      <td>NaN</td>\n",
       "      <td>10.752688</td>\n",
       "    </tr>\n",
       "    <tr>\n",
       "      <th>5</th>\n",
       "      <td>0.000000</td>\n",
       "      <td>0.000000</td>\n",
       "      <td>0.0</td>\n",
       "      <td>1.000000</td>\n",
       "      <td>0.000000</td>\n",
       "      <td>0.000000</td>\n",
       "      <td>0.000000</td>\n",
       "      <td>0.0</td>\n",
       "      <td>0.000000</td>\n",
       "      <td>0.000000</td>\n",
       "      <td>...</td>\n",
       "      <td>0.0</td>\n",
       "      <td>0.0</td>\n",
       "      <td>0.0</td>\n",
       "      <td>0.0</td>\n",
       "      <td>0.0</td>\n",
       "      <td>2015-10-31</td>\n",
       "      <td>1.3300</td>\n",
       "      <td>SHTLF US Equity</td>\n",
       "      <td>NaN</td>\n",
       "      <td>-5.263158</td>\n",
       "    </tr>\n",
       "    <tr>\n",
       "      <th>6</th>\n",
       "      <td>0.000000</td>\n",
       "      <td>0.000000</td>\n",
       "      <td>0.0</td>\n",
       "      <td>1.000000</td>\n",
       "      <td>0.000000</td>\n",
       "      <td>0.000000</td>\n",
       "      <td>0.000000</td>\n",
       "      <td>0.0</td>\n",
       "      <td>0.000000</td>\n",
       "      <td>0.000000</td>\n",
       "      <td>...</td>\n",
       "      <td>0.0</td>\n",
       "      <td>0.0</td>\n",
       "      <td>0.0</td>\n",
       "      <td>0.0</td>\n",
       "      <td>0.0</td>\n",
       "      <td>2015-10-31</td>\n",
       "      <td>1.2600</td>\n",
       "      <td>SHTLF US Equity</td>\n",
       "      <td>NaN</td>\n",
       "      <td>-13.492063</td>\n",
       "    </tr>\n",
       "    <tr>\n",
       "      <th>0</th>\n",
       "      <td>0.000000</td>\n",
       "      <td>0.000000</td>\n",
       "      <td>0.0</td>\n",
       "      <td>1.000000</td>\n",
       "      <td>0.000000</td>\n",
       "      <td>0.000000</td>\n",
       "      <td>0.000000</td>\n",
       "      <td>0.0</td>\n",
       "      <td>0.000000</td>\n",
       "      <td>0.000000</td>\n",
       "      <td>...</td>\n",
       "      <td>0.0</td>\n",
       "      <td>0.0</td>\n",
       "      <td>0.0</td>\n",
       "      <td>0.0</td>\n",
       "      <td>0.0</td>\n",
       "      <td>2015-10-31</td>\n",
       "      <td>0.7359</td>\n",
       "      <td>AXIIF US Equity</td>\n",
       "      <td>NaN</td>\n",
       "      <td>0.000000</td>\n",
       "    </tr>\n",
       "    <tr>\n",
       "      <th>1</th>\n",
       "      <td>0.000000</td>\n",
       "      <td>0.000000</td>\n",
       "      <td>0.0</td>\n",
       "      <td>1.000000</td>\n",
       "      <td>0.000000</td>\n",
       "      <td>0.000000</td>\n",
       "      <td>0.000000</td>\n",
       "      <td>0.0</td>\n",
       "      <td>0.000000</td>\n",
       "      <td>0.000000</td>\n",
       "      <td>...</td>\n",
       "      <td>0.0</td>\n",
       "      <td>0.0</td>\n",
       "      <td>0.0</td>\n",
       "      <td>0.0</td>\n",
       "      <td>0.0</td>\n",
       "      <td>2015-10-31</td>\n",
       "      <td>0.7359</td>\n",
       "      <td>AXIIF US Equity</td>\n",
       "      <td>NaN</td>\n",
       "      <td>0.000000</td>\n",
       "    </tr>\n",
       "    <tr>\n",
       "      <th>2</th>\n",
       "      <td>0.000000</td>\n",
       "      <td>0.000000</td>\n",
       "      <td>0.0</td>\n",
       "      <td>1.000000</td>\n",
       "      <td>0.000000</td>\n",
       "      <td>0.000000</td>\n",
       "      <td>0.000000</td>\n",
       "      <td>0.0</td>\n",
       "      <td>0.000000</td>\n",
       "      <td>0.000000</td>\n",
       "      <td>...</td>\n",
       "      <td>0.0</td>\n",
       "      <td>0.0</td>\n",
       "      <td>0.0</td>\n",
       "      <td>0.0</td>\n",
       "      <td>0.0</td>\n",
       "      <td>2015-10-31</td>\n",
       "      <td>0.7359</td>\n",
       "      <td>AXIIF US Equity</td>\n",
       "      <td>NaN</td>\n",
       "      <td>0.000000</td>\n",
       "    </tr>\n",
       "    <tr>\n",
       "      <th>3</th>\n",
       "      <td>0.000000</td>\n",
       "      <td>0.000000</td>\n",
       "      <td>0.0</td>\n",
       "      <td>0.000000</td>\n",
       "      <td>0.000000</td>\n",
       "      <td>0.000000</td>\n",
       "      <td>0.000000</td>\n",
       "      <td>0.0</td>\n",
       "      <td>0.000000</td>\n",
       "      <td>0.000000</td>\n",
       "      <td>...</td>\n",
       "      <td>0.0</td>\n",
       "      <td>0.0</td>\n",
       "      <td>0.0</td>\n",
       "      <td>0.0</td>\n",
       "      <td>0.0</td>\n",
       "      <td>2015-10-31</td>\n",
       "      <td>0.5100</td>\n",
       "      <td>AXIIF US Equity</td>\n",
       "      <td>NaN</td>\n",
       "      <td>0.000000</td>\n",
       "    </tr>\n",
       "    <tr>\n",
       "      <th>4</th>\n",
       "      <td>0.000000</td>\n",
       "      <td>0.000000</td>\n",
       "      <td>0.0</td>\n",
       "      <td>1.000000</td>\n",
       "      <td>0.000000</td>\n",
       "      <td>0.000000</td>\n",
       "      <td>0.000000</td>\n",
       "      <td>0.0</td>\n",
       "      <td>0.000000</td>\n",
       "      <td>0.000000</td>\n",
       "      <td>...</td>\n",
       "      <td>0.0</td>\n",
       "      <td>0.0</td>\n",
       "      <td>0.0</td>\n",
       "      <td>0.0</td>\n",
       "      <td>0.0</td>\n",
       "      <td>2015-10-31</td>\n",
       "      <td>0.5100</td>\n",
       "      <td>AXIIF US Equity</td>\n",
       "      <td>1.0</td>\n",
       "      <td>44.294118</td>\n",
       "    </tr>\n",
       "    <tr>\n",
       "      <th>5</th>\n",
       "      <td>0.000000</td>\n",
       "      <td>0.000000</td>\n",
       "      <td>0.0</td>\n",
       "      <td>1.000000</td>\n",
       "      <td>0.000000</td>\n",
       "      <td>0.000000</td>\n",
       "      <td>0.000000</td>\n",
       "      <td>0.0</td>\n",
       "      <td>0.000000</td>\n",
       "      <td>0.000000</td>\n",
       "      <td>...</td>\n",
       "      <td>0.0</td>\n",
       "      <td>0.0</td>\n",
       "      <td>0.0</td>\n",
       "      <td>0.0</td>\n",
       "      <td>0.0</td>\n",
       "      <td>2015-10-31</td>\n",
       "      <td>0.7359</td>\n",
       "      <td>AXIIF US Equity</td>\n",
       "      <td>NaN</td>\n",
       "      <td>0.000000</td>\n",
       "    </tr>\n",
       "    <tr>\n",
       "      <th>6</th>\n",
       "      <td>0.000000</td>\n",
       "      <td>0.000000</td>\n",
       "      <td>0.0</td>\n",
       "      <td>1.000000</td>\n",
       "      <td>0.000000</td>\n",
       "      <td>0.000000</td>\n",
       "      <td>0.000000</td>\n",
       "      <td>0.0</td>\n",
       "      <td>0.000000</td>\n",
       "      <td>0.000000</td>\n",
       "      <td>...</td>\n",
       "      <td>0.0</td>\n",
       "      <td>0.0</td>\n",
       "      <td>0.0</td>\n",
       "      <td>0.0</td>\n",
       "      <td>0.0</td>\n",
       "      <td>2015-10-31</td>\n",
       "      <td>0.5100</td>\n",
       "      <td>AXIIF US Equity</td>\n",
       "      <td>NaN</td>\n",
       "      <td>0.000000</td>\n",
       "    </tr>\n",
       "    <tr>\n",
       "      <th>7</th>\n",
       "      <td>0.000000</td>\n",
       "      <td>0.000000</td>\n",
       "      <td>0.0</td>\n",
       "      <td>1.000000</td>\n",
       "      <td>0.000000</td>\n",
       "      <td>0.000000</td>\n",
       "      <td>0.000000</td>\n",
       "      <td>0.0</td>\n",
       "      <td>0.000000</td>\n",
       "      <td>0.000000</td>\n",
       "      <td>...</td>\n",
       "      <td>0.0</td>\n",
       "      <td>0.0</td>\n",
       "      <td>0.0</td>\n",
       "      <td>0.0</td>\n",
       "      <td>0.0</td>\n",
       "      <td>2015-10-31</td>\n",
       "      <td>0.5100</td>\n",
       "      <td>AXIIF US Equity</td>\n",
       "      <td>NaN</td>\n",
       "      <td>0.000000</td>\n",
       "    </tr>\n",
       "    <tr>\n",
       "      <th>0</th>\n",
       "      <td>1.000000</td>\n",
       "      <td>0.000000</td>\n",
       "      <td>0.0</td>\n",
       "      <td>0.000000</td>\n",
       "      <td>1.000000</td>\n",
       "      <td>0.000000</td>\n",
       "      <td>0.000000</td>\n",
       "      <td>0.0</td>\n",
       "      <td>0.000000</td>\n",
       "      <td>0.000000</td>\n",
       "      <td>...</td>\n",
       "      <td>0.0</td>\n",
       "      <td>0.0</td>\n",
       "      <td>0.0</td>\n",
       "      <td>0.0</td>\n",
       "      <td>0.0</td>\n",
       "      <td>2015-10-31</td>\n",
       "      <td>2.7158</td>\n",
       "      <td>KLGDF US Equity</td>\n",
       "      <td>0.0</td>\n",
       "      <td>-17.055748</td>\n",
       "    </tr>\n",
       "    <tr>\n",
       "      <th>1</th>\n",
       "      <td>1.000000</td>\n",
       "      <td>0.000000</td>\n",
       "      <td>0.0</td>\n",
       "      <td>0.000000</td>\n",
       "      <td>1.000000</td>\n",
       "      <td>0.000000</td>\n",
       "      <td>0.000000</td>\n",
       "      <td>0.0</td>\n",
       "      <td>0.000000</td>\n",
       "      <td>0.000000</td>\n",
       "      <td>...</td>\n",
       "      <td>0.0</td>\n",
       "      <td>0.0</td>\n",
       "      <td>0.0</td>\n",
       "      <td>0.0</td>\n",
       "      <td>0.0</td>\n",
       "      <td>2015-10-31</td>\n",
       "      <td>2.2526</td>\n",
       "      <td>KLGDF US Equity</td>\n",
       "      <td>NaN</td>\n",
       "      <td>-7.848708</td>\n",
       "    </tr>\n",
       "    <tr>\n",
       "      <th>2</th>\n",
       "      <td>0.000000</td>\n",
       "      <td>0.000000</td>\n",
       "      <td>0.0</td>\n",
       "      <td>1.000000</td>\n",
       "      <td>0.000000</td>\n",
       "      <td>0.000000</td>\n",
       "      <td>0.000000</td>\n",
       "      <td>0.0</td>\n",
       "      <td>0.000000</td>\n",
       "      <td>0.000000</td>\n",
       "      <td>...</td>\n",
       "      <td>0.0</td>\n",
       "      <td>0.0</td>\n",
       "      <td>0.0</td>\n",
       "      <td>0.0</td>\n",
       "      <td>0.0</td>\n",
       "      <td>2015-10-31</td>\n",
       "      <td>2.0758</td>\n",
       "      <td>KLGDF US Equity</td>\n",
       "      <td>1.0</td>\n",
       "      <td>11.359476</td>\n",
       "    </tr>\n",
       "    <tr>\n",
       "      <th>3</th>\n",
       "      <td>1.000000</td>\n",
       "      <td>0.000000</td>\n",
       "      <td>0.0</td>\n",
       "      <td>0.000000</td>\n",
       "      <td>1.000000</td>\n",
       "      <td>0.000000</td>\n",
       "      <td>0.000000</td>\n",
       "      <td>0.0</td>\n",
       "      <td>0.000000</td>\n",
       "      <td>0.000000</td>\n",
       "      <td>...</td>\n",
       "      <td>0.0</td>\n",
       "      <td>0.0</td>\n",
       "      <td>0.0</td>\n",
       "      <td>0.0</td>\n",
       "      <td>0.0</td>\n",
       "      <td>2015-10-31</td>\n",
       "      <td>2.2375</td>\n",
       "      <td>KLGDF US Equity</td>\n",
       "      <td>1.0</td>\n",
       "      <td>21.376536</td>\n",
       "    </tr>\n",
       "    <tr>\n",
       "      <th>0</th>\n",
       "      <td>1.000000</td>\n",
       "      <td>0.808486</td>\n",
       "      <td>0.0</td>\n",
       "      <td>1.000000</td>\n",
       "      <td>0.873238</td>\n",
       "      <td>0.000000</td>\n",
       "      <td>0.456991</td>\n",
       "      <td>0.0</td>\n",
       "      <td>0.269914</td>\n",
       "      <td>0.000000</td>\n",
       "      <td>...</td>\n",
       "      <td>0.0</td>\n",
       "      <td>0.0</td>\n",
       "      <td>0.0</td>\n",
       "      <td>0.0</td>\n",
       "      <td>0.0</td>\n",
       "      <td>2015-10-31</td>\n",
       "      <td>0.0900</td>\n",
       "      <td>SUAFF US Equity</td>\n",
       "      <td>NaN</td>\n",
       "      <td>0.000000</td>\n",
       "    </tr>\n",
       "    <tr>\n",
       "      <th>1</th>\n",
       "      <td>1.000000</td>\n",
       "      <td>0.808486</td>\n",
       "      <td>0.0</td>\n",
       "      <td>1.000000</td>\n",
       "      <td>0.873238</td>\n",
       "      <td>0.000000</td>\n",
       "      <td>0.456991</td>\n",
       "      <td>0.0</td>\n",
       "      <td>0.269914</td>\n",
       "      <td>0.000000</td>\n",
       "      <td>...</td>\n",
       "      <td>0.0</td>\n",
       "      <td>0.0</td>\n",
       "      <td>0.0</td>\n",
       "      <td>0.0</td>\n",
       "      <td>0.0</td>\n",
       "      <td>2015-10-31</td>\n",
       "      <td>0.0900</td>\n",
       "      <td>SUAFF US Equity</td>\n",
       "      <td>NaN</td>\n",
       "      <td>0.000000</td>\n",
       "    </tr>\n",
       "    <tr>\n",
       "      <th>2</th>\n",
       "      <td>0.000000</td>\n",
       "      <td>0.000000</td>\n",
       "      <td>0.0</td>\n",
       "      <td>0.000000</td>\n",
       "      <td>0.000000</td>\n",
       "      <td>0.643123</td>\n",
       "      <td>0.000000</td>\n",
       "      <td>0.0</td>\n",
       "      <td>0.000000</td>\n",
       "      <td>1.000000</td>\n",
       "      <td>...</td>\n",
       "      <td>0.0</td>\n",
       "      <td>0.0</td>\n",
       "      <td>0.0</td>\n",
       "      <td>0.0</td>\n",
       "      <td>0.0</td>\n",
       "      <td>2015-10-31</td>\n",
       "      <td>0.0420</td>\n",
       "      <td>SUAFF US Equity</td>\n",
       "      <td>1.0</td>\n",
       "      <td>114.285714</td>\n",
       "    </tr>\n",
       "    <tr>\n",
       "      <th>3</th>\n",
       "      <td>0.656625</td>\n",
       "      <td>1.000000</td>\n",
       "      <td>0.0</td>\n",
       "      <td>1.000000</td>\n",
       "      <td>1.000000</td>\n",
       "      <td>0.000000</td>\n",
       "      <td>0.456991</td>\n",
       "      <td>0.0</td>\n",
       "      <td>0.269914</td>\n",
       "      <td>0.000000</td>\n",
       "      <td>...</td>\n",
       "      <td>0.0</td>\n",
       "      <td>0.0</td>\n",
       "      <td>0.0</td>\n",
       "      <td>0.0</td>\n",
       "      <td>0.0</td>\n",
       "      <td>2015-10-31</td>\n",
       "      <td>0.0900</td>\n",
       "      <td>SUAFF US Equity</td>\n",
       "      <td>NaN</td>\n",
       "      <td>0.000000</td>\n",
       "    </tr>\n",
       "    <tr>\n",
       "      <th>4</th>\n",
       "      <td>0.000000</td>\n",
       "      <td>0.000000</td>\n",
       "      <td>0.0</td>\n",
       "      <td>0.000000</td>\n",
       "      <td>0.000000</td>\n",
       "      <td>0.643123</td>\n",
       "      <td>0.000000</td>\n",
       "      <td>0.0</td>\n",
       "      <td>0.000000</td>\n",
       "      <td>1.000000</td>\n",
       "      <td>...</td>\n",
       "      <td>0.0</td>\n",
       "      <td>0.0</td>\n",
       "      <td>0.0</td>\n",
       "      <td>0.0</td>\n",
       "      <td>0.0</td>\n",
       "      <td>2015-10-31</td>\n",
       "      <td>0.0900</td>\n",
       "      <td>SUAFF US Equity</td>\n",
       "      <td>NaN</td>\n",
       "      <td>0.000000</td>\n",
       "    </tr>\n",
       "    <tr>\n",
       "      <th>5</th>\n",
       "      <td>0.000000</td>\n",
       "      <td>0.000000</td>\n",
       "      <td>0.0</td>\n",
       "      <td>0.000000</td>\n",
       "      <td>0.000000</td>\n",
       "      <td>0.643123</td>\n",
       "      <td>0.000000</td>\n",
       "      <td>0.0</td>\n",
       "      <td>0.000000</td>\n",
       "      <td>1.000000</td>\n",
       "      <td>...</td>\n",
       "      <td>0.0</td>\n",
       "      <td>0.0</td>\n",
       "      <td>0.0</td>\n",
       "      <td>0.0</td>\n",
       "      <td>0.0</td>\n",
       "      <td>2015-10-31</td>\n",
       "      <td>0.0900</td>\n",
       "      <td>SUAFF US Equity</td>\n",
       "      <td>NaN</td>\n",
       "      <td>0.000000</td>\n",
       "    </tr>\n",
       "    <tr>\n",
       "      <th>6</th>\n",
       "      <td>0.283871</td>\n",
       "      <td>0.286868</td>\n",
       "      <td>0.0</td>\n",
       "      <td>1.000000</td>\n",
       "      <td>0.275918</td>\n",
       "      <td>1.000000</td>\n",
       "      <td>1.000000</td>\n",
       "      <td>0.0</td>\n",
       "      <td>1.000000</td>\n",
       "      <td>0.498632</td>\n",
       "      <td>...</td>\n",
       "      <td>0.0</td>\n",
       "      <td>0.0</td>\n",
       "      <td>0.0</td>\n",
       "      <td>0.0</td>\n",
       "      <td>0.0</td>\n",
       "      <td>2015-10-31</td>\n",
       "      <td>0.0900</td>\n",
       "      <td>SUAFF US Equity</td>\n",
       "      <td>NaN</td>\n",
       "      <td>0.000000</td>\n",
       "    </tr>\n",
       "    <tr>\n",
       "      <th>7</th>\n",
       "      <td>1.000000</td>\n",
       "      <td>0.808486</td>\n",
       "      <td>0.0</td>\n",
       "      <td>1.000000</td>\n",
       "      <td>0.873238</td>\n",
       "      <td>0.000000</td>\n",
       "      <td>0.456991</td>\n",
       "      <td>0.0</td>\n",
       "      <td>0.269914</td>\n",
       "      <td>0.000000</td>\n",
       "      <td>...</td>\n",
       "      <td>0.0</td>\n",
       "      <td>0.0</td>\n",
       "      <td>0.0</td>\n",
       "      <td>0.0</td>\n",
       "      <td>0.0</td>\n",
       "      <td>2015-10-31</td>\n",
       "      <td>0.0900</td>\n",
       "      <td>SUAFF US Equity</td>\n",
       "      <td>NaN</td>\n",
       "      <td>0.000000</td>\n",
       "    </tr>\n",
       "    <tr>\n",
       "      <th>8</th>\n",
       "      <td>0.283871</td>\n",
       "      <td>0.286868</td>\n",
       "      <td>0.0</td>\n",
       "      <td>1.000000</td>\n",
       "      <td>0.275918</td>\n",
       "      <td>1.000000</td>\n",
       "      <td>1.000000</td>\n",
       "      <td>0.0</td>\n",
       "      <td>1.000000</td>\n",
       "      <td>0.498632</td>\n",
       "      <td>...</td>\n",
       "      <td>0.0</td>\n",
       "      <td>0.0</td>\n",
       "      <td>0.0</td>\n",
       "      <td>0.0</td>\n",
       "      <td>0.0</td>\n",
       "      <td>2015-10-31</td>\n",
       "      <td>0.0900</td>\n",
       "      <td>SUAFF US Equity</td>\n",
       "      <td>NaN</td>\n",
       "      <td>0.000000</td>\n",
       "    </tr>\n",
       "    <tr>\n",
       "      <th>9</th>\n",
       "      <td>0.283871</td>\n",
       "      <td>0.286868</td>\n",
       "      <td>0.0</td>\n",
       "      <td>1.000000</td>\n",
       "      <td>0.275918</td>\n",
       "      <td>1.000000</td>\n",
       "      <td>1.000000</td>\n",
       "      <td>0.0</td>\n",
       "      <td>1.000000</td>\n",
       "      <td>0.498632</td>\n",
       "      <td>...</td>\n",
       "      <td>0.0</td>\n",
       "      <td>0.0</td>\n",
       "      <td>0.0</td>\n",
       "      <td>0.0</td>\n",
       "      <td>0.0</td>\n",
       "      <td>2015-10-31</td>\n",
       "      <td>0.0900</td>\n",
       "      <td>SUAFF US Equity</td>\n",
       "      <td>NaN</td>\n",
       "      <td>0.000000</td>\n",
       "    </tr>\n",
       "  </tbody>\n",
       "</table>\n",
       "<p>320 rows × 122 columns</p>\n",
       "</div>"
      ],
      "text/plain": [
       "    account_receivable  asset_turnover  basic_eps_5yr_avg_growth  \\\n",
       "0             0.000000        0.000000                       1.0   \n",
       "1             0.000000        0.000000                       1.0   \n",
       "2             0.000000        0.000000                       1.0   \n",
       "3             0.000000        1.000000                       0.0   \n",
       "4             0.000000        1.000000                       0.0   \n",
       "5             0.000000        0.500000                       1.0   \n",
       "6             0.000000        0.500000                       1.0   \n",
       "7             0.000000        0.500000                       1.0   \n",
       "8             0.000000        0.500000                       1.0   \n",
       "0             0.000000        0.000000                       0.0   \n",
       "1             0.000000        0.000000                       0.0   \n",
       "2             0.000000        0.000000                       0.0   \n",
       "3             0.000000        0.000000                       0.0   \n",
       "0             0.000000        0.000000                       0.0   \n",
       "1             0.000000        0.000000                       0.0   \n",
       "2             0.000000        0.000000                       0.0   \n",
       "0             0.000000        0.000000                       0.0   \n",
       "1             0.000000        0.000000                       0.0   \n",
       "0             0.000000        0.000000                       0.0   \n",
       "1             0.000000        0.000000                       0.0   \n",
       "0             0.000000        0.000000                       0.0   \n",
       "1             0.000000        0.000000                       0.0   \n",
       "2             0.000000        0.000000                       0.0   \n",
       "3             0.000000        0.000000                       0.0   \n",
       "4             0.000000        0.000000                       0.0   \n",
       "5             0.000000        0.000000                       0.0   \n",
       "6             0.000000        0.000000                       0.0   \n",
       "7             0.000000        0.000000                       0.0   \n",
       "0             0.000000        0.134948                       0.0   \n",
       "1             0.000000        0.134948                       0.0   \n",
       "..                 ...             ...                       ...   \n",
       "2             0.000000        0.000000                       0.0   \n",
       "0             0.000000        0.000000                       0.0   \n",
       "1             0.000000        0.000000                       0.0   \n",
       "2             0.000000        0.000000                       0.0   \n",
       "3             0.000000        0.000000                       0.0   \n",
       "4             0.000000        0.000000                       0.0   \n",
       "5             0.000000        0.000000                       0.0   \n",
       "6             0.000000        0.000000                       0.0   \n",
       "0             0.000000        0.000000                       0.0   \n",
       "1             0.000000        0.000000                       0.0   \n",
       "2             0.000000        0.000000                       0.0   \n",
       "3             0.000000        0.000000                       0.0   \n",
       "4             0.000000        0.000000                       0.0   \n",
       "5             0.000000        0.000000                       0.0   \n",
       "6             0.000000        0.000000                       0.0   \n",
       "7             0.000000        0.000000                       0.0   \n",
       "0             1.000000        0.000000                       0.0   \n",
       "1             1.000000        0.000000                       0.0   \n",
       "2             0.000000        0.000000                       0.0   \n",
       "3             1.000000        0.000000                       0.0   \n",
       "0             1.000000        0.808486                       0.0   \n",
       "1             1.000000        0.808486                       0.0   \n",
       "2             0.000000        0.000000                       0.0   \n",
       "3             0.656625        1.000000                       0.0   \n",
       "4             0.000000        0.000000                       0.0   \n",
       "5             0.000000        0.000000                       0.0   \n",
       "6             0.283871        0.286868                       0.0   \n",
       "7             1.000000        0.808486                       0.0   \n",
       "8             0.283871        0.286868                       0.0   \n",
       "9             0.283871        0.286868                       0.0   \n",
       "\n",
       "    best_target_price  book_value  capital_expenditures  \\\n",
       "0            0.631579    0.000000              0.000000   \n",
       "1            0.631579    0.000000              0.000000   \n",
       "2            0.631579    0.000000              0.000000   \n",
       "3            0.000000    1.000000              1.000000   \n",
       "4            0.000000    1.000000              1.000000   \n",
       "5            1.000000    0.213655              1.000000   \n",
       "6            1.000000    0.213655              1.000000   \n",
       "7            1.000000    0.213655              1.000000   \n",
       "8            1.000000    0.213655              1.000000   \n",
       "0            0.000000    0.000000              0.000000   \n",
       "1            0.000000    0.000000              0.000000   \n",
       "2            0.000000    0.000000              0.000000   \n",
       "3            0.000000    0.000000              0.000000   \n",
       "0            1.000000    0.000000              0.000000   \n",
       "1            1.000000    0.000000              0.000000   \n",
       "2            0.000000    0.000000              0.000000   \n",
       "0            0.000000    0.000000              0.000000   \n",
       "1            0.000000    0.000000              0.000000   \n",
       "0            0.000000    0.000000              0.000000   \n",
       "1            0.000000    0.000000              0.000000   \n",
       "0            0.000000    0.000000              0.000000   \n",
       "1            0.000000    0.000000              0.000000   \n",
       "2            0.000000    0.000000              0.000000   \n",
       "3            0.000000    0.000000              0.000000   \n",
       "4            0.000000    0.000000              0.000000   \n",
       "5            0.000000    0.000000              0.000000   \n",
       "6            0.000000    0.000000              0.000000   \n",
       "7            0.000000    0.000000              0.000000   \n",
       "0            1.000000    0.573002              0.593344   \n",
       "1            1.000000    0.573002              0.593344   \n",
       "..                ...         ...                   ...   \n",
       "2            0.000000    0.000000              0.000000   \n",
       "0            0.418549    0.000000              0.000000   \n",
       "1            0.418549    0.000000              0.000000   \n",
       "2            0.000000    0.000000              0.000000   \n",
       "3            1.000000    0.000000              0.000000   \n",
       "4            0.418549    0.000000              0.000000   \n",
       "5            1.000000    0.000000              0.000000   \n",
       "6            1.000000    0.000000              0.000000   \n",
       "0            1.000000    0.000000              0.000000   \n",
       "1            1.000000    0.000000              0.000000   \n",
       "2            1.000000    0.000000              0.000000   \n",
       "3            0.000000    0.000000              0.000000   \n",
       "4            1.000000    0.000000              0.000000   \n",
       "5            1.000000    0.000000              0.000000   \n",
       "6            1.000000    0.000000              0.000000   \n",
       "7            1.000000    0.000000              0.000000   \n",
       "0            0.000000    1.000000              0.000000   \n",
       "1            0.000000    1.000000              0.000000   \n",
       "2            1.000000    0.000000              0.000000   \n",
       "3            0.000000    1.000000              0.000000   \n",
       "0            1.000000    0.873238              0.000000   \n",
       "1            1.000000    0.873238              0.000000   \n",
       "2            0.000000    0.000000              0.643123   \n",
       "3            1.000000    1.000000              0.000000   \n",
       "4            0.000000    0.000000              0.643123   \n",
       "5            0.000000    0.000000              0.643123   \n",
       "6            1.000000    0.275918              1.000000   \n",
       "7            1.000000    0.873238              0.000000   \n",
       "8            1.000000    0.275918              1.000000   \n",
       "9            1.000000    0.275918              1.000000   \n",
       "\n",
       "    cash_cash_equivalents  cash_flow_per_share  cash_from_financing  \\\n",
       "0                0.000000                  0.0             0.000000   \n",
       "1                0.000000                  0.0             0.000000   \n",
       "2                0.000000                  0.0             0.000000   \n",
       "3                1.000000                  0.0             0.000000   \n",
       "4                1.000000                  0.0             0.000000   \n",
       "5                0.421442                  0.0             0.000000   \n",
       "6                0.421442                  0.0             0.000000   \n",
       "7                0.421442                  0.0             0.000000   \n",
       "8                0.421442                  0.0             0.000000   \n",
       "0                0.000000                  0.0             0.000000   \n",
       "1                0.000000                  0.0             0.000000   \n",
       "2                0.000000                  0.0             0.000000   \n",
       "3                0.000000                  0.0             0.000000   \n",
       "0                0.000000                  0.0             0.000000   \n",
       "1                0.000000                  0.0             0.000000   \n",
       "2                0.000000                  0.0             0.000000   \n",
       "0                0.000000                  0.0             0.000000   \n",
       "1                0.000000                  0.0             0.000000   \n",
       "0                0.000000                  0.0             0.000000   \n",
       "1                0.000000                  0.0             0.000000   \n",
       "0                0.000000                  0.0             0.000000   \n",
       "1                0.000000                  0.0             0.000000   \n",
       "2                0.000000                  0.0             0.000000   \n",
       "3                0.000000                  0.0             0.000000   \n",
       "4                0.000000                  0.0             0.000000   \n",
       "5                0.000000                  0.0             0.000000   \n",
       "6                0.000000                  0.0             0.000000   \n",
       "7                0.000000                  0.0             0.000000   \n",
       "0                0.436623                  1.0             0.000000   \n",
       "1                0.436623                  1.0             0.000000   \n",
       "..                    ...                  ...                  ...   \n",
       "2                0.000000                  0.0             0.000000   \n",
       "0                0.000000                  0.0             0.000000   \n",
       "1                0.000000                  0.0             0.000000   \n",
       "2                0.000000                  0.0             0.000000   \n",
       "3                0.000000                  0.0             0.000000   \n",
       "4                0.000000                  0.0             0.000000   \n",
       "5                0.000000                  0.0             0.000000   \n",
       "6                0.000000                  0.0             0.000000   \n",
       "0                0.000000                  0.0             0.000000   \n",
       "1                0.000000                  0.0             0.000000   \n",
       "2                0.000000                  0.0             0.000000   \n",
       "3                0.000000                  0.0             0.000000   \n",
       "4                0.000000                  0.0             0.000000   \n",
       "5                0.000000                  0.0             0.000000   \n",
       "6                0.000000                  0.0             0.000000   \n",
       "7                0.000000                  0.0             0.000000   \n",
       "0                0.000000                  0.0             0.000000   \n",
       "1                0.000000                  0.0             0.000000   \n",
       "2                0.000000                  0.0             0.000000   \n",
       "3                0.000000                  0.0             0.000000   \n",
       "0                0.456991                  0.0             0.269914   \n",
       "1                0.456991                  0.0             0.269914   \n",
       "2                0.000000                  0.0             0.000000   \n",
       "3                0.456991                  0.0             0.269914   \n",
       "4                0.000000                  0.0             0.000000   \n",
       "5                0.000000                  0.0             0.000000   \n",
       "6                1.000000                  0.0             1.000000   \n",
       "7                0.456991                  0.0             0.269914   \n",
       "8                1.000000                  0.0             1.000000   \n",
       "9                1.000000                  0.0             1.000000   \n",
       "\n",
       "    cash_from_investing     ...       bbg_mom_1m  bbg_mom_3m  bbg_mom_6m  \\\n",
       "0              0.000000     ...              0.0         0.0         0.0   \n",
       "1              0.000000     ...              0.0         0.0         0.0   \n",
       "2              0.000000     ...              0.0         0.0         0.0   \n",
       "3              1.000000     ...              0.0         0.0         0.0   \n",
       "4              1.000000     ...              0.0         0.0         0.0   \n",
       "5              1.000000     ...              0.0         0.0         0.0   \n",
       "6              1.000000     ...              0.0         0.0         0.0   \n",
       "7              1.000000     ...              0.0         0.0         0.0   \n",
       "8              1.000000     ...              0.0         0.0         0.0   \n",
       "0              0.000000     ...              0.0         0.0         0.0   \n",
       "1              0.000000     ...              0.0         0.0         0.0   \n",
       "2              0.000000     ...              0.0         0.0         0.0   \n",
       "3              0.000000     ...              0.0         0.0         0.0   \n",
       "0              0.000000     ...              0.0         0.0         0.0   \n",
       "1              0.000000     ...              0.0         0.0         0.0   \n",
       "2              0.000000     ...              0.0         0.0         0.0   \n",
       "0              0.000000     ...              0.0         0.0         0.0   \n",
       "1              0.000000     ...              0.0         0.0         0.0   \n",
       "0              0.000000     ...              0.0         0.0         0.0   \n",
       "1              0.000000     ...              0.0         0.0         0.0   \n",
       "0              0.000000     ...              0.0         0.0         0.0   \n",
       "1              0.000000     ...              0.0         0.0         0.0   \n",
       "2              0.000000     ...              0.0         0.0         0.0   \n",
       "3              0.000000     ...              0.0         0.0         0.0   \n",
       "4              0.000000     ...              0.0         0.0         0.0   \n",
       "5              0.000000     ...              0.0         0.0         0.0   \n",
       "6              0.000000     ...              0.0         0.0         0.0   \n",
       "7              0.000000     ...              0.0         0.0         0.0   \n",
       "0              0.589925     ...              0.0         0.0         0.0   \n",
       "1              0.589925     ...              0.0         0.0         0.0   \n",
       "..                  ...     ...              ...         ...         ...   \n",
       "2              0.000000     ...              0.0         0.0         0.0   \n",
       "0              0.000000     ...              0.0         0.0         0.0   \n",
       "1              0.000000     ...              0.0         0.0         0.0   \n",
       "2              0.000000     ...              0.0         0.0         0.0   \n",
       "3              0.000000     ...              0.0         0.0         0.0   \n",
       "4              0.000000     ...              0.0         0.0         0.0   \n",
       "5              0.000000     ...              0.0         0.0         0.0   \n",
       "6              0.000000     ...              0.0         0.0         0.0   \n",
       "0              0.000000     ...              0.0         0.0         0.0   \n",
       "1              0.000000     ...              0.0         0.0         0.0   \n",
       "2              0.000000     ...              0.0         0.0         0.0   \n",
       "3              0.000000     ...              0.0         0.0         0.0   \n",
       "4              0.000000     ...              0.0         0.0         0.0   \n",
       "5              0.000000     ...              0.0         0.0         0.0   \n",
       "6              0.000000     ...              0.0         0.0         0.0   \n",
       "7              0.000000     ...              0.0         0.0         0.0   \n",
       "0              0.000000     ...              0.0         0.0         0.0   \n",
       "1              0.000000     ...              0.0         0.0         0.0   \n",
       "2              0.000000     ...              0.0         0.0         0.0   \n",
       "3              0.000000     ...              0.0         0.0         0.0   \n",
       "0              0.000000     ...              0.0         0.0         0.0   \n",
       "1              0.000000     ...              0.0         0.0         0.0   \n",
       "2              1.000000     ...              0.0         0.0         0.0   \n",
       "3              0.000000     ...              0.0         0.0         0.0   \n",
       "4              1.000000     ...              0.0         0.0         0.0   \n",
       "5              1.000000     ...              0.0         0.0         0.0   \n",
       "6              0.498632     ...              0.0         0.0         0.0   \n",
       "7              0.000000     ...              0.0         0.0         0.0   \n",
       "8              0.498632     ...              0.0         0.0         0.0   \n",
       "9              0.498632     ...              0.0         0.0         0.0   \n",
       "\n",
       "    bbg_mom_12m  bbg_mom_12m_vol_adj       date  last_price           ticker  \\\n",
       "0           0.0                  0.0 2015-10-31      0.1140  FOLGF US Equity   \n",
       "1           0.0                  0.0 2015-10-31      0.1106  FOLGF US Equity   \n",
       "2           0.0                  0.0 2015-10-31      0.1106  FOLGF US Equity   \n",
       "3           0.0                  0.0 2015-10-31      0.1460  FOLGF US Equity   \n",
       "4           0.0                  0.0 2015-10-31      0.1100  FOLGF US Equity   \n",
       "5           0.0                  0.0 2015-10-31      0.1100  FOLGF US Equity   \n",
       "6           0.0                  0.0 2015-10-31      0.1124  FOLGF US Equity   \n",
       "7           0.0                  0.0 2015-10-31      0.1400  FOLGF US Equity   \n",
       "8           0.0                  0.0 2015-10-31      0.1100  FOLGF US Equity   \n",
       "0           0.0                  0.0 2015-10-31      3.2000  VPNFF US Equity   \n",
       "1           0.0                  0.0 2015-10-31      3.2000  VPNFF US Equity   \n",
       "2           0.0                  0.0 2015-10-31      3.2000  VPNFF US Equity   \n",
       "3           0.0                  0.0 2015-10-31      3.2000  VPNFF US Equity   \n",
       "0           0.0                  0.0 2015-10-31      2.2000  CCEGF US Equity   \n",
       "1           0.0                  0.0 2015-10-31      2.2000  CCEGF US Equity   \n",
       "2           0.0                  0.0 2015-10-31      2.2000  CCEGF US Equity   \n",
       "0           0.0                  0.0 2015-01-31      1.2500  TRHXF US Equity   \n",
       "1           0.0                  0.0 2015-01-31      1.2500  TRHXF US Equity   \n",
       "0           0.0                  0.0 2015-01-31      3.3400   GLRI US Equity   \n",
       "1           0.0                  0.0 2015-01-31      4.1800   GLRI US Equity   \n",
       "0           0.0                  0.0 2015-10-31      0.2450  AMMCF US Equity   \n",
       "1           0.0                  0.0 2015-10-31      0.2450  AMMCF US Equity   \n",
       "2           0.0                  0.0 2015-10-31      0.2264  AMMCF US Equity   \n",
       "3           0.0                  0.0 2015-10-31      0.3100  AMMCF US Equity   \n",
       "4           0.0                  0.0 2015-10-31      0.2450  AMMCF US Equity   \n",
       "5           0.0                  0.0 2015-10-31      0.2450  AMMCF US Equity   \n",
       "6           0.0                  0.0 2015-10-31      0.4483  AMMCF US Equity   \n",
       "7           0.0                  0.0 2015-10-31      0.3300  AMMCF US Equity   \n",
       "0           0.0                  0.0 2015-10-31     10.4000   GNRT US Equity   \n",
       "1           0.0                  0.0 2015-10-31      9.6900   GNRT US Equity   \n",
       "..          ...                  ...        ...         ...              ...   \n",
       "2           0.0                  0.0 2015-10-31      7.4400  TNNFF US Equity   \n",
       "0           0.0                  0.0 2015-10-31      1.0300  SHTLF US Equity   \n",
       "1           0.0                  0.0 2015-10-31      0.8400  SHTLF US Equity   \n",
       "2           0.0                  0.0 2015-10-31      0.7600  SHTLF US Equity   \n",
       "3           0.0                  0.0 2015-10-31      1.0900  SHTLF US Equity   \n",
       "4           0.0                  0.0 2015-10-31      0.9300  SHTLF US Equity   \n",
       "5           0.0                  0.0 2015-10-31      1.3300  SHTLF US Equity   \n",
       "6           0.0                  0.0 2015-10-31      1.2600  SHTLF US Equity   \n",
       "0           0.0                  0.0 2015-10-31      0.7359  AXIIF US Equity   \n",
       "1           0.0                  0.0 2015-10-31      0.7359  AXIIF US Equity   \n",
       "2           0.0                  0.0 2015-10-31      0.7359  AXIIF US Equity   \n",
       "3           0.0                  0.0 2015-10-31      0.5100  AXIIF US Equity   \n",
       "4           0.0                  0.0 2015-10-31      0.5100  AXIIF US Equity   \n",
       "5           0.0                  0.0 2015-10-31      0.7359  AXIIF US Equity   \n",
       "6           0.0                  0.0 2015-10-31      0.5100  AXIIF US Equity   \n",
       "7           0.0                  0.0 2015-10-31      0.5100  AXIIF US Equity   \n",
       "0           0.0                  0.0 2015-10-31      2.7158  KLGDF US Equity   \n",
       "1           0.0                  0.0 2015-10-31      2.2526  KLGDF US Equity   \n",
       "2           0.0                  0.0 2015-10-31      2.0758  KLGDF US Equity   \n",
       "3           0.0                  0.0 2015-10-31      2.2375  KLGDF US Equity   \n",
       "0           0.0                  0.0 2015-10-31      0.0900  SUAFF US Equity   \n",
       "1           0.0                  0.0 2015-10-31      0.0900  SUAFF US Equity   \n",
       "2           0.0                  0.0 2015-10-31      0.0420  SUAFF US Equity   \n",
       "3           0.0                  0.0 2015-10-31      0.0900  SUAFF US Equity   \n",
       "4           0.0                  0.0 2015-10-31      0.0900  SUAFF US Equity   \n",
       "5           0.0                  0.0 2015-10-31      0.0900  SUAFF US Equity   \n",
       "6           0.0                  0.0 2015-10-31      0.0900  SUAFF US Equity   \n",
       "7           0.0                  0.0 2015-10-31      0.0900  SUAFF US Equity   \n",
       "8           0.0                  0.0 2015-10-31      0.0900  SUAFF US Equity   \n",
       "9           0.0                  0.0 2015-10-31      0.0900  SUAFF US Equity   \n",
       "\n",
       "    target  next_return  \n",
       "0      NaN    -2.982456  \n",
       "1      NaN     0.000000  \n",
       "2      NaN     0.000000  \n",
       "3      NaN    -4.109589  \n",
       "4      1.0    32.727273  \n",
       "5      1.0     2.181818  \n",
       "6      NaN     1.423488  \n",
       "7      NaN   -21.428571  \n",
       "8      NaN     0.000000  \n",
       "0      NaN     0.000000  \n",
       "1      NaN     0.000000  \n",
       "2      NaN     0.000000  \n",
       "3      NaN     0.000000  \n",
       "0      NaN     0.000000  \n",
       "1      NaN     0.000000  \n",
       "2      NaN     0.000000  \n",
       "0      NaN     0.000000  \n",
       "1      NaN     0.000000  \n",
       "0      NaN     8.383234  \n",
       "1      NaN   -20.095694  \n",
       "0      NaN     0.000000  \n",
       "1      NaN    -7.591837  \n",
       "2      NaN     0.000000  \n",
       "3      1.0    44.612903  \n",
       "4      NaN     0.000000  \n",
       "5      NaN     0.000000  \n",
       "6      0.0   -26.388579  \n",
       "7      0.0   -25.757576  \n",
       "0      NaN    -6.826923  \n",
       "1      NaN    -2.476780  \n",
       "..     ...          ...  \n",
       "2      NaN    -8.602151  \n",
       "0      0.0   -18.446602  \n",
       "1      NaN    -9.523810  \n",
       "2      NaN   -11.671053  \n",
       "3      NaN   -14.678899  \n",
       "4      NaN    10.752688  \n",
       "5      NaN    -5.263158  \n",
       "6      NaN   -13.492063  \n",
       "0      NaN     0.000000  \n",
       "1      NaN     0.000000  \n",
       "2      NaN     0.000000  \n",
       "3      NaN     0.000000  \n",
       "4      1.0    44.294118  \n",
       "5      NaN     0.000000  \n",
       "6      NaN     0.000000  \n",
       "7      NaN     0.000000  \n",
       "0      0.0   -17.055748  \n",
       "1      NaN    -7.848708  \n",
       "2      1.0    11.359476  \n",
       "3      1.0    21.376536  \n",
       "0      NaN     0.000000  \n",
       "1      NaN     0.000000  \n",
       "2      1.0   114.285714  \n",
       "3      NaN     0.000000  \n",
       "4      NaN     0.000000  \n",
       "5      NaN     0.000000  \n",
       "6      NaN     0.000000  \n",
       "7      NaN     0.000000  \n",
       "8      NaN     0.000000  \n",
       "9      NaN     0.000000  \n",
       "\n",
       "[320 rows x 122 columns]"
      ]
     },
     "execution_count": 236,
     "metadata": {},
     "output_type": "execute_result"
    }
   ],
   "source": [
    "EliminateToSeasonal(df_train)"
   ]
  }
 ],
 "metadata": {
  "kernelspec": {
   "display_name": "Python 2",
   "language": "python",
   "name": "python2"
  },
  "language_info": {
   "codemirror_mode": {
    "name": "ipython",
    "version": 2
   },
   "file_extension": ".py",
   "mimetype": "text/x-python",
   "name": "python",
   "nbconvert_exporter": "python",
   "pygments_lexer": "ipython2",
   "version": "2.7.13"
  }
 },
 "nbformat": 4,
 "nbformat_minor": 2
}
